{
 "cells": [
  {
   "cell_type": "markdown",
   "id": "efd73777-783a-4f41-a3a4-bd29b7460112",
   "metadata": {},
   "source": [
    "# DeMetRA - literature review\n",
    "\n",
    "This the preprocessing pipeline for the metadata included in the DeMetRA review. Inputs to the pipeline are: \n",
    "- The `MPS_review_systematic_DATE.xlsx` file, which contains the metadata manually extracted by Isabel \n",
    "- The bibliography file, to supplement more information about the publications included in the review."
   ]
  },
  {
   "cell_type": "code",
   "execution_count": 1,
   "id": "1f888c4b",
   "metadata": {},
   "outputs": [],
   "source": [
    "import pandas as pd\n",
    "import numpy as np\n",
    "\n",
    "assets_directory = '../assets/'"
   ]
  },
  {
   "cell_type": "markdown",
   "id": "56cff8ed",
   "metadata": {},
   "source": [
    "In the file created by Isabel, there are 3 sheets:\n",
    "1. The main list of MPSs / papers included in the review\n",
    "2. The base sample references papers for summary statistics \n",
    "3. The base sample references papers for validated algorithms \n"
   ]
  },
  {
   "cell_type": "code",
   "execution_count": 2,
   "id": "e4d4a974-cbdb-43da-af7b-582845b4c988",
   "metadata": {},
   "outputs": [
    {
     "name": "stderr",
     "output_type": "stream",
     "text": [
      "/Users/Serena/Desktop/DEMETRA/DeMetRA-review/demetra_venv/lib/python3.9/site-packages/openpyxl/worksheet/_reader.py:329: UserWarning: Data Validation extension is not supported and will be removed\n",
      "  warn(msg)\n",
      "/Users/Serena/Desktop/DEMETRA/DeMetRA-review/demetra_venv/lib/python3.9/site-packages/openpyxl/worksheet/_reader.py:329: UserWarning: Data Validation extension is not supported and will be removed\n",
      "  warn(msg)\n"
     ]
    }
   ],
   "source": [
    "sys_review_file = 'MPS_review_systematic_2025-05-06.xlsx' # 'MPS_review_systematic_2025-02-14.xlsx'\n",
    "\n",
    "lit, base_ss, base_va = pd.read_excel(f'{assets_directory}{sys_review_file}', sheet_name=[0, 1, 2]).values()\n",
    "\n",
    "# lit = lit.loc[lit.Include == 'Yes'].drop('Include', axis=1) # All included\n",
    "\n",
    "# print(lit.shape, '\\n', list(lit.columns))\n",
    "# print(base_ss.shape, '\\n', list(base_ss.columns))\n",
    "# print(base_va.shape, '\\n', list(base_va.columns))\n"
   ]
  },
  {
   "cell_type": "markdown",
   "id": "5014e2f4",
   "metadata": {},
   "source": [
    "Merge the two base sample sheets into one."
   ]
  },
  {
   "cell_type": "code",
   "execution_count": 3,
   "id": "8f0d6785",
   "metadata": {},
   "outputs": [],
   "source": [
    "base_ss.insert(1, 'Base use', 'Summary statistics')\n",
    "base_va.insert(1, 'Base use', 'Validated algorithm')\n",
    "\n",
    "# print(base_ss.shape, base_va.shape)\n",
    "\n",
    "lit_base = pd.concat([base_ss, base_va], axis=0, ignore_index=True, sort=False)\n",
    "\n",
    "# print(lit_base.shape, '\\n', list(lit_base.columns))"
   ]
  },
  {
   "cell_type": "markdown",
   "id": "339681b9",
   "metadata": {},
   "source": [
    "### STEP 1 - Data cleaning"
   ]
  },
  {
   "cell_type": "code",
   "execution_count": 4,
   "id": "ff8019b0-3a9d-4e86-b6fc-87b3e65eeb5b",
   "metadata": {},
   "outputs": [],
   "source": [
    "from dateutil.parser import parse as parse_date"
   ]
  },
  {
   "cell_type": "markdown",
   "id": "c14dc6c7-988f-4e57-bcc2-2745f57d26c6",
   "metadata": {},
   "source": [
    "#### Data inspection and cleaning\n",
    "\n",
    "To guide manual cleaning of the excel file, I print value counts for the main columns of interest."
   ]
  },
  {
   "cell_type": "code",
   "execution_count": 5,
   "id": "e35eac17-3145-4027-8ad6-a56e07c9690c",
   "metadata": {
    "collapsed": true,
    "jupyter": {
     "outputs_hidden": true,
     "source_hidden": true
    },
    "scrolled": true
   },
   "outputs": [
    {
     "name": "stdout",
     "output_type": "stream",
     "text": [
      "Tissue\n",
      "Peripheral blood          497\n",
      "Whole blood               153\n",
      "Saliva                    120\n",
      "Cord blood                 48\n",
      "Dried bloodspot            26\n",
      "Blood-clots                26\n",
      "Buccal cells               21\n",
      "Placenta                   15\n",
      "Nasal epithelial cells      7\n",
      "Tumour cells                7\n",
      "Multiple                    4\n",
      "Leukocytes                  4\n",
      "Not reported                1\n",
      "Cervical cells              1\n",
      "Name: count, dtype: int64\n",
      "\n",
      "\n",
      "Multiple_tissue\n",
      "NaN                            926\n",
      "Whole blood, HPCs                2\n",
      "Cord blood, Dried bloodspot      1\n",
      "Cord blood, Whole blood          1\n",
      "Name: count, dtype: int64\n",
      "\n",
      "\n",
      "Array\n",
      "Multiple    436\n",
      "EPICv1      289\n",
      "450K        191\n",
      "WGBS         14\n",
      "Name: count, dtype: int64\n",
      "\n",
      "\n",
      "Multiple_array\n",
      "NaN                                    494\n",
      "450K, EPICv1                           426\n",
      "450K, GMEL (~3000 CpGs from EPICv1)      6\n",
      "450K, EPICv2                             2\n",
      "450K, EPICv3                             1\n",
      "450K, EPICv4                             1\n",
      "Name: count, dtype: int64\n",
      "\n",
      "\n",
      "Ancestry\n",
      "European        497\n",
      "Not reported    227\n",
      "White           145\n",
      "Multiple         48\n",
      "Mixed             8\n",
      "African           2\n",
      "Hispanic          2\n",
      "Australian        1\n",
      "Name: count, dtype: int64\n",
      "\n",
      "\n",
      "Multiple_ancestry\n",
      "NaN                                                       874\n",
      "White, African-American, Indian-American                   14\n",
      "Mixed, African, European                                    8\n",
      "European, Hispanic/Latinx                                   6\n",
      "Mixed, African                                              6\n",
      "White, African-American, Hispanic                           4\n",
      "White, African-American, Hispanic/Latinx, Asian, Other      2\n",
      "White, Hispanic/Latinx, Other                               2\n",
      "European, African-American, Hispanic/Latinx                 2\n",
      "European, North-American                                    2\n",
      "European, African-American                                  2\n",
      "White, African-American, Hispanic/Latinx, Asian             1\n",
      "White, African-American, Asian                              1\n",
      "European, Hispanic/Latinx , Mixed, African, American        1\n",
      "European, African, Hispanic                                 1\n",
      "White, other                                                1\n",
      "White, African-American, Hispanic/Latinx                    1\n",
      "European, African, other                                    1\n",
      "European, Indian Asian                                      1\n",
      "Name: count, dtype: int64\n",
      "\n",
      "\n",
      "Developmental_period\n",
      "Mid childhood                       321\n",
      "Birth                               174\n",
      "Childhood and adolescence           134\n",
      "Adults                              117\n",
      "Not reported                         94\n",
      "Late childhood                       45\n",
      "Adolescence                          29\n",
      "Very early childhood                 11\n",
      "Early childhood                       3\n",
      "Birth, Childhood and adolescence      1\n",
      "Childhood                             1\n",
      "Name: count, dtype: int64\n",
      "\n",
      "\n"
     ]
    }
   ],
   "source": [
    "# Inspect values \n",
    "def checklvl(var):\n",
    "    allobs = pd.concat([lit[var], base_ss[var], base_va[var]])\n",
    "    print(allobs.value_counts(dropna=False))\n",
    "\n",
    "for v in  ['Tissue', 'Array','Ancestry','Developmental_period']:\n",
    "    checklvl(v)\n",
    "    print('\\n')\n",
    "    try: \n",
    "        checklvl(f'Multiple_{v.lower()}')\n",
    "        print('\\n')\n",
    "    except:\n",
    "        pass\n",
    "\n",
    "# NOTE: this is to guide manual cleaning of the excel file!"
   ]
  },
  {
   "cell_type": "markdown",
   "id": "b16a1d0f",
   "metadata": {},
   "source": [
    "Extract and remove the \"_multiple\" 'Tissue', 'Array', and 'Ancestry' columns so that only one column is kept in the dataset. I do this for both the main list and the base samples."
   ]
  },
  {
   "cell_type": "code",
   "execution_count": 6,
   "id": "d6616b2e-205f-4f33-aa09-ea8b381fb2d9",
   "metadata": {},
   "outputs": [],
   "source": [
    "# Recode \"multiple\" categories\n",
    "def replace_multiples(df, drop_multiple_cols=True):\n",
    "\n",
    "    for var in ['Tissue', 'Array', 'Ancestry']:\n",
    "    \n",
    "        if var == 'Ancestry':\n",
    "            df.loc[df[var] == 'Multiple', var] = 'Mixed'\n",
    "    \n",
    "        else:\n",
    "            df.loc[df[var] == 'Multiple', var] = [f'Multiple ({values})' for values in df.loc[df[var] == 'Multiple', f'Multiple_{var.lower()}']]\n",
    "        \n",
    "        # print(df[var].value_counts(), '\\n')\n",
    "    \n",
    "        if drop_multiple_cols:\n",
    "            df.drop([f'Multiple_{var.lower()}'], axis=1, inplace=True)\n",
    "\n",
    "    return df\n",
    "\n",
    "lit = replace_multiples(lit)\n",
    "lit_base = replace_multiples(lit_base)"
   ]
  },
  {
   "cell_type": "markdown",
   "id": "d47370ea",
   "metadata": {},
   "source": [
    "Removing 2 scores that have Number of CpGs == 0 because they did not identify a solution. \n"
   ]
  },
  {
   "cell_type": "code",
   "execution_count": 7,
   "id": "b87ca262",
   "metadata": {},
   "outputs": [],
   "source": [
    "lit = lit[lit['Number of CpGs'] != 0].reset_index(drop=True)"
   ]
  },
  {
   "cell_type": "markdown",
   "id": "ba8f98d6",
   "metadata": {},
   "source": [
    "Clean the number of CpGs column by replacing \"NA\" with base sample sizes and setting \"Not reported\" to NA. "
   ]
  },
  {
   "cell_type": "code",
   "execution_count": 8,
   "id": "21edbb95",
   "metadata": {},
   "outputs": [
    {
     "name": "stdout",
     "output_type": "stream",
     "text": [
      "43 NA values\n"
     ]
    }
   ],
   "source": [
    "print(lit[\"Number of CpGs\"].isna().sum(), 'NA values')\n",
    "\n",
    "# na_nCpGs_baseID = lit.loc[lit['Number of CpGs'].isna(), 'Identifier_base']\n",
    "# lit_base.loc[lit_base['Identifier'].isin(na_nCpGs_baseID), ['Identifier','Phenotype','Number of CpGs']]\n",
    "\n",
    "for idx, row in lit.iterrows():\n",
    "    if pd.isna(row['Number of CpGs']):\n",
    "        # Find the corresponding row in lit_base\n",
    "        match = lit_base[\n",
    "            (lit_base['Identifier'] == row['Identifier_base']) &\n",
    "            (lit_base['Phenotype'] == row['Phenotype'])\n",
    "        ]\n",
    "        # If a match is found, update the 'Number of CpGs' value\n",
    "        if match.empty:\n",
    "            print(row['Identifier_base'], row['Phenotype'], 'not found')\n",
    "        else:\n",
    "            lit.at[idx, 'Number of CpGs'] = match.iloc[0]['Number of CpGs']\n"
   ]
  },
  {
   "cell_type": "code",
   "execution_count": 9,
   "id": "3829ca2e",
   "metadata": {},
   "outputs": [
    {
     "name": "stdout",
     "output_type": "stream",
     "text": [
      "0 NA values\n",
      "325 \"Not reported\" values\n"
     ]
    }
   ],
   "source": [
    "print(lit[\"Number of CpGs\"].isna().sum(), 'NA values')\n",
    "print(lit.loc[lit[\"Number of CpGs\"]=='Not reported',].shape[0], '\"Not reported\" values') \n",
    "\n",
    "lit['n CpGs'] = pd.to_numeric(lit['Number of CpGs'], errors='coerce')\n",
    "\n",
    "# Check coerced values (all NA == \"Not reported\")\n",
    "# coerced_mask = lit['n CpGs'].isna() & lit['Number of CpGs'].notna()\n",
    "# lit.loc[coerced_mask & (lit['Number of CpGs'] != 'Not reported'), ].shape[0]"
   ]
  },
  {
   "cell_type": "code",
   "execution_count": 10,
   "id": "3afab396",
   "metadata": {},
   "outputs": [
    {
     "name": "stdout",
     "output_type": "stream",
     "text": [
      "20 NA values\n",
      "16 \"Not reported\" values\n",
      "\n",
      "Problematic values (coerced to NA)\n"
     ]
    },
    {
     "data": {
      "text/plain": [
       "67     194-196\n",
       "68      51-176\n",
       "112    118-148\n",
       "121     82-107\n",
       "122     82-107\n",
       "Name: Number of CpGs, dtype: object"
      ]
     },
     "execution_count": 10,
     "metadata": {},
     "output_type": "execute_result"
    }
   ],
   "source": [
    "print(lit_base[\"Number of CpGs\"].isna().sum(), 'NA values')\n",
    "print(lit_base.loc[lit_base[\"Number of CpGs\"]=='Not reported',].shape[0], '\"Not reported\" values') \n",
    "\n",
    "lit_base['n CpGs'] = pd.to_numeric(lit_base['Number of CpGs'], errors='coerce')\n",
    "\n",
    "# Check coerced values\n",
    "coerced_mask = lit_base['n CpGs'].isna() & lit_base['Number of CpGs'].notna()\n",
    "print('\\nProblematic values (coerced to NA)')\n",
    "lit_base.loc[coerced_mask & (lit_base['Number of CpGs'] != 'Not reported'), 'Number of CpGs'] # .shape[0]\n"
   ]
  },
  {
   "cell_type": "markdown",
   "id": "d926193d",
   "metadata": {},
   "source": [
    "Clean the \"Sample size\" columns so that they are all numeric"
   ]
  },
  {
   "cell_type": "code",
   "execution_count": 11,
   "id": "ba67976e",
   "metadata": {},
   "outputs": [
    {
     "name": "stdout",
     "output_type": "stream",
     "text": [
      "\n",
      "These values are coerced to NA:\n",
      " Sample_size_total\n",
      "Unclear    5\n",
      ">1000      1\n",
      "Name: count, dtype: int64\n",
      "\n",
      "These values are coerced to NA:\n",
      " Sample_size_case\n",
      "Not reported    6\n",
      "Name: count, dtype: int64\n",
      "\n",
      "These values are coerced to NA:\n",
      " Sample_size_control\n",
      "Not reported    6\n",
      "Unclear         5\n",
      ">1000           1\n",
      "Name: count, dtype: int64\n"
     ]
    }
   ],
   "source": [
    "# Transform sample size to numeric -----------------------------------------------\n",
    "lit['Sample size'] = pd.to_numeric(lit['Sample_size_total'], errors='coerce')\n",
    "\n",
    "lit['n Cases'] = pd.to_numeric(lit['Sample_size_case'], errors='coerce')\n",
    "lit['n Controls'] = pd.to_numeric(lit['Sample_size_control'], errors='coerce')\n",
    "\n",
    "def check_coerced(old_var, new_var, df=lit):\n",
    "    # Check the coerced values\n",
    "    coerced_mask = df[new_var].isna() & df[old_var].notna()\n",
    "    coerced_values = df.loc[coerced_mask, old_var].value_counts()\n",
    "    if coerced_values.shape[0] > 0:\n",
    "        print('\\nThese values are coerced to NA:\\n', coerced_values)\n",
    "\n",
    "check_coerced('Sample_size_total', 'Sample size')\n",
    "check_coerced('Sample_size_case', 'n Cases')\n",
    "check_coerced('Sample_size_control', 'n Controls')"
   ]
  },
  {
   "cell_type": "code",
   "execution_count": 12,
   "id": "855ed7bd",
   "metadata": {},
   "outputs": [],
   "source": [
    "lit_base['Sample size'] = pd.to_numeric(lit_base['Sample_size_total'], errors='coerce')\n",
    "\n",
    "lit_base['n Cases'] = pd.to_numeric(lit_base['Sample_size_case'], errors='coerce')\n",
    "lit_base['n Controls'] = pd.to_numeric(lit_base['Sample_size_control'], errors='coerce')\n",
    "\n",
    "check_coerced('Sample_size_total', 'Sample size', df=lit_base)\n",
    "check_coerced('Sample_size_case', 'n Cases', df=lit_base)\n",
    "check_coerced('Sample_size_control', 'n Controls', df=lit_base)"
   ]
  },
  {
   "cell_type": "markdown",
   "id": "8f61a6d7",
   "metadata": {},
   "source": [
    "####  Bibliography file\n",
    "I additionally parse the bibliography file for publication dates, abstracts and keywords"
   ]
  },
  {
   "cell_type": "code",
   "execution_count": 13,
   "id": "b66abae5",
   "metadata": {},
   "outputs": [
    {
     "name": "stdout",
     "output_type": "stream",
     "text": [
      "(323, 9)\n"
     ]
    },
    {
     "data": {
      "text/html": [
       "<div>\n",
       "<style scoped>\n",
       "    .dataframe tbody tr th:only-of-type {\n",
       "        vertical-align: middle;\n",
       "    }\n",
       "\n",
       "    .dataframe tbody tr th {\n",
       "        vertical-align: top;\n",
       "    }\n",
       "\n",
       "    .dataframe thead th {\n",
       "        text-align: right;\n",
       "    }\n",
       "</style>\n",
       "<table border=\"1\" class=\"dataframe\">\n",
       "  <thead>\n",
       "    <tr style=\"text-align: right;\">\n",
       "      <th></th>\n",
       "      <th>Author_list</th>\n",
       "      <th>Year</th>\n",
       "      <th>Title</th>\n",
       "      <th>Journal</th>\n",
       "      <th>Keywords</th>\n",
       "      <th>Abstract</th>\n",
       "      <th>Date</th>\n",
       "      <th>DOI</th>\n",
       "      <th>URL</th>\n",
       "    </tr>\n",
       "  </thead>\n",
       "  <tbody>\n",
       "    <tr>\n",
       "      <th>0</th>\n",
       "      <td>[Abrishamcar, S., Chen, J., Feil, D., Kilanows...</td>\n",
       "      <td>2022</td>\n",
       "      <td>DNA methylation as a potential mediator of the...</td>\n",
       "      <td>Transl Psychiatry</td>\n",
       "      <td>NaN</td>\n",
       "      <td>Prenatal tobacco exposure (PTE) and prenatal a...</td>\n",
       "      <td>09 30</td>\n",
       "      <td>10.1038/s41398-022-02195-3</td>\n",
       "      <td>http://dx.doi.org/10.1038/s41398-022-02195-3</td>\n",
       "    </tr>\n",
       "    <tr>\n",
       "      <th>1</th>\n",
       "      <td>[Ács, O., Péterfia, B., Hollósi, P., Luczay, A...</td>\n",
       "      <td>2017</td>\n",
       "      <td>Methylation Status of CYP27B1 and IGF2 Correla...</td>\n",
       "      <td>Obes Facts</td>\n",
       "      <td>[25 hydroxyvitamin D, bisulfite, cytochrome P4...</td>\n",
       "      <td>Objective: Worldwide increasing childhood obes...</td>\n",
       "      <td>2017-08-16</td>\n",
       "      <td>10.1159/000477462</td>\n",
       "      <td>https://www.embase.com/search/results?subactio...</td>\n",
       "    </tr>\n",
       "  </tbody>\n",
       "</table>\n",
       "</div>"
      ],
      "text/plain": [
       "                                         Author_list  Year  \\\n",
       "0  [Abrishamcar, S., Chen, J., Feil, D., Kilanows...  2022   \n",
       "1  [Ács, O., Péterfia, B., Hollósi, P., Luczay, A...  2017   \n",
       "\n",
       "                                               Title            Journal  \\\n",
       "0  DNA methylation as a potential mediator of the...  Transl Psychiatry   \n",
       "1  Methylation Status of CYP27B1 and IGF2 Correla...         Obes Facts   \n",
       "\n",
       "                                            Keywords  \\\n",
       "0                                                NaN   \n",
       "1  [25 hydroxyvitamin D, bisulfite, cytochrome P4...   \n",
       "\n",
       "                                            Abstract        Date  \\\n",
       "0  Prenatal tobacco exposure (PTE) and prenatal a...       09 30   \n",
       "1  Objective: Worldwide increasing childhood obes...  2017-08-16   \n",
       "\n",
       "                          DOI  \\\n",
       "0  10.1038/s41398-022-02195-3   \n",
       "1           10.1159/000477462   \n",
       "\n",
       "                                                 URL  \n",
       "0       http://dx.doi.org/10.1038/s41398-022-02195-3  \n",
       "1  https://www.embase.com/search/results?subactio...  "
      ]
     },
     "execution_count": 13,
     "metadata": {},
     "output_type": "execute_result"
    }
   ],
   "source": [
    "# Parsing bibliography file (this shoud be a RIS or TXT file in RIS format)\n",
    "\n",
    "ris_tags = {\n",
    "    'TY': 'Reference Type',\n",
    "    'AU': 'Author_list',\n",
    "    'PY': 'Year',\n",
    "    'TI': 'Title', # 'T1\n",
    "    'T2': 'Journal', # 'JO'\n",
    "    'J2': 'Journal', # For pre-prints \n",
    "    'AB': 'Abstract',\n",
    "    'DO': 'DOI',\n",
    "    'UR': 'URL',\n",
    "    'KW': 'Keywords',\n",
    "    'DA': 'Date'\n",
    "}\n",
    "\n",
    "def parse_ris(file_path):\n",
    "    with open(file_path, 'r', encoding='utf-8') as file:\n",
    "        references = []\n",
    "\n",
    "        current_entry = {}\n",
    "        current_tag = None\n",
    "\n",
    "        for line in file:\n",
    "            if not line.strip():  # Skip empty lines\n",
    "                continue\n",
    "            elif line.strip() == 'ER  -':  # ER marks the end of the record\n",
    "                # Append reference and reset\n",
    "                references.append(current_entry)\n",
    "                current_entry = {}\n",
    "                current_tag = None \n",
    "            else:\n",
    "                tag = line[:5]\n",
    "\n",
    "                if tag in [f'{t}  -' for t in ris_tags.keys()]:\n",
    "                    current_tag = tag\n",
    "\n",
    "                    value = line[5:].strip()\n",
    "                    key = ris_tags[tag[:2]]\n",
    "\n",
    "                    if key in current_entry:\n",
    "                        if isinstance(current_entry[key], list):\n",
    "                            current_entry[key].append(value)\n",
    "                        else:\n",
    "                            current_entry[key] = [current_entry[key], value]\n",
    "                    else:\n",
    "                        current_entry[key] = value\n",
    "\n",
    "                # Handle dates that span multiple lines\n",
    "                elif tag in [f'{y}-' for y in range(2000, 2025)]:\n",
    "                    value = line.strip()\n",
    "                    if 'Date' not in current_entry:\n",
    "                        current_entry['Date'] = value # Only keep first occurrance (i.e. publication date)\n",
    "\n",
    "                # Handle keywords that span multiple lines\n",
    "                else:\n",
    "                    if current_tag == 'KW  -':\n",
    "                        value = line.strip()\n",
    "                        if isinstance(current_entry['Keywords'], list):\n",
    "                            current_entry['Keywords'].append(value)\n",
    "                        else:\n",
    "                            current_entry['Keywords'] = [current_entry['Keywords'], value]\n",
    "                                    \n",
    "        return references\n",
    "\n",
    "\n",
    "parsed_data = parse_ris(f'{assets_directory}Bibliography_2024-09-19.txt')\n",
    "bib = pd.DataFrame(parsed_data)[['Author_list', 'Year', 'Title', 'Journal', 'Keywords', 'Abstract', \n",
    "                                 'Date', 'DOI', 'URL']]\n",
    "\n",
    "print(bib.shape)\n",
    "bib.head(2)\n"
   ]
  },
  {
   "cell_type": "code",
   "execution_count": 14,
   "id": "c1865ebc",
   "metadata": {},
   "outputs": [
    {
     "name": "stdout",
     "output_type": "stream",
     "text": [
      "Note 9 NaN Date values will be set to 01/01 of respective year\n"
     ]
    }
   ],
   "source": [
    "# Clean bibliography file\n",
    "\n",
    "# Only selected papers ----------------------------------------------------------------\n",
    "bib_incl = bib.loc[bib.Title.isin(lit.Title.unique()), ].reset_index(drop=True)\n",
    "# bib_incl.shape\n",
    "\n",
    "# Correct dates ----------------------------------------------------------------------- \n",
    "print('Note', bib_incl.Date.isna().sum(), 'NaN Date values will be set to 01/01 of respective year')\n",
    "\n",
    "date_tmp = pd.Series([' '.join([d, y]) if y not in d else d for d, y in \n",
    "                   zip(bib_incl.Date.map(str), bib_incl.Year.map(str))])\n",
    "\n",
    "bib_incl.loc[:, 'Date'] = date_tmp.apply(lambda date: \n",
    "                                         parse_date(date).strftime('%Y-%m-%d') if 'nan' not in date else \n",
    "                                         parse_date('01 01' + date[3:]).strftime('%Y-%m-%d'))\n",
    "\n",
    "# Get Short Author titles ------------------------------------------------------------\n",
    "bib_incl['Author'] = [f'{fa[0].split(\",\")[0]} et al.' if len(fa) > 1 else f'{fa[0].split(\",\")[0]}' \n",
    "                            for fa in bib_incl['Author_list']]\n",
    "\n",
    "\n",
    "# Fix missing Journal names ----------------------------------------------------------\n",
    "bib_incl.loc[bib_incl.DOI.str.contains('10.3390/toxics9100262', na=False), \n",
    "             'Journal'] = 'Toxics'\n",
    "bib_incl.loc[bib_incl.DOI.str.contains('10.1007/s00787-024-02390-1', na=False), \n",
    "             'Journal'] = 'Eur Child Adolesc Psych'\n",
    "bib_incl.loc[bib_incl.DOI.str.contains('10.3390/ijms22031111|10.3390/ijms22168611', na=False), \n",
    "             'Journal'] = 'Int J Mol Sci'\n",
    "\n",
    "# bib_incl.head(3)\n"
   ]
  },
  {
   "cell_type": "code",
   "execution_count": 15,
   "id": "bcc2eb79",
   "metadata": {},
   "outputs": [
    {
     "name": "stdout",
     "output_type": "stream",
     "text": [
      "(758, 41)\n"
     ]
    }
   ],
   "source": [
    "print(lit.shape)\n",
    "\n",
    "lit_main = lit.rename(columns={'Author': 'Author_dirty',\n",
    "                               'Journal': 'Journal_dirty'}).merge(bib_incl,\n",
    "                     on='Title', how='left', suffixes=['','_BIB'])\n",
    "\n",
    "# CHECKUPS \n",
    "# lit_main[['Author','Author_list','Author_dirty']]\n",
    "# np.where(lit_main['Year'].map(int) != lit_main['Year_BIB'].map(int))\n",
    "# pd.set_option('display.max_rows', None)\n",
    "# lit_main.loc[lit_main['DOI'].map(str) != lit_main['DOI_BIB'].map(str), ['Title','DOI','DOI_BIB']]\n",
    "\n",
    "# Clean Journal names ----------------------------------------------------------------\n",
    "lit_main['Journal'] = lit_main['Journal'].apply(lambda x: x[0] if isinstance(x, list) else x)\n",
    "\n",
    "# Clean DOI values -------------------------------------------------------------------\n",
    "lit_main['DOI_BIB'] = lit_main['DOI_BIB'].fillna(lit_main['DOI'])\n",
    "lit_main['DOI'] = lit_main['DOI_BIB']\n",
    "lit_main.drop(['DOI_BIB','Year_BIB'], axis=1, inplace=True)"
   ]
  },
  {
   "cell_type": "markdown",
   "id": "2939c2d0",
   "metadata": {},
   "source": [
    "#### Rename and reorder"
   ]
  },
  {
   "cell_type": "code",
   "execution_count": 16,
   "id": "b63885a4",
   "metadata": {},
   "outputs": [],
   "source": [
    "# Rename columns\n",
    "rename_cols_dict = {'What_is_available': 'Based on',\n",
    "                    'Sample_type': 'Sample type',\n",
    "                    'Developmental_period': 'Developmental period',\n",
    "                    'Type': 'Publication type',}\n",
    "\n",
    "lit_main = lit_main.rename(columns=rename_cols_dict)  \n",
    "lit_base = lit_base.rename(columns=rename_cols_dict)\n",
    "\n",
    "# print(lit_main.columns)\n",
    "\n",
    "lit_base.drop(['Sample_size_case', 'Sample_size_control', 'Sample_size_total', 'Number of CpGs'], axis=1, inplace=True)\n",
    "\n",
    "# Dropping 'Author_dirty', 'Journal_dirty','Include', 'pdf','Link', \n",
    "\n",
    "mps_table = lit_main[['Phenotype', 'Category', 'Author', 'Year', 'Title', 'DOI',\n",
    "                      'n CpGs', 'Based on', 'Sample size', 'n Cases', 'n Controls',\n",
    "                      'Sample type', 'Developmental period', 'Tissue', 'Array', 'Ancestry',\n",
    "                      'Identifier', 'Publication type', 'Journal', 'Keywords', 'Abstract', 'Author_list', 'Date', 'URL',\n",
    "                      'Including_CpGs_1', 'Including_CpGs_2', 'Including_CpGs_3', 'Including_CpGs_4', 'Including_CpGs_5',\n",
    "                      'Identifier_base', 'Multiple_identifier_base', 'Sample_overlap_target_base',\n",
    "                      'Determining_weights_1', 'Train_test', 'Independent_validation', 'Comparison', 'Missing_value_note',\n",
    "                      'Reflect_phenotype','Covariates']]\n",
    "\n",
    "# Save cleaned data ------------------------------------------------------------------\n",
    "# lit_main.to_csv(f'{assets_directory}MPS_literature_cleaned.csv', index=False)"
   ]
  },
  {
   "cell_type": "code",
   "execution_count": 17,
   "id": "f127868a",
   "metadata": {},
   "outputs": [
    {
     "name": "stdout",
     "output_type": "stream",
     "text": [
      "(758, 39)\n"
     ]
    },
    {
     "data": {
      "text/html": [
       "<div>\n",
       "<style scoped>\n",
       "    .dataframe tbody tr th:only-of-type {\n",
       "        vertical-align: middle;\n",
       "    }\n",
       "\n",
       "    .dataframe tbody tr th {\n",
       "        vertical-align: top;\n",
       "    }\n",
       "\n",
       "    .dataframe thead th {\n",
       "        text-align: right;\n",
       "    }\n",
       "</style>\n",
       "<table border=\"1\" class=\"dataframe\">\n",
       "  <thead>\n",
       "    <tr style=\"text-align: right;\">\n",
       "      <th></th>\n",
       "      <th>Phenotype</th>\n",
       "      <th>Category</th>\n",
       "      <th>Author</th>\n",
       "      <th>Year</th>\n",
       "      <th>Title</th>\n",
       "      <th>DOI</th>\n",
       "      <th>n CpGs</th>\n",
       "      <th>Based on</th>\n",
       "      <th>Sample size</th>\n",
       "      <th>n Cases</th>\n",
       "      <th>n Controls</th>\n",
       "      <th>Sample type</th>\n",
       "      <th>Developmental period</th>\n",
       "      <th>Tissue</th>\n",
       "      <th>Array</th>\n",
       "      <th>Ancestry</th>\n",
       "      <th>Identifier</th>\n",
       "      <th>Publication type</th>\n",
       "      <th>Journal</th>\n",
       "      <th>Keywords</th>\n",
       "      <th>Abstract</th>\n",
       "      <th>Author_list</th>\n",
       "      <th>Date</th>\n",
       "      <th>URL</th>\n",
       "      <th>Including_CpGs_1</th>\n",
       "      <th>Including_CpGs_2</th>\n",
       "      <th>Including_CpGs_3</th>\n",
       "      <th>Including_CpGs_4</th>\n",
       "      <th>Including_CpGs_5</th>\n",
       "      <th>Identifier_base</th>\n",
       "      <th>Multiple_identifier_base</th>\n",
       "      <th>Sample_overlap_target_base</th>\n",
       "      <th>Determining_weights_1</th>\n",
       "      <th>Train_test</th>\n",
       "      <th>Independent_validation</th>\n",
       "      <th>Comparison</th>\n",
       "      <th>Missing_value_note</th>\n",
       "      <th>Reflect_phenotype</th>\n",
       "      <th>Covariates</th>\n",
       "    </tr>\n",
       "  </thead>\n",
       "  <tbody>\n",
       "    <tr>\n",
       "      <th>0</th>\n",
       "      <td>Prenatal alcohol exposure</td>\n",
       "      <td>Lifestyle and environment</td>\n",
       "      <td>Abrishamcar et al.</td>\n",
       "      <td>2022</td>\n",
       "      <td>DNA methylation as a potential mediator of the...</td>\n",
       "      <td>10.1038/s41398-022-02195-3</td>\n",
       "      <td>NaN</td>\n",
       "      <td>EWAS summary statistics</td>\n",
       "      <td>262.0</td>\n",
       "      <td>NaN</td>\n",
       "      <td>NaN</td>\n",
       "      <td>Population-based</td>\n",
       "      <td>Birth</td>\n",
       "      <td>Cord blood</td>\n",
       "      <td>Multiple (450K, EPICv1)</td>\n",
       "      <td>African</td>\n",
       "      <td>1</td>\n",
       "      <td>Journal Article</td>\n",
       "      <td>Transl Psychiatry</td>\n",
       "      <td>NaN</td>\n",
       "      <td>Prenatal tobacco exposure (PTE) and prenatal a...</td>\n",
       "      <td>[Abrishamcar, S., Chen, J., Feil, D., Kilanows...</td>\n",
       "      <td>2022-09-30</td>\n",
       "      <td>http://dx.doi.org/10.1038/s41398-022-02195-3</td>\n",
       "      <td>Statistical significance | Multiple p-values |...</td>\n",
       "      <td>Pruning | CoMeBack</td>\n",
       "      <td>NaN</td>\n",
       "      <td>NaN</td>\n",
       "      <td>NaN</td>\n",
       "      <td>Sharp (2018) - Maternal alcohol consumption an...</td>\n",
       "      <td>NaN</td>\n",
       "      <td>No</td>\n",
       "      <td>Discovery EWAS | linear regression</td>\n",
       "      <td>No</td>\n",
       "      <td>No</td>\n",
       "      <td>No</td>\n",
       "      <td>Not reported</td>\n",
       "      <td>Reported | Explained variance | R = 0.0006</td>\n",
       "      <td>maternal age, maternal HIV status, maternal de...</td>\n",
       "    </tr>\n",
       "  </tbody>\n",
       "</table>\n",
       "</div>"
      ],
      "text/plain": [
       "                   Phenotype                   Category              Author  \\\n",
       "0  Prenatal alcohol exposure  Lifestyle and environment  Abrishamcar et al.   \n",
       "\n",
       "   Year                                              Title  \\\n",
       "0  2022  DNA methylation as a potential mediator of the...   \n",
       "\n",
       "                          DOI  n CpGs                 Based on  Sample size  \\\n",
       "0  10.1038/s41398-022-02195-3     NaN  EWAS summary statistics        262.0   \n",
       "\n",
       "   n Cases  n Controls       Sample type Developmental period      Tissue  \\\n",
       "0      NaN         NaN  Population-based                Birth  Cord blood   \n",
       "\n",
       "                     Array Ancestry  Identifier Publication type  \\\n",
       "0  Multiple (450K, EPICv1)  African           1  Journal Article   \n",
       "\n",
       "             Journal Keywords  \\\n",
       "0  Transl Psychiatry      NaN   \n",
       "\n",
       "                                            Abstract  \\\n",
       "0  Prenatal tobacco exposure (PTE) and prenatal a...   \n",
       "\n",
       "                                         Author_list        Date  \\\n",
       "0  [Abrishamcar, S., Chen, J., Feil, D., Kilanows...  2022-09-30   \n",
       "\n",
       "                                            URL  \\\n",
       "0  http://dx.doi.org/10.1038/s41398-022-02195-3   \n",
       "\n",
       "                                    Including_CpGs_1    Including_CpGs_2  \\\n",
       "0  Statistical significance | Multiple p-values |...  Pruning | CoMeBack   \n",
       "\n",
       "  Including_CpGs_3 Including_CpGs_4 Including_CpGs_5  \\\n",
       "0              NaN              NaN              NaN   \n",
       "\n",
       "                                     Identifier_base Multiple_identifier_base  \\\n",
       "0  Sharp (2018) - Maternal alcohol consumption an...                      NaN   \n",
       "\n",
       "  Sample_overlap_target_base               Determining_weights_1 Train_test  \\\n",
       "0                         No  Discovery EWAS | linear regression         No   \n",
       "\n",
       "  Independent_validation Comparison Missing_value_note  \\\n",
       "0                     No         No       Not reported   \n",
       "\n",
       "                            Reflect_phenotype  \\\n",
       "0  Reported | Explained variance | R = 0.0006   \n",
       "\n",
       "                                          Covariates  \n",
       "0  maternal age, maternal HIV status, maternal de...  "
      ]
     },
     "execution_count": 17,
     "metadata": {},
     "output_type": "execute_result"
    }
   ],
   "source": [
    "pd.set_option('display.max_columns', None)\n",
    "print(mps_table.shape)\n",
    "mps_table.head(1)"
   ]
  },
  {
   "cell_type": "markdown",
   "id": "7ccef0c4",
   "metadata": {},
   "source": [
    "#### Publications table \n",
    "Create a  table grouped by \"paper\" rather than by \"MPS\""
   ]
  },
  {
   "cell_type": "code",
   "execution_count": 18,
   "id": "bf6ee4c3",
   "metadata": {},
   "outputs": [],
   "source": [
    "# Aggregate rows so that a list is returned when there are multiple values in the same \"paper group\"\n",
    "def aggregate_values(series):\n",
    "\n",
    "    # Keywords and Author_list contain lists, which are not hashable but also do not change across papers\n",
    "    if series.apply(lambda x: isinstance(x, list)).sum() > 0: \n",
    "        return series.iloc[0]\n",
    "    \n",
    "    unique_values = series.unique()\n",
    "    if len(unique_values) == 1:\n",
    "        return unique_values[0]\n",
    "    else:\n",
    "        return list(unique_values)\n",
    "\n",
    "# Group by 'Title' and apply the aggregation function \n",
    "pub_table = mps_table.groupby('Title').agg(aggregate_values).reset_index()\n",
    "n_MPS = mps_table.Title.value_counts() \n",
    "for t in n_MPS.index:\n",
    "    pub_table.loc[pub_table.Title == t, 'n MPSs'] = int(n_MPS[t])"
   ]
  },
  {
   "cell_type": "code",
   "execution_count": 19,
   "id": "4ba08b31",
   "metadata": {},
   "outputs": [
    {
     "name": "stdout",
     "output_type": "stream",
     "text": [
      "(89, 40)\n"
     ]
    },
    {
     "data": {
      "text/html": [
       "<div>\n",
       "<style scoped>\n",
       "    .dataframe tbody tr th:only-of-type {\n",
       "        vertical-align: middle;\n",
       "    }\n",
       "\n",
       "    .dataframe tbody tr th {\n",
       "        vertical-align: top;\n",
       "    }\n",
       "\n",
       "    .dataframe thead th {\n",
       "        text-align: right;\n",
       "    }\n",
       "</style>\n",
       "<table border=\"1\" class=\"dataframe\">\n",
       "  <thead>\n",
       "    <tr style=\"text-align: right;\">\n",
       "      <th></th>\n",
       "      <th>Author</th>\n",
       "      <th>Year</th>\n",
       "      <th>Title</th>\n",
       "      <th>DOI</th>\n",
       "      <th>Phenotype</th>\n",
       "      <th>Category</th>\n",
       "      <th>n MPSs</th>\n",
       "      <th>n CpGs</th>\n",
       "      <th>Based on</th>\n",
       "      <th>Sample size</th>\n",
       "      <th>n Cases</th>\n",
       "      <th>n Controls</th>\n",
       "      <th>Sample type</th>\n",
       "      <th>Developmental period</th>\n",
       "      <th>Tissue</th>\n",
       "      <th>Array</th>\n",
       "      <th>Ancestry</th>\n",
       "      <th>Identifier</th>\n",
       "      <th>Publication type</th>\n",
       "      <th>Journal</th>\n",
       "      <th>Keywords</th>\n",
       "      <th>Abstract</th>\n",
       "      <th>Author_list</th>\n",
       "      <th>Date</th>\n",
       "      <th>URL</th>\n",
       "      <th>Including_CpGs_1</th>\n",
       "      <th>Including_CpGs_2</th>\n",
       "      <th>Including_CpGs_3</th>\n",
       "      <th>Including_CpGs_4</th>\n",
       "      <th>Including_CpGs_5</th>\n",
       "      <th>Identifier_base</th>\n",
       "      <th>Multiple_identifier_base</th>\n",
       "      <th>Sample_overlap_target_base</th>\n",
       "      <th>Determining_weights_1</th>\n",
       "      <th>Train_test</th>\n",
       "      <th>Independent_validation</th>\n",
       "      <th>Comparison</th>\n",
       "      <th>Missing_value_note</th>\n",
       "      <th>Reflect_phenotype</th>\n",
       "      <th>Covariates</th>\n",
       "    </tr>\n",
       "  </thead>\n",
       "  <tbody>\n",
       "    <tr>\n",
       "      <th>0</th>\n",
       "      <td>Awamleh et al.</td>\n",
       "      <td>2024</td>\n",
       "      <td>A new blood DNA methylation signature for Kool...</td>\n",
       "      <td>10.1038/s41431-024-01538-6</td>\n",
       "      <td>Koolen de Vreis syndrome (KDVS)</td>\n",
       "      <td>Genetic syndromes</td>\n",
       "      <td>1.0</td>\n",
       "      <td>456.0</td>\n",
       "      <td>Only phenotype</td>\n",
       "      <td>30.0</td>\n",
       "      <td>8.0</td>\n",
       "      <td>22.0</td>\n",
       "      <td>Case control</td>\n",
       "      <td>Childhood and adolescence</td>\n",
       "      <td>Peripheral blood</td>\n",
       "      <td>EPICv1</td>\n",
       "      <td>Not reported</td>\n",
       "      <td>12</td>\n",
       "      <td>Journal Article</td>\n",
       "      <td>Eur J Hum Genet</td>\n",
       "      <td>[adult, article, child, clinical article, cont...</td>\n",
       "      <td>Pathogenic variants in KANSL1 and 17q21.31 mic...</td>\n",
       "      <td>[Awamleh, Z., Choufani, S., Wu, W., Rots, D., ...</td>\n",
       "      <td>2024-01-31</td>\n",
       "      <td>https://www.embase.com/search/results?subactio...</td>\n",
       "      <td>Statistical significance | Fixed p-value | BH ...</td>\n",
       "      <td>Association DNAm phenotype | Actual change in ...</td>\n",
       "      <td>NaN</td>\n",
       "      <td>NaN</td>\n",
       "      <td>NaN</td>\n",
       "      <td>NaN</td>\n",
       "      <td>NaN</td>\n",
       "      <td>NaN</td>\n",
       "      <td>Machine learning | Support vector machine</td>\n",
       "      <td>No</td>\n",
       "      <td>Yes (n = 208)</td>\n",
       "      <td>No</td>\n",
       "      <td>No</td>\n",
       "      <td>No actual number reported</td>\n",
       "      <td>Age, sex cell-type</td>\n",
       "    </tr>\n",
       "  </tbody>\n",
       "</table>\n",
       "</div>"
      ],
      "text/plain": [
       "           Author  Year                                              Title  \\\n",
       "0  Awamleh et al.  2024  A new blood DNA methylation signature for Kool...   \n",
       "\n",
       "                          DOI                        Phenotype  \\\n",
       "0  10.1038/s41431-024-01538-6  Koolen de Vreis syndrome (KDVS)   \n",
       "\n",
       "            Category  n MPSs n CpGs        Based on Sample size n Cases  \\\n",
       "0  Genetic syndromes     1.0  456.0  Only phenotype        30.0     8.0   \n",
       "\n",
       "  n Controls   Sample type       Developmental period            Tissue  \\\n",
       "0       22.0  Case control  Childhood and adolescence  Peripheral blood   \n",
       "\n",
       "    Array      Ancestry  Identifier Publication type          Journal  \\\n",
       "0  EPICv1  Not reported          12  Journal Article  Eur J Hum Genet   \n",
       "\n",
       "                                            Keywords  \\\n",
       "0  [adult, article, child, clinical article, cont...   \n",
       "\n",
       "                                            Abstract  \\\n",
       "0  Pathogenic variants in KANSL1 and 17q21.31 mic...   \n",
       "\n",
       "                                         Author_list        Date  \\\n",
       "0  [Awamleh, Z., Choufani, S., Wu, W., Rots, D., ...  2024-01-31   \n",
       "\n",
       "                                                 URL  \\\n",
       "0  https://www.embase.com/search/results?subactio...   \n",
       "\n",
       "                                    Including_CpGs_1  \\\n",
       "0  Statistical significance | Fixed p-value | BH ...   \n",
       "\n",
       "                                    Including_CpGs_2 Including_CpGs_3  \\\n",
       "0  Association DNAm phenotype | Actual change in ...              NaN   \n",
       "\n",
       "  Including_CpGs_4 Including_CpGs_5 Identifier_base Multiple_identifier_base  \\\n",
       "0              NaN              NaN             NaN                      NaN   \n",
       "\n",
       "  Sample_overlap_target_base                      Determining_weights_1  \\\n",
       "0                        NaN  Machine learning | Support vector machine   \n",
       "\n",
       "  Train_test Independent_validation Comparison Missing_value_note  \\\n",
       "0         No          Yes (n = 208)         No                 No   \n",
       "\n",
       "           Reflect_phenotype          Covariates  \n",
       "0  No actual number reported  Age, sex cell-type  "
      ]
     },
     "execution_count": 19,
     "metadata": {},
     "output_type": "execute_result"
    }
   ],
   "source": [
    "print(pub_table.shape)\n",
    "\n",
    "# reorder columns\n",
    "pub_table = pub_table[['Author', 'Year', 'Title', 'DOI', 'Phenotype', 'Category', \n",
    "                      'n MPSs', 'n CpGs', 'Based on', 'Sample size', 'n Cases', 'n Controls',\n",
    "                      'Sample type', 'Developmental period', 'Tissue', 'Array', 'Ancestry',\n",
    "                      'Identifier', 'Publication type', 'Journal', 'Keywords', 'Abstract', 'Author_list', \n",
    "                      'Date', 'URL','Including_CpGs_1','Including_CpGs_2','Including_CpGs_3','Including_CpGs_4','Including_CpGs_5',\n",
    "                      'Identifier_base','Multiple_identifier_base','Sample_overlap_target_base',\n",
    "                      'Determining_weights_1','Train_test','Independent_validation','Comparison','Missing_value_note',\n",
    "                      'Reflect_phenotype','Covariates']]\n",
    "pub_table.head(1)"
   ]
  },
  {
   "cell_type": "markdown",
   "id": "c2efff84",
   "metadata": {},
   "source": [
    "#### Save cleaned files"
   ]
  },
  {
   "cell_type": "code",
   "execution_count": 20,
   "id": "49846faa",
   "metadata": {},
   "outputs": [],
   "source": [
    "lit_base.to_csv(f'{assets_directory}MPS_base_samples_cleaned.csv', index=False)\n",
    "mps_table.to_csv(f'{assets_directory}MPS_table_cleaned.csv', index=False)\n",
    "pub_table.to_csv(f'{assets_directory}Publication_table_cleaned.csv', index=False)"
   ]
  },
  {
   "cell_type": "markdown",
   "id": "79d3f123",
   "metadata": {},
   "source": [
    "### STEP 2 - Descriptives"
   ]
  },
  {
   "cell_type": "code",
   "execution_count": 21,
   "id": "035e43e6",
   "metadata": {},
   "outputs": [],
   "source": [
    "mps_table = pd.read_csv(f'{assets_directory}MPS_table_cleaned.csv')\n",
    "pub_table = pd.read_csv(f'{assets_directory}Publication_table_cleaned.csv')"
   ]
  },
  {
   "cell_type": "markdown",
   "id": "9376a186",
   "metadata": {},
   "source": [
    "### General descriptives "
   ]
  },
  {
   "cell_type": "code",
   "execution_count": 22,
   "id": "7569df9f",
   "metadata": {},
   "outputs": [
    {
     "name": "stdout",
     "output_type": "stream",
     "text": [
      "Total number of publications: 89\n",
      "Total number of unique MPSs: 758\n",
      "\n",
      " Based on\n",
      "Only phenotype                                            54\n",
      "Validated MPS algorithm                                   17\n",
      "EWAS summary statistics                                    9\n",
      "['EWAS summary statistics', 'Validated MPS algorithm']     4\n",
      "['Only phenotype', 'Validated MPS algorithm']              2\n",
      "['EWAS summary statistics', 'Only phenotype']              1\n",
      "['Validated MPS algorithm', 'Only phenotype']              1\n",
      "['Validated MPS algorithm', 'EWAS summary statistics']     1\n",
      "Name: count, dtype: int64\n"
     ]
    },
    {
     "data": {
      "text/html": [
       "<div>\n",
       "<style scoped>\n",
       "    .dataframe tbody tr th:only-of-type {\n",
       "        vertical-align: middle;\n",
       "    }\n",
       "\n",
       "    .dataframe tbody tr th {\n",
       "        vertical-align: top;\n",
       "    }\n",
       "\n",
       "    .dataframe thead th {\n",
       "        text-align: right;\n",
       "    }\n",
       "</style>\n",
       "<table border=\"1\" class=\"dataframe\">\n",
       "  <thead>\n",
       "    <tr style=\"text-align: right;\">\n",
       "      <th></th>\n",
       "      <th>Title</th>\n",
       "      <th>%</th>\n",
       "    </tr>\n",
       "    <tr>\n",
       "      <th>Based on</th>\n",
       "      <th></th>\n",
       "      <th></th>\n",
       "    </tr>\n",
       "  </thead>\n",
       "  <tbody>\n",
       "    <tr>\n",
       "      <th>EWAS summary statistics</th>\n",
       "      <td>15</td>\n",
       "      <td>16.9</td>\n",
       "    </tr>\n",
       "    <tr>\n",
       "      <th>Only phenotype</th>\n",
       "      <td>58</td>\n",
       "      <td>65.2</td>\n",
       "    </tr>\n",
       "    <tr>\n",
       "      <th>Validated MPS algorithm</th>\n",
       "      <td>25</td>\n",
       "      <td>28.1</td>\n",
       "    </tr>\n",
       "  </tbody>\n",
       "</table>\n",
       "</div>"
      ],
      "text/plain": [
       "                         Title     %\n",
       "Based on                            \n",
       "EWAS summary statistics     15  16.9\n",
       "Only phenotype              58  65.2\n",
       "Validated MPS algorithm     25  28.1"
      ]
     },
     "execution_count": 22,
     "metadata": {},
     "output_type": "execute_result"
    }
   ],
   "source": [
    "print('Total number of publications:', pub_table.shape[0])\n",
    "print('Total number of unique MPSs:', mps_table.shape[0])\n",
    "\n",
    "pubs_count = mps_table.groupby('Based on')['Title'].nunique().reset_index().set_index('Based on')\n",
    "\n",
    "# Add a column for the percentage of all titles\n",
    "pubs_count['%'] = round((pubs_count['Title'] /  pub_table.shape[0]) * 100, 1)\n",
    "\n",
    "# NOTE: this has more total publications because some have more than 1 value for what_is_available\n",
    "print('\\n', pub_table['Based on'].value_counts())\n",
    "\n",
    "pubs_count "
   ]
  },
  {
   "cell_type": "code",
   "execution_count": 23,
   "id": "ceed89b8",
   "metadata": {},
   "outputs": [
    {
     "name": "stdout",
     "output_type": "stream",
     "text": [
      "count     89.000000\n",
      "mean       8.516854\n",
      "std       31.453831\n",
      "min        1.000000\n",
      "25%        1.000000\n",
      "50%        1.000000\n",
      "75%        5.000000\n",
      "max      278.000000\n",
      "Name: n MPSs, dtype: float64\n",
      "\n",
      " 16 % of publications report more than 10 MPSs.\n"
     ]
    },
    {
     "data": {
      "text/html": [
       "<div>\n",
       "<style scoped>\n",
       "    .dataframe tbody tr th:only-of-type {\n",
       "        vertical-align: middle;\n",
       "    }\n",
       "\n",
       "    .dataframe tbody tr th {\n",
       "        vertical-align: top;\n",
       "    }\n",
       "\n",
       "    .dataframe thead th {\n",
       "        text-align: right;\n",
       "    }\n",
       "</style>\n",
       "<table border=\"1\" class=\"dataframe\">\n",
       "  <thead>\n",
       "    <tr style=\"text-align: right;\">\n",
       "      <th>n MPSs</th>\n",
       "      <th>1.0</th>\n",
       "      <th>2.0</th>\n",
       "      <th>3.0</th>\n",
       "      <th>4.0</th>\n",
       "      <th>5.0</th>\n",
       "      <th>6.0</th>\n",
       "      <th>7.0</th>\n",
       "      <th>8.0</th>\n",
       "      <th>9.0</th>\n",
       "      <th>10.0</th>\n",
       "      <th>12.0</th>\n",
       "      <th>14.0</th>\n",
       "      <th>15.0</th>\n",
       "      <th>18.0</th>\n",
       "      <th>19.0</th>\n",
       "      <th>25.0</th>\n",
       "      <th>44.0</th>\n",
       "      <th>104.0</th>\n",
       "      <th>278.0</th>\n",
       "    </tr>\n",
       "  </thead>\n",
       "  <tbody>\n",
       "    <tr>\n",
       "      <th>count</th>\n",
       "      <td>48</td>\n",
       "      <td>11</td>\n",
       "      <td>3</td>\n",
       "      <td>4</td>\n",
       "      <td>1</td>\n",
       "      <td>2</td>\n",
       "      <td>1</td>\n",
       "      <td>3</td>\n",
       "      <td>1</td>\n",
       "      <td>1</td>\n",
       "      <td>3</td>\n",
       "      <td>3</td>\n",
       "      <td>2</td>\n",
       "      <td>1</td>\n",
       "      <td>1</td>\n",
       "      <td>1</td>\n",
       "      <td>1</td>\n",
       "      <td>1</td>\n",
       "      <td>1</td>\n",
       "    </tr>\n",
       "    <tr>\n",
       "      <th>%</th>\n",
       "      <td>53.9%</td>\n",
       "      <td>12.4%</td>\n",
       "      <td>3.4%</td>\n",
       "      <td>4.5%</td>\n",
       "      <td>1.1%</td>\n",
       "      <td>2.2%</td>\n",
       "      <td>1.1%</td>\n",
       "      <td>3.4%</td>\n",
       "      <td>1.1%</td>\n",
       "      <td>1.1%</td>\n",
       "      <td>3.4%</td>\n",
       "      <td>3.4%</td>\n",
       "      <td>2.2%</td>\n",
       "      <td>1.1%</td>\n",
       "      <td>1.1%</td>\n",
       "      <td>1.1%</td>\n",
       "      <td>1.1%</td>\n",
       "      <td>1.1%</td>\n",
       "      <td>1.1%</td>\n",
       "    </tr>\n",
       "  </tbody>\n",
       "</table>\n",
       "</div>"
      ],
      "text/plain": [
       "n MPSs  1.0    2.0   3.0   4.0   5.0   6.0   7.0   8.0   9.0   10.0  12.0   \\\n",
       "count      48     11     3     4     1     2     1     3     1     1     3   \n",
       "%       53.9%  12.4%  3.4%  4.5%  1.1%  2.2%  1.1%  3.4%  1.1%  1.1%  3.4%   \n",
       "\n",
       "n MPSs 14.0  15.0  18.0  19.0  25.0  44.0  104.0 278.0  \n",
       "count      3     2     1     1     1     1     1     1  \n",
       "%       3.4%  2.2%  1.1%  1.1%  1.1%  1.1%  1.1%  1.1%  "
      ]
     },
     "execution_count": 23,
     "metadata": {},
     "output_type": "execute_result"
    }
   ],
   "source": [
    "print(pub_table['n MPSs'].describe())\n",
    "\n",
    "counts = pub_table['n MPSs'].value_counts().sort_index(ascending=True)\n",
    "percent = counts / counts.sum() * 100\n",
    "\n",
    "n_MPS_count = counts.to_frame(name='count')\n",
    "n_MPS_count['%'] = percent.apply(lambda x: f\"{x:.1f}%\")\n",
    "\n",
    "print('\\n', round(100 - sum(percent.iloc[0:10])), \"% of publications report more than 10 MPSs.\")\n",
    "\n",
    "n_MPS_count.T\n"
   ]
  },
  {
   "cell_type": "code",
   "execution_count": 24,
   "id": "e6faa230",
   "metadata": {},
   "outputs": [
    {
     "name": "stdout",
     "output_type": "stream",
     "text": [
      "Total umber of phenotypes: 324\n",
      "Number of phenotypes with more than one MPS: 146 ( 45 %)\n"
     ]
    },
    {
     "data": {
      "text/plain": [
       "Phenotype\n",
       "Maternal smoking          49\n",
       "Asthma                    14\n",
       "Allergy                   14\n",
       "Kabuki syndrome           14\n",
       "Atopic status             12\n",
       "Externalizing behavior    12\n",
       "BMI                       10\n",
       "Internalizing behavior    10\n",
       "Sotos syndrome            10\n",
       "Name: count, dtype: int64"
      ]
     },
     "execution_count": 24,
     "metadata": {},
     "output_type": "execute_result"
    }
   ],
   "source": [
    "pheno_count = mps_table.Phenotype.value_counts()\n",
    "\n",
    "n_pheno = len(pheno_count)\n",
    "\n",
    "pheno_count_rep = pheno_count[pheno_count > 1]\n",
    "\n",
    "n_pheno_rep = len(pheno_count_rep)\n",
    "\n",
    "print('Total umber of phenotypes:', n_pheno)\n",
    "print('Number of phenotypes with more than one MPS:', n_pheno_rep, '(', round(n_pheno_rep / n_pheno * 100), '%)')\n",
    "\n",
    "pheno_count_rep[pheno_count_rep > 9]\n"
   ]
  },
  {
   "cell_type": "code",
   "execution_count": 25,
   "id": "85f66fea",
   "metadata": {},
   "outputs": [],
   "source": [
    "def get_count_percent(variable, data=mps_table, precision=0, print_count=True):\n",
    "    counts = pd.DataFrame(data[variable].value_counts())\n",
    "    _total = counts.sum()\n",
    "    \n",
    "    counts['%'] = round((counts / _total) * 100, precision)\n",
    "\n",
    "    # Some row indexes will be lists which are not hashable\n",
    "    counts.index = counts.index.map(lambda x: str(x) if isinstance(x, list) else x)\n",
    "\n",
    "    print('\\n')\n",
    "    for idx, row in counts.iterrows():\n",
    "        fmtcount = int(row['count']) if print_count else ''\n",
    "        fmtpercent = int(row['%']) if precision == 0 else row['%']\n",
    "        print(f\"{idx} {fmtcount} ({fmtpercent}%)\")\n"
   ]
  },
  {
   "cell_type": "code",
   "execution_count": 26,
   "id": "bb1dd631",
   "metadata": {},
   "outputs": [
    {
     "name": "stdout",
     "output_type": "stream",
     "text": [
      "MPS count\n",
      "\n",
      "\n",
      "Biological markers 394 (52.0%)\n",
      "Genetic syndromes 185 (24.4%)\n",
      "Lifestyle and environment 85 (11.2%)\n",
      "Physical health indicators 55 (7.3%)\n",
      "Neuro-psychiatric health indicators 34 (4.5%)\n",
      "Cancer 5 (0.7%)\n",
      "\n",
      "Phenotype count\n",
      " Category\n",
      "Biological markers                     182\n",
      "Cancer                                   5\n",
      "Genetic syndromes                      103\n",
      "Lifestyle and environment               19\n",
      "Neuro-psychiatric health indicators     10\n",
      "Physical health indicators               6\n",
      "Name: Phenotype, dtype: int64\n",
      "\n",
      "Publication count\n",
      " Category\n",
      "Biological markers                      8\n",
      "Cancer                                  5\n",
      "Genetic syndromes                      45\n",
      "Lifestyle and environment              22\n",
      "Neuro-psychiatric health indicators     8\n",
      "Physical health indicators              6\n",
      "Name: Title, dtype: int64\n"
     ]
    },
    {
     "data": {
      "text/plain": [
       "Category                    Phenotype      \n",
       "Biological markers          ADA                 3\n",
       "                            ADAMTS              1\n",
       "                            ARTN                3\n",
       "                            AXIN1               3\n",
       "                            Adiponectin         1\n",
       "                                               ..\n",
       "Physical health indicators  Asthma             14\n",
       "                            Atopic status      12\n",
       "                            BMI                 6\n",
       "                            Birth weight        6\n",
       "                            Health problems     3\n",
       "Name: count, Length: 325, dtype: int64"
      ]
     },
     "execution_count": 26,
     "metadata": {},
     "output_type": "execute_result"
    }
   ],
   "source": [
    "print('MPS count')\n",
    "get_count_percent('Category', precision=1)\n",
    "print('\\nPhenotype count\\n', mps_table.groupby('Category')['Phenotype'].nunique())\n",
    "print('\\nPublication count\\n', mps_table.groupby('Category')['Title'].nunique())\n",
    "\n",
    "mps_table[['Category', 'Phenotype']].value_counts().sort_index()"
   ]
  },
  {
   "cell_type": "code",
   "execution_count": 27,
   "id": "06dc33e7",
   "metadata": {},
   "outputs": [
    {
     "name": "stdout",
     "output_type": "stream",
     "text": [
      "\n",
      "\n",
      "Peripheral blood  (60%)\n",
      "Saliva  (16%)\n",
      "Cord blood  (6%)\n",
      "Whole blood  (5%)\n",
      "Dried bloodspot  (3%)\n",
      "Blood-clots  (3%)\n",
      "Buccal cells  (3%)\n",
      "Placenta  (2%)\n",
      "Nasal epithelial cells  (1%)\n",
      "Tumour cells  (1%)\n",
      "Leukocytes  (0%)\n",
      "Not reported  (0%)\n",
      "Cervical cells  (0%)\n",
      "Multiple (Whole blood, HPCs)  (0%)\n"
     ]
    }
   ],
   "source": [
    "get_count_percent(\"Tissue\", print_count=False)"
   ]
  },
  {
   "cell_type": "code",
   "execution_count": 28,
   "id": "2197bfba",
   "metadata": {},
   "outputs": [
    {
     "name": "stdout",
     "output_type": "stream",
     "text": [
      "\n",
      "\n",
      "Population-based 394 (52%)\n",
      "Case control 193 (25%)\n",
      "Cohort study 120 (16%)\n",
      "Twin study 21 (3%)\n",
      "Convenience sample 18 (2%)\n",
      "Randomized controlled trial 12 (2%)\n",
      "\n",
      "\n",
      "Case control 48 (54%)\n",
      "Population-based 24 (27%)\n",
      "Cohort study 11 (12%)\n",
      "Twin study 3 (3%)\n",
      "Convenience sample 2 (2%)\n",
      "Randomized controlled trial 1 (1%)\n"
     ]
    }
   ],
   "source": [
    "get_count_percent(\"Sample type\")\n",
    "\n",
    "get_count_percent(\"Sample type\", data=pub_table)"
   ]
  },
  {
   "cell_type": "code",
   "execution_count": 29,
   "id": "11d498dd",
   "metadata": {},
   "outputs": [
    {
     "name": "stdout",
     "output_type": "stream",
     "text": [
      "\n",
      "\n",
      "Multiple (450K, EPICv1) 393 (52%)\n",
      "EPICv1 281 (37%)\n",
      "450K 63 (8%)\n",
      "WGBS 14 (2%)\n",
      "Multiple (450K, GMEL (~3000 CpGs from EPICv1)) 6 (1%)\n",
      "Multiple (450K, EPICv2) 1 (0%)\n",
      "\n",
      "\n",
      "EPICv1 53 (60%)\n",
      "450K 18 (20%)\n",
      "Multiple (450K, EPICv1) 12 (13%)\n",
      "['450K', 'EPICv1'] 2 (2%)\n",
      "WGBS 1 (1%)\n",
      "['EPICv1', '450K'] 1 (1%)\n",
      "['Multiple (450K, GMEL (~3000 CpGs from EPICv1))', '450K'] 1 (1%)\n",
      "['Multiple (450K, EPICv1)', 'Multiple (450K, EPICv2)'] 1 (1%)\n"
     ]
    }
   ],
   "source": [
    "# pd.set_option('display.max_columns', None)\n",
    "# # lit_main.loc[lit_main['Array'] == \"WGBS\",]\n",
    "\n",
    "get_count_percent(\"Array\")\n",
    "\n",
    "get_count_percent(\"Array\", data=pub_table)"
   ]
  },
  {
   "cell_type": "code",
   "execution_count": 30,
   "id": "bf49d9f6",
   "metadata": {},
   "outputs": [
    {
     "name": "stdout",
     "output_type": "stream",
     "text": [
      "\n",
      "\n",
      "European 380 (50.1%)\n",
      "Not reported 189 (24.9%)\n",
      "White 142 (18.7%)\n",
      "Mixed 44 (5.8%)\n",
      "African 2 (0.3%)\n",
      "Hispanic 1 (0.1%)\n",
      "\n",
      "\n",
      "Not reported 47 (52.8%)\n",
      "European 25 (28.1%)\n",
      "Mixed 9 (10.1%)\n",
      "White 6 (6.7%)\n",
      "African 1 (1.1%)\n",
      "Hispanic 1 (1.1%)\n"
     ]
    }
   ],
   "source": [
    "get_count_percent(\"Ancestry\", precision=1)\n",
    "\n",
    "get_count_percent(\"Ancestry\", precision=1, data=pub_table)"
   ]
  },
  {
   "cell_type": "code",
   "execution_count": 31,
   "id": "f7f34020",
   "metadata": {},
   "outputs": [
    {
     "name": "stdout",
     "output_type": "stream",
     "text": [
      "\n",
      "\n",
      "Mid childhood 320 (42.2%)\n",
      "Birth 166 (21.9%)\n",
      "Childhood and adolescence 125 (16.5%)\n",
      "Not reported 63 (8.3%)\n",
      "Late childhood 44 (5.8%)\n",
      "Adolescence 26 (3.4%)\n",
      "Very early childhood 11 (1.5%)\n",
      "Early childhood 3 (0.4%)\n",
      "\n",
      "\n",
      "Childhood and adolescence 43 (48.3%)\n",
      "Birth 17 (19.1%)\n",
      "Adolescence 6 (6.7%)\n",
      "Not reported 4 (4.5%)\n",
      "Late childhood 4 (4.5%)\n",
      "['Adolescence', 'Birth', 'Mid childhood'] 3 (3.4%)\n",
      "['Adolescence', 'Mid childhood'] 2 (2.2%)\n",
      "['Late childhood', 'Mid childhood'] 2 (2.2%)\n",
      "Very early childhood 2 (2.2%)\n",
      "Mid childhood 2 (2.2%)\n",
      "Early childhood 1 (1.1%)\n",
      "['Birth', 'Mid childhood'] 1 (1.1%)\n",
      "['Childhood and adolescence', 'Early childhood'] 1 (1.1%)\n",
      "['Not reported', 'Childhood and adolescence'] 1 (1.1%)\n"
     ]
    }
   ],
   "source": [
    "get_count_percent(\"Developmental period\", precision=1)\n",
    "\n",
    "get_count_percent(\"Developmental period\", precision=1, data=pub_table)"
   ]
  },
  {
   "cell_type": "code",
   "execution_count": 32,
   "id": "ae4f4698",
   "metadata": {},
   "outputs": [
    {
     "name": "stdout",
     "output_type": "stream",
     "text": [
      "\n",
      "\n",
      "No 251 (93%)\n",
      "Yes 19 (7%)\n"
     ]
    }
   ],
   "source": [
    "get_count_percent('Sample_overlap_target_base')\n",
    "\n",
    "# get_count_percent('Sample_overlap_target_base', data=pub_table)"
   ]
  },
  {
   "cell_type": "code",
   "execution_count": 33,
   "id": "19eed73c",
   "metadata": {},
   "outputs": [
    {
     "name": "stdout",
     "output_type": "stream",
     "text": [
      "count       433.000000\n",
      "mean       2738.713626\n",
      "std       37165.804126\n",
      "min           2.000000\n",
      "25%          37.000000\n",
      "50%         111.000000\n",
      "75%         204.000000\n",
      "max      764525.000000\n",
      "Name: n CpGs, dtype: float64\n"
     ]
    },
    {
     "data": {
      "text/plain": [
       "<Axes: >"
      ]
     },
     "execution_count": 33,
     "metadata": {},
     "output_type": "execute_result"
    },
    {
     "data": {
      "image/png": "[encoded data removed]",
      "text/plain": [
       "<Figure size 1500x400 with 1 Axes>"
      ]
     },
     "metadata": {},
     "output_type": "display_data"
    }
   ],
   "source": [
    "print(mps_table['n CpGs'].describe())\n",
    "\n",
    "mps_table['n CpGs'].hist(bins=100, figsize=(15, 4))"
   ]
  },
  {
   "cell_type": "code",
   "execution_count": 34,
   "id": "ae0897c5",
   "metadata": {},
   "outputs": [
    {
     "data": {
      "text/plain": [
       "<Axes: >"
      ]
     },
     "execution_count": 34,
     "metadata": {},
     "output_type": "execute_result"
    },
    {
     "data": {
      "image/png": "[encoded data removed]",
      "text/plain": [
       "<Figure size 1500x400 with 1 Axes>"
      ]
     },
     "metadata": {},
     "output_type": "display_data"
    }
   ],
   "source": [
    "mps_table['Sample size'].describe()\n",
    "\n",
    "mps_table['Sample size'].hist(bins=100, figsize=(15, 4))\n"
   ]
  },
  {
   "cell_type": "code",
   "execution_count": 35,
   "id": "62a2f000",
   "metadata": {},
   "outputs": [
    {
     "name": "stdout",
     "output_type": "stream",
     "text": [
      "r = -0.047 , P =  0.328\n"
     ]
    },
    {
     "data": {
      "text/plain": [
       "[<matplotlib.lines.Line2D at 0x131ffebb0>]"
      ]
     },
     "execution_count": 35,
     "metadata": {},
     "output_type": "execute_result"
    },
    {
     "data": {
      "image/png": "[encoded data removed]",
      "text/plain": [
       "<Figure size 1500x600 with 1 Axes>"
      ]
     },
     "metadata": {},
     "output_type": "display_data"
    }
   ],
   "source": [
    "from scipy.stats import spearmanr\n",
    "r, p = spearmanr(mps_table['Sample size'], mps_table['n CpGs'], nan_policy='omit')\n",
    "\n",
    "print('r =', round(r, 3), ', P = ', round(p,3))\n",
    "\n",
    "import matplotlib.pyplot as plt\n",
    "fig, ax = plt.subplots(figsize=(15, 6))\n",
    "ax.plot(mps_table['Sample size'], mps_table['n CpGs'], 'o')\n"
   ]
  },
  {
   "cell_type": "code",
   "execution_count": 36,
   "id": "cfd629fb",
   "metadata": {},
   "outputs": [],
   "source": [
    "# sample size\n",
    "# covariates"
   ]
  },
  {
   "cell_type": "markdown",
   "id": "98a5ca8a",
   "metadata": {},
   "source": [
    "##### Analytical methods"
   ]
  },
  {
   "cell_type": "code",
   "execution_count": 37,
   "id": "636d010d",
   "metadata": {},
   "outputs": [],
   "source": [
    "# pub_table[['Title','n MPSs',\n",
    "#            'Including_CpGs_1', 'Including_CpGs_2', 'Including_CpGs_3', 'Including_CpGs_4', 'Including_CpGs_5']]"
   ]
  },
  {
   "cell_type": "code",
   "execution_count": 38,
   "id": "b5d2e435",
   "metadata": {},
   "outputs": [
    {
     "data": {
      "text/plain": [
       "Including_CpGs_1\n",
       "Association DNAm phenotype | Actual change in methylation| 10%                                                                      7\n",
       "Association DNAm phenotype | Actual change in methylation| 10-20%                                                                   8\n",
       "Association DNAm phenotype | Actual change in methylation| 15%                                                                      5\n",
       "Association DNAm phenotype | Actual change in methylation| 20%                                                                      2\n",
       "Association DNAm phenotype | Actual change in methylation| 25%                                                                      1\n",
       "Association DNAm phenotype | Actual change in methylation| 5%                                                                       4\n",
       "Association DNAm phenotype | Actual change in methylation| 800                                                                      1\n",
       "Association DNAm phenotype | Actual change in methylation| top ranking 1000                                                         3\n",
       "Association DNAm phenotype | Actual change in methylation| top ranking 800                                                          1\n",
       "Association DNAm phenotype | Fixed p-value | FDR < .05                                                                              9\n",
       "Association DNAm phenotype | Fixed p-value | FDR < .1                                                                               1\n",
       "Association DNAm phenotype | Fixed p-value | bonferroni < .05                                                                       2\n",
       "Association DNAm phenotype | Fixed p-value | not reported                                                                          14\n",
       "Association DNAm phenotype | Fixed p-value | p < .00001                                                                             4\n",
       "Association DNAm phenotype | Fixed p-value | p < .001                                                                               1\n",
       "Association DNAm phenotype | Fixed p-value | p < 1x10-4                                                                             1\n",
       "Association DNAm phenotype | Fixed p-value | p < 5 x 10-5                                                                           3\n",
       "Association DNAm phenotype | Multiple p-values | reporting multiple levels                                                         18\n",
       "Association DNAm phenotype | effect size                                                                                           44\n",
       "Association DNAm phenotype | top-ranking significant probes | 500                                                                   1\n",
       "Association DNAm phenotype | top-ranking significant probes | ?                                                                    19\n",
       "Biological relevance |Associated to certain phenotype | Trauma                                                                     14\n",
       "Biological relevance |functional annotation | Grouped to genes                                                                     13\n",
       "Reproducibility | Array                                                                                                             1\n",
       "Reproducibility | Tissue | neutrophil specific                                                                                      2\n",
       "Statistical significance | Fixed p-value                                                                                           17\n",
       "Statistical significance | Fixed p-value | .05                                                                                      1\n",
       "Statistical significance | Fixed p-value | ?                                                                                        1\n",
       "Statistical significance | Fixed p-value | BH < .01                                                                                 3\n",
       "Statistical significance | Fixed p-value | BH < .05                                                                                 2\n",
       "Statistical significance | Fixed p-value | adjusted p < .05                                                                         6\n",
       "Statistical significance | Fixed p-value | p < 1.15x10-7                                                                            1\n",
       "Statistical significance | Fixed p-value | p < 5x10-8                                                                               3\n",
       "Statistical significance | Fixed p-value | p<.05                                                                                    6\n",
       "Statistical significance | Multiple p-values | thresholding                                                                        31\n",
       "Statistical significance | top-ranking significant probes | 100                                                                     2\n",
       "Statistical significance | top-ranking significant probes | 1000                                                                   11\n",
       "Statistical significance | top-ranking significant probes | 10000                                                                   2\n",
       "Statistical significance | top-ranking significant probes | 20                                                                      2\n",
       "Statistical significance | top-ranking significant probes | 200                                                                     1\n",
       "Statistical significance | top-ranking significant probes | 3                                                                       1\n",
       "Statistical significance | top-ranking significant probes | 50                                                                      2\n",
       "Statistical significance | top-ranking significant probes | 500                                                                     3\n",
       "Statistical significance | top-ranking significant probes | 5000                                                                    2\n",
       "Statistical significance | top-ranking significant probes | 800                                                                     3\n",
       "Statistical significance | top-ranking significant probes | 900                                                                     2\n",
       "Statistical significance | top-ranking significant probes | 900-1000                                                                2\n",
       "Statistical significance | top-ranking significant probes | ?                                                                       2\n",
       "Statistical significance | top-ranking significant probes | Experimented with multiple threshold                                    1\n",
       "Statistical significance | top-ranking significant probes | Tune exact number, ranging from 10 to 1000, in 10 intervals of 110)    12\n",
       "Name: count, dtype: int64"
      ]
     },
     "execution_count": 38,
     "metadata": {},
     "output_type": "execute_result"
    }
   ],
   "source": [
    "# mps_table[['Including_CpGs_1', 'Including_CpGs_2', 'Including_CpGs_3', 'Including_CpGs_4', 'Including_CpGs_5']]\n",
    "\n",
    "mps_table.Including_CpGs_1.value_counts().sort_index()"
   ]
  },
  {
   "cell_type": "code",
   "execution_count": 39,
   "id": "d718e37a",
   "metadata": {},
   "outputs": [
    {
     "data": {
      "text/plain": [
       "Including_CpGs_2\n",
       "Association DNAm phenotype | AUC | ?                                          2\n",
       "Association DNAm phenotype | AUC | top ranking ?                              1\n",
       "Association DNAm phenotype | Actual change in methylation| 10%                5\n",
       "Association DNAm phenotype | Actual change in methylation| >.4                2\n",
       "Association DNAm phenotype | Actual change in methylation| ?                  1\n",
       "Association DNAm phenotype | Fixed p-value | FDR < .01                        1\n",
       "Association DNAm phenotype | Fixed p-value | not reported                     4\n",
       "Association DNAm phenotype | effect size | D>1.3                              1\n",
       "Association DNAm phenotype | logFC | >1                                       1\n",
       "Association DNAm phenotype | top-ranking significant probes | 1000            8\n",
       "Association DNAm phenotype | top-ranking significant probes | 800             3\n",
       "Association DNAm phenotype | top-ranking significant probes | 900             2\n",
       "Association DNAm phenotype | top-ranking significant probes | 900 to 1000     1\n",
       "Association DNAm phenotype | top-ranking significant probes | unclear         1\n",
       "Biological relevance |functional annotation | Grouped to genes                2\n",
       "Pruning | CoMeBack                                                           29\n",
       "Pruning | Multivariate regression | p < .001                                  1\n",
       "Pruning | Pairwise correlation | 0.75                                         3\n",
       "Pruning | pairwise correlation                                               23\n",
       "Reproducibility | Array                                                       2\n",
       "Reproducibility | Array | 450K                                                5\n",
       "Reproducibility | Array | PACE                                                2\n",
       "Reproducibility | Tissue | CD03 specific                                      1\n",
       "Reproducibility | Tissue | CD14 specific                                      6\n",
       "Reproducibility | Tissue | CD15 specific                                      2\n",
       "Reproducibility | Tissue | CD19 specific                                      2\n",
       "Reproducibility | Tissue | whole blood                                        3\n",
       "Statistical significance | Fixed p-value | .01                                1\n",
       "Statistical significance | Fixed p-value | p < .001                           1\n",
       "Statistical significance | Fixed p-value | p < .01                            8\n",
       "Statistical significance | Fixed p-value | p < 0.01                           2\n",
       "Statistical significance | top-ranking significant probes | 1000             62\n",
       "Statistical significance | top-ranking significant probes | 1000              1\n",
       "Statistical significance | top-ranking significant probes | 500               1\n",
       "Statistical significance | top-ranking significant probes | 800               2\n",
       "Statistical significance | top-ranking significant probes | ?                19\n",
       "Unclear                                                                       1\n",
       "Name: count, dtype: int64"
      ]
     },
     "execution_count": 39,
     "metadata": {},
     "output_type": "execute_result"
    }
   ],
   "source": [
    "mps_table.Including_CpGs_2.value_counts().sort_index()"
   ]
  },
  {
   "cell_type": "code",
   "execution_count": 40,
   "id": "d7eb30de",
   "metadata": {},
   "outputs": [
    {
     "data": {
      "text/plain": [
       "Including_CpGs_3\n",
       "Association DNAm phenotype | AUC | 333 highest                     1\n",
       "Association DNAm phenotype | AUC | 500                             1\n",
       "Association DNAm phenotype | AUC | 500 highest                     1\n",
       "Association DNAm phenotype | AUC | = 1.00                          1\n",
       "Association DNAm phenotype | AUC | > .80                          24\n",
       "Association DNAm phenotype | AUC | > .90                           1\n",
       "Association DNAm phenotype | AUC | >0.98                           1\n",
       "Association DNAm phenotype | AUC | ?                              21\n",
       "Association DNAm phenotype | AUC | top ranking 100-150            44\n",
       "Association DNAm phenotype | AUC | top ranking 160                 1\n",
       "Association DNAm phenotype | AUC | top ranking 200                 2\n",
       "Association DNAm phenotype | AUC | top ranking 267                 1\n",
       "Association DNAm phenotype | AUC | top ranking 300-500             1\n",
       "Association DNAm phenotype | AUC | top ranking 400                 2\n",
       "Association DNAm phenotype | AUC | top ranking 450                 2\n",
       "Association DNAm phenotype | AUC | top ranking 500                 5\n",
       "Association DNAm phenotype | AUC | top ranking ?                   2\n",
       "Association DNAm phenotype | Actual change in methylation| 10%     2\n",
       "Association DNAm phenotype | Actual change in methylation| 2%      1\n",
       "Association DNAm phenotype | hypermethylation                      1\n",
       "Pruning | Feature selection ML                                    10\n",
       "Pruning | Pairwise correlation | 0.75                              5\n",
       "Pruning | Pairwise correlation | 0.90                              2\n",
       "Pruning | Pairwise correlation | ?                                 2\n",
       "Pruning | stepwise selection                                       1\n",
       "Reproducibility | array                                            1\n",
       "Statistical significance | Fixed p-value | .01                     1\n",
       "Name: count, dtype: int64"
      ]
     },
     "execution_count": 40,
     "metadata": {},
     "output_type": "execute_result"
    }
   ],
   "source": [
    "mps_table.Including_CpGs_3.value_counts().sort_index()"
   ]
  },
  {
   "cell_type": "code",
   "execution_count": 41,
   "id": "6b7a87af",
   "metadata": {},
   "outputs": [
    {
     "data": {
      "text/plain": [
       "Including_CpGs_4\n",
       "Association DNAm phenotype | AUC | = 1.00                                                                                             2\n",
       "Association DNAm phenotype | AUC | top ranking 500                                                                                    1\n",
       "Association DNAm phenotype | Actual change in methylation| 5%                                                                         2\n",
       "Association DNAm phenotype | correlation | r>.4 (with lesion progression)                                                             1\n",
       "Pruning | Pairwise correlation | 0.6                                                                                                  2\n",
       "Pruning | Pairwise correlation | 0.60                                                                                                 1\n",
       "Pruning | Pairwise correlation | 0.60-0.80                                                                                            1\n",
       "Pruning | Pairwise correlation | 0.70                                                                                                 5\n",
       "Pruning | Pairwise correlation | 0.80                                                                                                18\n",
       "Pruning | Pairwise correlation | 0.84                                                                                                 1\n",
       "Pruning | Pairwise correlation | 0.85                                                                                                 4\n",
       "Pruning | Pairwise correlation | 0.95                                                                                                 3\n",
       "Pruning | Pairwise correlation | ?                                                                                                   22\n",
       "Pruning | R-squared | 0.60-0.80                                                                                                      44\n",
       "Pruning | R-squared | 0.80                                                                                                            8\n",
       "Reproducibility | Tissue | Present in both HPC and whole bloodReproducibility across tissue | Present in both HPC and whole blood     1\n",
       "Name: count, dtype: int64"
      ]
     },
     "execution_count": 41,
     "metadata": {},
     "output_type": "execute_result"
    }
   ],
   "source": [
    "mps_table.Including_CpGs_4.value_counts().sort_index()"
   ]
  },
  {
   "cell_type": "code",
   "execution_count": 42,
   "id": "6d5a8720",
   "metadata": {},
   "outputs": [
    {
     "data": {
      "text/plain": [
       "Including_CpGs_5\n",
       "Association DNAm phenotype | Actual change in methylation| 5%     2\n",
       "Biological relevance |functional annotation | Grouped to genes    1\n",
       "Name: count, dtype: int64"
      ]
     },
     "execution_count": 42,
     "metadata": {},
     "output_type": "execute_result"
    }
   ],
   "source": [
    "mps_table.Including_CpGs_5.value_counts().sort_index()"
   ]
  },
  {
   "cell_type": "code",
   "execution_count": 43,
   "id": "66307e7e",
   "metadata": {},
   "outputs": [
    {
     "data": {
      "text/plain": [
       "Determining_weights_1\n",
       "Discovery EWAS | Count (+1 hyper, -1 hypo, based on linear regression)      4\n",
       "Discovery EWAS | Survival analyses                                          1\n",
       "Discovery EWAS | linear mixed model                                        18\n",
       "Discovery EWAS | linear regression                                         76\n",
       "Machine learning | Gradient boosting machine                                4\n",
       "Machine learning | Naive bayes                                              1\n",
       "Machine learning | Neural net                                               1\n",
       "Machine learning | Random forest                                           10\n",
       "Machine learning | Support vector machine                                 130\n",
       "Penalized regression | ?                                                    1\n",
       "Penalized regression | Elastic net                                        293\n",
       "Penalized regression | Lasso                                                7\n",
       "Penalized regression | Lassosum                                             3\n",
       "Penalized regression | Logistic lasso                                       3\n",
       "Penalized regression | Penalized logistic regression                        4\n",
       "Penalized regression | partial least squares-discriminant analysis          3\n",
       "Penalized regression | random forest                                        3\n",
       "Name: count, dtype: int64"
      ]
     },
     "execution_count": 43,
     "metadata": {},
     "output_type": "execute_result"
    }
   ],
   "source": [
    "mps_table.Determining_weights_1.value_counts().sort_index()"
   ]
  },
  {
   "cell_type": "markdown",
   "id": "b56265f9",
   "metadata": {},
   "source": [
    "### Number of  Publications / MPSs per year"
   ]
  },
  {
   "cell_type": "code",
   "execution_count": 44,
   "id": "edfedf8b",
   "metadata": {},
   "outputs": [],
   "source": [
    "plt.rcParams[\"font.family\"] = \"sans-serif\"\n",
    "plt.rcParams[\"font.sans-serif\"] = [\"Verdana\"]"
   ]
  },
  {
   "cell_type": "code",
   "execution_count": 45,
   "id": "e5583886",
   "metadata": {},
   "outputs": [
    {
     "name": "stderr",
     "output_type": "stream",
     "text": [
      "/var/folders/f9/fknlq25n23l74zmhg8zbckx80000gn/T/ipykernel_50257/1660861394.py:3: UserWarning: set_ticklabels() should only be used with a fixed number of ticks, i.e. after set_ticks() or using a FixedLocator.\n",
      "  f0.set_xticklabels([int(x) for x in f0.get_xticks()], rotation=60)\n"
     ]
    },
    {
     "data": {
      "image/png": "[encoded data removed]",
      "text/plain": [
       "<Figure size 1000x500 with 1 Axes>"
      ]
     },
     "metadata": {},
     "output_type": "display_data"
    }
   ],
   "source": [
    "f0 = mps_table.groupby('Year').Title.nunique().plot(figsize=(10, 5), marker ='o', ms = 9, color='royalblue')\n",
    "\n",
    "f0.set_xticklabels([int(x) for x in f0.get_xticks()], rotation=60)\n",
    "\n",
    "f0.set_yticks([1]+[int(x) for x in range(5, 26, 5)])\n",
    "\n",
    "# Set bin edges (1-year bins)\n",
    "years = mps_table['Year']\n",
    "min_year, max_year = years.min(), years.max()\n",
    "\n",
    "# Histogram counts\n",
    "counts, bin_edges = np.histogram(years, bins=np.arange(mps_table['Year'].min(), \n",
    "                                                       mps_table['Year'].max() + 2))  # +2 to include the last year\n",
    "\n",
    "# Scale counts to match 0-30 range to fit it on the same plot\n",
    "max_count = counts.max()\n",
    "scaled_counts = counts * (30 / max_count) if max_count > 0 else counts\n",
    "\n",
    "nmps_bars = f0.bar(bin_edges[:-1],  # center the bars\n",
    "                   scaled_counts,\n",
    "                   width=0.4, color='pink', alpha=0.5, edgecolor=None, zorder=1, align='center')\n",
    "\n",
    "for bar, count in zip(nmps_bars, counts):\n",
    "\n",
    "    # Annotate each bar with the original count\n",
    "    f0.text(bar.get_x() + bar.get_width()/2, \n",
    "            -3, # bar.get_height()+5, \n",
    "            str(count),\n",
    "            ha='center', va='bottom', color='crimson', fontsize=10, \n",
    "            bbox=dict(boxstyle='round,pad=0.3',    # Rounded corners with padding\n",
    "                      facecolor='pink', edgecolor='none', alpha=0.5))\n",
    "    \n",
    "f0.text(2025, -3, '*Number of MPSs', ha='center', va='bottom', fontsize=10, color='crimson', fontdict={'fontstyle':'italic'})\n",
    "\n",
    "# Remove axes spines\n",
    "for spine in f0.spines.values():\n",
    "    spine.set_visible(False)\n",
    "\n",
    "# Adjust y-axis \n",
    "f0.set_ylim(-10, 35)\n",
    "f0.tick_params(axis='y', length=0, labelcolor='royalblue', labelsize=10)\n",
    "f0.set_ylabel('Number of publications', fontsize=12, fontweight='bold', labelpad=10)\n",
    "f0.grid(axis='y', color='royalblue', alpha=0.3)\n",
    "\n",
    "# Adjust x-axis\n",
    "f0.tick_params(axis='x', length=10, width=1, direction='in', color='black')\n",
    "f0.hlines(-8.4, 2016.999, 2024, colors='black', linewidth=1)\n",
    "f0.set_xlabel('Year', fontsize=12, fontweight='bold', labelpad=10)\n",
    "\n",
    "f0.figure.savefig(f'../static_output/Figure0_MPS-pubs-per-year.png', dpi=300, bbox_inches='tight')"
   ]
  },
  {
   "cell_type": "markdown",
   "id": "81dfd595",
   "metadata": {},
   "source": [
    "### Publication network graph "
   ]
  },
  {
   "cell_type": "code",
   "execution_count": 46,
   "id": "7c1d77a9",
   "metadata": {},
   "outputs": [],
   "source": [
    "import ast\n",
    "import networkx as nx\n",
    "import pickle"
   ]
  },
  {
   "cell_type": "code",
   "execution_count": 47,
   "id": "ed7e1d62",
   "metadata": {},
   "outputs": [],
   "source": [
    "G = nx.Graph()\n",
    "\n",
    "for pub in pub_table.Title:             \n",
    "    title = f\"Paper/{pub.replace(':', ' ')}\"\n",
    "    authors = ast.literal_eval(pub_table.loc[pub_table.Title==pub, 'Author_list'].iloc[0])\n",
    "    for author in authors:\n",
    "        author = f\"Author/{author.replace('. ', '.')}\" # remove space between multiple initials   \n",
    "        G.add_edge(author, title)\n"
   ]
  },
  {
   "cell_type": "code",
   "execution_count": 48,
   "id": "bdf889d1",
   "metadata": {},
   "outputs": [],
   "source": [
    "# Estimate optimal node positions ----------------------------------------------------\n",
    "# pos = nx.spring_layout(G, seed=3108, k=1000)\n",
    "pos = nx.fruchterman_reingold_layout(G, seed=3108, k=0.05)\n",
    "\n",
    "# Assign 'pos' attribute to the nodes in the graph\n",
    "for node in G.nodes:\n",
    "    G.nodes[node]['pos'] = pos[node]\n",
    "\n",
    "# G.nodes\n"
   ]
  },
  {
   "cell_type": "code",
   "execution_count": 49,
   "id": "6f998bbf",
   "metadata": {},
   "outputs": [],
   "source": [
    "# Save the graph object to a file since it takes a few seconds to compute on the fly \n",
    "with open(f'{assets_directory}/Publications_network.pkl', 'wb') as file:\n",
    "    pickle.dump(G, file)"
   ]
  },
  {
   "cell_type": "code",
   "execution_count": 50,
   "id": "3e34d2c9",
   "metadata": {},
   "outputs": [],
   "source": [
    "with open(f'{assets_directory}/Publications_network.pkl', 'rb') as file:\n",
    "    G = pickle.load(file)"
   ]
  },
  {
   "cell_type": "markdown",
   "id": "4456be9e",
   "metadata": {},
   "source": [
    "### Merge base and target info "
   ]
  },
  {
   "cell_type": "code",
   "execution_count": 51,
   "id": "d34483c6",
   "metadata": {},
   "outputs": [
    {
     "name": "stdout",
     "output_type": "stream",
     "text": [
      "(283, 39) (170, 30)\n"
     ]
    }
   ],
   "source": [
    "d_base = pd.read_csv(f'{assets_directory}MPS_base_samples_cleaned.csv')\n",
    "\n",
    "d_targ = mps_table.loc[mps_table['Based on'] != 'Only phenotype',]\n",
    "\n",
    "print(d_targ.shape, d_base.shape)"
   ]
  },
  {
   "cell_type": "code",
   "execution_count": 52,
   "id": "59cbee54",
   "metadata": {},
   "outputs": [
    {
     "name": "stdout",
     "output_type": "stream",
     "text": [
      "7 MPSs, from 2 publications have multiple base samples.\n",
      "Based on\n",
      "EWAS summary statistics    7\n",
      "Name: count, dtype: int64\n",
      "Removing them for now\n",
      "Multiple_identifier_base\n",
      "Xu (2021) - Shared DNA methylation signatures in; Reese (2019) - Epigenome-wide meta-analysis of; Qi (2020) - Nasal DNA methylation profiling of               6\n",
      "Liu (2018) - A DNA methylation biomarker of; Dugue (2019) - Alcohol consumption is associated with; Carreras-Gallo (2023) - Impact of tobacco, alcohol, and    1\n",
      "Name: count, dtype: int64\n"
     ]
    },
    {
     "data": {
      "text/plain": [
       "(276, 39)"
      ]
     },
     "execution_count": 52,
     "metadata": {},
     "output_type": "execute_result"
    }
   ],
   "source": [
    "multi_base = d_targ.loc[d_targ.Identifier_base == \"Multiple\",]\n",
    "\n",
    "multi_base_pubs = multi_base.Title.unique()\n",
    "print(multi_base.shape[0], 'MPSs, from', len(multi_base_pubs), 'publications have multiple base samples.')\n",
    "\n",
    "print(multi_base['Based on'].value_counts())\n",
    "\n",
    "# TMP: remove them for now \n",
    "print('Removing them for now')\n",
    "print(d_targ['Multiple_identifier_base'].value_counts())\n",
    "\n",
    "d_targ = d_targ.loc[d_targ.Identifier_base != \"Multiple\",]\n",
    "\n",
    "d_targ.shape"
   ]
  },
  {
   "cell_type": "code",
   "execution_count": 53,
   "id": "c9a3b79c",
   "metadata": {},
   "outputs": [
    {
     "name": "stdout",
     "output_type": "stream",
     "text": [
      "162 matching ids\n",
      "\n",
      "4 unique to base\n",
      "Carreras-Gallo (2023) - Impact of tobacco, alcohol, andAlcohol consumption\n",
      "Qi (2020) - Nasal DNA methylation profiling ofAsthma and rihinitis\n",
      "Liu (2018) - A DNA methylation biomarker ofAlcohol consumption\n",
      "Dugue (2019) - Alcohol consumption is associated withAlcohol consumption\n",
      "0 unique to targ\n"
     ]
    }
   ],
   "source": [
    "d_base['MPS_id'] = d_base['Identifier'] + d_base['Phenotype']\n",
    "d_targ['MPS_id'] = d_targ['Identifier_base'] + d_targ['Phenotype']\n",
    "# d_targ = d_targ.rename(columns={'Identifier_base': 'Identifier'})\n",
    "\n",
    "common_ids = set(d_base['MPS_id']) & set(d_targ['MPS_id'])\n",
    "unique_to_base = set(d_base['MPS_id']) - set(d_targ['MPS_id'])\n",
    "unique_to_targ = set(d_targ['MPS_id']) - set(d_base['MPS_id'])\n",
    "\n",
    "print(len(common_ids), \"matching ids\\n\")\n",
    "print(len(unique_to_base), \"unique to base\")\n",
    "[print(p) for p in unique_to_base]\n",
    "print(len(unique_to_targ), \"unique to targ\")\n",
    "# print(unique_to_targ)\n",
    "\n",
    "# d_targ.loc[~d_targ.Multiple_identifier_base.isna(),]"
   ]
  },
  {
   "cell_type": "code",
   "execution_count": 54,
   "id": "2b012920",
   "metadata": {},
   "outputs": [
    {
     "name": "stdout",
     "output_type": "stream",
     "text": [
      "['Abstract', 'Ancestry - base', 'Ancestry - targ', 'Array - base', 'Array - targ', 'Author', 'Author_list', 'Base use', 'Based on - base', 'Based on - targ', 'Category - base', 'Category - targ', 'Comparison - base', 'Comparison - targ', 'Covariates - base', 'Covariates - targ', 'DOI', 'Date', 'Determining_weights_1 - base', 'Determining_weights_1 - targ', 'Developmental period - base', 'Developmental period - targ', 'Identifier - base', 'Identifier - targ', 'Identifier_base - base', 'Identifier_base - targ', 'Including_CpGs_1 - base', 'Including_CpGs_1 - targ', 'Including_CpGs_2 - base', 'Including_CpGs_2 - targ', 'Including_CpGs_3 - base', 'Including_CpGs_3 - targ', 'Including_CpGs_4 - base', 'Including_CpGs_4 - targ', 'Including_CpGs_5 - base', 'Including_CpGs_5 - targ', 'Independent_test', 'Independent_validation', 'Journal', 'Keywords', 'Link', 'MPS_id', 'Missing_value_note - base', 'Missing_value_note - targ', 'Multiple_identifier_base - base', 'Multiple_identifier_base - targ', 'Phenotype - base', 'Phenotype - targ', 'Publication type', 'Reflect_phenotype - base', 'Reflect_phenotype - targ', 'Sample size - base', 'Sample size - targ', 'Sample type - base', 'Sample type - targ', 'Sample_overlap_target_base - base', 'Sample_overlap_target_base - targ', 'Tissue - base', 'Tissue - targ', 'Title', 'Train_test', 'Train_validate', 'URL', 'Year', 'n Cases - base', 'n Cases - targ', 'n Controls - base', 'n Controls - targ', 'n CpGs - base', 'n CpGs - targ']\n"
     ]
    }
   ],
   "source": [
    "d_targ_base = d_targ.merge(d_base, on='MPS_id', how='left', suffixes=[' - targ',' - base'])\n",
    "\n",
    "print(sorted(d_targ_base.columns))\n",
    "d_targ_base.shape\n",
    "\n",
    "# Save cleaned data ------------------------------------------------------------------\n",
    "d_targ_base.to_csv(f'{assets_directory}MPS_base_target_cleaned.csv', index=False)"
   ]
  },
  {
   "cell_type": "code",
   "execution_count": 55,
   "id": "350e5a21",
   "metadata": {},
   "outputs": [
    {
     "data": {
      "text/plain": [
       "Index(['Phenotype', 'Category', 'Author', 'Year', 'Title', 'DOI', 'n CpGs',\n",
       "       'Based on', 'Sample size', 'n Cases', 'n Controls', 'Sample type',\n",
       "       'Developmental period', 'Tissue', 'Array', 'Ancestry', 'Identifier',\n",
       "       'Publication type', 'Journal', 'Keywords', 'Abstract', 'Author_list',\n",
       "       'Date', 'URL', 'Including_CpGs_1', 'Including_CpGs_2',\n",
       "       'Including_CpGs_3', 'Including_CpGs_4', 'Including_CpGs_5',\n",
       "       'Identifier_base', 'Multiple_identifier_base',\n",
       "       'Sample_overlap_target_base', 'Determining_weights_1', 'Train_test',\n",
       "       'Independent_validation', 'Comparison', 'Missing_value_note',\n",
       "       'Reflect_phenotype', 'Covariates'],\n",
       "      dtype='object')"
      ]
     },
     "execution_count": 55,
     "metadata": {},
     "output_type": "execute_result"
    }
   ],
   "source": [
    "mps_table.columns"
   ]
  }
 ],
 "metadata": {
  "kernelspec": {
   "display_name": "demetra_venv",
   "language": "python",
   "name": "python3"
  },
  "language_info": {
   "codemirror_mode": {
    "name": "ipython",
    "version": 3
   },
   "file_extension": ".py",
   "mimetype": "text/x-python",
   "name": "python",
   "nbconvert_exporter": "python",
   "pygments_lexer": "ipython3",
   "version": "3.9.1"
  }
 },
 "nbformat": 4,
 "nbformat_minor": 5
}
