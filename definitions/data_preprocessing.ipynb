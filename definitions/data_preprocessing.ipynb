{
 "cells": [
  {
   "cell_type": "markdown",
   "id": "efd73777-783a-4f41-a3a4-bd29b7460112",
   "metadata": {},
   "source": [
    "# DeMetRA - literature review\n",
    "\n",
    "This the preprocessing pipeline for the metadata included in the DeMetRA review. Inputs to the pipeline are: \n",
    "- The `MPS_review_systematic_DATE.xlsx` file, which contains the metadata manually extracted by Isabel \n",
    "- The bibliography file, to supplement more information about the publications included in the review."
   ]
  },
  {
   "cell_type": "code",
   "execution_count": 3,
   "id": "1f888c4b",
   "metadata": {},
   "outputs": [],
   "source": [
    "import pandas as pd\n",
    "assets_directory = '../assets/'"
   ]
  },
  {
   "cell_type": "markdown",
   "id": "56cff8ed",
   "metadata": {},
   "source": [
    "In the file created by Isabel, there are 3 sheets:\n",
    "1. The main list of MPSs / papers included in the review\n",
    "2. The base sample references papers for summary statistics \n",
    "3. The base sample references papers for validated algorithms \n"
   ]
  },
  {
   "cell_type": "code",
   "execution_count": null,
   "id": "e4d4a974-cbdb-43da-af7b-582845b4c988",
   "metadata": {},
   "outputs": [
    {
     "name": "stderr",
     "output_type": "stream",
     "text": [
      "/Users/Serena/Desktop/DEMETRA/DeMetRA-review/demetra_venv/lib/python3.9/site-packages/openpyxl/worksheet/_reader.py:329: UserWarning: Data Validation extension is not supported and will be removed\n",
      "  warn(msg)\n",
      "/Users/Serena/Desktop/DEMETRA/DeMetRA-review/demetra_venv/lib/python3.9/site-packages/openpyxl/worksheet/_reader.py:329: UserWarning: Data Validation extension is not supported and will be removed\n",
      "  warn(msg)\n"
     ]
    }
   ],
   "source": [
    "sys_review_file = 'MPS_review_systematic_2025-05-06.xlsx' # 'MPS_review_systematic_2025-02-14.xlsx'\n",
    "\n",
    "lit, base_ss, base_va = pd.read_excel(f'{assets_directory}{sys_review_file}', sheet_name=[0, 1, 2]).values()\n",
    "\n",
    "# lit = lit.loc[lit.Include == 'Yes'].drop('Include', axis=1) # All included\n",
    "\n",
    "# print(lit.shape, '\\n', list(lit.columns))\n",
    "# print(base_ss.shape, '\\n', list(base_ss.columns))\n",
    "# print(base_va.shape, '\\n', list(base_va.columns))\n"
   ]
  },
  {
   "cell_type": "markdown",
   "id": "339681b9",
   "metadata": {},
   "source": [
    "### STEP 1 - Data cleaning"
   ]
  },
  {
   "cell_type": "code",
   "execution_count": null,
   "id": "ff8019b0-3a9d-4e86-b6fc-87b3e65eeb5b",
   "metadata": {},
   "outputs": [],
   "source": [
    "from dateutil.parser import parse as parse_date"
   ]
  },
  {
   "cell_type": "markdown",
   "id": "c14dc6c7-988f-4e57-bcc2-2745f57d26c6",
   "metadata": {},
   "source": [
    "#### Data inspection and cleaning"
   ]
  },
  {
   "cell_type": "code",
   "execution_count": 27,
   "id": "e35eac17-3145-4027-8ad6-a56e07c9690c",
   "metadata": {
    "collapsed": true,
    "jupyter": {
     "outputs_hidden": true,
     "source_hidden": true
    },
    "scrolled": true
   },
   "outputs": [
    {
     "ename": "NameError",
     "evalue": "name 'lit' is not defined",
     "output_type": "error",
     "traceback": [
      "\u001b[0;31m---------------------------------------------------------------------------\u001b[0m",
      "\u001b[0;31mNameError\u001b[0m                                 Traceback (most recent call last)",
      "Cell \u001b[0;32mIn[27], line 7\u001b[0m\n\u001b[1;32m      4\u001b[0m     \u001b[38;5;28mprint\u001b[39m(allobs\u001b[38;5;241m.\u001b[39mvalue_counts(dropna\u001b[38;5;241m=\u001b[39m\u001b[38;5;28;01mFalse\u001b[39;00m))\n\u001b[1;32m      6\u001b[0m \u001b[38;5;28;01mfor\u001b[39;00m v \u001b[38;5;129;01min\u001b[39;00m  [\u001b[38;5;124m'\u001b[39m\u001b[38;5;124mTissue\u001b[39m\u001b[38;5;124m'\u001b[39m, \u001b[38;5;124m'\u001b[39m\u001b[38;5;124mArray\u001b[39m\u001b[38;5;124m'\u001b[39m,\u001b[38;5;124m'\u001b[39m\u001b[38;5;124mAncestry\u001b[39m\u001b[38;5;124m'\u001b[39m,\u001b[38;5;124m'\u001b[39m\u001b[38;5;124mDevelopmental_period\u001b[39m\u001b[38;5;124m'\u001b[39m]:\n\u001b[0;32m----> 7\u001b[0m     \u001b[43mchecklvl\u001b[49m\u001b[43m(\u001b[49m\u001b[43mv\u001b[49m\u001b[43m)\u001b[49m\n\u001b[1;32m      8\u001b[0m     \u001b[38;5;28mprint\u001b[39m(\u001b[38;5;124m'\u001b[39m\u001b[38;5;130;01m\\n\u001b[39;00m\u001b[38;5;124m'\u001b[39m)\n\u001b[1;32m      9\u001b[0m     \u001b[38;5;28;01mtry\u001b[39;00m: \n",
      "Cell \u001b[0;32mIn[27], line 3\u001b[0m, in \u001b[0;36mchecklvl\u001b[0;34m(var)\u001b[0m\n\u001b[1;32m      2\u001b[0m \u001b[38;5;28;01mdef\u001b[39;00m \u001b[38;5;21mchecklvl\u001b[39m(var):\n\u001b[0;32m----> 3\u001b[0m     allobs \u001b[38;5;241m=\u001b[39m pd\u001b[38;5;241m.\u001b[39mconcat([\u001b[43mlit\u001b[49m[var], base_ss[var], base_va[var]])\n\u001b[1;32m      4\u001b[0m     \u001b[38;5;28mprint\u001b[39m(allobs\u001b[38;5;241m.\u001b[39mvalue_counts(dropna\u001b[38;5;241m=\u001b[39m\u001b[38;5;28;01mFalse\u001b[39;00m))\n",
      "\u001b[0;31mNameError\u001b[0m: name 'lit' is not defined"
     ]
    }
   ],
   "source": [
    "# Inspect values \n",
    "def checklvl(var):\n",
    "    allobs = pd.concat([lit[var], base_ss[var], base_va[var]])\n",
    "    print(allobs.value_counts(dropna=False))\n",
    "\n",
    "for v in  ['Tissue', 'Array','Ancestry','Developmental_period']:\n",
    "    checklvl(v)\n",
    "    print('\\n')\n",
    "    try: \n",
    "        checklvl(f'Multiple_{v.lower()}')\n",
    "        print('\\n')\n",
    "    except:\n",
    "        pass\n",
    "\n",
    "# NOTE: this is to guide manual cleaning of the excel file!"
   ]
  },
  {
   "cell_type": "code",
   "execution_count": null,
   "id": "d6616b2e-205f-4f33-aa09-ea8b381fb2d9",
   "metadata": {},
   "outputs": [],
   "source": [
    "# Recode \"multiple\" categories\n",
    "def replace_multiples(df):\n",
    "\n",
    "    for var in ['Tissue', 'Array', 'Ancestry']:\n",
    "    \n",
    "        if var == 'Ancestry':\n",
    "            df.loc[df[var] == 'Multiple', var] = 'Mixed'\n",
    "    \n",
    "        else:\n",
    "            df.loc[df[var] == 'Multiple', var] = [f'Multiple ({values})' for values in df.loc[df[var] == 'Multiple', f'Multiple_{var.lower()}']]\n",
    "        \n",
    "        # print(df[var].value_counts(), '\\n')\n",
    "    \n",
    "    return df\n",
    "\n",
    "lit = replace_multiples(lit)"
   ]
  },
  {
   "cell_type": "code",
   "execution_count": null,
   "id": "fca1748c",
   "metadata": {},
   "outputs": [
    {
     "data": {
      "text/html": [
       "<div>\n",
       "<style scoped>\n",
       "    .dataframe tbody tr th:only-of-type {\n",
       "        vertical-align: middle;\n",
       "    }\n",
       "\n",
       "    .dataframe tbody tr th {\n",
       "        vertical-align: top;\n",
       "    }\n",
       "\n",
       "    .dataframe thead th {\n",
       "        text-align: right;\n",
       "    }\n",
       "</style>\n",
       "<table border=\"1\" class=\"dataframe\">\n",
       "  <thead>\n",
       "    <tr style=\"text-align: right;\">\n",
       "      <th></th>\n",
       "      <th>Identifier</th>\n",
       "      <th>Type</th>\n",
       "      <th>Author</th>\n",
       "      <th>Year</th>\n",
       "      <th>Title</th>\n",
       "      <th>Journal</th>\n",
       "      <th>DOI</th>\n",
       "      <th>Include</th>\n",
       "      <th>pdf</th>\n",
       "      <th>Sample_size_total</th>\n",
       "      <th>...</th>\n",
       "      <th>Including_CpGs_4</th>\n",
       "      <th>Including_CpGs_5</th>\n",
       "      <th>Number of CpGs</th>\n",
       "      <th>Determining_weights_1</th>\n",
       "      <th>Train_test</th>\n",
       "      <th>Independent_validation</th>\n",
       "      <th>Comparison</th>\n",
       "      <th>Missing_value_note</th>\n",
       "      <th>Reflect_phenotype</th>\n",
       "      <th>Link</th>\n",
       "    </tr>\n",
       "  </thead>\n",
       "  <tbody>\n",
       "    <tr>\n",
       "      <th>0</th>\n",
       "      <td>1</td>\n",
       "      <td>Journal Article</td>\n",
       "      <td>S. Abrishamcar; J. Chen; D. Feil; A. Kilanowsk...</td>\n",
       "      <td>2022</td>\n",
       "      <td>DNA methylation as a potential mediator of the...</td>\n",
       "      <td>Transl Psychiatry</td>\n",
       "      <td>10.1038/s41398-022-02195-3</td>\n",
       "      <td>Yes</td>\n",
       "      <td>Abrishamcar (2022) - DNA methylation as a pote...</td>\n",
       "      <td>262</td>\n",
       "      <td>...</td>\n",
       "      <td>NaN</td>\n",
       "      <td>NaN</td>\n",
       "      <td>Not reported</td>\n",
       "      <td>Discovery EWAS | linear regression</td>\n",
       "      <td>No</td>\n",
       "      <td>No</td>\n",
       "      <td>No</td>\n",
       "      <td>Not reported</td>\n",
       "      <td>Reported | Explained variance | R = 0.0006</td>\n",
       "      <td>http://dx.doi.org/10.1038/s41398-022-02195-3_x...</td>\n",
       "    </tr>\n",
       "    <tr>\n",
       "      <th>1</th>\n",
       "      <td>1</td>\n",
       "      <td>Journal Article</td>\n",
       "      <td>S. Abrishamcar; J. Chen; D. Feil; A. Kilanowsk...</td>\n",
       "      <td>2022</td>\n",
       "      <td>DNA methylation as a potential mediator of the...</td>\n",
       "      <td>Transl Psychiatry</td>\n",
       "      <td>10.1038/s41398-022-02195-3</td>\n",
       "      <td>Yes</td>\n",
       "      <td>Abrishamcar (2022) - DNA methylation as a pote...</td>\n",
       "      <td>262</td>\n",
       "      <td>...</td>\n",
       "      <td>NaN</td>\n",
       "      <td>NaN</td>\n",
       "      <td>Not reported</td>\n",
       "      <td>Discovery EWAS | linear regression</td>\n",
       "      <td>No</td>\n",
       "      <td>No</td>\n",
       "      <td>No</td>\n",
       "      <td>Not reported</td>\n",
       "      <td>Reported | Explained variance | R2 = 0.23</td>\n",
       "      <td>http://dx.doi.org/10.1038/s41398-022-02195-3_x...</td>\n",
       "    </tr>\n",
       "    <tr>\n",
       "      <th>2</th>\n",
       "      <td>4</td>\n",
       "      <td>Journal Article</td>\n",
       "      <td>R. Alfano; D. Zugna; H. Barros; M. Bustamante;...</td>\n",
       "      <td>2023</td>\n",
       "      <td>Cord blood epigenome-wide meta-analysis in six...</td>\n",
       "      <td>BMC Med</td>\n",
       "      <td>10.1186/s12916-022-02685-7</td>\n",
       "      <td>Yes</td>\n",
       "      <td>Alfano (2023) - Cord blood epigenome-wide meta</td>\n",
       "      <td>2003</td>\n",
       "      <td>...</td>\n",
       "      <td>NaN</td>\n",
       "      <td>NaN</td>\n",
       "      <td>140</td>\n",
       "      <td>Machine learning | Random forest</td>\n",
       "      <td>Split 20/80%</td>\n",
       "      <td>No</td>\n",
       "      <td>No</td>\n",
       "      <td>Imputed | missForest</td>\n",
       "      <td>Reported | AUC | 0.61 (95% CI= 0.55–0.68)</td>\n",
       "      <td>https://www.embase.com/search/results?subactio...</td>\n",
       "    </tr>\n",
       "  </tbody>\n",
       "</table>\n",
       "<p>3 rows × 40 columns</p>\n",
       "</div>"
      ],
      "text/plain": [
       "   Identifier             Type  \\\n",
       "0           1  Journal Article   \n",
       "1           1  Journal Article   \n",
       "2           4  Journal Article   \n",
       "\n",
       "                                              Author  Year  \\\n",
       "0  S. Abrishamcar; J. Chen; D. Feil; A. Kilanowsk...  2022   \n",
       "1  S. Abrishamcar; J. Chen; D. Feil; A. Kilanowsk...  2022   \n",
       "2  R. Alfano; D. Zugna; H. Barros; M. Bustamante;...  2023   \n",
       "\n",
       "                                               Title            Journal  \\\n",
       "0  DNA methylation as a potential mediator of the...  Transl Psychiatry   \n",
       "1  DNA methylation as a potential mediator of the...  Transl Psychiatry   \n",
       "2  Cord blood epigenome-wide meta-analysis in six...            BMC Med   \n",
       "\n",
       "                          DOI Include  \\\n",
       "0  10.1038/s41398-022-02195-3     Yes   \n",
       "1  10.1038/s41398-022-02195-3     Yes   \n",
       "2  10.1186/s12916-022-02685-7     Yes   \n",
       "\n",
       "                                                 pdf Sample_size_total  ...  \\\n",
       "0  Abrishamcar (2022) - DNA methylation as a pote...               262  ...   \n",
       "1  Abrishamcar (2022) - DNA methylation as a pote...               262  ...   \n",
       "2     Alfano (2023) - Cord blood epigenome-wide meta              2003  ...   \n",
       "\n",
       "  Including_CpGs_4 Including_CpGs_5 Number of CpGs  \\\n",
       "0              NaN              NaN   Not reported   \n",
       "1              NaN              NaN   Not reported   \n",
       "2              NaN              NaN            140   \n",
       "\n",
       "                Determining_weights_1    Train_test Independent_validation  \\\n",
       "0  Discovery EWAS | linear regression            No                     No   \n",
       "1  Discovery EWAS | linear regression            No                     No   \n",
       "2    Machine learning | Random forest  Split 20/80%                     No   \n",
       "\n",
       "  Comparison    Missing_value_note  \\\n",
       "0         No          Not reported   \n",
       "1         No          Not reported   \n",
       "2         No  Imputed | missForest   \n",
       "\n",
       "                            Reflect_phenotype  \\\n",
       "0  Reported | Explained variance | R = 0.0006   \n",
       "1   Reported | Explained variance | R2 = 0.23   \n",
       "2   Reported | AUC | 0.61 (95% CI= 0.55–0.68)   \n",
       "\n",
       "                                                Link  \n",
       "0  http://dx.doi.org/10.1038/s41398-022-02195-3_x...  \n",
       "1  http://dx.doi.org/10.1038/s41398-022-02195-3_x...  \n",
       "2  https://www.embase.com/search/results?subactio...  \n",
       "\n",
       "[3 rows x 40 columns]"
      ]
     },
     "execution_count": 6,
     "metadata": {},
     "output_type": "execute_result"
    }
   ],
   "source": [
    "lit.head(3)"
   ]
  },
  {
   "cell_type": "markdown",
   "id": "8f61a6d7",
   "metadata": {},
   "source": [
    "####  Bibliography file\n",
    "I additionally parse the bibliography file for publication dates, abstracts and keywords"
   ]
  },
  {
   "cell_type": "code",
   "execution_count": null,
   "id": "b66abae5",
   "metadata": {},
   "outputs": [
    {
     "name": "stdout",
     "output_type": "stream",
     "text": [
      "(323, 9)\n"
     ]
    },
    {
     "data": {
      "text/html": [
       "<div>\n",
       "<style scoped>\n",
       "    .dataframe tbody tr th:only-of-type {\n",
       "        vertical-align: middle;\n",
       "    }\n",
       "\n",
       "    .dataframe tbody tr th {\n",
       "        vertical-align: top;\n",
       "    }\n",
       "\n",
       "    .dataframe thead th {\n",
       "        text-align: right;\n",
       "    }\n",
       "</style>\n",
       "<table border=\"1\" class=\"dataframe\">\n",
       "  <thead>\n",
       "    <tr style=\"text-align: right;\">\n",
       "      <th></th>\n",
       "      <th>Author_list</th>\n",
       "      <th>Year</th>\n",
       "      <th>Title</th>\n",
       "      <th>Journal</th>\n",
       "      <th>Keywords</th>\n",
       "      <th>Abstract</th>\n",
       "      <th>Date</th>\n",
       "      <th>DOI</th>\n",
       "      <th>URL</th>\n",
       "    </tr>\n",
       "  </thead>\n",
       "  <tbody>\n",
       "    <tr>\n",
       "      <th>0</th>\n",
       "      <td>[Abrishamcar, S., Chen, J., Feil, D., Kilanows...</td>\n",
       "      <td>2022</td>\n",
       "      <td>DNA methylation as a potential mediator of the...</td>\n",
       "      <td>Transl Psychiatry</td>\n",
       "      <td>NaN</td>\n",
       "      <td>Prenatal tobacco exposure (PTE) and prenatal a...</td>\n",
       "      <td>09 30</td>\n",
       "      <td>10.1038/s41398-022-02195-3</td>\n",
       "      <td>http://dx.doi.org/10.1038/s41398-022-02195-3</td>\n",
       "    </tr>\n",
       "    <tr>\n",
       "      <th>1</th>\n",
       "      <td>[Ács, O., Péterfia, B., Hollósi, P., Luczay, A...</td>\n",
       "      <td>2017</td>\n",
       "      <td>Methylation Status of CYP27B1 and IGF2 Correla...</td>\n",
       "      <td>Obes Facts</td>\n",
       "      <td>[25 hydroxyvitamin D, bisulfite, cytochrome P4...</td>\n",
       "      <td>Objective: Worldwide increasing childhood obes...</td>\n",
       "      <td>2017-08-16</td>\n",
       "      <td>10.1159/000477462</td>\n",
       "      <td>https://www.embase.com/search/results?subactio...</td>\n",
       "    </tr>\n",
       "    <tr>\n",
       "      <th>2</th>\n",
       "      <td>[Adcock, R., Nedjai, B., Lorincz, A. T., Scibi...</td>\n",
       "      <td>2022</td>\n",
       "      <td>DNA methylation testing with S5 for triage of ...</td>\n",
       "      <td>Int J Cancer</td>\n",
       "      <td>[adolescent, adult, aged, article, biopsy, can...</td>\n",
       "      <td>Methylation of host and viral genes is promisi...</td>\n",
       "      <td>2022-06-27</td>\n",
       "      <td>10.1002/ijc.34050</td>\n",
       "      <td>https://www.embase.com/search/results?subactio...</td>\n",
       "    </tr>\n",
       "  </tbody>\n",
       "</table>\n",
       "</div>"
      ],
      "text/plain": [
       "                                         Author_list  Year  \\\n",
       "0  [Abrishamcar, S., Chen, J., Feil, D., Kilanows...  2022   \n",
       "1  [Ács, O., Péterfia, B., Hollósi, P., Luczay, A...  2017   \n",
       "2  [Adcock, R., Nedjai, B., Lorincz, A. T., Scibi...  2022   \n",
       "\n",
       "                                               Title            Journal  \\\n",
       "0  DNA methylation as a potential mediator of the...  Transl Psychiatry   \n",
       "1  Methylation Status of CYP27B1 and IGF2 Correla...         Obes Facts   \n",
       "2  DNA methylation testing with S5 for triage of ...       Int J Cancer   \n",
       "\n",
       "                                            Keywords  \\\n",
       "0                                                NaN   \n",
       "1  [25 hydroxyvitamin D, bisulfite, cytochrome P4...   \n",
       "2  [adolescent, adult, aged, article, biopsy, can...   \n",
       "\n",
       "                                            Abstract        Date  \\\n",
       "0  Prenatal tobacco exposure (PTE) and prenatal a...       09 30   \n",
       "1  Objective: Worldwide increasing childhood obes...  2017-08-16   \n",
       "2  Methylation of host and viral genes is promisi...  2022-06-27   \n",
       "\n",
       "                          DOI  \\\n",
       "0  10.1038/s41398-022-02195-3   \n",
       "1           10.1159/000477462   \n",
       "2           10.1002/ijc.34050   \n",
       "\n",
       "                                                 URL  \n",
       "0       http://dx.doi.org/10.1038/s41398-022-02195-3  \n",
       "1  https://www.embase.com/search/results?subactio...  \n",
       "2  https://www.embase.com/search/results?subactio...  "
      ]
     },
     "execution_count": 7,
     "metadata": {},
     "output_type": "execute_result"
    }
   ],
   "source": [
    "# Parsing bibliography file (this shoud be a RIS or TXT file in RIS format)\n",
    "\n",
    "ris_tags = {\n",
    "    'TY': 'Reference Type',\n",
    "    'AU': 'Author_list',\n",
    "    'PY': 'Year',\n",
    "    'TI': 'Title', # 'T1\n",
    "    'T2': 'Journal', # 'JO'\n",
    "    'J2': 'Journal', # For pre-prints \n",
    "    'AB': 'Abstract',\n",
    "    'DO': 'DOI',\n",
    "    'UR': 'URL',\n",
    "    'KW': 'Keywords',\n",
    "    'DA': 'Date'\n",
    "}\n",
    "\n",
    "def parse_ris(file_path):\n",
    "    with open(file_path, 'r', encoding='utf-8') as file:\n",
    "        references = []\n",
    "\n",
    "        current_entry = {}\n",
    "        current_tag = None\n",
    "\n",
    "        for line in file:\n",
    "            if not line.strip():  # Skip empty lines\n",
    "                continue\n",
    "            elif line.strip() == 'ER  -':  # ER marks the end of the record\n",
    "                # Append reference and reset\n",
    "                references.append(current_entry)\n",
    "                current_entry = {}\n",
    "                current_tag = None \n",
    "            else:\n",
    "                tag = line[:5]\n",
    "\n",
    "                if tag in [f'{t}  -' for t in ris_tags.keys()]:\n",
    "                    current_tag = tag\n",
    "\n",
    "                    value = line[5:].strip()\n",
    "                    key = ris_tags[tag[:2]]\n",
    "\n",
    "                    if key in current_entry:\n",
    "                        if isinstance(current_entry[key], list):\n",
    "                            current_entry[key].append(value)\n",
    "                        else:\n",
    "                            current_entry[key] = [current_entry[key], value]\n",
    "                    else:\n",
    "                        current_entry[key] = value\n",
    "\n",
    "                # Handle dates that span multiple lines\n",
    "                elif tag in [f'{y}-' for y in range(2000, 2025)]:\n",
    "                    value = line.strip()\n",
    "                    if 'Date' not in current_entry:\n",
    "                        current_entry['Date'] = value # Only keep first occurrance (i.e. publication date)\n",
    "\n",
    "                # Handle keywords that span multiple lines\n",
    "                else:\n",
    "                    if current_tag == 'KW  -':\n",
    "                        value = line.strip()\n",
    "                        if isinstance(current_entry['Keywords'], list):\n",
    "                            current_entry['Keywords'].append(value)\n",
    "                        else:\n",
    "                            current_entry['Keywords'] = [current_entry['Keywords'], value]\n",
    "                                    \n",
    "        return references\n",
    "\n",
    "\n",
    "parsed_data = parse_ris(f'{assets_directory}Bibliography_2024-09-19.txt')\n",
    "bib = pd.DataFrame(parsed_data)[['Author_list', 'Year', 'Title', 'Journal', 'Keywords', 'Abstract', \n",
    "                                 'Date', 'DOI', 'URL']]\n",
    "\n",
    "print(bib.shape)\n",
    "bib.head(3)\n"
   ]
  },
  {
   "cell_type": "code",
   "execution_count": null,
   "id": "c1865ebc",
   "metadata": {},
   "outputs": [
    {
     "name": "stdout",
     "output_type": "stream",
     "text": [
      "Note 9 NaN Date values will be set to 01/01 of respective year\n"
     ]
    },
    {
     "data": {
      "text/html": [
       "<div>\n",
       "<style scoped>\n",
       "    .dataframe tbody tr th:only-of-type {\n",
       "        vertical-align: middle;\n",
       "    }\n",
       "\n",
       "    .dataframe tbody tr th {\n",
       "        vertical-align: top;\n",
       "    }\n",
       "\n",
       "    .dataframe thead th {\n",
       "        text-align: right;\n",
       "    }\n",
       "</style>\n",
       "<table border=\"1\" class=\"dataframe\">\n",
       "  <thead>\n",
       "    <tr style=\"text-align: right;\">\n",
       "      <th></th>\n",
       "      <th>Author_list</th>\n",
       "      <th>Year</th>\n",
       "      <th>Title</th>\n",
       "      <th>Journal</th>\n",
       "      <th>Keywords</th>\n",
       "      <th>Abstract</th>\n",
       "      <th>Date</th>\n",
       "      <th>DOI</th>\n",
       "      <th>URL</th>\n",
       "      <th>Author</th>\n",
       "    </tr>\n",
       "  </thead>\n",
       "  <tbody>\n",
       "    <tr>\n",
       "      <th>0</th>\n",
       "      <td>[Abrishamcar, S., Chen, J., Feil, D., Kilanows...</td>\n",
       "      <td>2022</td>\n",
       "      <td>DNA methylation as a potential mediator of the...</td>\n",
       "      <td>Transl Psychiatry</td>\n",
       "      <td>NaN</td>\n",
       "      <td>Prenatal tobacco exposure (PTE) and prenatal a...</td>\n",
       "      <td>2022-09-30</td>\n",
       "      <td>10.1038/s41398-022-02195-3</td>\n",
       "      <td>http://dx.doi.org/10.1038/s41398-022-02195-3</td>\n",
       "      <td>Abrishamcar et al.</td>\n",
       "    </tr>\n",
       "    <tr>\n",
       "      <th>1</th>\n",
       "      <td>[Al-Jawahiri, R., Foroutan, A., Kerkhof, J., M...</td>\n",
       "      <td>2022</td>\n",
       "      <td>SOX11 variants cause a neurodevelopmental diso...</td>\n",
       "      <td>Gen Med</td>\n",
       "      <td>[nucleic acid genotyping array kit, growth dif...</td>\n",
       "      <td>Purpose: This study aimed to undertake a multi...</td>\n",
       "      <td>2022-04-05</td>\n",
       "      <td>10.1016/j.gim.2022.02.013</td>\n",
       "      <td>https://www.embase.com/search/results?subactio...</td>\n",
       "      <td>Al-Jawahiri et al.</td>\n",
       "    </tr>\n",
       "    <tr>\n",
       "      <th>2</th>\n",
       "      <td>[Alfano, R., Zugna, D., Barros, H., Bustamante...</td>\n",
       "      <td>2023</td>\n",
       "      <td>Cord blood epigenome-wide meta-analysis in six...</td>\n",
       "      <td>BMC Med</td>\n",
       "      <td>[aurora C kinase, long untranslated RNA, ACTG1...</td>\n",
       "      <td>Background: Rapid postnatal growth may result ...</td>\n",
       "      <td>2023-01-17</td>\n",
       "      <td>10.1186/s12916-022-02685-7</td>\n",
       "      <td>https://www.embase.com/search/results?subactio...</td>\n",
       "      <td>Alfano et al.</td>\n",
       "    </tr>\n",
       "    <tr>\n",
       "      <th>3</th>\n",
       "      <td>[Aref-Eshghi, E., Bend, E. G., Colaiacovo, S.,...</td>\n",
       "      <td>2019</td>\n",
       "      <td>Diagnostic Utility of Genome-wide DNA Methylat...</td>\n",
       "      <td>Am J Hum Genet</td>\n",
       "      <td>[genomic DNA, adult, article, case report, chi...</td>\n",
       "      <td>Conventional genetic testing of individuals wi...</td>\n",
       "      <td>2019-04-05</td>\n",
       "      <td>10.1016/j.ajhg.2019.03.008</td>\n",
       "      <td>https://www.embase.com/search/results?subactio...</td>\n",
       "      <td>Aref-Eshghi et al.</td>\n",
       "    </tr>\n",
       "    <tr>\n",
       "      <th>4</th>\n",
       "      <td>[Aref-Eshghi, E., Kerkhof, J., Pedro, V. P.]</td>\n",
       "      <td>2020</td>\n",
       "      <td>Evaluation of DNA methylation episignatures fo...</td>\n",
       "      <td>The American Journal of …</td>\n",
       "      <td>NaN</td>\n",
       "      <td>NaN</td>\n",
       "      <td>2020-01-01</td>\n",
       "      <td>NaN</td>\n",
       "      <td>NaN</td>\n",
       "      <td>Aref-Eshghi et al.</td>\n",
       "    </tr>\n",
       "  </tbody>\n",
       "</table>\n",
       "</div>"
      ],
      "text/plain": [
       "                                         Author_list  Year  \\\n",
       "0  [Abrishamcar, S., Chen, J., Feil, D., Kilanows...  2022   \n",
       "1  [Al-Jawahiri, R., Foroutan, A., Kerkhof, J., M...  2022   \n",
       "2  [Alfano, R., Zugna, D., Barros, H., Bustamante...  2023   \n",
       "3  [Aref-Eshghi, E., Bend, E. G., Colaiacovo, S.,...  2019   \n",
       "4       [Aref-Eshghi, E., Kerkhof, J., Pedro, V. P.]  2020   \n",
       "\n",
       "                                               Title  \\\n",
       "0  DNA methylation as a potential mediator of the...   \n",
       "1  SOX11 variants cause a neurodevelopmental diso...   \n",
       "2  Cord blood epigenome-wide meta-analysis in six...   \n",
       "3  Diagnostic Utility of Genome-wide DNA Methylat...   \n",
       "4  Evaluation of DNA methylation episignatures fo...   \n",
       "\n",
       "                     Journal  \\\n",
       "0          Transl Psychiatry   \n",
       "1                    Gen Med   \n",
       "2                    BMC Med   \n",
       "3             Am J Hum Genet   \n",
       "4  The American Journal of …   \n",
       "\n",
       "                                            Keywords  \\\n",
       "0                                                NaN   \n",
       "1  [nucleic acid genotyping array kit, growth dif...   \n",
       "2  [aurora C kinase, long untranslated RNA, ACTG1...   \n",
       "3  [genomic DNA, adult, article, case report, chi...   \n",
       "4                                                NaN   \n",
       "\n",
       "                                            Abstract        Date  \\\n",
       "0  Prenatal tobacco exposure (PTE) and prenatal a...  2022-09-30   \n",
       "1  Purpose: This study aimed to undertake a multi...  2022-04-05   \n",
       "2  Background: Rapid postnatal growth may result ...  2023-01-17   \n",
       "3  Conventional genetic testing of individuals wi...  2019-04-05   \n",
       "4                                                NaN  2020-01-01   \n",
       "\n",
       "                          DOI  \\\n",
       "0  10.1038/s41398-022-02195-3   \n",
       "1   10.1016/j.gim.2022.02.013   \n",
       "2  10.1186/s12916-022-02685-7   \n",
       "3  10.1016/j.ajhg.2019.03.008   \n",
       "4                         NaN   \n",
       "\n",
       "                                                 URL              Author  \n",
       "0       http://dx.doi.org/10.1038/s41398-022-02195-3  Abrishamcar et al.  \n",
       "1  https://www.embase.com/search/results?subactio...  Al-Jawahiri et al.  \n",
       "2  https://www.embase.com/search/results?subactio...       Alfano et al.  \n",
       "3  https://www.embase.com/search/results?subactio...  Aref-Eshghi et al.  \n",
       "4                                                NaN  Aref-Eshghi et al.  "
      ]
     },
     "execution_count": 8,
     "metadata": {},
     "output_type": "execute_result"
    }
   ],
   "source": [
    "# Clean bibliography file\n",
    "\n",
    "# Only selected papers ----------------------------------------------------------------\n",
    "bib_incl = bib.loc[bib.Title.isin(lit.Title.unique()), ].reset_index(drop=True)\n",
    "# bib_incl.shape\n",
    "\n",
    "# Correct dates ----------------------------------------------------------------------- \n",
    "print('Note', bib_incl.Date.isna().sum(), 'NaN Date values will be set to 01/01 of respective year')\n",
    "\n",
    "date_tmp = pd.Series([' '.join([d, y]) if y not in d else d for d, y in \n",
    "                   zip(bib_incl.Date.map(str), bib_incl.Year.map(str))])\n",
    "\n",
    "bib_incl.loc[:, 'Date'] = date_tmp.apply(lambda date: \n",
    "                                         parse_date(date).strftime('%Y-%m-%d') if 'nan' not in date else \n",
    "                                         parse_date('01 01' + date[3:]).strftime('%Y-%m-%d'))\n",
    "\n",
    "# Get Short Author titles ------------------------------------------------------------\n",
    "bib_incl['Author'] = [f'{fa[0].split(\",\")[0]} et al.' if len(fa) > 1 else f'{fa[0].split(\",\")[0]}' \n",
    "                            for fa in bib_incl['Author_list']]\n",
    "\n",
    "\n",
    "# Fix missing Journal names ----------------------------------------------------------\n",
    "bib_incl.loc[bib_incl.DOI.str.contains('10.3390/toxics9100262', na=False), \n",
    "             'Journal'] = 'Toxics'\n",
    "bib_incl.loc[bib_incl.DOI.str.contains('10.1007/s00787-024-02390-1', na=False), \n",
    "             'Journal'] = 'Eur Child Adolesc Psych'\n",
    "bib_incl.loc[bib_incl.DOI.str.contains('10.3390/ijms22031111|10.3390/ijms22168611', na=False), \n",
    "             'Journal'] = 'Int J Mol Sci'\n",
    "\n",
    "bib_incl.head(5)\n"
   ]
  },
  {
   "cell_type": "code",
   "execution_count": null,
   "id": "bcc2eb79",
   "metadata": {},
   "outputs": [
    {
     "name": "stdout",
     "output_type": "stream",
     "text": [
      "(760, 40)\n"
     ]
    }
   ],
   "source": [
    "print(lit.shape)\n",
    "\n",
    "lit_main = lit.rename(columns={'Author': 'Author_dirty',\n",
    "                               'Journal': 'Journal_dirty'}).merge(bib_incl,\n",
    "                     on='Title', how='left', suffixes=['','_BIB'])\n",
    "\n",
    "# CHECKUPS \n",
    "# lit_main[['Author','Author_list','Author_dirty']]\n",
    "# np.where(lit_main['Year'].map(int) != lit_main['Year_BIB'].map(int))\n",
    "# pd.set_option('display.max_rows', None)\n",
    "# lit_main.loc[lit_main['DOI'].map(str) != lit_main['DOI_BIB'].map(str), ['Title','DOI','DOI_BIB']]\n",
    "\n",
    "# Clean DOI values -------------------------------------------------------------------\n",
    "lit_main['DOI_BIB'] = lit_main['DOI_BIB'].fillna(lit_main['DOI'])\n",
    "lit_main['DOI'] = lit_main['DOI_BIB']\n",
    "lit_main.drop(['DOI_BIB','Year_BIB'], axis=1, inplace=True)"
   ]
  },
  {
   "cell_type": "code",
   "execution_count": null,
   "id": "db37cb27",
   "metadata": {},
   "outputs": [],
   "source": [
    "# Removing 2 scores that have Number of CpGs == 0 because they did not identify a solution\n",
    "lit_main = lit_main[lit_main['Number of CpGs'] != 0].reset_index(drop=True)"
   ]
  },
  {
   "cell_type": "code",
   "execution_count": null,
   "id": "b63885a4",
   "metadata": {},
   "outputs": [
    {
     "name": "stdout",
     "output_type": "stream",
     "text": [
      "(758, 47)\n",
      "Index(['Identifier', 'Type', 'Author_dirty', 'Year', 'Title', 'Journal_dirty',\n",
      "       'DOI', 'Include', 'pdf', 'Sample_size_total', 'Sample_size_control',\n",
      "       'Sample_size_case', 'Sample_type', 'Category', 'Phenotype',\n",
      "       'What_is_available', 'Identifier_base', 'Multiple_identifier_base',\n",
      "       'Tissue', 'Multiple_tissue', 'Array', 'Multiple_array', 'Ancestry',\n",
      "       'Multiple_ancestry', 'Developmental_period', 'Covariates',\n",
      "       'Sample_overlap_target_base', 'Including_CpGs_1', 'Including_CpGs_2',\n",
      "       'Including_CpGs_3', 'Including_CpGs_4', 'Including_CpGs_5',\n",
      "       'Number of CpGs', 'Determining_weights_1', 'Train_test',\n",
      "       'Independent_validation', 'Comparison', 'Missing_value_note',\n",
      "       'Reflect_phenotype', 'Link', 'Author_list', 'Journal', 'Keywords',\n",
      "       'Abstract', 'Date', 'URL', 'Author'],\n",
      "      dtype='object')\n"
     ]
    }
   ],
   "source": [
    "print(lit_main.shape)\n",
    "print(lit_main.columns)\n",
    "\n",
    "# Save cleaned data ------------------------------------------------------------------\n",
    "lit_main.to_csv(f'{assets_directory}MPS_literature_cleaned.csv', index=False)"
   ]
  },
  {
   "cell_type": "code",
   "execution_count": null,
   "id": "5b7bfab5",
   "metadata": {},
   "outputs": [
    {
     "data": {
      "text/plain": [
       "<pandas.core.groupby.generic.DataFrameGroupBy object at 0x12745e5b0>"
      ]
     },
     "execution_count": 29,
     "metadata": {},
     "output_type": "execute_result"
    }
   ],
   "source": []
  },
  {
   "cell_type": "code",
   "execution_count": null,
   "id": "de00e10b",
   "metadata": {},
   "outputs": [
    {
     "name": "stdout",
     "output_type": "stream",
     "text": [
      "(20, 13) (150, 33)\n",
      "(170, 33)\n",
      "Index(['Identifier', 'base_use', 'Category', 'Phenotype', 'Link', 'Tissue',\n",
      "       'Multiple_tissue', 'Array', 'Multiple_array', 'Ancestry',\n",
      "       'Multiple_ancestry', 'Developmental_period', 'Covariates',\n",
      "       'Sample_size_total', 'Sample_size_control', 'Sample_size_case',\n",
      "       'Sample_type', 'What_is_available', 'Identifier_base',\n",
      "       'Multiple_identifier_base', 'Sample_overlap_target_base',\n",
      "       'Including_CpGs_1', 'Including_CpGs_2', 'Including_CpGs_3',\n",
      "       'Including_CpGs_4', 'Including_CpGs_5', 'Number of CpGs',\n",
      "       'Determining_weights_1', 'Train_validate', 'Independent_test',\n",
      "       'Comparison', 'Missing_value_note', 'Reflect_phenotype'],\n",
      "      dtype='object')\n"
     ]
    }
   ],
   "source": [
    "base_ss = replace_multiples(base_ss)\n",
    "base_va = replace_multiples(base_va)\n",
    "\n",
    "base_ss.insert(1, 'base_use', 'Summary statistics')\n",
    "base_va.insert(1, 'base_use', 'Validated algorithm')\n",
    "\n",
    "print(base_ss.shape, base_va.shape)\n",
    "\n",
    "lit_base = pd.concat([base_ss, base_va], axis=0, ignore_index=True, sort=False)\n",
    "\n",
    "print(lit_base.shape)\n",
    "print(lit_base.columns)\n",
    "\n",
    "# Save cleaned data ------------------------------------------------------------------\n",
    "lit_base.to_csv(f'{assets_directory}MPS_base_samples_cleaned.csv', index=False)\n"
   ]
  },
  {
   "cell_type": "markdown",
   "id": "79d3f123",
   "metadata": {},
   "source": [
    "### STEP 2 - Descriptives"
   ]
  },
  {
   "cell_type": "code",
   "execution_count": 4,
   "id": "035e43e6",
   "metadata": {},
   "outputs": [],
   "source": [
    "lit_main = pd.read_csv(f'{assets_directory}MPS_literature_cleaned.csv')\n",
    "\n",
    "data = lit_main\n",
    "\n",
    "# Aggregate rows by publication\n",
    "\n",
    "def aggregate_values(series):\n",
    "    unique_values = series.unique()\n",
    "    if len(unique_values) == 1:\n",
    "        return unique_values[0]\n",
    "    else:\n",
    "        return list(unique_values)\n",
    "\n",
    "# Group by 'Title' and apply the custom aggregation function\n",
    "glit = lit_main.groupby('Title').agg(aggregate_values).reset_index()\n",
    "n_MPS = lit_main.Title.value_counts() \n",
    "for t in n_MPS.index:\n",
    "    glit.loc[glit.Title == t, 'n_MPS'] = int(n_MPS[t])"
   ]
  },
  {
   "cell_type": "markdown",
   "id": "9376a186",
   "metadata": {},
   "source": [
    "### General descriptives "
   ]
  },
  {
   "cell_type": "code",
   "execution_count": null,
   "id": "7569df9f",
   "metadata": {},
   "outputs": [
    {
     "name": "stdout",
     "output_type": "stream",
     "text": [
      "Total number of publications: 89\n",
      "Total number of unique MPSs: 758\n"
     ]
    },
    {
     "data": {
      "text/html": [
       "<div>\n",
       "<style scoped>\n",
       "    .dataframe tbody tr th:only-of-type {\n",
       "        vertical-align: middle;\n",
       "    }\n",
       "\n",
       "    .dataframe tbody tr th {\n",
       "        vertical-align: top;\n",
       "    }\n",
       "\n",
       "    .dataframe thead th {\n",
       "        text-align: right;\n",
       "    }\n",
       "</style>\n",
       "<table border=\"1\" class=\"dataframe\">\n",
       "  <thead>\n",
       "    <tr style=\"text-align: right;\">\n",
       "      <th></th>\n",
       "      <th>Title</th>\n",
       "      <th>Percent</th>\n",
       "    </tr>\n",
       "    <tr>\n",
       "      <th>What_is_available</th>\n",
       "      <th></th>\n",
       "      <th></th>\n",
       "    </tr>\n",
       "  </thead>\n",
       "  <tbody>\n",
       "    <tr>\n",
       "      <th>EWAS summary statistics</th>\n",
       "      <td>15</td>\n",
       "      <td>16.9</td>\n",
       "    </tr>\n",
       "    <tr>\n",
       "      <th>Only phenotype</th>\n",
       "      <td>58</td>\n",
       "      <td>65.2</td>\n",
       "    </tr>\n",
       "    <tr>\n",
       "      <th>Validated MPS algorithm</th>\n",
       "      <td>25</td>\n",
       "      <td>28.1</td>\n",
       "    </tr>\n",
       "  </tbody>\n",
       "</table>\n",
       "</div>"
      ],
      "text/plain": [
       "                         Title  Percent\n",
       "What_is_available                      \n",
       "EWAS summary statistics     15     16.9\n",
       "Only phenotype              58     65.2\n",
       "Validated MPS algorithm     25     28.1"
      ]
     },
     "execution_count": 5,
     "metadata": {},
     "output_type": "execute_result"
    }
   ],
   "source": [
    "# Add a column for the percentage of all titles\n",
    "total_titles = data['Title'].nunique()\n",
    "\n",
    "print('Total number of publications:', total_titles)\n",
    "print('Total number of unique MPSs:', data.shape[0])\n",
    "\n",
    "pubs_count = data.groupby('What_is_available')['Title'].nunique().reset_index().set_index('What_is_available')\n",
    "\n",
    "pubs_count['Percent'] = round((pubs_count['Title'] / 89) * 100,1)\n",
    "\n",
    "# Display the result\n",
    "pubs_count \n",
    "# NOTE: this has more total publications because some have more than 1 value for what_is_available\n",
    "\n",
    "#pubs_multistrategy = data.groupby('Title')['What_is_available'].nunique()\n",
    "#pubs_multistrategy[pubs_multistrategy > 1] #.index.tolist()\n",
    "# 9 studies that more that 1 strategy\n"
   ]
  },
  {
   "cell_type": "code",
   "execution_count": 6,
   "id": "ceed89b8",
   "metadata": {},
   "outputs": [
    {
     "name": "stdout",
     "output_type": "stream",
     "text": [
      "count     89.000000\n",
      "mean       8.516854\n",
      "std       31.453831\n",
      "min        1.000000\n",
      "25%        1.000000\n",
      "50%        1.000000\n",
      "75%        5.000000\n",
      "max      278.000000\n",
      "Name: n_MPS, dtype: float64\n",
      "\n",
      " 16 % of publications more than 10 MPSs.\n"
     ]
    },
    {
     "data": {
      "text/html": [
       "<div>\n",
       "<style scoped>\n",
       "    .dataframe tbody tr th:only-of-type {\n",
       "        vertical-align: middle;\n",
       "    }\n",
       "\n",
       "    .dataframe tbody tr th {\n",
       "        vertical-align: top;\n",
       "    }\n",
       "\n",
       "    .dataframe thead th {\n",
       "        text-align: right;\n",
       "    }\n",
       "</style>\n",
       "<table border=\"1\" class=\"dataframe\">\n",
       "  <thead>\n",
       "    <tr style=\"text-align: right;\">\n",
       "      <th>n_MPS</th>\n",
       "      <th>1.0</th>\n",
       "      <th>2.0</th>\n",
       "      <th>3.0</th>\n",
       "      <th>4.0</th>\n",
       "      <th>5.0</th>\n",
       "      <th>6.0</th>\n",
       "      <th>7.0</th>\n",
       "      <th>8.0</th>\n",
       "      <th>9.0</th>\n",
       "      <th>10.0</th>\n",
       "      <th>12.0</th>\n",
       "      <th>14.0</th>\n",
       "      <th>15.0</th>\n",
       "      <th>18.0</th>\n",
       "      <th>19.0</th>\n",
       "      <th>25.0</th>\n",
       "      <th>44.0</th>\n",
       "      <th>104.0</th>\n",
       "      <th>278.0</th>\n",
       "    </tr>\n",
       "  </thead>\n",
       "  <tbody>\n",
       "    <tr>\n",
       "      <th>count</th>\n",
       "      <td>48</td>\n",
       "      <td>11</td>\n",
       "      <td>3</td>\n",
       "      <td>4</td>\n",
       "      <td>1</td>\n",
       "      <td>2</td>\n",
       "      <td>1</td>\n",
       "      <td>3</td>\n",
       "      <td>1</td>\n",
       "      <td>1</td>\n",
       "      <td>3</td>\n",
       "      <td>3</td>\n",
       "      <td>2</td>\n",
       "      <td>1</td>\n",
       "      <td>1</td>\n",
       "      <td>1</td>\n",
       "      <td>1</td>\n",
       "      <td>1</td>\n",
       "      <td>1</td>\n",
       "    </tr>\n",
       "    <tr>\n",
       "      <th>percent</th>\n",
       "      <td>53.9%</td>\n",
       "      <td>12.4%</td>\n",
       "      <td>3.4%</td>\n",
       "      <td>4.5%</td>\n",
       "      <td>1.1%</td>\n",
       "      <td>2.2%</td>\n",
       "      <td>1.1%</td>\n",
       "      <td>3.4%</td>\n",
       "      <td>1.1%</td>\n",
       "      <td>1.1%</td>\n",
       "      <td>3.4%</td>\n",
       "      <td>3.4%</td>\n",
       "      <td>2.2%</td>\n",
       "      <td>1.1%</td>\n",
       "      <td>1.1%</td>\n",
       "      <td>1.1%</td>\n",
       "      <td>1.1%</td>\n",
       "      <td>1.1%</td>\n",
       "      <td>1.1%</td>\n",
       "    </tr>\n",
       "  </tbody>\n",
       "</table>\n",
       "</div>"
      ],
      "text/plain": [
       "n_MPS    1.0    2.0   3.0   4.0   5.0   6.0   7.0   8.0   9.0   10.0  12.0   \\\n",
       "count       48     11     3     4     1     2     1     3     1     1     3   \n",
       "percent  53.9%  12.4%  3.4%  4.5%  1.1%  2.2%  1.1%  3.4%  1.1%  1.1%  3.4%   \n",
       "\n",
       "n_MPS   14.0  15.0  18.0  19.0  25.0  44.0  104.0 278.0  \n",
       "count       3     2     1     1     1     1     1     1  \n",
       "percent  3.4%  2.2%  1.1%  1.1%  1.1%  1.1%  1.1%  1.1%  "
      ]
     },
     "execution_count": 6,
     "metadata": {},
     "output_type": "execute_result"
    }
   ],
   "source": [
    "print(glit.n_MPS.describe())\n",
    "\n",
    "counts = glit.n_MPS.value_counts().sort_index(ascending=True)\n",
    "percent = counts / counts.sum() * 100\n",
    "\n",
    "n_MPS_count = counts.to_frame(name='count')\n",
    "n_MPS_count['percent'] = percent.apply(lambda x: f\"{x:.1f}%\")\n",
    "\n",
    "print('\\n', round(100 - sum(percent.iloc[0:10])), \"% of publications more than 10 MPSs.\")\n",
    "\n",
    "# more than 10 MPSs per pub\n",
    "# 3.4+3.4+2.2+1.1+1.1+1.1+1.1+1.1+1.1\n",
    "\n",
    "n_MPS_count.T\n"
   ]
  },
  {
   "cell_type": "code",
   "execution_count": 7,
   "id": "e6faa230",
   "metadata": {},
   "outputs": [
    {
     "name": "stdout",
     "output_type": "stream",
     "text": [
      "Total umber of phenotypes: 324\n",
      "Number of phenotypes with more than one MPS: 146 ( 45 %)\n"
     ]
    },
    {
     "data": {
      "text/plain": [
       "Phenotype\n",
       "Maternal smoking          49\n",
       "Asthma                    14\n",
       "Allergy                   14\n",
       "Kabuki syndrome           14\n",
       "Atopic status             12\n",
       "Externalizing behavior    12\n",
       "BMI                       10\n",
       "Internalizing behavior    10\n",
       "Sotos syndrome            10\n",
       "Name: count, dtype: int64"
      ]
     },
     "execution_count": 7,
     "metadata": {},
     "output_type": "execute_result"
    }
   ],
   "source": [
    "pheno_count = lit_main.Phenotype.value_counts()\n",
    "\n",
    "n_pheno = len(pheno_count)\n",
    "\n",
    "pheno_count_rep = pheno_count[pheno_count > 1]\n",
    "\n",
    "n_pheno_rep = len(pheno_count_rep)\n",
    "\n",
    "print('Total umber of phenotypes:', n_pheno)\n",
    "print('Number of phenotypes with more than one MPS:', n_pheno_rep, '(', round(n_pheno_rep / n_pheno * 100), '%)')\n",
    "\n",
    "pheno_count_rep [pheno_count_rep > 9]\n"
   ]
  },
  {
   "cell_type": "code",
   "execution_count": 8,
   "id": "85f66fea",
   "metadata": {},
   "outputs": [],
   "source": [
    "def get_count_percent(variable, data=lit_main, precision=0, print_count=True):\n",
    "    counts = pd.DataFrame(data[variable].value_counts())\n",
    "    _total = counts.sum()\n",
    "    \n",
    "    counts['percent'] = round((counts / _total) * 100, precision)\n",
    "\n",
    "    for idx, row in counts.iterrows():\n",
    "        fmtcount = int(row['count']) if print_count else ''\n",
    "        fmtpercent = int(row['percent']) if precision == 0 else row['percent']\n",
    "        print(f\"{idx} {fmtcount} ({fmtpercent}%)\")\n"
   ]
  },
  {
   "cell_type": "code",
   "execution_count": 36,
   "id": "bb1dd631",
   "metadata": {},
   "outputs": [
    {
     "name": "stdout",
     "output_type": "stream",
     "text": [
      "MPS count\n",
      "\n",
      "Biological markers 394 (52.0%)\n",
      "Genetic syndromes 185 (24.4%)\n",
      "Lifestyle and environment 85 (11.2%)\n",
      "Physical health indicators 55 (7.3%)\n",
      "Neuro-psychiatric health indicators 34 (4.5%)\n",
      "Cancer 5 (0.7%)\n",
      "\n",
      "Phenotype count\n",
      " Category\n",
      "Biological markers                     182\n",
      "Cancer                                   5\n",
      "Genetic syndromes                      103\n",
      "Lifestyle and environment               19\n",
      "Neuro-psychiatric health indicators     10\n",
      "Physical health indicators               6\n",
      "Name: Phenotype, dtype: int64\n",
      "\n",
      "Publication count\n",
      " Category\n",
      "Biological markers                      8\n",
      "Cancer                                  5\n",
      "Genetic syndromes                      45\n",
      "Lifestyle and environment              22\n",
      "Neuro-psychiatric health indicators     8\n",
      "Physical health indicators              6\n",
      "Name: Title, dtype: int64\n"
     ]
    },
    {
     "data": {
      "text/plain": [
       "Category                    Phenotype      \n",
       "Biological markers          ADA                 3\n",
       "                            ADAMTS              1\n",
       "                            ARTN                3\n",
       "                            AXIN1               3\n",
       "                            Adiponectin         1\n",
       "                                               ..\n",
       "Physical health indicators  Asthma             14\n",
       "                            Atopic status      12\n",
       "                            BMI                 6\n",
       "                            Birth weight        6\n",
       "                            Health problems     3\n",
       "Name: count, Length: 325, dtype: int64"
      ]
     },
     "execution_count": 36,
     "metadata": {},
     "output_type": "execute_result"
    }
   ],
   "source": [
    "print('MPS count\\n')\n",
    "get_count_percent('Category', precision=1)\n",
    "print('\\nPhenotype count\\n', lit_main.groupby('Category')['Phenotype'].nunique())\n",
    "print('\\nPublication count\\n', lit_main.groupby('Category')['Title'].nunique())\n",
    "\n",
    "lit_main[['Category', 'Phenotype']].value_counts().sort_index()"
   ]
  },
  {
   "cell_type": "code",
   "execution_count": 9,
   "id": "a5d21ca6",
   "metadata": {},
   "outputs": [
    {
     "data": {
      "text/plain": [
       "What_is_available\n",
       "Only phenotype             475\n",
       "Validated MPS algorithm    200\n",
       "EWAS summary statistics     83\n",
       "Name: count, dtype: int64"
      ]
     },
     "execution_count": 9,
     "metadata": {},
     "output_type": "execute_result"
    }
   ],
   "source": [
    "lit_main.What_is_available.value_counts()"
   ]
  },
  {
   "cell_type": "code",
   "execution_count": 10,
   "id": "06dc33e7",
   "metadata": {},
   "outputs": [
    {
     "name": "stdout",
     "output_type": "stream",
     "text": [
      "Peripheral blood  (60%)\n",
      "Saliva  (16%)\n",
      "Cord blood  (6%)\n",
      "Whole blood  (5%)\n",
      "Dried bloodspot  (3%)\n",
      "Blood-clots  (3%)\n",
      "Buccal cells  (3%)\n",
      "Placenta  (2%)\n",
      "Nasal epithelial cells  (1%)\n",
      "Tumour cells  (1%)\n",
      "Leukocytes  (0%)\n",
      "Not reported  (0%)\n",
      "Cervical cells  (0%)\n",
      "Multiple (Whole blood, HPCs)  (0%)\n"
     ]
    }
   ],
   "source": [
    "get_count_percent(\"Tissue\", print_count=False)"
   ]
  },
  {
   "cell_type": "code",
   "execution_count": 11,
   "id": "2197bfba",
   "metadata": {},
   "outputs": [
    {
     "name": "stdout",
     "output_type": "stream",
     "text": [
      "Population-based 394 (52%)\n",
      "Case control 193 (25%)\n",
      "Cohort study 120 (16%)\n",
      "Twin study 21 (3%)\n",
      "Convenience sample 18 (2%)\n",
      "Randomized controlled trial 12 (2%)\n"
     ]
    }
   ],
   "source": [
    "get_count_percent(\"Sample_type\")"
   ]
  },
  {
   "cell_type": "code",
   "execution_count": 12,
   "id": "11d498dd",
   "metadata": {},
   "outputs": [
    {
     "name": "stdout",
     "output_type": "stream",
     "text": [
      "Multiple (450K, EPICv1) 393 (52%)\n",
      "EPICv1 281 (37%)\n",
      "450K 63 (8%)\n",
      "WGBS 14 (2%)\n",
      "Multiple (450K, GMEL (~3000 CpGs from EPICv1)) 6 (1%)\n",
      "Multiple (450K, EPICv2) 1 (0%)\n"
     ]
    }
   ],
   "source": [
    "# pd.set_option('display.max_columns', None)\n",
    "# # lit_main.loc[lit_main['Array'] == \"WGBS\",]\n",
    "\n",
    "get_count_percent(\"Array\")"
   ]
  },
  {
   "cell_type": "code",
   "execution_count": 13,
   "id": "bf49d9f6",
   "metadata": {},
   "outputs": [
    {
     "name": "stdout",
     "output_type": "stream",
     "text": [
      "European 380 (50.1%)\n",
      "Not reported 189 (24.9%)\n",
      "White 142 (18.7%)\n",
      "Mixed 44 (5.8%)\n",
      "African 2 (0.3%)\n",
      "Hispanic 1 (0.1%)\n"
     ]
    }
   ],
   "source": [
    "get_count_percent(\"Ancestry\", precision=1)\n"
   ]
  },
  {
   "cell_type": "code",
   "execution_count": 14,
   "id": "f7f34020",
   "metadata": {},
   "outputs": [
    {
     "name": "stdout",
     "output_type": "stream",
     "text": [
      "Mid childhood 320 (42.2%)\n",
      "Birth 166 (21.9%)\n",
      "Childhood and adolescence 125 (16.5%)\n",
      "Not reported 63 (8.3%)\n",
      "Late childhood 44 (5.8%)\n",
      "Adolescence 26 (3.4%)\n",
      "Very early childhood 11 (1.5%)\n",
      "Early childhood 3 (0.4%)\n"
     ]
    }
   ],
   "source": [
    "get_count_percent(\"Developmental_period\", precision=1)"
   ]
  },
  {
   "cell_type": "code",
   "execution_count": 24,
   "id": "cfd629fb",
   "metadata": {},
   "outputs": [],
   "source": [
    "# sample size\n",
    "# covariates"
   ]
  },
  {
   "cell_type": "code",
   "execution_count": 15,
   "id": "ae4f4698",
   "metadata": {},
   "outputs": [
    {
     "name": "stdout",
     "output_type": "stream",
     "text": [
      "No 251 (93%)\n",
      "Yes 19 (7%)\n"
     ]
    }
   ],
   "source": [
    "get_count_percent('Sample_overlap_target_base')"
   ]
  },
  {
   "cell_type": "code",
   "execution_count": 16,
   "id": "01620a93",
   "metadata": {},
   "outputs": [
    {
     "name": "stdout",
     "output_type": "stream",
     "text": [
      "43 NA values\n",
      "312 \"Not reported\" values\n"
     ]
    },
    {
     "data": {
      "text/plain": [
       "0"
      ]
     },
     "execution_count": 16,
     "metadata": {},
     "output_type": "execute_result"
    }
   ],
   "source": [
    "# TODO: NA == link them to the base sample \n",
    "\n",
    "print(lit_main[\"Number of CpGs\"].isna().sum(), 'NA values')\n",
    "print(lit_main.loc[lit_main[\"Number of CpGs\"]=='Not reported',].shape[0], '\"Not reported\" values') \n",
    "\n",
    "lit_main['n_CPGs'] = pd.to_numeric(lit_main['Number of CpGs'], errors='coerce')\n",
    "\n",
    "coerced_mask = lit_main['n_CPGs'].isna() & lit_main['Number of CpGs'].notna()\n",
    "lit_main.loc[coerced_mask & (lit_main['Number of CpGs'] != 'Not reported'), ].shape[0]\n"
   ]
  },
  {
   "cell_type": "code",
   "execution_count": 17,
   "id": "19eed73c",
   "metadata": {},
   "outputs": [
    {
     "name": "stdout",
     "output_type": "stream",
     "text": [
      "count      403.000000\n",
      "mean      1032.630273\n",
      "std       6116.256292\n",
      "min          2.000000\n",
      "25%         34.000000\n",
      "50%        110.000000\n",
      "75%        205.500000\n",
      "max      76146.000000\n",
      "Name: n_CPGs, dtype: float64\n"
     ]
    },
    {
     "data": {
      "text/plain": [
       "<Axes: >"
      ]
     },
     "execution_count": 17,
     "metadata": {},
     "output_type": "execute_result"
    },
    {
     "data": {
      "image/png": "[encoded data removed]",
      "text/plain": [
       "<Figure size 1500x400 with 1 Axes>"
      ]
     },
     "metadata": {},
     "output_type": "display_data"
    }
   ],
   "source": [
    "print(lit_main['n_CPGs'].describe())\n",
    "\n",
    "lit_main['n_CPGs'].hist(bins=100, figsize=(15, 4))"
   ]
  },
  {
   "cell_type": "code",
   "execution_count": 18,
   "id": "ae0897c5",
   "metadata": {},
   "outputs": [
    {
     "data": {
      "text/plain": [
       "91     Unclear\n",
       "103    Unclear\n",
       "139      >1000\n",
       "191    Unclear\n",
       "366    Unclear\n",
       "394    Unclear\n",
       "Name: Sample_size_total, dtype: object"
      ]
     },
     "execution_count": 18,
     "metadata": {},
     "output_type": "execute_result"
    }
   ],
   "source": [
    "lit_main.Sample_size_total.describe()\n",
    "\n",
    "lit_main['n'] = pd.to_numeric(lit_main['Sample_size_total'], errors='coerce')\n",
    "\n",
    "coerced_mask = lit_main['n'].isna() & lit_main['Sample_size_total'].notna()\n",
    "lit_main.loc[coerced_mask , 'Sample_size_total']"
   ]
  },
  {
   "cell_type": "code",
   "execution_count": 19,
   "id": "bad623fc",
   "metadata": {},
   "outputs": [
    {
     "name": "stdout",
     "output_type": "stream",
     "text": [
      "count     752.000000\n",
      "mean      354.277926\n",
      "std       293.636751\n",
      "min         5.000000\n",
      "25%       222.000000\n",
      "50%       222.000000\n",
      "75%       332.000000\n",
      "max      2597.000000\n",
      "Name: n, dtype: float64\n"
     ]
    },
    {
     "data": {
      "text/plain": [
       "<Axes: >"
      ]
     },
     "execution_count": 19,
     "metadata": {},
     "output_type": "execute_result"
    },
    {
     "data": {
      "image/png": "[encoded data removed]",
      "text/plain": [
       "<Figure size 1500x400 with 1 Axes>"
      ]
     },
     "metadata": {},
     "output_type": "display_data"
    }
   ],
   "source": [
    "print(lit_main['n'].describe())\n",
    "\n",
    "lit_main['n'].hist(bins=100, figsize=(15, 4))"
   ]
  },
  {
   "cell_type": "code",
   "execution_count": 20,
   "id": "62a2f000",
   "metadata": {},
   "outputs": [
    {
     "name": "stdout",
     "output_type": "stream",
     "text": [
      "r = -0.004 , P =  0.936\n"
     ]
    }
   ],
   "source": [
    "from scipy.stats import spearmanr\n",
    "r, p = spearmanr(lit_main['n'], lit_main['n_CPGs'], nan_policy='omit')\n",
    "\n",
    "print('r =', round(r, 3), ', P = ', round(p,3))\n"
   ]
  },
  {
   "cell_type": "code",
   "execution_count": 21,
   "id": "22910e96",
   "metadata": {},
   "outputs": [
    {
     "data": {
      "text/plain": [
       "[<matplotlib.lines.Line2D at 0x1274089a0>]"
      ]
     },
     "execution_count": 21,
     "metadata": {},
     "output_type": "execute_result"
    },
    {
     "data": {
      "image/png": "[encoded data removed]",
      "text/plain": [
       "<Figure size 640x480 with 1 Axes>"
      ]
     },
     "metadata": {},
     "output_type": "display_data"
    }
   ],
   "source": [
    "import matplotlib.pyplot as plt\n",
    "plt.plot(lit_main['n'], lit_main['n_CPGs'], 'o')"
   ]
  },
  {
   "cell_type": "markdown",
   "id": "98a5ca8a",
   "metadata": {},
   "source": [
    "###### Analytical methods"
   ]
  },
  {
   "cell_type": "code",
   "execution_count": 37,
   "id": "636d010d",
   "metadata": {},
   "outputs": [
    {
     "data": {
      "text/plain": [
       "Title               Association of Maternal Tobacco Use During Pre...\n",
       "n_MPS                                                             4.0\n",
       "Including_CpGs_1    [Association DNAm phenotype | Fixed p-value | ...\n",
       "Including_CpGs_2    [nan, Biological relevance |functional annotat...\n",
       "Including_CpGs_3                                                  NaN\n",
       "Including_CpGs_4                                                  NaN\n",
       "Including_CpGs_5                                                  NaN\n",
       "Name: 4, dtype: object"
      ]
     },
     "execution_count": 37,
     "metadata": {},
     "output_type": "execute_result"
    }
   ],
   "source": [
    "glit[['Title','n_MPS','Including_CpGs_1', 'Including_CpGs_2', 'Including_CpGs_3', 'Including_CpGs_4', 'Including_CpGs_5']].iloc[4]"
   ]
  },
  {
   "cell_type": "code",
   "execution_count": 22,
   "id": "b5d2e435",
   "metadata": {},
   "outputs": [
    {
     "data": {
      "text/plain": [
       "Including_CpGs_1\n",
       "Association DNAm phenotype | Actual change in methylation| 10%                                                                     7\n",
       "Association DNAm phenotype | Actual change in methylation| 10-20%                                                                  8\n",
       "Association DNAm phenotype | Actual change in methylation| 15%                                                                     5\n",
       "Association DNAm phenotype | Actual change in methylation| 20%                                                                     2\n",
       "Association DNAm phenotype | Actual change in methylation| 25%                                                                     1\n",
       "Association DNAm phenotype | Actual change in methylation| 5%                                                                      4\n",
       "Association DNAm phenotype | Actual change in methylation| 800                                                                     1\n",
       "Association DNAm phenotype | Actual change in methylation| top ranking 1000                                                        3\n",
       "Association DNAm phenotype | Actual change in methylation| top ranking 800                                                         1\n",
       "Association DNAm phenotype | Fixed p-value | FDR < .05                                                                             9\n",
       "Association DNAm phenotype | Fixed p-value | FDR < .1                                                                              1\n",
       "Association DNAm phenotype | Fixed p-value | bonferroni < .05                                                                      2\n",
       "Association DNAm phenotype | Fixed p-value | not reported                                                                         14\n",
       "Association DNAm phenotype | Fixed p-value | p < .00001                                                                            4\n",
       "Association DNAm phenotype | Fixed p-value | p < .001                                                                              1\n",
       "Association DNAm phenotype | Fixed p-value | p < 1x10-4                                                                            1\n",
       "Association DNAm phenotype | Fixed p-value | p < 5 x 10-5                                                                          3\n",
       "Association DNAm phenotype | Multiple p-values | reporting multiple levels                                                        18\n",
       "Association DNAm phenotype | effect size                                                                                          44\n",
       "Association DNAm phenotype | top-ranking signifcant probes | 500                                                                   1\n",
       "Association DNAm phenotype | top-ranking signifcant probes | ?                                                                    19\n",
       "Biological relevance |Associated to certain phenotype | Trauma                                                                    14\n",
       "Biological relevance |functional annotation | Grouped to genes                                                                    13\n",
       "Reproducibility | Array                                                                                                            1\n",
       "Reproducibility | Tissue | neutrophil specific                                                                                     2\n",
       "Statistical significance | Fixed p-value                                                                                           4\n",
       "Statistical significance | Fixed p-value                                                                                          13\n",
       "Statistical significance | Fixed p-value | .05                                                                                     1\n",
       "Statistical significance | Fixed p-value | ?                                                                                       1\n",
       "Statistical significance | Fixed p-value | BH < .01                                                                                3\n",
       "Statistical significance | Fixed p-value | BH < .05                                                                                2\n",
       "Statistical significance | Fixed p-value | adjusted p < .05                                                                        6\n",
       "Statistical significance | Fixed p-value | p < 1.15x10-7                                                                           1\n",
       "Statistical significance | Fixed p-value | p < 5x10-8                                                                              3\n",
       "Statistical significance | Fixed p-value | p<.05                                                                                   6\n",
       "Statistical significance | Multiple p-values | thresholding                                                                       31\n",
       "Statistical significance | top-ranking signifcant probes | 100                                                                     2\n",
       "Statistical significance | top-ranking signifcant probes | 1000                                                                   11\n",
       "Statistical significance | top-ranking signifcant probes | 10000                                                                   2\n",
       "Statistical significance | top-ranking signifcant probes | 20                                                                      2\n",
       "Statistical significance | top-ranking signifcant probes | 200                                                                     1\n",
       "Statistical significance | top-ranking signifcant probes | 3                                                                       1\n",
       "Statistical significance | top-ranking signifcant probes | 50                                                                      2\n",
       "Statistical significance | top-ranking signifcant probes | 500                                                                     3\n",
       "Statistical significance | top-ranking signifcant probes | 5000                                                                    2\n",
       "Statistical significance | top-ranking signifcant probes | 800                                                                     3\n",
       "Statistical significance | top-ranking signifcant probes | 900                                                                     2\n",
       "Statistical significance | top-ranking signifcant probes | 900-1000                                                                2\n",
       "Statistical significance | top-ranking signifcant probes | ?                                                                       2\n",
       "Statistical significance | top-ranking signifcant probes | Experimented with multiple threshold                                    1\n",
       "Statistical significance | top-ranking signifcant probes | Tune exact number, ranging from 10 to 1000, in 10 intervals of 110)    12\n",
       "Name: count, dtype: int64"
      ]
     },
     "execution_count": 22,
     "metadata": {},
     "output_type": "execute_result"
    }
   ],
   "source": [
    "lit_main[['Including_CpGs_1', 'Including_CpGs_2', 'Including_CpGs_3', 'Including_CpGs_4', 'Including_CpGs_5']]\n",
    "\n",
    "lit_main.Including_CpGs_1.value_counts().sort_index()"
   ]
  },
  {
   "cell_type": "code",
   "execution_count": 23,
   "id": "d718e37a",
   "metadata": {},
   "outputs": [
    {
     "data": {
      "text/plain": [
       "Including_CpGs_2\n",
       "Association DNAm phenotype | AUC | ?                                         2\n",
       "Association DNAm phenotype | AUC | top ranking ?                             1\n",
       "Association DNAm phenotype | Actual change in methylation| 10%               5\n",
       "Association DNAm phenotype | Actual change in methylation| >.4               2\n",
       "Association DNAm phenotype | Actual change in methylation| ?                 1\n",
       "Association DNAm phenotype | Fixed p-value | FDR < .01                       1\n",
       "Association DNAm phenotype | Fixed p-value | not reported                    4\n",
       "Association DNAm phenotype | effect size | D>1.3                             1\n",
       "Association DNAm phenotype | logFC | >1                                      1\n",
       "Association DNAm phenotype | top-ranking signifcant probes | 1000            8\n",
       "Association DNAm phenotype | top-ranking signifcant probes | 800             3\n",
       "Association DNAm phenotype | top-ranking signifcant probes | 900             2\n",
       "Association DNAm phenotype | top-ranking signifcant probes | 900 to 1000     1\n",
       "Association DNAm phenotype | top-ranking signifcant probes | unclear         1\n",
       "Biological relevance |functional annotation | Grouped to genes               2\n",
       "Pruning | CoMeBack                                                          29\n",
       "Pruning | Multivariate regression | p < .001                                 1\n",
       "Pruning | Pairwise correlation | 0.75                                        3\n",
       "Pruning | pairwise correlation                                              23\n",
       "Reproducibility | Array                                                      2\n",
       "Reproducibility | Array | 450K                                               5\n",
       "Reproducibility | Array | PACE                                               2\n",
       "Reproducibility | Tissue | CD03 specific                                     1\n",
       "Reproducibility | Tissue | CD14 specific                                     6\n",
       "Reproducibility | Tissue | CD15 specific                                     2\n",
       "Reproducibility | Tissue | CD19 specific                                     2\n",
       "Reproducibility | Tissue | whole blood                                       3\n",
       "Statistical significance | Fixed p-value | .01                               1\n",
       "Statistical significance | Fixed p-value | p < .001                          1\n",
       "Statistical significance | Fixed p-value | p < .01                           8\n",
       "Statistical significance | Fixed p-value | p < 0.01                          2\n",
       "Statistical significance | top-ranking signifcant probes | 1000             62\n",
       "Statistical significance | top-ranking signifcant probes | 1000              1\n",
       "Statistical significance | top-ranking signifcant probes | 500               1\n",
       "Statistical significance | top-ranking signifcant probes | 800               2\n",
       "Statistical significance | top-ranking signifcant probes | ?                19\n",
       "Unclear                                                                      1\n",
       "Name: count, dtype: int64"
      ]
     },
     "execution_count": 23,
     "metadata": {},
     "output_type": "execute_result"
    }
   ],
   "source": [
    "lit_main.Including_CpGs_2.value_counts().sort_index()"
   ]
  },
  {
   "cell_type": "code",
   "execution_count": 24,
   "id": "d7eb30de",
   "metadata": {},
   "outputs": [
    {
     "data": {
      "text/plain": [
       "Including_CpGs_3\n",
       "Association DNAm phenotype | AUC | 333 highest                     1\n",
       "Association DNAm phenotype | AUC | 500                             1\n",
       "Association DNAm phenotype | AUC | 500 highest                     1\n",
       "Association DNAm phenotype | AUC | = 1.00                          1\n",
       "Association DNAm phenotype | AUC | > .80                          24\n",
       "Association DNAm phenotype | AUC | > .90                           1\n",
       "Association DNAm phenotype | AUC | >0.98                           1\n",
       "Association DNAm phenotype | AUC | ?                              21\n",
       "Association DNAm phenotype | AUC | top ranking 100-150            44\n",
       "Association DNAm phenotype | AUC | top ranking 160                 1\n",
       "Association DNAm phenotype | AUC | top ranking 200                 2\n",
       "Association DNAm phenotype | AUC | top ranking 267                 1\n",
       "Association DNAm phenotype | AUC | top ranking 300-500             1\n",
       "Association DNAm phenotype | AUC | top ranking 400                 2\n",
       "Association DNAm phenotype | AUC | top ranking 450                 2\n",
       "Association DNAm phenotype | AUC | top ranking 500                 5\n",
       "Association DNAm phenotype | AUC | top ranking ?                   2\n",
       "Association DNAm phenotype | Actual change in methylation| 10%     2\n",
       "Association DNAm phenotype | Actual change in methylation| 2%      1\n",
       "Association DNAm phenotype | hypermethylation                      1\n",
       "Pruning | Feature selection ML                                    10\n",
       "Pruning | Pairwise correlation | 0.75                              5\n",
       "Pruning | Pairwise correlation | 0.90                              2\n",
       "Pruning | Pairwise correlation | ?                                 2\n",
       "Pruning | stepwise selection                                       1\n",
       "Reproducibility | array                                            1\n",
       "Statistical significance | Fixed p-value | .01                     1\n",
       "Name: count, dtype: int64"
      ]
     },
     "execution_count": 24,
     "metadata": {},
     "output_type": "execute_result"
    }
   ],
   "source": [
    "lit_main.Including_CpGs_3.value_counts().sort_index()"
   ]
  },
  {
   "cell_type": "code",
   "execution_count": 38,
   "id": "6b7a87af",
   "metadata": {},
   "outputs": [
    {
     "data": {
      "text/plain": [
       "Including_CpGs_4\n",
       "Association DNAm phenotype | AUC | = 1.00                                                                                             2\n",
       "Association DNAm phenotype | AUC | top ranking 500                                                                                    1\n",
       "Association DNAm phenotype | Actual change in methylation| 5%                                                                         2\n",
       "Association DNAm phenotype | correlation | r>.4 (with lesion progression)                                                             1\n",
       "Pruning | Pairwise correlation | 0.6                                                                                                  2\n",
       "Pruning | Pairwise correlation | 0.60                                                                                                 1\n",
       "Pruning | Pairwise correlation | 0.60-0.80                                                                                            1\n",
       "Pruning | Pairwise correlation | 0.70                                                                                                 5\n",
       "Pruning | Pairwise correlation | 0.80                                                                                                18\n",
       "Pruning | Pairwise correlation | 0.84                                                                                                 1\n",
       "Pruning | Pairwise correlation | 0.85                                                                                                 4\n",
       "Pruning | Pairwise correlation | 0.95                                                                                                 3\n",
       "Pruning | Pairwise correlation | ?                                                                                                   22\n",
       "Pruning | R-squared | 0.60-0.80                                                                                                      44\n",
       "Pruning | R-squared | 0.80                                                                                                            8\n",
       "Reproducibility | Tissue | Present in both HPC and whole bloodReproducibility across tissue | Present in both HPC and whole blood     1\n",
       "Name: count, dtype: int64"
      ]
     },
     "execution_count": 38,
     "metadata": {},
     "output_type": "execute_result"
    }
   ],
   "source": [
    "lit_main.Including_CpGs_4.value_counts().sort_index()"
   ]
  },
  {
   "cell_type": "code",
   "execution_count": 39,
   "id": "6d5a8720",
   "metadata": {},
   "outputs": [
    {
     "data": {
      "text/plain": [
       "Including_CpGs_5\n",
       "Association DNAm phenotype | Actual change in methylation| 5%     2\n",
       "Biological relevance |functional annotation | Grouped to genes    1\n",
       "Name: count, dtype: int64"
      ]
     },
     "execution_count": 39,
     "metadata": {},
     "output_type": "execute_result"
    }
   ],
   "source": [
    "lit_main.Including_CpGs_5.value_counts().sort_index()"
   ]
  },
  {
   "cell_type": "code",
   "execution_count": 41,
   "id": "66307e7e",
   "metadata": {},
   "outputs": [
    {
     "data": {
      "text/plain": [
       "Determining_weights_1\n",
       "Discovery EWAS | Count (+1 hyper, -1 hypo, based on linear regression)      4\n",
       "Discovery EWAS | Survival analyses                                          1\n",
       "Discovery EWAS | linear mixed model                                        18\n",
       "Discovery EWAS | linear regression                                         76\n",
       "Machine learning | Gradient boosting machine                                4\n",
       "Machine learning | Naive bayes                                              1\n",
       "Machine learning | Neural net                                               1\n",
       "Machine learning | Random forest                                           10\n",
       "Machine learning | Support vector machine                                 130\n",
       "Penalized regression | ?                                                    1\n",
       "Penalized regression | Elastic net                                        293\n",
       "Penalized regression | Lasso                                                7\n",
       "Penalized regression | Lassosum                                             3\n",
       "Penalized regression | Logistic lasso                                       3\n",
       "Penalized regression | Penalized logistic regression                        4\n",
       "Penalized regression | partial least squares-discriminant analysis          3\n",
       "Penalized regression | random forest                                        3\n",
       "Name: count, dtype: int64"
      ]
     },
     "execution_count": 41,
     "metadata": {},
     "output_type": "execute_result"
    }
   ],
   "source": [
    "lit_main.Determining_weights_1.value_counts().sort_index()"
   ]
  },
  {
   "cell_type": "markdown",
   "id": "b56265f9",
   "metadata": {},
   "source": [
    "### Number of  Publications / MPSs per year"
   ]
  },
  {
   "cell_type": "code",
   "execution_count": 31,
   "id": "e5583886",
   "metadata": {},
   "outputs": [
    {
     "ename": "NameError",
     "evalue": "name 'plt' is not defined",
     "output_type": "error",
     "traceback": [
      "\u001b[0;31m---------------------------------------------------------------------------\u001b[0m",
      "\u001b[0;31mNameError\u001b[0m                                 Traceback (most recent call last)",
      "Cell \u001b[0;32mIn[31], line 1\u001b[0m\n\u001b[0;32m----> 1\u001b[0m \u001b[43mplt\u001b[49m\u001b[38;5;241m.\u001b[39mrcParams[\u001b[38;5;124m\"\u001b[39m\u001b[38;5;124mfont.family\u001b[39m\u001b[38;5;124m\"\u001b[39m] \u001b[38;5;241m=\u001b[39m \u001b[38;5;124m\"\u001b[39m\u001b[38;5;124msans-serif\u001b[39m\u001b[38;5;124m\"\u001b[39m\n\u001b[1;32m      2\u001b[0m plt\u001b[38;5;241m.\u001b[39mrcParams[\u001b[38;5;124m\"\u001b[39m\u001b[38;5;124mfont.sans-serif\u001b[39m\u001b[38;5;124m\"\u001b[39m] \u001b[38;5;241m=\u001b[39m [\u001b[38;5;124m\"\u001b[39m\u001b[38;5;124mVerdana\u001b[39m\u001b[38;5;124m\"\u001b[39m]\n\u001b[1;32m      4\u001b[0m f0 \u001b[38;5;241m=\u001b[39m lit_main\u001b[38;5;241m.\u001b[39mgroupby(\u001b[38;5;124m'\u001b[39m\u001b[38;5;124mYear\u001b[39m\u001b[38;5;124m'\u001b[39m)\u001b[38;5;241m.\u001b[39mTitle\u001b[38;5;241m.\u001b[39mnunique()\u001b[38;5;241m.\u001b[39mplot(figsize\u001b[38;5;241m=\u001b[39m(\u001b[38;5;241m10\u001b[39m, \u001b[38;5;241m5\u001b[39m), marker \u001b[38;5;241m=\u001b[39m\u001b[38;5;124m'\u001b[39m\u001b[38;5;124mo\u001b[39m\u001b[38;5;124m'\u001b[39m, ms \u001b[38;5;241m=\u001b[39m \u001b[38;5;241m9\u001b[39m, color\u001b[38;5;241m=\u001b[39m\u001b[38;5;124m'\u001b[39m\u001b[38;5;124mroyalblue\u001b[39m\u001b[38;5;124m'\u001b[39m)\n",
      "\u001b[0;31mNameError\u001b[0m: name 'plt' is not defined"
     ]
    }
   ],
   "source": [
    "plt.rcParams[\"font.family\"] = \"sans-serif\"\n",
    "plt.rcParams[\"font.sans-serif\"] = [\"Verdana\"]\n",
    "\n",
    "f0 = lit_main.groupby('Year').Title.nunique().plot(figsize=(10, 5), marker ='o', ms = 9, color='royalblue')\n",
    "\n",
    "f0.set_xticklabels([int(x) for x in f0.get_xticks()], rotation=60)\n",
    "\n",
    "f0.set_yticks([1]+[int(x) for x in range(5, 26, 5)])\n",
    "\n",
    "# Set bin edges (1-year bins)\n",
    "years = lit_main['Year']\n",
    "min_year, max_year = years.min(), years.max()\n",
    "\n",
    "# Histogram counts\n",
    "counts, bin_edges = np.histogram(years, bins=np.arange(lit_main['Year'].min(), lit_main['Year'].max() + 2))  # +2 to include the last year)\n",
    "\n",
    "# Scale counts to match 0-30 range to fit it on the same plot\n",
    "max_count = counts.max()\n",
    "scaled_counts = counts * (30 / max_count) if max_count > 0 else counts\n",
    "\n",
    "nmps_bars = f0.bar(bin_edges[:-1],  # center the bars\n",
    "                   scaled_counts,\n",
    "                   width=0.4, color='pink', alpha=0.5, edgecolor=None, zorder=1, align='center')\n",
    "\n",
    "for bar, count in zip(nmps_bars, counts):\n",
    "\n",
    "    # Annotate each bar with the original count\n",
    "    f0.text(bar.get_x() + bar.get_width()/2, \n",
    "            -3, # bar.get_height()+5, \n",
    "            str(count),\n",
    "            ha='center', va='bottom', color='crimson', fontsize=10, \n",
    "            bbox=dict(boxstyle='round,pad=0.3',    # Rounded corners with padding\n",
    "                      facecolor='pink', edgecolor='none', alpha=0.5))\n",
    "    \n",
    "f0.text(2025, -3, '*Number of MPSs', ha='center', va='bottom', fontsize=10, color='crimson', fontdict={'fontstyle':'italic'})\n",
    "\n",
    "# Remove axes spines\n",
    "for spine in f0.spines.values():\n",
    "    spine.set_visible(False)\n",
    "\n",
    "# Adjust y-axis \n",
    "f0.set_ylim(-10, 35)\n",
    "f0.tick_params(axis='y', length=0, labelcolor='royalblue', labelsize=10)\n",
    "f0.set_ylabel('Number of publications', fontsize=12, fontweight='bold', labelpad=10)\n",
    "f0.grid(axis='y', color='royalblue', alpha=0.3)\n",
    "\n",
    "# Adjust x-axis\n",
    "f0.tick_params(axis='x', length=10, width=1, direction='in', color='black')\n",
    "f0.hlines(-8.4, 2016.999, 2024, colors='black', linewidth=1)\n",
    "f0.set_xlabel('Year', fontsize=12, fontweight='bold', labelpad=10)\n",
    "\n",
    "f0.figure.savefig(f'../static_output/Figure0_MPS-pubs-per-year.png', dpi=300, bbox_inches='tight')"
   ]
  },
  {
   "cell_type": "markdown",
   "id": "81dfd595",
   "metadata": {},
   "source": [
    "### Publication network graph "
   ]
  },
  {
   "cell_type": "code",
   "execution_count": null,
   "id": "7c1d77a9",
   "metadata": {},
   "outputs": [],
   "source": [
    "import ast\n",
    "import networkx as nx\n",
    "import pickle"
   ]
  },
  {
   "cell_type": "code",
   "execution_count": null,
   "id": "ed7e1d62",
   "metadata": {},
   "outputs": [],
   "source": [
    "G = nx.Graph()\n",
    "\n",
    "for pub in glit.Title:             \n",
    "    title = f\"Paper/{pub.replace(':', ' ')}\"\n",
    "    authors = ast.literal_eval(glit.loc[glit.Title==pub, 'Author_list'].iloc[0])\n",
    "    for author in authors:\n",
    "        author = f\"Author/{author.replace('. ', '.')}\" # remove space between multiple initials   \n",
    "        G.add_edge(author, title)\n"
   ]
  },
  {
   "cell_type": "code",
   "execution_count": null,
   "id": "bdf889d1",
   "metadata": {},
   "outputs": [],
   "source": [
    "# Estimate optimal node positions ----------------------------------------------------\n",
    "# pos = nx.spring_layout(G, seed=3108, k=1000)\n",
    "pos = nx.fruchterman_reingold_layout(G, seed=3108, k=0.05)\n",
    "\n",
    "# Assign 'pos' attribute to the nodes in the graph\n",
    "for node in G.nodes:\n",
    "    G.nodes[node]['pos'] = pos[node]\n"
   ]
  },
  {
   "cell_type": "code",
   "execution_count": null,
   "id": "7f762a03",
   "metadata": {},
   "outputs": [],
   "source": [
    "G.nodes"
   ]
  },
  {
   "cell_type": "code",
   "execution_count": null,
   "id": "6f998bbf",
   "metadata": {},
   "outputs": [],
   "source": [
    "# Save the graph object to a file\n",
    "with open(f'{assets_directory}/Publications_network.pkl', 'wb') as file:\n",
    "    pickle.dump(G, file)"
   ]
  },
  {
   "cell_type": "code",
   "execution_count": null,
   "id": "3e34d2c9",
   "metadata": {},
   "outputs": [],
   "source": [
    "with open(f'{assets_directory}/Publications_network.pkl', 'rb') as file:\n",
    "    G = pickle.load(file)"
   ]
  },
  {
   "cell_type": "markdown",
   "id": "4456be9e",
   "metadata": {},
   "source": [
    "### Merge base and target info "
   ]
  },
  {
   "cell_type": "code",
   "execution_count": null,
   "id": "d34483c6",
   "metadata": {},
   "outputs": [],
   "source": [
    "d_base = pd.read_csv(f'{assets_directory}MPS_base_samples_cleaned.csv')\n",
    "\n",
    "d_targ = lit_main.loc[lit_main.What_is_available != 'Only phenotype',]\n",
    "\n",
    "print(d_targ.shape, d_base.shape)"
   ]
  },
  {
   "cell_type": "code",
   "execution_count": null,
   "id": "59cbee54",
   "metadata": {},
   "outputs": [],
   "source": [
    "multi_base = d_targ.loc[d_targ.Identifier_base == \"Multiple\",]\n",
    "\n",
    "multi_base_pubs = multi_base.Title.unique()\n",
    "print(multi_base.shape[0], 'MPSs, from', len(multi_base_pubs), 'publications have multiple base samples.')\n",
    "\n",
    "# d_targ.Multiple_identifier_base.value_counts()\n",
    "multi_base.What_is_available.value_counts()\n",
    "\n",
    "# TMP: remove them for now \n",
    "d_targ = d_targ.loc[d_targ.Identifier_base != \"Multiple\",]\n",
    "\n",
    "d_targ.shape"
   ]
  },
  {
   "cell_type": "code",
   "execution_count": null,
   "id": "c9a3b79c",
   "metadata": {},
   "outputs": [],
   "source": [
    "d_base['MPS_id'] = d_base['Identifier'] + d_base['Phenotype']\n",
    "d_targ['MPS_id'] = d_targ['Identifier_base'] + d_targ['Phenotype']\n",
    "# d_targ = d_targ.rename(columns={'Identifier_base': 'Identifier'})\n",
    "\n",
    "common_ids = set(d_base['MPS_id']) & set(d_targ['MPS_id'])\n",
    "unique_to_base = set(d_base['MPS_id']) - set(d_targ['MPS_id'])\n",
    "unique_to_targ = set(d_targ['MPS_id']) - set(d_base['MPS_id'])\n",
    "\n",
    "print(len(common_ids), \"matching ids\")\n",
    "print(len(unique_to_base), \"unique to base\")\n",
    "# print(unique_to_base)\n",
    "print(len(unique_to_targ), \"unique to targ\")\n",
    "# print(unique_to_targ)\n",
    "\n",
    "# d_targ.loc[~d_targ.Multiple_identifier_base.isna(),]"
   ]
  },
  {
   "cell_type": "code",
   "execution_count": null,
   "id": "2b012920",
   "metadata": {},
   "outputs": [],
   "source": [
    "d_targ_base = d_targ.merge(d_base, on='MPS_id', how='left', suffixes=['_targ','_base'])\n",
    "print(d_targ_base.columns)\n",
    "d_targ_base.shape\n",
    "\n",
    "# Save cleaned data ------------------------------------------------------------------\n",
    "d_targ_base.to_csv(f'{assets_directory}MPS_base_target_cleaned.csv', index=False)"
   ]
  },
  {
   "cell_type": "code",
   "execution_count": null,
   "id": "f660d332-52e8-4c2f-bb20-7f24760d2136",
   "metadata": {
    "scrolled": true
   },
   "outputs": [],
   "source": [
    "# Merge BASE and TARGET data ---------------------------------------------------------\n",
    "# d2_vars = ['Identifier', # 'Identifier_base', 'Multiple_identifier_base'\n",
    "#            'Category', 'Phenotype', \n",
    "#            'Tissue',\n",
    "#            'Array',\n",
    "#            'Ancestry',\n",
    "#            'Developmental_period', \n",
    "#            'Covariates']\n",
    "\n",
    "# d1_vars = ['Identifier_base', # 'Multiple_identifier_base' ??\n",
    "#            'Title', 'Year', 'What_is_available', 'Sample_overlap_target_base']+d2_vars[1:]\n",
    "\n",
    "# # There is not overlap between BASE reference \n",
    "# # any([i in base_va.Identifier for i in  base_ss.Identifier])\n",
    "# d_base = pd.concat([base_ss[d2_vars], base_va[d2_vars]], axis=0)\n",
    "# d_base['MPS_id'] = d_base['Identifier'] + d_base['Phenotype']\n",
    "# print(d_base.shape, '\\n', list(d_base.columns))\n",
    "\n",
    "# d_targ = lit.loc[lit.What_is_available != 'Only phenotype', d1_vars]\n",
    "# d_targ['MPS_id'] = d_targ['Identifier_base'] + d_targ['Phenotype']\n",
    "# d_targ = d_targ.rename(columns={'Identifier_base': 'Identifier'})\n",
    "\n",
    "# print(d_targ.shape, '\\n', list(d_targ.columns))\n",
    "\n",
    "# # Merge info about target with info about base (for summary statistics)\n",
    "# d = d_targ.merge(d_base, on='MPS_id',\n",
    "#                  # left_on='Identifier_base', right_on='Identifier',\n",
    "#                  how='left', suffixes=['_targ','_base'])\n",
    "\n",
    "# # TMP: remove mismatches -------------------------------------------------------------\n",
    "# mismatch = d.loc[d['Identifier_base'].isna(), ]\n",
    "# d = d.loc[d['Identifier_base'].notna(), ] # Effectively inner join...\n",
    "# d.shape\n",
    "\n",
    "\n",
    "# Save cleaned data ------------------------------------------------------------------\n",
    "# d.to_csv(f'{assets_directory}MPS_base_target.csv', index=False)"
   ]
  },
  {
   "cell_type": "code",
   "execution_count": null,
   "id": "d3e15fce",
   "metadata": {},
   "outputs": [],
   "source": [
    "mismatch\n"
   ]
  },
  {
   "cell_type": "code",
   "execution_count": null,
   "id": "c5453078-5cf4-4e5f-964b-586f2ca811ec",
   "metadata": {},
   "outputs": [],
   "source": [
    "# PROBLEMS \n",
    "# \"Identifier_base\" in the validated_algorithm - ignore? \n",
    "\n",
    "# What to do with the \"multiple\" bases ?  Excluded for now \n",
    "lit.loc[lit.Identifier_base == 'Multiple', ['Title', 'Multiple_identifier_base']]\n",
    "\n",
    "# mismatch\n",
    "\n",
    "# 21 mismatches... dropping them for now \n",
    "# Drop mismatches for now-- discuss with Is how to handle them \n",
    "# Richmond (2018) - DNA methylation as a marker --- does not match becasue two kinds of maternal smoking ...\n",
    "# Gondolia (2019) - Methylome-wide association study provides --- not match because Air Polution vs PM \n",
    "# Stevenson (2021) - Creating and Validating a DNA --- IL6 vs IL-6: CHANGED IT \n",
    "# Levy (2022) - Novel diagnostic DNA methylation --- different disorders mismatch...?\n",
    "# Awamleh (2022) - DNA methylation signature ass --- different syndromes?\n",
    "# Portales-Casamar (2016) - DNA methylation sign --- fetal alcohol syndrome ONLY? or also prenatal alcohol exposure \n",
    "# Aref-Eshghi (2019) - Evaluation of DNA Methyla --- Genitopatellar syndrome (GTPTS) and Ohdo syndrome, SBBYSS variant (SBBYSS)...  matching wich?\n",
    "# ...\n",
    "\n",
    "# Identifier base == multiple. What do you mean, combined? "
   ]
  }
 ],
 "metadata": {
  "kernelspec": {
   "display_name": "demetra_venv",
   "language": "python",
   "name": "python3"
  },
  "language_info": {
   "codemirror_mode": {
    "name": "ipython",
    "version": 3
   },
   "file_extension": ".py",
   "mimetype": "text/x-python",
   "name": "python",
   "nbconvert_exporter": "python",
   "pygments_lexer": "ipython3",
   "version": "3.9.1"
  }
 },
 "nbformat": 4,
 "nbformat_minor": 5
}
