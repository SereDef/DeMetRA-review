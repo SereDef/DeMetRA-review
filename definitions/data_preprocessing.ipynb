{
 "cells": [
  {
   "cell_type": "markdown",
   "id": "efd73777-783a-4f41-a3a4-bd29b7460112",
   "metadata": {},
   "source": [
    "# DeMetRA - literature review\n",
    "\n",
    "This the preprocessing pipeline for the metadata included in the DeMetRA review. Inputs to the pipeline are: \n",
    "- The `MPS_review_systematic_DATE.xlsx` file, which contains the metadata manually extracted by Isabel \n",
    "- The bibliography file, to supplement more information about the publications included in the review."
   ]
  },
  {
   "cell_type": "code",
   "execution_count": 1,
   "id": "1f888c4b",
   "metadata": {},
   "outputs": [],
   "source": [
    "import pandas as pd\n",
    "import numpy as np\n",
    "\n",
    "assets_directory = '../assets/'"
   ]
  },
  {
   "cell_type": "markdown",
   "id": "56cff8ed",
   "metadata": {},
   "source": [
    "In the file created by Isabel, there are 3 sheets:\n",
    "1. The main list of MPSs / papers included in the review\n",
    "2. The base sample references papers for summary statistics \n",
    "3. The base sample references papers for validated algorithms \n"
   ]
  },
  {
   "cell_type": "code",
   "execution_count": 2,
   "id": "e4d4a974-cbdb-43da-af7b-582845b4c988",
   "metadata": {},
   "outputs": [
    {
     "name": "stderr",
     "output_type": "stream",
     "text": [
      "/Users/Serena/Desktop/DEMETRA/DeMetRA-review/demetra_venv/lib/python3.9/site-packages/openpyxl/worksheet/_reader.py:329: UserWarning: Data Validation extension is not supported and will be removed\n",
      "  warn(msg)\n",
      "/Users/Serena/Desktop/DEMETRA/DeMetRA-review/demetra_venv/lib/python3.9/site-packages/openpyxl/worksheet/_reader.py:329: UserWarning: Data Validation extension is not supported and will be removed\n",
      "  warn(msg)\n"
     ]
    }
   ],
   "source": [
    "sys_review_file = 'MPS_review_systematic_2025-05-06.xlsx' # 'MPS_review_systematic_2025-02-14.xlsx'\n",
    "\n",
    "lit, base_ss, base_va = pd.read_excel(f'{assets_directory}{sys_review_file}', sheet_name=[0, 1, 2]).values()\n",
    "\n",
    "# lit = lit.loc[lit.Include == 'Yes'].drop('Include', axis=1) # All included\n",
    "\n",
    "# print(lit.shape, '\\n', list(lit.columns))\n",
    "# print(base_ss.shape, '\\n', list(base_ss.columns))\n",
    "# print(base_va.shape, '\\n', list(base_va.columns))\n"
   ]
  },
  {
   "cell_type": "markdown",
   "id": "5014e2f4",
   "metadata": {},
   "source": [
    "Merge the two base sample sheets into one."
   ]
  },
  {
   "cell_type": "code",
   "execution_count": 3,
   "id": "8f0d6785",
   "metadata": {},
   "outputs": [],
   "source": [
    "base_ss.insert(1, 'Base use', 'Summary statistics')\n",
    "base_va.insert(1, 'Base use', 'Validated algorithm')\n",
    "\n",
    "# print(base_ss.shape, base_va.shape)\n",
    "\n",
    "lit_base = pd.concat([base_ss, base_va], axis=0, ignore_index=True, sort=False)\n",
    "\n",
    "# print(lit_base.shape, '\\n', list(lit_base.columns))"
   ]
  },
  {
   "cell_type": "markdown",
   "id": "339681b9",
   "metadata": {},
   "source": [
    "### STEP 1 - Data cleaning"
   ]
  },
  {
   "cell_type": "code",
   "execution_count": 4,
   "id": "ff8019b0-3a9d-4e86-b6fc-87b3e65eeb5b",
   "metadata": {},
   "outputs": [],
   "source": [
    "from dateutil.parser import parse as parse_date"
   ]
  },
  {
   "cell_type": "markdown",
   "id": "c14dc6c7-988f-4e57-bcc2-2745f57d26c6",
   "metadata": {},
   "source": [
    "#### Data inspection and cleaning\n",
    "\n",
    "To guide manual cleaning of the excel file, I print value counts for the main columns of interest."
   ]
  },
  {
   "cell_type": "code",
   "execution_count": 5,
   "id": "e35eac17-3145-4027-8ad6-a56e07c9690c",
   "metadata": {
    "collapsed": true,
    "jupyter": {
     "outputs_hidden": true,
     "source_hidden": true
    },
    "scrolled": true
   },
   "outputs": [
    {
     "name": "stdout",
     "output_type": "stream",
     "text": [
      "Tissue\n",
      "Peripheral blood          497\n",
      "Whole blood               153\n",
      "Saliva                    120\n",
      "Cord blood                 48\n",
      "Dried bloodspot            26\n",
      "Blood-clots                26\n",
      "Buccal cells               21\n",
      "Placenta                   15\n",
      "Nasal epithelial cells      7\n",
      "Tumour cells                7\n",
      "Multiple                    4\n",
      "Leukocytes                  4\n",
      "Not reported                1\n",
      "Cervical cells              1\n",
      "Name: count, dtype: int64\n",
      "\n",
      "\n",
      "Multiple_tissue\n",
      "NaN                            926\n",
      "Whole blood, HPCs                2\n",
      "Cord blood, Dried bloodspot      1\n",
      "Cord blood, Whole blood          1\n",
      "Name: count, dtype: int64\n",
      "\n",
      "\n",
      "Array\n",
      "Multiple    436\n",
      "EPICv1      289\n",
      "450K        191\n",
      "WGBS         14\n",
      "Name: count, dtype: int64\n",
      "\n",
      "\n",
      "Multiple_array\n",
      "NaN                                    494\n",
      "450K, EPICv1                           426\n",
      "450K, GMEL (~3000 CpGs from EPICv1)      6\n",
      "450K, EPICv2                             2\n",
      "450K, EPICv3                             1\n",
      "450K, EPICv4                             1\n",
      "Name: count, dtype: int64\n",
      "\n",
      "\n",
      "Ancestry\n",
      "European        497\n",
      "Not reported    227\n",
      "White           145\n",
      "Multiple         48\n",
      "Mixed             8\n",
      "African           2\n",
      "Hispanic          2\n",
      "Australian        1\n",
      "Name: count, dtype: int64\n",
      "\n",
      "\n",
      "Multiple_ancestry\n",
      "NaN                                                       874\n",
      "White, African-American, Indian-American                   14\n",
      "Mixed, African, European                                    8\n",
      "European, Hispanic/Latinx                                   6\n",
      "Mixed, African                                              6\n",
      "White, African-American, Hispanic                           4\n",
      "White, African-American, Hispanic/Latinx, Asian, Other      2\n",
      "White, Hispanic/Latinx, Other                               2\n",
      "European, African-American, Hispanic/Latinx                 2\n",
      "European, North-American                                    2\n",
      "European, African-American                                  2\n",
      "White, African-American, Hispanic/Latinx, Asian             1\n",
      "White, African-American, Asian                              1\n",
      "European, Hispanic/Latinx , Mixed, African, American        1\n",
      "European, African, Hispanic                                 1\n",
      "White, other                                                1\n",
      "White, African-American, Hispanic/Latinx                    1\n",
      "European, African, other                                    1\n",
      "European, Indian Asian                                      1\n",
      "Name: count, dtype: int64\n",
      "\n",
      "\n",
      "Developmental_period\n",
      "Mid childhood                       321\n",
      "Birth                               174\n",
      "Childhood and adolescence           134\n",
      "Adults                              117\n",
      "Not reported                         94\n",
      "Late childhood                       45\n",
      "Adolescence                          29\n",
      "Very early childhood                 11\n",
      "Early childhood                       3\n",
      "Birth, Childhood and adolescence      1\n",
      "Childhood                             1\n",
      "Name: count, dtype: int64\n",
      "\n",
      "\n"
     ]
    }
   ],
   "source": [
    "# Inspect values \n",
    "def checklvl(var):\n",
    "    allobs = pd.concat([lit[var], base_ss[var], base_va[var]])\n",
    "    print(allobs.value_counts(dropna=False))\n",
    "\n",
    "for v in  ['Tissue', 'Array','Ancestry','Developmental_period']:\n",
    "    checklvl(v)\n",
    "    print('\\n')\n",
    "    try: \n",
    "        checklvl(f'Multiple_{v.lower()}')\n",
    "        print('\\n')\n",
    "    except:\n",
    "        pass\n",
    "\n",
    "# NOTE: this is to guide manual cleaning of the excel file!"
   ]
  },
  {
   "cell_type": "markdown",
   "id": "b16a1d0f",
   "metadata": {},
   "source": [
    "Extract and remove the \"_multiple\" 'Tissue', 'Array', and 'Ancestry' columns so that only one column is kept in the dataset. I do this for both the main list and the base samples."
   ]
  },
  {
   "cell_type": "code",
   "execution_count": 6,
   "id": "d6616b2e-205f-4f33-aa09-ea8b381fb2d9",
   "metadata": {},
   "outputs": [],
   "source": [
    "# Recode \"multiple\" categories\n",
    "def replace_multiples(df, drop_multiple_cols=True):\n",
    "\n",
    "    for var in ['Tissue', 'Array', 'Ancestry']:\n",
    "    \n",
    "        if var == 'Ancestry':\n",
    "            df.loc[df[var] == 'Multiple', var] = 'Mixed'\n",
    "    \n",
    "        else:\n",
    "            df.loc[df[var] == 'Multiple', var] = [f'Multiple ({values})' for values in df.loc[df[var] == 'Multiple', f'Multiple_{var.lower()}']]\n",
    "        \n",
    "        # print(df[var].value_counts(), '\\n')\n",
    "    \n",
    "        if drop_multiple_cols:\n",
    "            df.drop([f'Multiple_{var.lower()}'], axis=1, inplace=True)\n",
    "\n",
    "    return df\n",
    "\n",
    "lit = replace_multiples(lit)\n",
    "lit_base = replace_multiples(lit_base)"
   ]
  },
  {
   "cell_type": "markdown",
   "id": "d47370ea",
   "metadata": {},
   "source": [
    "Removing 2 scores that have Number of CpGs == 0 because they did not identify a solution. \n"
   ]
  },
  {
   "cell_type": "code",
   "execution_count": 7,
   "id": "b87ca262",
   "metadata": {},
   "outputs": [],
   "source": [
    "lit = lit[lit['Number of CpGs'] != 0].reset_index(drop=True)"
   ]
  },
  {
   "cell_type": "markdown",
   "id": "ba8f98d6",
   "metadata": {},
   "source": [
    "Clean the number of CpGs column by replacing \"NA\" with base sample sizes and setting \"Not reported\" to NA. "
   ]
  },
  {
   "cell_type": "code",
   "execution_count": 8,
   "id": "21edbb95",
   "metadata": {},
   "outputs": [
    {
     "name": "stdout",
     "output_type": "stream",
     "text": [
      "43 NA values\n"
     ]
    }
   ],
   "source": [
    "print(lit[\"Number of CpGs\"].isna().sum(), 'NA values')\n",
    "\n",
    "# na_nCpGs_baseID = lit.loc[lit['Number of CpGs'].isna(), 'Identifier_base']\n",
    "# lit_base.loc[lit_base['Identifier'].isin(na_nCpGs_baseID), ['Identifier','Phenotype','Number of CpGs']]\n",
    "\n",
    "for idx, row in lit.iterrows():\n",
    "    if pd.isna(row['Number of CpGs']):\n",
    "        # Find the corresponding row in lit_base\n",
    "        match = lit_base[\n",
    "            (lit_base['Identifier'] == row['Identifier_base']) &\n",
    "            (lit_base['Phenotype'] == row['Phenotype'])\n",
    "        ]\n",
    "        # If a match is found, update the 'Number of CpGs' value\n",
    "        if match.empty:\n",
    "            print(row['Identifier_base'], row['Phenotype'], 'not found')\n",
    "        else:\n",
    "            lit.at[idx, 'Number of CpGs'] = match.iloc[0]['Number of CpGs']\n"
   ]
  },
  {
   "cell_type": "code",
   "execution_count": 9,
   "id": "3829ca2e",
   "metadata": {},
   "outputs": [
    {
     "name": "stdout",
     "output_type": "stream",
     "text": [
      "0 NA values\n",
      "325 \"Not reported\" values\n"
     ]
    }
   ],
   "source": [
    "print(lit[\"Number of CpGs\"].isna().sum(), 'NA values')\n",
    "print(lit.loc[lit[\"Number of CpGs\"]=='Not reported',].shape[0], '\"Not reported\" values') \n",
    "\n",
    "lit['n CpGs'] = pd.to_numeric(lit['Number of CpGs'], errors='coerce')\n",
    "\n",
    "# Check coerced values (all NA == \"Not reported\")\n",
    "# coerced_mask = lit['n CpGs'].isna() & lit['Number of CpGs'].notna()\n",
    "# lit.loc[coerced_mask & (lit['Number of CpGs'] != 'Not reported'), ].shape[0]"
   ]
  },
  {
   "cell_type": "code",
   "execution_count": 10,
   "id": "3afab396",
   "metadata": {},
   "outputs": [
    {
     "name": "stdout",
     "output_type": "stream",
     "text": [
      "20 NA values\n",
      "16 \"Not reported\" values\n",
      "\n",
      "Problematic values (coerced to NA)\n"
     ]
    },
    {
     "data": {
      "text/plain": [
       "67     194-196\n",
       "68      51-176\n",
       "112    118-148\n",
       "121     82-107\n",
       "122     82-107\n",
       "Name: Number of CpGs, dtype: object"
      ]
     },
     "execution_count": 10,
     "metadata": {},
     "output_type": "execute_result"
    }
   ],
   "source": [
    "print(lit_base[\"Number of CpGs\"].isna().sum(), 'NA values')\n",
    "print(lit_base.loc[lit_base[\"Number of CpGs\"]=='Not reported',].shape[0], '\"Not reported\" values') \n",
    "\n",
    "lit_base['n CpGs'] = pd.to_numeric(lit_base['Number of CpGs'], errors='coerce')\n",
    "\n",
    "# Check coerced values\n",
    "coerced_mask = lit_base['n CpGs'].isna() & lit_base['Number of CpGs'].notna()\n",
    "print('\\nProblematic values (coerced to NA)')\n",
    "lit_base.loc[coerced_mask & (lit_base['Number of CpGs'] != 'Not reported'), 'Number of CpGs'] # .shape[0]\n"
   ]
  },
  {
   "cell_type": "markdown",
   "id": "d926193d",
   "metadata": {},
   "source": [
    "Clean the \"Sample size\" columns so that they are all numeric"
   ]
  },
  {
   "cell_type": "code",
   "execution_count": 11,
   "id": "ba67976e",
   "metadata": {},
   "outputs": [
    {
     "name": "stdout",
     "output_type": "stream",
     "text": [
      "\n",
      "These values are coerced to NA:\n",
      " Sample_size_total\n",
      "Unclear    5\n",
      ">1000      1\n",
      "Name: count, dtype: int64\n",
      "\n",
      "These values are coerced to NA:\n",
      " Sample_size_case\n",
      "Not reported    6\n",
      "Name: count, dtype: int64\n",
      "\n",
      "These values are coerced to NA:\n",
      " Sample_size_control\n",
      "Not reported    6\n",
      "Unclear         5\n",
      ">1000           1\n",
      "Name: count, dtype: int64\n"
     ]
    }
   ],
   "source": [
    "# Transform sample size to numeric -----------------------------------------------\n",
    "lit['Sample size'] = pd.to_numeric(lit['Sample_size_total'], errors='coerce')\n",
    "\n",
    "lit['n Cases'] = pd.to_numeric(lit['Sample_size_case'], errors='coerce')\n",
    "lit['n Controls'] = pd.to_numeric(lit['Sample_size_control'], errors='coerce')\n",
    "\n",
    "def check_coerced(old_var, new_var, df=lit):\n",
    "    # Check the coerced values\n",
    "    coerced_mask = df[new_var].isna() & df[old_var].notna()\n",
    "    coerced_values = df.loc[coerced_mask, old_var].value_counts()\n",
    "    if coerced_values.shape[0] > 0:\n",
    "        print('\\nThese values are coerced to NA:\\n', coerced_values)\n",
    "\n",
    "check_coerced('Sample_size_total', 'Sample size')\n",
    "check_coerced('Sample_size_case', 'n Cases')\n",
    "check_coerced('Sample_size_control', 'n Controls')"
   ]
  },
  {
   "cell_type": "code",
   "execution_count": 12,
   "id": "855ed7bd",
   "metadata": {},
   "outputs": [],
   "source": [
    "lit_base['Sample size'] = pd.to_numeric(lit_base['Sample_size_total'], errors='coerce')\n",
    "\n",
    "lit_base['n Cases'] = pd.to_numeric(lit_base['Sample_size_case'], errors='coerce')\n",
    "lit_base['n Controls'] = pd.to_numeric(lit_base['Sample_size_control'], errors='coerce')\n",
    "\n",
    "check_coerced('Sample_size_total', 'Sample size', df=lit_base)\n",
    "check_coerced('Sample_size_case', 'n Cases', df=lit_base)\n",
    "check_coerced('Sample_size_control', 'n Controls', df=lit_base)"
   ]
  },
  {
   "cell_type": "markdown",
   "id": "8f61a6d7",
   "metadata": {},
   "source": [
    "####  Bibliography file\n",
    "I additionally parse the bibliography file for publication dates, abstracts and keywords"
   ]
  },
  {
   "cell_type": "code",
   "execution_count": 13,
   "id": "b66abae5",
   "metadata": {},
   "outputs": [
    {
     "name": "stdout",
     "output_type": "stream",
     "text": [
      "(323, 9)\n"
     ]
    },
    {
     "data": {
      "text/html": [
       "<div>\n",
       "<style scoped>\n",
       "    .dataframe tbody tr th:only-of-type {\n",
       "        vertical-align: middle;\n",
       "    }\n",
       "\n",
       "    .dataframe tbody tr th {\n",
       "        vertical-align: top;\n",
       "    }\n",
       "\n",
       "    .dataframe thead th {\n",
       "        text-align: right;\n",
       "    }\n",
       "</style>\n",
       "<table border=\"1\" class=\"dataframe\">\n",
       "  <thead>\n",
       "    <tr style=\"text-align: right;\">\n",
       "      <th></th>\n",
       "      <th>Author_list</th>\n",
       "      <th>Year</th>\n",
       "      <th>Title</th>\n",
       "      <th>Journal</th>\n",
       "      <th>Keywords</th>\n",
       "      <th>Abstract</th>\n",
       "      <th>Date</th>\n",
       "      <th>DOI</th>\n",
       "      <th>URL</th>\n",
       "    </tr>\n",
       "  </thead>\n",
       "  <tbody>\n",
       "    <tr>\n",
       "      <th>0</th>\n",
       "      <td>[Abrishamcar, S., Chen, J., Feil, D., Kilanows...</td>\n",
       "      <td>2022</td>\n",
       "      <td>DNA methylation as a potential mediator of the...</td>\n",
       "      <td>Transl Psychiatry</td>\n",
       "      <td>NaN</td>\n",
       "      <td>Prenatal tobacco exposure (PTE) and prenatal a...</td>\n",
       "      <td>09 30</td>\n",
       "      <td>10.1038/s41398-022-02195-3</td>\n",
       "      <td>http://dx.doi.org/10.1038/s41398-022-02195-3</td>\n",
       "    </tr>\n",
       "    <tr>\n",
       "      <th>1</th>\n",
       "      <td>[Ács, O., Péterfia, B., Hollósi, P., Luczay, A...</td>\n",
       "      <td>2017</td>\n",
       "      <td>Methylation Status of CYP27B1 and IGF2 Correla...</td>\n",
       "      <td>Obes Facts</td>\n",
       "      <td>[25 hydroxyvitamin D, bisulfite, cytochrome P4...</td>\n",
       "      <td>Objective: Worldwide increasing childhood obes...</td>\n",
       "      <td>2017-08-16</td>\n",
       "      <td>10.1159/000477462</td>\n",
       "      <td>https://www.embase.com/search/results?subactio...</td>\n",
       "    </tr>\n",
       "  </tbody>\n",
       "</table>\n",
       "</div>"
      ],
      "text/plain": [
       "                                         Author_list  Year  \\\n",
       "0  [Abrishamcar, S., Chen, J., Feil, D., Kilanows...  2022   \n",
       "1  [Ács, O., Péterfia, B., Hollósi, P., Luczay, A...  2017   \n",
       "\n",
       "                                               Title            Journal  \\\n",
       "0  DNA methylation as a potential mediator of the...  Transl Psychiatry   \n",
       "1  Methylation Status of CYP27B1 and IGF2 Correla...         Obes Facts   \n",
       "\n",
       "                                            Keywords  \\\n",
       "0                                                NaN   \n",
       "1  [25 hydroxyvitamin D, bisulfite, cytochrome P4...   \n",
       "\n",
       "                                            Abstract        Date  \\\n",
       "0  Prenatal tobacco exposure (PTE) and prenatal a...       09 30   \n",
       "1  Objective: Worldwide increasing childhood obes...  2017-08-16   \n",
       "\n",
       "                          DOI  \\\n",
       "0  10.1038/s41398-022-02195-3   \n",
       "1           10.1159/000477462   \n",
       "\n",
       "                                                 URL  \n",
       "0       http://dx.doi.org/10.1038/s41398-022-02195-3  \n",
       "1  https://www.embase.com/search/results?subactio...  "
      ]
     },
     "execution_count": 13,
     "metadata": {},
     "output_type": "execute_result"
    }
   ],
   "source": [
    "# Parsing bibliography file (this shoud be a RIS or TXT file in RIS format)\n",
    "\n",
    "ris_tags = {\n",
    "    'TY': 'Reference Type',\n",
    "    'AU': 'Author_list',\n",
    "    'PY': 'Year',\n",
    "    'TI': 'Title', # 'T1\n",
    "    'T2': 'Journal', # 'JO'\n",
    "    'J2': 'Journal', # For pre-prints \n",
    "    'AB': 'Abstract',\n",
    "    'DO': 'DOI',\n",
    "    'UR': 'URL',\n",
    "    'KW': 'Keywords',\n",
    "    'DA': 'Date'\n",
    "}\n",
    "\n",
    "def parse_ris(file_path):\n",
    "    with open(file_path, 'r', encoding='utf-8') as file:\n",
    "        references = []\n",
    "\n",
    "        current_entry = {}\n",
    "        current_tag = None\n",
    "\n",
    "        for line in file:\n",
    "            if not line.strip():  # Skip empty lines\n",
    "                continue\n",
    "            elif line.strip() == 'ER  -':  # ER marks the end of the record\n",
    "                # Append reference and reset\n",
    "                references.append(current_entry)\n",
    "                current_entry = {}\n",
    "                current_tag = None \n",
    "            else:\n",
    "                tag = line[:5]\n",
    "\n",
    "                if tag in [f'{t}  -' for t in ris_tags.keys()]:\n",
    "                    current_tag = tag\n",
    "\n",
    "                    value = line[5:].strip()\n",
    "                    key = ris_tags[tag[:2]]\n",
    "\n",
    "                    if key in current_entry:\n",
    "                        if isinstance(current_entry[key], list):\n",
    "                            current_entry[key].append(value)\n",
    "                        else:\n",
    "                            current_entry[key] = [current_entry[key], value]\n",
    "                    else:\n",
    "                        current_entry[key] = value\n",
    "\n",
    "                # Handle dates that span multiple lines\n",
    "                elif tag in [f'{y}-' for y in range(2000, 2025)]:\n",
    "                    value = line.strip()\n",
    "                    if 'Date' not in current_entry:\n",
    "                        current_entry['Date'] = value # Only keep first occurrance (i.e. publication date)\n",
    "\n",
    "                # Handle keywords that span multiple lines\n",
    "                else:\n",
    "                    if current_tag == 'KW  -':\n",
    "                        value = line.strip()\n",
    "                        if isinstance(current_entry['Keywords'], list):\n",
    "                            current_entry['Keywords'].append(value)\n",
    "                        else:\n",
    "                            current_entry['Keywords'] = [current_entry['Keywords'], value]\n",
    "                                    \n",
    "        return references\n",
    "\n",
    "\n",
    "parsed_data = parse_ris(f'{assets_directory}Bibliography_2024-09-19.txt')\n",
    "bib = pd.DataFrame(parsed_data)[['Author_list', 'Year', 'Title', 'Journal', 'Keywords', 'Abstract', \n",
    "                                 'Date', 'DOI', 'URL']]\n",
    "\n",
    "print(bib.shape)\n",
    "bib.head(2)\n"
   ]
  },
  {
   "cell_type": "code",
   "execution_count": 14,
   "id": "c1865ebc",
   "metadata": {},
   "outputs": [
    {
     "name": "stdout",
     "output_type": "stream",
     "text": [
      "Note 9 NaN Date values will be set to 01/01 of respective year\n"
     ]
    }
   ],
   "source": [
    "# Clean bibliography file\n",
    "\n",
    "# Only selected papers ----------------------------------------------------------------\n",
    "bib_incl = bib.loc[bib.Title.isin(lit.Title.unique()), ].reset_index(drop=True)\n",
    "# bib_incl.shape\n",
    "\n",
    "# Correct dates ----------------------------------------------------------------------- \n",
    "print('Note', bib_incl.Date.isna().sum(), 'NaN Date values will be set to 01/01 of respective year')\n",
    "\n",
    "date_tmp = pd.Series([' '.join([d, y]) if y not in d else d for d, y in \n",
    "                   zip(bib_incl.Date.map(str), bib_incl.Year.map(str))])\n",
    "\n",
    "bib_incl.loc[:, 'Date'] = date_tmp.apply(lambda date: \n",
    "                                         parse_date(date).strftime('%Y-%m-%d') if 'nan' not in date else \n",
    "                                         parse_date('01 01' + date[3:]).strftime('%Y-%m-%d'))\n",
    "\n",
    "# Get Short Author titles ------------------------------------------------------------\n",
    "bib_incl['Author'] = [f'{fa[0].split(\",\")[0]} et al.' if len(fa) > 1 else f'{fa[0].split(\",\")[0]}' \n",
    "                            for fa in bib_incl['Author_list']]\n",
    "\n",
    "\n",
    "# Fix missing Journal names ----------------------------------------------------------\n",
    "bib_incl.loc[bib_incl.DOI.str.contains('10.3390/toxics9100262', na=False), \n",
    "             'Journal'] = 'Toxics'\n",
    "bib_incl.loc[bib_incl.DOI.str.contains('10.1007/s00787-024-02390-1', na=False), \n",
    "             'Journal'] = 'Eur Child Adolesc Psych'\n",
    "bib_incl.loc[bib_incl.DOI.str.contains('10.3390/ijms22031111|10.3390/ijms22168611', na=False), \n",
    "             'Journal'] = 'Int J Mol Sci'\n",
    "\n",
    "# bib_incl.head(3)\n"
   ]
  },
  {
   "cell_type": "code",
   "execution_count": 15,
   "id": "bcc2eb79",
   "metadata": {},
   "outputs": [
    {
     "name": "stdout",
     "output_type": "stream",
     "text": [
      "(758, 41)\n"
     ]
    }
   ],
   "source": [
    "print(lit.shape)\n",
    "\n",
    "lit_main = lit.rename(columns={'Author': 'Author_dirty',\n",
    "                               'Journal': 'Journal_dirty'}).merge(bib_incl,\n",
    "                     on='Title', how='left', suffixes=['','_BIB'])\n",
    "\n",
    "# CHECKUPS \n",
    "# lit_main[['Author','Author_list','Author_dirty']]\n",
    "# np.where(lit_main['Year'].map(int) != lit_main['Year_BIB'].map(int))\n",
    "# pd.set_option('display.max_rows', None)\n",
    "# lit_main.loc[lit_main['DOI'].map(str) != lit_main['DOI_BIB'].map(str), ['Title','DOI','DOI_BIB']]\n",
    "\n",
    "# Clean Journal names ----------------------------------------------------------------\n",
    "lit_main['Journal'] = lit_main['Journal'].apply(lambda x: x[0] if isinstance(x, list) else x)\n",
    "\n",
    "# Clean DOI values -------------------------------------------------------------------\n",
    "lit_main['DOI_BIB'] = lit_main['DOI_BIB'].fillna(lit_main['DOI'])\n",
    "lit_main['DOI'] = lit_main['DOI_BIB']\n",
    "lit_main.drop(['DOI_BIB','Year_BIB'], axis=1, inplace=True)"
   ]
  },
  {
   "cell_type": "markdown",
   "id": "2939c2d0",
   "metadata": {},
   "source": [
    "#### Rename and reorder"
   ]
  },
  {
   "cell_type": "code",
   "execution_count": 16,
   "id": "b63885a4",
   "metadata": {},
   "outputs": [],
   "source": [
    "# Rename columns\n",
    "rename_cols_dict = {'What_is_available': 'Based on',\n",
    "                    'Sample_type': 'Sample type',\n",
    "                    'Developmental_period': 'Developmental period',\n",
    "                    'Type': 'Publication type',}\n",
    "\n",
    "lit_main = lit_main.rename(columns=rename_cols_dict)  \n",
    "lit_base = lit_base.rename(columns=rename_cols_dict)\n",
    "\n",
    "# print(lit_main.columns)\n",
    "\n",
    "lit_base.drop(['Sample_size_case', 'Sample_size_control', 'Sample_size_total', 'Number of CpGs'], axis=1, inplace=True)\n",
    "\n",
    "# Dropping 'Author_dirty', 'Journal_dirty','Include', 'pdf','Link', \n",
    "\n",
    "mps_table = lit_main[['Phenotype', 'Category', 'Author', 'Year', 'Title', 'DOI',\n",
    "                      'n CpGs', 'Based on', 'Sample size', 'n Cases', 'n Controls',\n",
    "                      'Sample type', 'Developmental period', 'Tissue', 'Array', 'Ancestry',\n",
    "                      'Identifier', 'Publication type', 'Journal', 'Keywords', 'Abstract', 'Author_list', 'Date', 'URL',\n",
    "                      'Including_CpGs_1', 'Including_CpGs_2', 'Including_CpGs_3', 'Including_CpGs_4', 'Including_CpGs_5',\n",
    "                      'Identifier_base', 'Multiple_identifier_base', 'Sample_overlap_target_base',\n",
    "                      'Determining_weights_1', 'Train_test', 'Independent_validation', 'Comparison', 'Missing_value_note',\n",
    "                      'Reflect_phenotype','Covariates']]\n",
    "\n",
    "# Save cleaned data ------------------------------------------------------------------\n",
    "# lit_main.to_csv(f'{assets_directory}MPS_literature_cleaned.csv', index=False)"
   ]
  },
  {
   "cell_type": "code",
   "execution_count": 17,
   "id": "f127868a",
   "metadata": {},
   "outputs": [
    {
     "name": "stdout",
     "output_type": "stream",
     "text": [
      "(758, 39)\n"
     ]
    },
    {
     "data": {
      "text/html": [
       "<div>\n",
       "<style scoped>\n",
       "    .dataframe tbody tr th:only-of-type {\n",
       "        vertical-align: middle;\n",
       "    }\n",
       "\n",
       "    .dataframe tbody tr th {\n",
       "        vertical-align: top;\n",
       "    }\n",
       "\n",
       "    .dataframe thead th {\n",
       "        text-align: right;\n",
       "    }\n",
       "</style>\n",
       "<table border=\"1\" class=\"dataframe\">\n",
       "  <thead>\n",
       "    <tr style=\"text-align: right;\">\n",
       "      <th></th>\n",
       "      <th>Phenotype</th>\n",
       "      <th>Category</th>\n",
       "      <th>Author</th>\n",
       "      <th>Year</th>\n",
       "      <th>Title</th>\n",
       "      <th>DOI</th>\n",
       "      <th>n CpGs</th>\n",
       "      <th>Based on</th>\n",
       "      <th>Sample size</th>\n",
       "      <th>n Cases</th>\n",
       "      <th>n Controls</th>\n",
       "      <th>Sample type</th>\n",
       "      <th>Developmental period</th>\n",
       "      <th>Tissue</th>\n",
       "      <th>Array</th>\n",
       "      <th>Ancestry</th>\n",
       "      <th>Identifier</th>\n",
       "      <th>Publication type</th>\n",
       "      <th>Journal</th>\n",
       "      <th>Keywords</th>\n",
       "      <th>Abstract</th>\n",
       "      <th>Author_list</th>\n",
       "      <th>Date</th>\n",
       "      <th>URL</th>\n",
       "      <th>Including_CpGs_1</th>\n",
       "      <th>Including_CpGs_2</th>\n",
       "      <th>Including_CpGs_3</th>\n",
       "      <th>Including_CpGs_4</th>\n",
       "      <th>Including_CpGs_5</th>\n",
       "      <th>Identifier_base</th>\n",
       "      <th>Multiple_identifier_base</th>\n",
       "      <th>Sample_overlap_target_base</th>\n",
       "      <th>Determining_weights_1</th>\n",
       "      <th>Train_test</th>\n",
       "      <th>Independent_validation</th>\n",
       "      <th>Comparison</th>\n",
       "      <th>Missing_value_note</th>\n",
       "      <th>Reflect_phenotype</th>\n",
       "      <th>Covariates</th>\n",
       "    </tr>\n",
       "  </thead>\n",
       "  <tbody>\n",
       "    <tr>\n",
       "      <th>0</th>\n",
       "      <td>Prenatal alcohol exposure</td>\n",
       "      <td>Lifestyle and environment</td>\n",
       "      <td>Abrishamcar et al.</td>\n",
       "      <td>2022</td>\n",
       "      <td>DNA methylation as a potential mediator of the...</td>\n",
       "      <td>10.1038/s41398-022-02195-3</td>\n",
       "      <td>NaN</td>\n",
       "      <td>EWAS summary statistics</td>\n",
       "      <td>262.0</td>\n",
       "      <td>NaN</td>\n",
       "      <td>NaN</td>\n",
       "      <td>Population-based</td>\n",
       "      <td>Birth</td>\n",
       "      <td>Cord blood</td>\n",
       "      <td>Multiple (450K, EPICv1)</td>\n",
       "      <td>African</td>\n",
       "      <td>1</td>\n",
       "      <td>Journal Article</td>\n",
       "      <td>Transl Psychiatry</td>\n",
       "      <td>NaN</td>\n",
       "      <td>Prenatal tobacco exposure (PTE) and prenatal a...</td>\n",
       "      <td>[Abrishamcar, S., Chen, J., Feil, D., Kilanows...</td>\n",
       "      <td>2022-09-30</td>\n",
       "      <td>http://dx.doi.org/10.1038/s41398-022-02195-3</td>\n",
       "      <td>Association DNAm phenotype | Multiple p-values...</td>\n",
       "      <td>Pruning | CoMeBack</td>\n",
       "      <td>NaN</td>\n",
       "      <td>NaN</td>\n",
       "      <td>NaN</td>\n",
       "      <td>Sharp (2018) - Maternal alcohol consumption an...</td>\n",
       "      <td>NaN</td>\n",
       "      <td>No</td>\n",
       "      <td>Discovery EWAS | Linear regression</td>\n",
       "      <td>No</td>\n",
       "      <td>No</td>\n",
       "      <td>No</td>\n",
       "      <td>Not reported</td>\n",
       "      <td>Reported | Explained variance | R = 0.0006</td>\n",
       "      <td>maternal age, maternal HIV status, maternal de...</td>\n",
       "    </tr>\n",
       "  </tbody>\n",
       "</table>\n",
       "</div>"
      ],
      "text/plain": [
       "                   Phenotype                   Category              Author  \\\n",
       "0  Prenatal alcohol exposure  Lifestyle and environment  Abrishamcar et al.   \n",
       "\n",
       "   Year                                              Title  \\\n",
       "0  2022  DNA methylation as a potential mediator of the...   \n",
       "\n",
       "                          DOI  n CpGs                 Based on  Sample size  \\\n",
       "0  10.1038/s41398-022-02195-3     NaN  EWAS summary statistics        262.0   \n",
       "\n",
       "   n Cases  n Controls       Sample type Developmental period      Tissue  \\\n",
       "0      NaN         NaN  Population-based                Birth  Cord blood   \n",
       "\n",
       "                     Array Ancestry  Identifier Publication type  \\\n",
       "0  Multiple (450K, EPICv1)  African           1  Journal Article   \n",
       "\n",
       "             Journal Keywords  \\\n",
       "0  Transl Psychiatry      NaN   \n",
       "\n",
       "                                            Abstract  \\\n",
       "0  Prenatal tobacco exposure (PTE) and prenatal a...   \n",
       "\n",
       "                                         Author_list        Date  \\\n",
       "0  [Abrishamcar, S., Chen, J., Feil, D., Kilanows...  2022-09-30   \n",
       "\n",
       "                                            URL  \\\n",
       "0  http://dx.doi.org/10.1038/s41398-022-02195-3   \n",
       "\n",
       "                                    Including_CpGs_1    Including_CpGs_2  \\\n",
       "0  Association DNAm phenotype | Multiple p-values...  Pruning | CoMeBack   \n",
       "\n",
       "  Including_CpGs_3 Including_CpGs_4 Including_CpGs_5  \\\n",
       "0              NaN              NaN              NaN   \n",
       "\n",
       "                                     Identifier_base Multiple_identifier_base  \\\n",
       "0  Sharp (2018) - Maternal alcohol consumption an...                      NaN   \n",
       "\n",
       "  Sample_overlap_target_base               Determining_weights_1 Train_test  \\\n",
       "0                         No  Discovery EWAS | Linear regression         No   \n",
       "\n",
       "  Independent_validation Comparison Missing_value_note  \\\n",
       "0                     No         No       Not reported   \n",
       "\n",
       "                            Reflect_phenotype  \\\n",
       "0  Reported | Explained variance | R = 0.0006   \n",
       "\n",
       "                                          Covariates  \n",
       "0  maternal age, maternal HIV status, maternal de...  "
      ]
     },
     "execution_count": 17,
     "metadata": {},
     "output_type": "execute_result"
    }
   ],
   "source": [
    "pd.set_option('display.max_columns', None)\n",
    "print(mps_table.shape)\n",
    "mps_table.head(1)"
   ]
  },
  {
   "cell_type": "markdown",
   "id": "7ccef0c4",
   "metadata": {},
   "source": [
    "#### Publications table \n",
    "Create a  table grouped by \"paper\" rather than by \"MPS\""
   ]
  },
  {
   "cell_type": "code",
   "execution_count": 18,
   "id": "bf6ee4c3",
   "metadata": {},
   "outputs": [],
   "source": [
    "# Aggregate rows so that a list is returned when there are multiple values in the same \"paper group\"\n",
    "def aggregate_values(series):\n",
    "\n",
    "    # Keywords and Author_list contain lists, which are not hashable but also do not change across papers\n",
    "    if series.apply(lambda x: isinstance(x, list)).sum() > 0: \n",
    "        return series.iloc[0]\n",
    "    \n",
    "    unique_values = series.unique()\n",
    "    if len(unique_values) == 1:\n",
    "        return unique_values[0]\n",
    "    else:\n",
    "        return list(unique_values)\n",
    "\n",
    "# Group by 'Title' and apply the aggregation function \n",
    "pub_table = mps_table.groupby('Title').agg(aggregate_values).reset_index()\n",
    "n_MPS = mps_table.Title.value_counts() \n",
    "for t in n_MPS.index:\n",
    "    pub_table.loc[pub_table.Title == t, 'n MPSs'] = int(n_MPS[t])"
   ]
  },
  {
   "cell_type": "code",
   "execution_count": 19,
   "id": "4ba08b31",
   "metadata": {},
   "outputs": [
    {
     "name": "stdout",
     "output_type": "stream",
     "text": [
      "(89, 40)\n"
     ]
    },
    {
     "data": {
      "text/html": [
       "<div>\n",
       "<style scoped>\n",
       "    .dataframe tbody tr th:only-of-type {\n",
       "        vertical-align: middle;\n",
       "    }\n",
       "\n",
       "    .dataframe tbody tr th {\n",
       "        vertical-align: top;\n",
       "    }\n",
       "\n",
       "    .dataframe thead th {\n",
       "        text-align: right;\n",
       "    }\n",
       "</style>\n",
       "<table border=\"1\" class=\"dataframe\">\n",
       "  <thead>\n",
       "    <tr style=\"text-align: right;\">\n",
       "      <th></th>\n",
       "      <th>Author</th>\n",
       "      <th>Year</th>\n",
       "      <th>Title</th>\n",
       "      <th>DOI</th>\n",
       "      <th>Phenotype</th>\n",
       "      <th>Category</th>\n",
       "      <th>n MPSs</th>\n",
       "      <th>n CpGs</th>\n",
       "      <th>Based on</th>\n",
       "      <th>Sample size</th>\n",
       "      <th>n Cases</th>\n",
       "      <th>n Controls</th>\n",
       "      <th>Sample type</th>\n",
       "      <th>Developmental period</th>\n",
       "      <th>Tissue</th>\n",
       "      <th>Array</th>\n",
       "      <th>Ancestry</th>\n",
       "      <th>Identifier</th>\n",
       "      <th>Publication type</th>\n",
       "      <th>Journal</th>\n",
       "      <th>Keywords</th>\n",
       "      <th>Abstract</th>\n",
       "      <th>Author_list</th>\n",
       "      <th>Date</th>\n",
       "      <th>URL</th>\n",
       "      <th>Including_CpGs_1</th>\n",
       "      <th>Including_CpGs_2</th>\n",
       "      <th>Including_CpGs_3</th>\n",
       "      <th>Including_CpGs_4</th>\n",
       "      <th>Including_CpGs_5</th>\n",
       "      <th>Identifier_base</th>\n",
       "      <th>Multiple_identifier_base</th>\n",
       "      <th>Sample_overlap_target_base</th>\n",
       "      <th>Determining_weights_1</th>\n",
       "      <th>Train_test</th>\n",
       "      <th>Independent_validation</th>\n",
       "      <th>Comparison</th>\n",
       "      <th>Missing_value_note</th>\n",
       "      <th>Reflect_phenotype</th>\n",
       "      <th>Covariates</th>\n",
       "    </tr>\n",
       "  </thead>\n",
       "  <tbody>\n",
       "    <tr>\n",
       "      <th>0</th>\n",
       "      <td>Awamleh et al.</td>\n",
       "      <td>2024</td>\n",
       "      <td>A new blood DNA methylation signature for Kool...</td>\n",
       "      <td>10.1038/s41431-024-01538-6</td>\n",
       "      <td>Koolen de Vreis syndrome (KDVS)</td>\n",
       "      <td>Genetic syndromes</td>\n",
       "      <td>1.0</td>\n",
       "      <td>456.0</td>\n",
       "      <td>Only phenotype</td>\n",
       "      <td>30.0</td>\n",
       "      <td>8.0</td>\n",
       "      <td>22.0</td>\n",
       "      <td>Case control</td>\n",
       "      <td>Childhood and adolescence</td>\n",
       "      <td>Peripheral blood</td>\n",
       "      <td>EPICv1</td>\n",
       "      <td>Not reported</td>\n",
       "      <td>12</td>\n",
       "      <td>Journal Article</td>\n",
       "      <td>Eur J Hum Genet</td>\n",
       "      <td>[adult, article, child, clinical article, cont...</td>\n",
       "      <td>Pathogenic variants in KANSL1 and 17q21.31 mic...</td>\n",
       "      <td>[Awamleh, Z., Choufani, S., Wu, W., Rots, D., ...</td>\n",
       "      <td>2024-01-31</td>\n",
       "      <td>https://www.embase.com/search/results?subactio...</td>\n",
       "      <td>Association DNAm phenotype | Fixed p-value | F...</td>\n",
       "      <td>Association DNAm phenotype | Actual change in ...</td>\n",
       "      <td>NaN</td>\n",
       "      <td>NaN</td>\n",
       "      <td>NaN</td>\n",
       "      <td>NaN</td>\n",
       "      <td>NaN</td>\n",
       "      <td>NaN</td>\n",
       "      <td>Machine learning | Support vector machine</td>\n",
       "      <td>No</td>\n",
       "      <td>Yes (n = 208)</td>\n",
       "      <td>No</td>\n",
       "      <td>No</td>\n",
       "      <td>No actual number reported</td>\n",
       "      <td>Age, sex cell-type</td>\n",
       "    </tr>\n",
       "  </tbody>\n",
       "</table>\n",
       "</div>"
      ],
      "text/plain": [
       "           Author  Year                                              Title  \\\n",
       "0  Awamleh et al.  2024  A new blood DNA methylation signature for Kool...   \n",
       "\n",
       "                          DOI                        Phenotype  \\\n",
       "0  10.1038/s41431-024-01538-6  Koolen de Vreis syndrome (KDVS)   \n",
       "\n",
       "            Category  n MPSs n CpGs        Based on Sample size n Cases  \\\n",
       "0  Genetic syndromes     1.0  456.0  Only phenotype        30.0     8.0   \n",
       "\n",
       "  n Controls   Sample type       Developmental period            Tissue  \\\n",
       "0       22.0  Case control  Childhood and adolescence  Peripheral blood   \n",
       "\n",
       "    Array      Ancestry  Identifier Publication type          Journal  \\\n",
       "0  EPICv1  Not reported          12  Journal Article  Eur J Hum Genet   \n",
       "\n",
       "                                            Keywords  \\\n",
       "0  [adult, article, child, clinical article, cont...   \n",
       "\n",
       "                                            Abstract  \\\n",
       "0  Pathogenic variants in KANSL1 and 17q21.31 mic...   \n",
       "\n",
       "                                         Author_list        Date  \\\n",
       "0  [Awamleh, Z., Choufani, S., Wu, W., Rots, D., ...  2024-01-31   \n",
       "\n",
       "                                                 URL  \\\n",
       "0  https://www.embase.com/search/results?subactio...   \n",
       "\n",
       "                                    Including_CpGs_1  \\\n",
       "0  Association DNAm phenotype | Fixed p-value | F...   \n",
       "\n",
       "                                    Including_CpGs_2 Including_CpGs_3  \\\n",
       "0  Association DNAm phenotype | Actual change in ...              NaN   \n",
       "\n",
       "  Including_CpGs_4 Including_CpGs_5 Identifier_base Multiple_identifier_base  \\\n",
       "0              NaN              NaN             NaN                      NaN   \n",
       "\n",
       "  Sample_overlap_target_base                      Determining_weights_1  \\\n",
       "0                        NaN  Machine learning | Support vector machine   \n",
       "\n",
       "  Train_test Independent_validation Comparison Missing_value_note  \\\n",
       "0         No          Yes (n = 208)         No                 No   \n",
       "\n",
       "           Reflect_phenotype          Covariates  \n",
       "0  No actual number reported  Age, sex cell-type  "
      ]
     },
     "execution_count": 19,
     "metadata": {},
     "output_type": "execute_result"
    }
   ],
   "source": [
    "print(pub_table.shape)\n",
    "\n",
    "# reorder columns\n",
    "pub_table = pub_table[['Author', 'Year', 'Title', 'DOI', 'Phenotype', 'Category', \n",
    "                      'n MPSs', 'n CpGs', 'Based on', 'Sample size', 'n Cases', 'n Controls',\n",
    "                      'Sample type', 'Developmental period', 'Tissue', 'Array', 'Ancestry',\n",
    "                      'Identifier', 'Publication type', 'Journal', 'Keywords', 'Abstract', 'Author_list', \n",
    "                      'Date', 'URL','Including_CpGs_1','Including_CpGs_2','Including_CpGs_3','Including_CpGs_4','Including_CpGs_5',\n",
    "                      'Identifier_base','Multiple_identifier_base','Sample_overlap_target_base',\n",
    "                      'Determining_weights_1','Train_test','Independent_validation','Comparison','Missing_value_note',\n",
    "                      'Reflect_phenotype','Covariates']]\n",
    "pub_table.head(1)"
   ]
  },
  {
   "cell_type": "markdown",
   "id": "c2efff84",
   "metadata": {},
   "source": [
    "#### Save cleaned files"
   ]
  },
  {
   "cell_type": "code",
   "execution_count": 20,
   "id": "49846faa",
   "metadata": {},
   "outputs": [],
   "source": [
    "lit_base.to_csv(f'{assets_directory}MPS_base_samples_cleaned.csv', index=False)\n",
    "mps_table.to_csv(f'{assets_directory}MPS_table_cleaned.csv', index=False)\n",
    "pub_table.to_csv(f'{assets_directory}Publication_table_cleaned.csv', index=False)"
   ]
  },
  {
   "cell_type": "markdown",
   "id": "79d3f123",
   "metadata": {},
   "source": [
    "### STEP 2 - Descriptives"
   ]
  },
  {
   "cell_type": "code",
   "execution_count": 21,
   "id": "035e43e6",
   "metadata": {},
   "outputs": [],
   "source": [
    "mps_table = pd.read_csv(f'{assets_directory}MPS_table_cleaned.csv')\n",
    "pub_table = pd.read_csv(f'{assets_directory}Publication_table_cleaned.csv')"
   ]
  },
  {
   "cell_type": "markdown",
   "id": "9376a186",
   "metadata": {},
   "source": [
    "### General descriptives "
   ]
  },
  {
   "cell_type": "code",
   "execution_count": 22,
   "id": "7569df9f",
   "metadata": {},
   "outputs": [
    {
     "name": "stdout",
     "output_type": "stream",
     "text": [
      "Total number of publications: 89\n",
      "Total number of unique MPSs: 758\n",
      "\n",
      " Based on\n",
      "Only phenotype                                            54\n",
      "Validated MPS algorithm                                   17\n",
      "EWAS summary statistics                                    9\n",
      "['EWAS summary statistics', 'Validated MPS algorithm']     4\n",
      "['Only phenotype', 'Validated MPS algorithm']              2\n",
      "['EWAS summary statistics', 'Only phenotype']              1\n",
      "['Validated MPS algorithm', 'Only phenotype']              1\n",
      "['Validated MPS algorithm', 'EWAS summary statistics']     1\n",
      "Name: count, dtype: int64\n"
     ]
    },
    {
     "data": {
      "text/html": [
       "<div>\n",
       "<style scoped>\n",
       "    .dataframe tbody tr th:only-of-type {\n",
       "        vertical-align: middle;\n",
       "    }\n",
       "\n",
       "    .dataframe tbody tr th {\n",
       "        vertical-align: top;\n",
       "    }\n",
       "\n",
       "    .dataframe thead th {\n",
       "        text-align: right;\n",
       "    }\n",
       "</style>\n",
       "<table border=\"1\" class=\"dataframe\">\n",
       "  <thead>\n",
       "    <tr style=\"text-align: right;\">\n",
       "      <th></th>\n",
       "      <th>Title</th>\n",
       "      <th>%</th>\n",
       "    </tr>\n",
       "    <tr>\n",
       "      <th>Based on</th>\n",
       "      <th></th>\n",
       "      <th></th>\n",
       "    </tr>\n",
       "  </thead>\n",
       "  <tbody>\n",
       "    <tr>\n",
       "      <th>EWAS summary statistics</th>\n",
       "      <td>15</td>\n",
       "      <td>16.9</td>\n",
       "    </tr>\n",
       "    <tr>\n",
       "      <th>Only phenotype</th>\n",
       "      <td>58</td>\n",
       "      <td>65.2</td>\n",
       "    </tr>\n",
       "    <tr>\n",
       "      <th>Validated MPS algorithm</th>\n",
       "      <td>25</td>\n",
       "      <td>28.1</td>\n",
       "    </tr>\n",
       "  </tbody>\n",
       "</table>\n",
       "</div>"
      ],
      "text/plain": [
       "                         Title     %\n",
       "Based on                            \n",
       "EWAS summary statistics     15  16.9\n",
       "Only phenotype              58  65.2\n",
       "Validated MPS algorithm     25  28.1"
      ]
     },
     "execution_count": 22,
     "metadata": {},
     "output_type": "execute_result"
    }
   ],
   "source": [
    "print('Total number of publications:', pub_table.shape[0])\n",
    "print('Total number of unique MPSs:', mps_table.shape[0])\n",
    "\n",
    "pubs_count = mps_table.groupby('Based on')['Title'].nunique().reset_index().set_index('Based on')\n",
    "\n",
    "# Add a column for the percentage of all titles\n",
    "pubs_count['%'] = round((pubs_count['Title'] /  pub_table.shape[0]) * 100, 1)\n",
    "\n",
    "# NOTE: this has more total publications because some have more than 1 value for what_is_available\n",
    "print('\\n', pub_table['Based on'].value_counts())\n",
    "\n",
    "pubs_count "
   ]
  },
  {
   "cell_type": "code",
   "execution_count": 23,
   "id": "ceed89b8",
   "metadata": {},
   "outputs": [
    {
     "name": "stdout",
     "output_type": "stream",
     "text": [
      "count     89.000000\n",
      "mean       8.516854\n",
      "std       31.453831\n",
      "min        1.000000\n",
      "25%        1.000000\n",
      "50%        1.000000\n",
      "75%        5.000000\n",
      "max      278.000000\n",
      "Name: n MPSs, dtype: float64\n",
      "\n",
      " 16 % of publications report more than 10 MPSs.\n"
     ]
    },
    {
     "data": {
      "text/html": [
       "<div>\n",
       "<style scoped>\n",
       "    .dataframe tbody tr th:only-of-type {\n",
       "        vertical-align: middle;\n",
       "    }\n",
       "\n",
       "    .dataframe tbody tr th {\n",
       "        vertical-align: top;\n",
       "    }\n",
       "\n",
       "    .dataframe thead th {\n",
       "        text-align: right;\n",
       "    }\n",
       "</style>\n",
       "<table border=\"1\" class=\"dataframe\">\n",
       "  <thead>\n",
       "    <tr style=\"text-align: right;\">\n",
       "      <th>n MPSs</th>\n",
       "      <th>1.0</th>\n",
       "      <th>2.0</th>\n",
       "      <th>3.0</th>\n",
       "      <th>4.0</th>\n",
       "      <th>5.0</th>\n",
       "      <th>6.0</th>\n",
       "      <th>7.0</th>\n",
       "      <th>8.0</th>\n",
       "      <th>9.0</th>\n",
       "      <th>10.0</th>\n",
       "      <th>12.0</th>\n",
       "      <th>14.0</th>\n",
       "      <th>15.0</th>\n",
       "      <th>18.0</th>\n",
       "      <th>19.0</th>\n",
       "      <th>25.0</th>\n",
       "      <th>44.0</th>\n",
       "      <th>104.0</th>\n",
       "      <th>278.0</th>\n",
       "    </tr>\n",
       "  </thead>\n",
       "  <tbody>\n",
       "    <tr>\n",
       "      <th>count</th>\n",
       "      <td>48</td>\n",
       "      <td>11</td>\n",
       "      <td>3</td>\n",
       "      <td>4</td>\n",
       "      <td>1</td>\n",
       "      <td>2</td>\n",
       "      <td>1</td>\n",
       "      <td>3</td>\n",
       "      <td>1</td>\n",
       "      <td>1</td>\n",
       "      <td>3</td>\n",
       "      <td>3</td>\n",
       "      <td>2</td>\n",
       "      <td>1</td>\n",
       "      <td>1</td>\n",
       "      <td>1</td>\n",
       "      <td>1</td>\n",
       "      <td>1</td>\n",
       "      <td>1</td>\n",
       "    </tr>\n",
       "    <tr>\n",
       "      <th>%</th>\n",
       "      <td>53.9%</td>\n",
       "      <td>12.4%</td>\n",
       "      <td>3.4%</td>\n",
       "      <td>4.5%</td>\n",
       "      <td>1.1%</td>\n",
       "      <td>2.2%</td>\n",
       "      <td>1.1%</td>\n",
       "      <td>3.4%</td>\n",
       "      <td>1.1%</td>\n",
       "      <td>1.1%</td>\n",
       "      <td>3.4%</td>\n",
       "      <td>3.4%</td>\n",
       "      <td>2.2%</td>\n",
       "      <td>1.1%</td>\n",
       "      <td>1.1%</td>\n",
       "      <td>1.1%</td>\n",
       "      <td>1.1%</td>\n",
       "      <td>1.1%</td>\n",
       "      <td>1.1%</td>\n",
       "    </tr>\n",
       "  </tbody>\n",
       "</table>\n",
       "</div>"
      ],
      "text/plain": [
       "n MPSs  1.0    2.0   3.0   4.0   5.0   6.0   7.0   8.0   9.0   10.0  12.0   \\\n",
       "count      48     11     3     4     1     2     1     3     1     1     3   \n",
       "%       53.9%  12.4%  3.4%  4.5%  1.1%  2.2%  1.1%  3.4%  1.1%  1.1%  3.4%   \n",
       "\n",
       "n MPSs 14.0  15.0  18.0  19.0  25.0  44.0  104.0 278.0  \n",
       "count      3     2     1     1     1     1     1     1  \n",
       "%       3.4%  2.2%  1.1%  1.1%  1.1%  1.1%  1.1%  1.1%  "
      ]
     },
     "execution_count": 23,
     "metadata": {},
     "output_type": "execute_result"
    }
   ],
   "source": [
    "print(pub_table['n MPSs'].describe())\n",
    "\n",
    "counts = pub_table['n MPSs'].value_counts().sort_index(ascending=True)\n",
    "percent = counts / counts.sum() * 100\n",
    "\n",
    "n_MPS_count = counts.to_frame(name='count')\n",
    "n_MPS_count['%'] = percent.apply(lambda x: f\"{x:.1f}%\")\n",
    "\n",
    "print('\\n', round(100 - sum(percent.iloc[0:10])), \"% of publications report more than 10 MPSs.\")\n",
    "\n",
    "n_MPS_count.T\n"
   ]
  },
  {
   "cell_type": "code",
   "execution_count": 24,
   "id": "e6faa230",
   "metadata": {},
   "outputs": [
    {
     "name": "stdout",
     "output_type": "stream",
     "text": [
      "Total umber of phenotypes: 324\n",
      "Number of phenotypes with more than one MPS: 146 ( 45 %)\n"
     ]
    },
    {
     "data": {
      "text/plain": [
       "Phenotype\n",
       "Maternal smoking          49\n",
       "Asthma                    14\n",
       "Allergy                   14\n",
       "Kabuki syndrome           14\n",
       "Atopic status             12\n",
       "Externalizing behavior    12\n",
       "BMI                       10\n",
       "Internalizing behavior    10\n",
       "Sotos syndrome            10\n",
       "Name: count, dtype: int64"
      ]
     },
     "execution_count": 24,
     "metadata": {},
     "output_type": "execute_result"
    }
   ],
   "source": [
    "pheno_count = mps_table.Phenotype.value_counts()\n",
    "\n",
    "n_pheno = len(pheno_count)\n",
    "\n",
    "pheno_count_rep = pheno_count[pheno_count > 1]\n",
    "\n",
    "n_pheno_rep = len(pheno_count_rep)\n",
    "\n",
    "print('Total umber of phenotypes:', n_pheno)\n",
    "print('Number of phenotypes with more than one MPS:', n_pheno_rep, '(', round(n_pheno_rep / n_pheno * 100), '%)')\n",
    "\n",
    "pheno_count_rep[pheno_count_rep > 9]\n"
   ]
  },
  {
   "cell_type": "code",
   "execution_count": 25,
   "id": "85f66fea",
   "metadata": {},
   "outputs": [],
   "source": [
    "def get_count_percent(variable, data=mps_table, precision=0, print_count=True):\n",
    "    counts = pd.DataFrame(data[variable].value_counts())\n",
    "    _total = counts.sum()\n",
    "    \n",
    "    counts['%'] = round((counts / _total) * 100, precision)\n",
    "\n",
    "    # Some row indexes will be lists which are not hashable\n",
    "    counts.index = counts.index.map(lambda x: str(x) if isinstance(x, list) else x)\n",
    "\n",
    "    print('\\n')\n",
    "    for idx, row in counts.iterrows():\n",
    "        fmtcount = int(row['count']) if print_count else ''\n",
    "        fmtpercent = int(row['%']) if precision == 0 else row['%']\n",
    "        print(f\"{idx} {fmtcount} ({fmtpercent}%)\")\n"
   ]
  },
  {
   "cell_type": "code",
   "execution_count": 26,
   "id": "a89e77f1",
   "metadata": {},
   "outputs": [
    {
     "name": "stdout",
     "output_type": "stream",
     "text": [
      "\n",
      "\n",
      "Only phenotype 475 (63%)\n",
      "Validated MPS algorithm 200 (26%)\n",
      "EWAS summary statistics 83 (11%)\n"
     ]
    }
   ],
   "source": [
    "get_count_percent('Based on')"
   ]
  },
  {
   "cell_type": "code",
   "execution_count": 27,
   "id": "85006fef",
   "metadata": {},
   "outputs": [
    {
     "name": "stdout",
     "output_type": "stream",
     "text": [
      "\n",
      "\n",
      "Biological markers 394 (52%)\n",
      "Genetic syndromes 185 (24%)\n",
      "Lifestyle and environment 81 (11%)\n",
      "Physical health indicators 59 (8%)\n",
      "Neuro-psychiatric health indicators 34 (4%)\n",
      "Cancer 5 (1%)\n",
      "\n",
      "\n",
      "Genetic syndromes 45 (51%)\n",
      "Lifestyle and environment 17 (19%)\n",
      "Biological markers 7 (8%)\n",
      "Neuro-psychiatric health indicators 6 (7%)\n",
      "Cancer 5 (6%)\n",
      "Physical health indicators 4 (4%)\n",
      "['Physical health indicators', 'Lifestyle and environment'] 2 (2%)\n",
      "['Lifestyle and environment', 'Biological markers'] 1 (1%)\n",
      "['Lifestyle and environment', 'Neuro-psychiatric health indicators', 'Physical health indicators'] 1 (1%)\n",
      "['Physical health indicators', 'Neuro-psychiatric health indicators'] 1 (1%)\n"
     ]
    }
   ],
   "source": [
    "get_count_percent('Category')\n",
    "get_count_percent('Category', data=pub_table)"
   ]
  },
  {
   "cell_type": "code",
   "execution_count": 28,
   "id": "bb1dd631",
   "metadata": {},
   "outputs": [
    {
     "name": "stdout",
     "output_type": "stream",
     "text": [
      "MPS count\n",
      "\n",
      "\n",
      "Biological markers 394 (52.0%)\n",
      "Genetic syndromes 185 (24.4%)\n",
      "Lifestyle and environment 81 (10.7%)\n",
      "Physical health indicators 59 (7.8%)\n",
      "Neuro-psychiatric health indicators 34 (4.5%)\n",
      "Cancer 5 (0.7%)\n",
      "\n",
      "Phenotype count\n",
      " Category\n",
      "Biological markers                     182\n",
      "Cancer                                   5\n",
      "Genetic syndromes                      103\n",
      "Lifestyle and environment               18\n",
      "Neuro-psychiatric health indicators     10\n",
      "Physical health indicators               6\n",
      "Name: Phenotype, dtype: int64\n",
      "\n",
      "Publication count\n",
      " Category\n",
      "Biological markers                      8\n",
      "Cancer                                  5\n",
      "Genetic syndromes                      45\n",
      "Lifestyle and environment              21\n",
      "Neuro-psychiatric health indicators     8\n",
      "Physical health indicators              8\n",
      "Name: Title, dtype: int64\n"
     ]
    },
    {
     "data": {
      "text/plain": [
       "Category                    Phenotype      \n",
       "Biological markers          ADA                 3\n",
       "                            ADAMTS              1\n",
       "                            ARTN                3\n",
       "                            AXIN1               3\n",
       "                            Adiponectin         1\n",
       "                                               ..\n",
       "Physical health indicators  Asthma             14\n",
       "                            Atopic status      12\n",
       "                            BMI                10\n",
       "                            Birth weight        6\n",
       "                            Health problems     3\n",
       "Name: count, Length: 324, dtype: int64"
      ]
     },
     "execution_count": 28,
     "metadata": {},
     "output_type": "execute_result"
    }
   ],
   "source": [
    "print('MPS count')\n",
    "get_count_percent('Category', precision=1)\n",
    "print('\\nPhenotype count\\n', mps_table.groupby('Category')['Phenotype'].nunique())\n",
    "print('\\nPublication count\\n', mps_table.groupby('Category')['Title'].nunique())\n",
    "\n",
    "mps_table[['Category', 'Phenotype']].value_counts().sort_index()"
   ]
  },
  {
   "cell_type": "code",
   "execution_count": 29,
   "id": "4294d7d2",
   "metadata": {},
   "outputs": [
    {
     "data": {
      "text/plain": [
       "Phenotype\n",
       "uPA                          1\n",
       "16p11.2 deletion syndrome    1\n",
       "Name: Category, dtype: int64"
      ]
     },
     "execution_count": 29,
     "metadata": {},
     "output_type": "execute_result"
    }
   ],
   "source": [
    "# Check that each phenotype is always assigned to the same category\n",
    "mps_table.groupby('Phenotype')['Category'].nunique().sort_values(ascending=False).head(2)"
   ]
  },
  {
   "cell_type": "code",
   "execution_count": 30,
   "id": "06dc33e7",
   "metadata": {},
   "outputs": [
    {
     "name": "stdout",
     "output_type": "stream",
     "text": [
      "\n",
      "\n",
      "Peripheral blood 457 (60%)\n",
      "Saliva 120 (16%)\n",
      "Cord blood 45 (6%)\n",
      "Whole blood 35 (5%)\n",
      "Dried bloodspot 26 (3%)\n",
      "Blood-clots 26 (3%)\n",
      "Buccal cells 20 (3%)\n",
      "Placenta 13 (2%)\n",
      "Nasal epithelial cells 6 (1%)\n",
      "Tumour cells 4 (1%)\n",
      "Leukocytes 3 (0%)\n",
      "Not reported 1 (0%)\n",
      "Cervical cells 1 (0%)\n",
      "Multiple (Whole blood, HPCs) 1 (0%)\n"
     ]
    }
   ],
   "source": [
    "get_count_percent(\"Tissue\") #, print_count=False)"
   ]
  },
  {
   "cell_type": "code",
   "execution_count": 31,
   "id": "517fca38",
   "metadata": {},
   "outputs": [
    {
     "data": {
      "text/plain": [
       "Tissue\n",
       "Peripheral blood                457\n",
       "Saliva                          120\n",
       "Cord blood                       45\n",
       "Whole blood                      35\n",
       "Dried bloodspot                  26\n",
       "Blood-clots                      26\n",
       "Buccal cells                     20\n",
       "Placenta                         13\n",
       "Nasal epithelial cells            6\n",
       "Tumour cells                      4\n",
       "Leukocytes                        3\n",
       "Not reported                      1\n",
       "Cervical cells                    1\n",
       "Multiple (Whole blood, HPCs)      1\n",
       "Name: count, dtype: int64"
      ]
     },
     "execution_count": 31,
     "metadata": {},
     "output_type": "execute_result"
    }
   ],
   "source": [
    "mps_table['Tissue'].astype(str).value_counts(dropna=False)"
   ]
  },
  {
   "cell_type": "code",
   "execution_count": 32,
   "id": "4e9d70e6",
   "metadata": {},
   "outputs": [
    {
     "name": "stdout",
     "output_type": "stream",
     "text": [
      "592 (78.1%)\n",
      "140 (18.5%)\n",
      "24 (3.2%)\n",
      "1 (0.1%)\n"
     ]
    }
   ],
   "source": [
    "a = sum([\n",
    "457, # Peripheral blood 457 (60%)\n",
    "35, # Whole blood 35 (5%)\n",
    "45, # Cord blood 45 (6%)\n",
    "26, # Dried bloodspot 26 (3%)\n",
    "26, # Blood-clots 26 (3%)\n",
    "3 # Leukocytes 3 (0%)\n",
    "])\n",
    "\n",
    "b = sum([\n",
    "120, # Saliva 120 (16%)\n",
    "20 # Buccal cells 20 (3%)\n",
    "])\n",
    "\n",
    "c = sum([\n",
    "13, # Placenta 13 (2%)\n",
    "6, # Nasal epithelial cells 6 (1%)\n",
    "4, # Tumour cells 4 (1%)\n",
    "1 # Cervical cells 1 (0%)\n",
    "])\n",
    "\n",
    "d = 1 # Multiple (Whole blood, HPCs) 1 (0%)\n",
    "\n",
    "1# Not reported 1 (0%)\n",
    "\n",
    "for n in [a, b, c, d]:\n",
    "    print(f'{n} ({round(n / mps_table.shape[0] * 100, 1)}%)')\n"
   ]
  },
  {
   "cell_type": "code",
   "execution_count": 33,
   "id": "2197bfba",
   "metadata": {},
   "outputs": [
    {
     "name": "stdout",
     "output_type": "stream",
     "text": [
      "\n",
      "\n",
      "Population-based 394 (52%)\n",
      "Case control 193 (25%)\n",
      "Cohort study 120 (16%)\n",
      "Twin study 21 (3%)\n",
      "Convenience sample 18 (2%)\n",
      "Randomized controlled trial 12 (2%)\n",
      "\n",
      "\n",
      "Case control 48 (54%)\n",
      "Population-based 24 (27%)\n",
      "Cohort study 11 (12%)\n",
      "Twin study 3 (3%)\n",
      "Convenience sample 2 (2%)\n",
      "Randomized controlled trial 1 (1%)\n"
     ]
    }
   ],
   "source": [
    "get_count_percent(\"Sample type\")\n",
    "\n",
    "get_count_percent(\"Sample type\", data=pub_table)"
   ]
  },
  {
   "cell_type": "code",
   "execution_count": 34,
   "id": "11d498dd",
   "metadata": {},
   "outputs": [
    {
     "name": "stdout",
     "output_type": "stream",
     "text": [
      "\n",
      "\n",
      "Multiple (450K, EPICv1) 393 (52%)\n",
      "EPICv1 281 (37%)\n",
      "450K 63 (8%)\n",
      "WGBS 14 (2%)\n",
      "Multiple (450K, GMEL (~3000 CpGs from EPICv1)) 6 (1%)\n",
      "Multiple (450K, EPICv2) 1 (0%)\n",
      "\n",
      "\n",
      "EPICv1 53 (60%)\n",
      "450K 18 (20%)\n",
      "Multiple (450K, EPICv1) 12 (13%)\n",
      "['450K', 'EPICv1'] 2 (2%)\n",
      "WGBS 1 (1%)\n",
      "['EPICv1', '450K'] 1 (1%)\n",
      "['Multiple (450K, GMEL (~3000 CpGs from EPICv1))', '450K'] 1 (1%)\n",
      "['Multiple (450K, EPICv1)', 'Multiple (450K, EPICv2)'] 1 (1%)\n"
     ]
    }
   ],
   "source": [
    "# pd.set_option('display.max_columns', None)\n",
    "# # lit_main.loc[lit_main['Array'] == \"WGBS\",]\n",
    "\n",
    "get_count_percent(\"Array\")\n",
    "\n",
    "get_count_percent(\"Array\", data=pub_table)"
   ]
  },
  {
   "cell_type": "code",
   "execution_count": 35,
   "id": "bf49d9f6",
   "metadata": {},
   "outputs": [
    {
     "name": "stdout",
     "output_type": "stream",
     "text": [
      "\n",
      "\n",
      "European 380 (50.1%)\n",
      "Not reported 189 (24.9%)\n",
      "White 142 (18.7%)\n",
      "Mixed 44 (5.8%)\n",
      "African 2 (0.3%)\n",
      "Hispanic 1 (0.1%)\n",
      "\n",
      "\n",
      "Not reported 47 (52.8%)\n",
      "European 25 (28.1%)\n",
      "Mixed 9 (10.1%)\n",
      "White 6 (6.7%)\n",
      "African 1 (1.1%)\n",
      "Hispanic 1 (1.1%)\n"
     ]
    }
   ],
   "source": [
    "get_count_percent(\"Ancestry\", precision=1)\n",
    "\n",
    "get_count_percent(\"Ancestry\", precision=1, data=pub_table)"
   ]
  },
  {
   "cell_type": "code",
   "execution_count": 36,
   "id": "f7f34020",
   "metadata": {},
   "outputs": [
    {
     "name": "stdout",
     "output_type": "stream",
     "text": [
      "\n",
      "\n",
      "Mid childhood 320 (42.2%)\n",
      "Birth 166 (21.9%)\n",
      "Childhood and adolescence 125 (16.5%)\n",
      "Not reported 63 (8.3%)\n",
      "Late childhood 44 (5.8%)\n",
      "Adolescence 26 (3.4%)\n",
      "Very early childhood 11 (1.5%)\n",
      "Early childhood 3 (0.4%)\n",
      "\n",
      "\n",
      "Childhood and adolescence 43 (48.3%)\n",
      "Birth 17 (19.1%)\n",
      "Adolescence 6 (6.7%)\n",
      "Not reported 4 (4.5%)\n",
      "Late childhood 4 (4.5%)\n",
      "['Adolescence', 'Birth', 'Mid childhood'] 3 (3.4%)\n",
      "['Adolescence', 'Mid childhood'] 2 (2.2%)\n",
      "['Late childhood', 'Mid childhood'] 2 (2.2%)\n",
      "Very early childhood 2 (2.2%)\n",
      "Mid childhood 2 (2.2%)\n",
      "Early childhood 1 (1.1%)\n",
      "['Birth', 'Mid childhood'] 1 (1.1%)\n",
      "['Childhood and adolescence', 'Early childhood'] 1 (1.1%)\n",
      "['Not reported', 'Childhood and adolescence'] 1 (1.1%)\n"
     ]
    }
   ],
   "source": [
    "get_count_percent(\"Developmental period\", precision=1)\n",
    "\n",
    "get_count_percent(\"Developmental period\", precision=1, data=pub_table)"
   ]
  },
  {
   "cell_type": "code",
   "execution_count": 37,
   "id": "ae4f4698",
   "metadata": {},
   "outputs": [
    {
     "name": "stdout",
     "output_type": "stream",
     "text": [
      "\n",
      "\n",
      "No 251 (93%)\n",
      "Yes 19 (7%)\n"
     ]
    }
   ],
   "source": [
    "get_count_percent('Sample_overlap_target_base')\n",
    "\n",
    "# get_count_percent('Sample_overlap_target_base', data=pub_table)"
   ]
  },
  {
   "cell_type": "code",
   "execution_count": 38,
   "id": "19eed73c",
   "metadata": {},
   "outputs": [
    {
     "name": "stdout",
     "output_type": "stream",
     "text": [
      "count       433.000000\n",
      "mean       2738.713626\n",
      "std       37165.804126\n",
      "min           2.000000\n",
      "25%          37.000000\n",
      "50%         111.000000\n",
      "75%         204.000000\n",
      "max      764525.000000\n",
      "Name: n CpGs, dtype: float64\n"
     ]
    },
    {
     "data": {
      "text/plain": [
       "<Axes: >"
      ]
     },
     "execution_count": 38,
     "metadata": {},
     "output_type": "execute_result"
    },
    {
     "data": {
      "image/png": "[encoded data removed]",
      "text/plain": [
       "<Figure size 1500x400 with 1 Axes>"
      ]
     },
     "metadata": {},
     "output_type": "display_data"
    }
   ],
   "source": [
    "print(mps_table['n CpGs'].describe())\n",
    "\n",
    "mps_table['n CpGs'].hist(bins=100, figsize=(15, 4))"
   ]
  },
  {
   "cell_type": "code",
   "execution_count": 39,
   "id": "ae0897c5",
   "metadata": {},
   "outputs": [
    {
     "data": {
      "text/plain": [
       "<Axes: >"
      ]
     },
     "execution_count": 39,
     "metadata": {},
     "output_type": "execute_result"
    },
    {
     "data": {
      "image/png": "[encoded data removed]",
      "text/plain": [
       "<Figure size 1500x400 with 1 Axes>"
      ]
     },
     "metadata": {},
     "output_type": "display_data"
    }
   ],
   "source": [
    "mps_table['Sample size'].describe()\n",
    "\n",
    "mps_table['Sample size'].hist(bins=100, figsize=(15, 4))\n"
   ]
  },
  {
   "cell_type": "code",
   "execution_count": 40,
   "id": "62a2f000",
   "metadata": {},
   "outputs": [
    {
     "name": "stdout",
     "output_type": "stream",
     "text": [
      "r = -0.047 , P =  0.328\n"
     ]
    },
    {
     "data": {
      "text/plain": [
       "[<matplotlib.lines.Line2D at 0x131ba8250>]"
      ]
     },
     "execution_count": 40,
     "metadata": {},
     "output_type": "execute_result"
    },
    {
     "data": {
      "image/png": "[encoded data removed]",
      "text/plain": [
       "<Figure size 1500x600 with 1 Axes>"
      ]
     },
     "metadata": {},
     "output_type": "display_data"
    }
   ],
   "source": [
    "from scipy.stats import spearmanr\n",
    "r, p = spearmanr(mps_table['Sample size'], mps_table['n CpGs'], nan_policy='omit')\n",
    "\n",
    "print('r =', round(r, 3), ', P = ', round(p,3))\n",
    "\n",
    "import matplotlib.pyplot as plt\n",
    "fig, ax = plt.subplots(figsize=(15, 6))\n",
    "ax.plot(mps_table['Sample size'], mps_table['n CpGs'], 'o')\n"
   ]
  },
  {
   "cell_type": "code",
   "execution_count": 41,
   "id": "cfd629fb",
   "metadata": {},
   "outputs": [],
   "source": [
    "# sample size\n",
    "# covariates"
   ]
  },
  {
   "cell_type": "markdown",
   "id": "98a5ca8a",
   "metadata": {},
   "source": [
    "##### Analytical methods"
   ]
  },
  {
   "cell_type": "code",
   "execution_count": 42,
   "id": "636d010d",
   "metadata": {},
   "outputs": [
    {
     "name": "stdout",
     "output_type": "stream",
     "text": [
      "count    758.000000\n",
      "mean       1.010554\n",
      "std        1.491462\n",
      "min        0.000000\n",
      "25%        0.000000\n",
      "50%        0.000000\n",
      "75%        2.000000\n",
      "max        5.000000\n",
      "dtype: float64\n",
      "   count     %\n",
      "0    460  60.7\n",
      "1     86  11.3\n",
      "2     75   9.9\n",
      "3     21   2.8\n",
      "4    113  14.9\n",
      "5      3   0.4\n",
      "28.0 % of MPSs use > 1 strategy to include CpGs in the analysis.\n"
     ]
    }
   ],
   "source": [
    "strategy_count = mps_table[['Including_CpGs_1', 'Including_CpGs_2', \n",
    "                            'Including_CpGs_3', 'Including_CpGs_4', \n",
    "                            'Including_CpGs_5']].notna().sum(axis=1)\n",
    "print(strategy_count.describe())\n",
    "\n",
    "strategy_count = strategy_count.value_counts().sort_index()\n",
    "percent = (strategy_count / strategy_count.sum() * 100).round(1)\n",
    "print(pd.DataFrame({'count': strategy_count, '%': percent}))\n",
    "\n",
    "print(round(percent[2:].sum(),1), '% of MPSs use > 1 strategy to include CpGs in the analysis.')\n"
   ]
  },
  {
   "cell_type": "code",
   "execution_count": 43,
   "id": "d94eac24",
   "metadata": {},
   "outputs": [
    {
     "name": "stdout",
     "output_type": "stream",
     "text": [
      "Including_CpGs_1 Including_CpGs_1\n",
      "Association DNAm phenotype | Actual change in methylation | 10%                                        7\n",
      "Association DNAm phenotype | Actual change in methylation | 10-20%                                     8\n",
      "Association DNAm phenotype | Actual change in methylation | 15%                                        5\n",
      "Association DNAm phenotype | Actual change in methylation | 20%                                        2\n",
      "Association DNAm phenotype | Actual change in methylation | 25%                                        1\n",
      "Association DNAm phenotype | Actual change in methylation | 5%                                         4\n",
      "Association DNAm phenotype | Actual change in methylation | top ranking 1000                           3\n",
      "Association DNAm phenotype | Actual change in methylation | top ranking 800                            2\n",
      "Association DNAm phenotype | Effect size                                                              44\n",
      "Association DNAm phenotype | Fixed p-value | FDR < .01                                                 3\n",
      "Association DNAm phenotype | Fixed p-value | FDR < .05                                                11\n",
      "Association DNAm phenotype | Fixed p-value | FDR < .1                                                  1\n",
      "Association DNAm phenotype | Fixed p-value | Not reported                                             32\n",
      "Association DNAm phenotype | Fixed p-value | adjusted p < .05                                          6\n",
      "Association DNAm phenotype | Fixed p-value | bonferroni < .05                                          2\n",
      "Association DNAm phenotype | Fixed p-value | p < .0001                                                 1\n",
      "Association DNAm phenotype | Fixed p-value | p < .001                                                  1\n",
      "Association DNAm phenotype | Fixed p-value | p < .05                                                   7\n",
      "Association DNAm phenotype | Fixed p-value | p < 1 x 10-5                                              4\n",
      "Association DNAm phenotype | Fixed p-value | p < 1.15 x 10-7                                           1\n",
      "Association DNAm phenotype | Fixed p-value | p < 5 x 10-5                                              3\n",
      "Association DNAm phenotype | Fixed p-value | p < 5 x 10-8                                              3\n",
      "Association DNAm phenotype | Multiple p-values | reporting multiple levels                            18\n",
      "Association DNAm phenotype | Multiple p-values | thresholding                                         31\n",
      "Association DNAm phenotype | top-ranking significant probes | 100                                      2\n",
      "Association DNAm phenotype | top-ranking significant probes | 1000                                    11\n",
      "Association DNAm phenotype | top-ranking significant probes | 10000                                    2\n",
      "Association DNAm phenotype | top-ranking significant probes | 20                                       2\n",
      "Association DNAm phenotype | top-ranking significant probes | 200                                      1\n",
      "Association DNAm phenotype | top-ranking significant probes | 50                                       2\n",
      "Association DNAm phenotype | top-ranking significant probes | 500                                      4\n",
      "Association DNAm phenotype | top-ranking significant probes | 5000                                     2\n",
      "Association DNAm phenotype | top-ranking significant probes | 800                                      3\n",
      "Association DNAm phenotype | top-ranking significant probes | 900                                      2\n",
      "Association DNAm phenotype | top-ranking significant probes | 900-1000                                 2\n",
      "Association DNAm phenotype | top-ranking significant probes | Experimented with multiple threshold     1\n",
      "Association DNAm phenotype | top-ranking significant probes | Not reported                            22\n",
      "Association DNAm phenotype | top-ranking significant probes | Tuning [10-1000]                        12\n",
      "Biological relevance | Associated to certain phenotype | Trauma                                       14\n",
      "Biological relevance | Functional annotation | Grouped to genes                                       13\n",
      "Reproducibility | Array                                                                                1\n",
      "Reproducibility | Tissue | Neutrophil specific                                                         2\n",
      "Name: count, dtype: int64 \n",
      "\n",
      "Including_CpGs_2 Including_CpGs_2\n",
      "Association DNAm phenotype | AUC | ?                                           2\n",
      "Association DNAm phenotype | AUC | top ranking ?                               1\n",
      "Association DNAm phenotype | Actual change in methylation | 10%                5\n",
      "Association DNAm phenotype | Actual change in methylation | >.4                2\n",
      "Association DNAm phenotype | Actual change in methylation | ?                  1\n",
      "Association DNAm phenotype | Effect size | D > 1.3                             1\n",
      "Association DNAm phenotype | Fixed p-value | FDR < .01                         1\n",
      "Association DNAm phenotype | Fixed p-value | Not reported                      4\n",
      "Association DNAm phenotype | Fixed p-value | p < .001                          1\n",
      "Association DNAm phenotype | Fixed p-value | p < .01                          11\n",
      "Association DNAm phenotype | logFC | > 1                                       1\n",
      "Association DNAm phenotype | top-ranking significant probes | 1000            71\n",
      "Association DNAm phenotype | top-ranking significant probes | 500              1\n",
      "Association DNAm phenotype | top-ranking significant probes | 800              5\n",
      "Association DNAm phenotype | top-ranking significant probes | 900              2\n",
      "Association DNAm phenotype | top-ranking significant probes | 900 to 1000      1\n",
      "Association DNAm phenotype | top-ranking significant probes | Not reported    20\n",
      "Biological relevance | Functional annotation | Grouped to genes                2\n",
      "Pruning | CoMeBack                                                            29\n",
      "Pruning | Multivariate regression | p < .001                                   1\n",
      "Pruning | Pairwise correlation | < 0.75                                        3\n",
      "Pruning | Pairwise correlation | Not reported                                 23\n",
      "Reproducibility | Array                                                        2\n",
      "Reproducibility | Array | 450K                                                 5\n",
      "Reproducibility | Array | PACE                                                 2\n",
      "Reproducibility | Tissue | CD03 specific                                       1\n",
      "Reproducibility | Tissue | CD14 specific                                       6\n",
      "Reproducibility | Tissue | CD15 specific                                       2\n",
      "Reproducibility | Tissue | CD19 specific                                       2\n",
      "Reproducibility | Tissue | Whole blood                                         3\n",
      "Unclear                                                                        1\n",
      "Name: count, dtype: int64 \n",
      "\n",
      "Including_CpGs_3 Including_CpGs_3\n",
      "Association DNAm phenotype | AUC | = 1.00                                                 1\n",
      "Association DNAm phenotype | AUC | > .80                                                 24\n",
      "Association DNAm phenotype | AUC | > .90                                                  1\n",
      "Association DNAm phenotype | AUC | > .98                                                  1\n",
      "Association DNAm phenotype | AUC | ?                                                     21\n",
      "Association DNAm phenotype | AUC | top ranking 100-150                                   44\n",
      "Association DNAm phenotype | AUC | top ranking 160                                        1\n",
      "Association DNAm phenotype | AUC | top ranking 200                                        2\n",
      "Association DNAm phenotype | AUC | top ranking 267                                        1\n",
      "Association DNAm phenotype | AUC | top ranking 300-500                                    1\n",
      "Association DNAm phenotype | AUC | top ranking 333                                        1\n",
      "Association DNAm phenotype | AUC | top ranking 400                                        2\n",
      "Association DNAm phenotype | AUC | top ranking 450                                        2\n",
      "Association DNAm phenotype | AUC | top ranking 500                                        7\n",
      "Association DNAm phenotype | AUC | top ranking ?                                          2\n",
      "Association DNAm phenotype | Actual change in methylation | 10%                           2\n",
      "Association DNAm phenotype | Actual change in methylation | 2%                            1\n",
      "Association DNAm phenotype | Actual change in methylation | > 0 (=\"hypermethylation\")     1\n",
      "Association DNAm phenotype | Fixed p-value | p < .01                                      1\n",
      "Pruning | Feature selection ML                                                           10\n",
      "Pruning | Pairwise correlation | < 0.75                                                   5\n",
      "Pruning | Pairwise correlation | < 0.90                                                   2\n",
      "Pruning | Pairwise correlation | ?                                                        2\n",
      "Pruning | Stepwise selection                                                              1\n",
      "Reproducibility | Array                                                                   1\n",
      "Name: count, dtype: int64 \n",
      "\n",
      "Including_CpGs_4 Including_CpGs_4\n",
      "Association DNAm phenotype | AUC | = 1.00                                     2\n",
      "Association DNAm phenotype | AUC | top ranking 500                            1\n",
      "Association DNAm phenotype | Actual change in methylation | 5%                2\n",
      "Association DNAm phenotype | Correlation | r>.4 (with lesion progression)     1\n",
      "Pruning | Pairwise correlation | < 0.60                                       3\n",
      "Pruning | Pairwise correlation | < 0.60-0.80                                  1\n",
      "Pruning | Pairwise correlation | < 0.70                                       5\n",
      "Pruning | Pairwise correlation | < 0.80                                      18\n",
      "Pruning | Pairwise correlation | < 0.84                                       1\n",
      "Pruning | Pairwise correlation | < 0.85                                       4\n",
      "Pruning | Pairwise correlation | < 0.95                                       3\n",
      "Pruning | Pairwise correlation | ?                                           22\n",
      "Pruning | R-squared | 0.60-0.80                                              44\n",
      "Pruning | R-squared | 0.80                                                    8\n",
      "Reproducibility | Tissue | Present in both HPC and whole blood                1\n",
      "Name: count, dtype: int64 \n",
      "\n",
      "Including_CpGs_5 Including_CpGs_5\n",
      "Association DNAm phenotype | Actual change in methylation | 5%     2\n",
      "Biological relevance | Functional annotation | Grouped to genes    1\n",
      "Name: count, dtype: int64 \n",
      "\n"
     ]
    }
   ],
   "source": [
    "def summarize_strategies(data=mps_table):\n",
    "    strategies = ['Including_CpGs_1', 'Including_CpGs_2', \n",
    "                  'Including_CpGs_3', 'Including_CpGs_4', \n",
    "                  'Including_CpGs_5']\n",
    "    for strategy in strategies:\n",
    "        print(strategy, data[strategy].value_counts().sort_index(), '\\n')\n",
    "\n",
    "summarize_strategies()"
   ]
  },
  {
   "cell_type": "code",
   "execution_count": 44,
   "id": "4bd7927a",
   "metadata": {},
   "outputs": [],
   "source": [
    "def filter_strategies(strategy, data=mps_table):\n",
    "    mask = data[['Including_CpGs_1', 'Including_CpGs_2', \n",
    "                 'Including_CpGs_3', 'Including_CpGs_4', \n",
    "                 'Including_CpGs_5']].apply(lambda col: col.str.contains(\n",
    "                     strategy, na=False), axis=0).any(axis=1)\n",
    "    print(f'{data[mask].shape[0]} ({round(data[mask].shape[0] / data.shape[0] * 100, 1)}%)')\n",
    "    return data[mask]\n",
    "\n"
   ]
  },
  {
   "cell_type": "code",
   "execution_count": 45,
   "id": "b5d2e435",
   "metadata": {},
   "outputs": [
    {
     "name": "stdout",
     "output_type": "stream",
     "text": [
      "174 (23.0%)\n",
      "Including_CpGs_1 Including_CpGs_1\n",
      "Association DNAm phenotype | Actual change in methylation | 10%                    6\n",
      "Association DNAm phenotype | Actual change in methylation | 10-20%                 8\n",
      "Association DNAm phenotype | Actual change in methylation | 15%                    5\n",
      "Association DNAm phenotype | Actual change in methylation | 20%                    2\n",
      "Association DNAm phenotype | Actual change in methylation | 25%                    1\n",
      "Association DNAm phenotype | Actual change in methylation | 5%                     4\n",
      "Association DNAm phenotype | Actual change in methylation | top ranking 1000       3\n",
      "Association DNAm phenotype | Actual change in methylation | top ranking 800        2\n",
      "Association DNAm phenotype | Effect size                                          44\n",
      "Association DNAm phenotype | Fixed p-value | FDR < .05                             1\n",
      "Association DNAm phenotype | Fixed p-value | Not reported                         14\n",
      "Association DNAm phenotype | Fixed p-value | p < .001                              1\n",
      "Association DNAm phenotype | Multiple p-values | reporting multiple levels         9\n",
      "Association DNAm phenotype | Multiple p-values | thresholding                     30\n",
      "Association DNAm phenotype | top-ranking significant probes | 1000                 9\n",
      "Association DNAm phenotype | top-ranking significant probes | 500                  1\n",
      "Association DNAm phenotype | top-ranking significant probes | 800                  3\n",
      "Association DNAm phenotype | top-ranking significant probes | 900                  2\n",
      "Association DNAm phenotype | top-ranking significant probes | 900-1000             2\n",
      "Association DNAm phenotype | top-ranking significant probes | Not reported        19\n",
      "Association DNAm phenotype | top-ranking significant probes | Tuning [10-1000]     8\n",
      "Name: count, dtype: int64 \n",
      "\n",
      "Including_CpGs_2 Including_CpGs_2\n",
      "Association DNAm phenotype | AUC | ?                                           2\n",
      "Association DNAm phenotype | Actual change in methylation | 10%                1\n",
      "Association DNAm phenotype | Actual change in methylation | ?                  1\n",
      "Association DNAm phenotype | Fixed p-value | p < .001                          1\n",
      "Association DNAm phenotype | Fixed p-value | p < .01                           9\n",
      "Association DNAm phenotype | top-ranking significant probes | 1000            71\n",
      "Association DNAm phenotype | top-ranking significant probes | 500              1\n",
      "Association DNAm phenotype | top-ranking significant probes | 800              5\n",
      "Association DNAm phenotype | top-ranking significant probes | 900              2\n",
      "Association DNAm phenotype | top-ranking significant probes | 900 to 1000      1\n",
      "Association DNAm phenotype | top-ranking significant probes | Not reported    19\n",
      "Pruning | CoMeBack                                                            29\n",
      "Pruning | Multivariate regression | p < .001                                   1\n",
      "Pruning | Pairwise correlation | < 0.75                                        3\n",
      "Pruning | Pairwise correlation | Not reported                                 23\n",
      "Reproducibility | Array | 450K                                                 3\n",
      "Reproducibility | Array | PACE                                                 2\n",
      "Name: count, dtype: int64 \n",
      "\n",
      "Including_CpGs_3 Including_CpGs_3\n",
      "Association DNAm phenotype | AUC | = 1.00                  1\n",
      "Association DNAm phenotype | AUC | > .80                  24\n",
      "Association DNAm phenotype | AUC | > .90                   1\n",
      "Association DNAm phenotype | AUC | ?                      21\n",
      "Association DNAm phenotype | AUC | top ranking 100-150    44\n",
      "Association DNAm phenotype | AUC | top ranking 160         1\n",
      "Association DNAm phenotype | AUC | top ranking 200         2\n",
      "Association DNAm phenotype | AUC | top ranking 267         1\n",
      "Association DNAm phenotype | AUC | top ranking 300-500     1\n",
      "Association DNAm phenotype | AUC | top ranking 333         1\n",
      "Association DNAm phenotype | AUC | top ranking 400         2\n",
      "Association DNAm phenotype | AUC | top ranking 450         2\n",
      "Association DNAm phenotype | AUC | top ranking 500         7\n",
      "Association DNAm phenotype | AUC | top ranking ?           1\n",
      "Pruning | Feature selection ML                            10\n",
      "Pruning | Pairwise correlation | < 0.75                    5\n",
      "Pruning | Pairwise correlation | < 0.90                    2\n",
      "Pruning | Pairwise correlation | ?                         2\n",
      "Pruning | Stepwise selection                               1\n",
      "Name: count, dtype: int64 \n",
      "\n",
      "Including_CpGs_4 Including_CpGs_4\n",
      "Association DNAm phenotype | AUC | top ranking 500                 1\n",
      "Association DNAm phenotype | Actual change in methylation | 5%     2\n",
      "Pruning | Pairwise correlation | < 0.60                            3\n",
      "Pruning | Pairwise correlation | < 0.60-0.80                       1\n",
      "Pruning | Pairwise correlation | < 0.70                            5\n",
      "Pruning | Pairwise correlation | < 0.80                           18\n",
      "Pruning | Pairwise correlation | < 0.84                            1\n",
      "Pruning | Pairwise correlation | < 0.85                            4\n",
      "Pruning | Pairwise correlation | < 0.95                            3\n",
      "Pruning | Pairwise correlation | ?                                22\n",
      "Pruning | R-squared | 0.60-0.80                                   44\n",
      "Pruning | R-squared | 0.80                                         8\n",
      "Name: count, dtype: int64 \n",
      "\n",
      "Including_CpGs_5 Including_CpGs_5\n",
      "Association DNAm phenotype | Actual change in methylation | 5%     2\n",
      "Biological relevance | Functional annotation | Grouped to genes    1\n",
      "Name: count, dtype: int64 \n",
      "\n",
      "16 (2.1%)\n",
      "Including_CpGs_1 Including_CpGs_1\n",
      "Association DNAm phenotype | Fixed p-value | FDR < .05              1\n",
      "Association DNAm phenotype | Fixed p-value | Not reported           1\n",
      "Association DNAm phenotype | Fixed p-value | bonferroni < .05       1\n",
      "Biological relevance | Functional annotation | Grouped to genes    13\n",
      "Name: count, dtype: int64 \n",
      "\n",
      "Including_CpGs_2 Including_CpGs_2\n",
      "Association DNAm phenotype | Actual change in methylation | ?      1\n",
      "Association DNAm phenotype | Fixed p-value | Not reported          4\n",
      "Biological relevance | Functional annotation | Grouped to genes    2\n",
      "Name: count, dtype: int64 \n",
      "\n",
      "Including_CpGs_3 Including_CpGs_3\n",
      "Association DNAm phenotype | AUC | ?    1\n",
      "Name: count, dtype: int64 \n",
      "\n",
      "Including_CpGs_4 Including_CpGs_4\n",
      "Pruning | Pairwise correlation | ?    1\n",
      "Name: count, dtype: int64 \n",
      "\n",
      "Including_CpGs_5 Including_CpGs_5\n",
      "Biological relevance | Functional annotation | Grouped to genes    1\n",
      "Name: count, dtype: int64 \n",
      "\n",
      "28 (3.7%)\n",
      "Including_CpGs_1 Including_CpGs_1\n",
      "Association DNAm phenotype | Fixed p-value | FDR < .01                             3\n",
      "Association DNAm phenotype | Fixed p-value | FDR < .1                              1\n",
      "Association DNAm phenotype | top-ranking significant probes | Tuning [10-1000]     7\n",
      "Biological relevance | Associated to certain phenotype | Trauma                   14\n",
      "Reproducibility | Array                                                            1\n",
      "Reproducibility | Tissue | Neutrophil specific                                     2\n",
      "Name: count, dtype: int64 \n",
      "\n",
      "Including_CpGs_2 Including_CpGs_2\n",
      "Association DNAm phenotype | Actual change in methylation | 10%    2\n",
      "Association DNAm phenotype | Fixed p-value | FDR < .01             1\n",
      "Association DNAm phenotype | Fixed p-value | p < .01               2\n",
      "Reproducibility | Array                                            2\n",
      "Reproducibility | Array | 450K                                     5\n",
      "Reproducibility | Array | PACE                                     2\n",
      "Reproducibility | Tissue | CD03 specific                           1\n",
      "Reproducibility | Tissue | CD14 specific                           6\n",
      "Reproducibility | Tissue | CD15 specific                           2\n",
      "Reproducibility | Tissue | CD19 specific                           2\n",
      "Reproducibility | Tissue | Whole blood                             3\n",
      "Name: count, dtype: int64 \n",
      "\n",
      "Including_CpGs_3 Including_CpGs_3\n",
      "Association DNAm phenotype | Actual change in methylation | 10%    2\n",
      "Association DNAm phenotype | Actual change in methylation | 2%     1\n",
      "Association DNAm phenotype | Fixed p-value | p < .01               1\n",
      "Pruning | Pairwise correlation | < 0.75                            5\n",
      "Reproducibility | Array                                            1\n",
      "Name: count, dtype: int64 \n",
      "\n",
      "Including_CpGs_4 Including_CpGs_4\n",
      "Association DNAm phenotype | AUC | = 1.00                         2\n",
      "Reproducibility | Tissue | Present in both HPC and whole blood    1\n",
      "Name: count, dtype: int64 \n",
      "\n",
      "Including_CpGs_5 Series([], Name: count, dtype: int64) \n",
      "\n",
      "\n",
      " Association DNAm phenotype\n",
      "275 (36.3%)\n",
      "\n",
      " Biological relevance\n",
      "30 (4.0%)\n",
      "\n",
      " Pruning\n",
      "174 (23.0%)\n",
      "\n",
      " Reproducibility\n",
      "28 (3.7%)\n"
     ]
    }
   ],
   "source": [
    "redundancy = filter_strategies('Pruning')\n",
    "summarize_strategies(redundancy)\n",
    "\n",
    "func_annot = filter_strategies('Functional annotation')\n",
    "summarize_strategies(func_annot)\n",
    "\n",
    "reproducible = filter_strategies('Reproducibility')\n",
    "summarize_strategies(reproducible)\n",
    "\n",
    "for tab_entry in ['Association DNAm phenotype', 'Biological relevance','Pruning','Reproducibility']:\n",
    "    print('\\n', tab_entry)\n",
    "    filter_strategies(tab_entry)\n"
   ]
  },
  {
   "cell_type": "code",
   "execution_count": 46,
   "id": "5db36fa1",
   "metadata": {},
   "outputs": [
    {
     "name": "stdout",
     "output_type": "stream",
     "text": [
      "70 (78.7%)\n",
      "133 (17.5%)\n",
      "Including_CpGs_1 Including_CpGs_1\n",
      "Association DNAm phenotype | Actual change in methylation | 10%                                        4\n",
      "Association DNAm phenotype | Actual change in methylation | 15%                                        5\n",
      "Association DNAm phenotype | Actual change in methylation | 20%                                        2\n",
      "Association DNAm phenotype | Actual change in methylation | 25%                                        1\n",
      "Association DNAm phenotype | Actual change in methylation | 5%                                         4\n",
      "Association DNAm phenotype | Actual change in methylation | top ranking 1000                           3\n",
      "Association DNAm phenotype | Actual change in methylation | top ranking 800                            2\n",
      "Association DNAm phenotype | Effect size                                                              44\n",
      "Association DNAm phenotype | top-ranking significant probes | 100                                      2\n",
      "Association DNAm phenotype | top-ranking significant probes | 1000                                    11\n",
      "Association DNAm phenotype | top-ranking significant probes | 10000                                    2\n",
      "Association DNAm phenotype | top-ranking significant probes | 20                                       2\n",
      "Association DNAm phenotype | top-ranking significant probes | 200                                      1\n",
      "Association DNAm phenotype | top-ranking significant probes | 50                                       2\n",
      "Association DNAm phenotype | top-ranking significant probes | 500                                      4\n",
      "Association DNAm phenotype | top-ranking significant probes | 5000                                     2\n",
      "Association DNAm phenotype | top-ranking significant probes | 800                                      3\n",
      "Association DNAm phenotype | top-ranking significant probes | 900                                      2\n",
      "Association DNAm phenotype | top-ranking significant probes | 900-1000                                 2\n",
      "Association DNAm phenotype | top-ranking significant probes | Experimented with multiple threshold     1\n",
      "Association DNAm phenotype | top-ranking significant probes | Not reported                            22\n",
      "Association DNAm phenotype | top-ranking significant probes | Tuning [10-1000]                        12\n",
      "Name: count, dtype: int64 \n",
      "\n",
      "Including_CpGs_2 Including_CpGs_2\n",
      "Association DNAm phenotype | AUC | ?                                           2\n",
      "Association DNAm phenotype | AUC | top ranking ?                               1\n",
      "Association DNAm phenotype | top-ranking significant probes | 1000            71\n",
      "Association DNAm phenotype | top-ranking significant probes | 500              1\n",
      "Association DNAm phenotype | top-ranking significant probes | 800              5\n",
      "Association DNAm phenotype | top-ranking significant probes | 900              2\n",
      "Association DNAm phenotype | top-ranking significant probes | 900 to 1000      1\n",
      "Association DNAm phenotype | top-ranking significant probes | Not reported    20\n",
      "Pruning | Pairwise correlation | < 0.75                                        3\n",
      "Reproducibility | Array | 450K                                                 5\n",
      "Reproducibility | Array | PACE                                                 2\n",
      "Unclear                                                                        1\n",
      "Name: count, dtype: int64 \n",
      "\n",
      "Including_CpGs_3 Including_CpGs_3\n",
      "Association DNAm phenotype | AUC | > .80                  16\n",
      "Association DNAm phenotype | AUC | ?                      20\n",
      "Association DNAm phenotype | AUC | top ranking 100-150    44\n",
      "Association DNAm phenotype | AUC | top ranking 160         1\n",
      "Association DNAm phenotype | AUC | top ranking 200         2\n",
      "Association DNAm phenotype | AUC | top ranking 267         1\n",
      "Association DNAm phenotype | AUC | top ranking 300-500     1\n",
      "Association DNAm phenotype | AUC | top ranking 333         1\n",
      "Association DNAm phenotype | AUC | top ranking 400         2\n",
      "Association DNAm phenotype | AUC | top ranking 450         2\n",
      "Association DNAm phenotype | AUC | top ranking 500         7\n",
      "Association DNAm phenotype | AUC | top ranking ?           2\n",
      "Pruning | Pairwise correlation | < 0.75                    5\n",
      "Pruning | Pairwise correlation | < 0.90                    1\n",
      "Pruning | Pairwise correlation | ?                         2\n",
      "Name: count, dtype: int64 \n",
      "\n",
      "Including_CpGs_4 Including_CpGs_4\n",
      "Association DNAm phenotype | AUC | top ranking 500                 1\n",
      "Association DNAm phenotype | Actual change in methylation | 5%     2\n",
      "Pruning | Pairwise correlation | < 0.60                            3\n",
      "Pruning | Pairwise correlation | < 0.60-0.80                       1\n",
      "Pruning | Pairwise correlation | < 0.70                            5\n",
      "Pruning | Pairwise correlation | < 0.80                           16\n",
      "Pruning | Pairwise correlation | < 0.84                            1\n",
      "Pruning | Pairwise correlation | < 0.85                            4\n",
      "Pruning | Pairwise correlation | < 0.95                            3\n",
      "Pruning | Pairwise correlation | ?                                21\n",
      "Pruning | R-squared | 0.60-0.80                                   44\n",
      "Name: count, dtype: int64 \n",
      "\n",
      "Including_CpGs_5 Including_CpGs_5\n",
      "Association DNAm phenotype | Actual change in methylation | 5%    2\n",
      "Name: count, dtype: int64 \n",
      "\n"
     ]
    }
   ],
   "source": [
    "stat_sign = filter_strategies('p-value|top-ranking significant probes', data=pub_table)\n",
    "stat_sign = filter_strategies('top-ranking significant probes')\n",
    "\n",
    "summarize_strategies(stat_sign)\n",
    "\n",
    "# stat_sign[['Including_CpGs_1', 'Including_CpGs_2', 'Including_CpGs_3', 'Including_CpGs_4', 'Including_CpGs_5']]"
   ]
  },
  {
   "cell_type": "code",
   "execution_count": 47,
   "id": "3502e2c3",
   "metadata": {},
   "outputs": [
    {
     "name": "stdout",
     "output_type": "stream",
     "text": [
      "24 (27.0%)\n",
      "91 (12.0%)\n",
      "Including_CpGs_1 Including_CpGs_1\n",
      "Association DNAm phenotype | Actual change in methylation | 10%                  7\n",
      "Association DNAm phenotype | Actual change in methylation | 10-20%               8\n",
      "Association DNAm phenotype | Actual change in methylation | 15%                  5\n",
      "Association DNAm phenotype | Actual change in methylation | 20%                  2\n",
      "Association DNAm phenotype | Actual change in methylation | 25%                  1\n",
      "Association DNAm phenotype | Actual change in methylation | 5%                   4\n",
      "Association DNAm phenotype | Actual change in methylation | top ranking 1000     3\n",
      "Association DNAm phenotype | Actual change in methylation | top ranking 800      2\n",
      "Association DNAm phenotype | Effect size                                        44\n",
      "Association DNAm phenotype | Fixed p-value | FDR < .01                           3\n",
      "Association DNAm phenotype | Fixed p-value | FDR < .05                           2\n",
      "Association DNAm phenotype | Fixed p-value | FDR < .1                            1\n",
      "Association DNAm phenotype | Fixed p-value | Not reported                        1\n",
      "Association DNAm phenotype | Fixed p-value | p < .05                             1\n",
      "Association DNAm phenotype | Fixed p-value | p < 5 x 10-8                        3\n",
      "Association DNAm phenotype | top-ranking significant probes | 1000               2\n",
      "Association DNAm phenotype | top-ranking significant probes | 900-1000           1\n",
      "Reproducibility | Array                                                          1\n",
      "Name: count, dtype: int64 \n",
      "\n",
      "Including_CpGs_2 Including_CpGs_2\n",
      "Association DNAm phenotype | AUC | ?                                   2\n",
      "Association DNAm phenotype | Actual change in methylation | 10%        5\n",
      "Association DNAm phenotype | Actual change in methylation | >.4        2\n",
      "Association DNAm phenotype | Actual change in methylation | ?          1\n",
      "Association DNAm phenotype | Effect size | D > 1.3                     1\n",
      "Association DNAm phenotype | Fixed p-value | FDR < .01                 1\n",
      "Association DNAm phenotype | Fixed p-value | p < .001                  1\n",
      "Association DNAm phenotype | Fixed p-value | p < .01                   9\n",
      "Association DNAm phenotype | logFC | > 1                               1\n",
      "Association DNAm phenotype | top-ranking significant probes | 1000    64\n",
      "Association DNAm phenotype | top-ranking significant probes | 800      2\n",
      "Reproducibility | Array                                                2\n",
      "Name: count, dtype: int64 \n",
      "\n",
      "Including_CpGs_3 Including_CpGs_3\n",
      "Association DNAm phenotype | AUC | = 1.00                                                 1\n",
      "Association DNAm phenotype | AUC | > .80                                                 24\n",
      "Association DNAm phenotype | AUC | > .90                                                  1\n",
      "Association DNAm phenotype | AUC | > .98                                                  1\n",
      "Association DNAm phenotype | AUC | ?                                                      1\n",
      "Association DNAm phenotype | AUC | top ranking 100-150                                   44\n",
      "Association DNAm phenotype | AUC | top ranking 200                                        1\n",
      "Association DNAm phenotype | AUC | top ranking 267                                        1\n",
      "Association DNAm phenotype | AUC | top ranking 333                                        1\n",
      "Association DNAm phenotype | AUC | top ranking 500                                        2\n",
      "Association DNAm phenotype | AUC | top ranking ?                                          1\n",
      "Association DNAm phenotype | Actual change in methylation | 10%                           2\n",
      "Association DNAm phenotype | Actual change in methylation | 2%                            1\n",
      "Association DNAm phenotype | Actual change in methylation | > 0 (=\"hypermethylation\")     1\n",
      "Association DNAm phenotype | Fixed p-value | p < .01                                      1\n",
      "Pruning | Pairwise correlation | < 0.90                                                   1\n",
      "Pruning | Pairwise correlation | ?                                                        2\n",
      "Reproducibility | Array                                                                   1\n",
      "Name: count, dtype: int64 \n",
      "\n",
      "Including_CpGs_4 Including_CpGs_4\n",
      "Association DNAm phenotype | AUC | = 1.00                                     2\n",
      "Association DNAm phenotype | Actual change in methylation | 5%                2\n",
      "Association DNAm phenotype | Correlation | r>.4 (with lesion progression)     1\n",
      "Pruning | Pairwise correlation | < 0.60                                       1\n",
      "Pruning | Pairwise correlation | < 0.60-0.80                                  1\n",
      "Pruning | Pairwise correlation | < 0.70                                       2\n",
      "Pruning | Pairwise correlation | < 0.80                                      18\n",
      "Pruning | Pairwise correlation | < 0.95                                       1\n",
      "Pruning | Pairwise correlation | ?                                            2\n",
      "Pruning | R-squared | 0.60-0.80                                              44\n",
      "Pruning | R-squared | 0.80                                                    8\n",
      "Reproducibility | Tissue | Present in both HPC and whole blood                1\n",
      "Name: count, dtype: int64 \n",
      "\n",
      "Including_CpGs_5 Including_CpGs_5\n",
      "Association DNAm phenotype | Actual change in methylation | 5%     2\n",
      "Biological relevance | Functional annotation | Grouped to genes    1\n",
      "Name: count, dtype: int64 \n",
      "\n"
     ]
    }
   ],
   "source": [
    "effect_size = filter_strategies('Actual change in methylation|Effect size|logFC', data=pub_table)\n",
    "effect_size = filter_strategies('Actual change in methylation|Effect size|logFC')\n",
    "\n",
    "# effect_size = filter_strategies('Actual change in methylation')\n",
    "\n",
    "summarize_strategies(effect_size)\n",
    "\n",
    "# effect_size[['Including_CpGs_1', 'Including_CpGs_2', 'Including_CpGs_3', 'Including_CpGs_4', 'Including_CpGs_5']]"
   ]
  },
  {
   "cell_type": "code",
   "execution_count": 48,
   "id": "30936dc9",
   "metadata": {},
   "outputs": [
    {
     "name": "stdout",
     "output_type": "stream",
     "text": [
      "32 (36.0%)\n",
      "117 (15.4%)\n",
      "Including_CpGs_1 Including_CpGs_1\n",
      "Association DNAm phenotype | Actual change in methylation | 10%                  6\n",
      "Association DNAm phenotype | Actual change in methylation | 10-20%               8\n",
      "Association DNAm phenotype | Actual change in methylation | 15%                  5\n",
      "Association DNAm phenotype | Actual change in methylation | 20%                  2\n",
      "Association DNAm phenotype | Actual change in methylation | 25%                  1\n",
      "Association DNAm phenotype | Actual change in methylation | 5%                   4\n",
      "Association DNAm phenotype | Actual change in methylation | top ranking 1000     3\n",
      "Association DNAm phenotype | Actual change in methylation | top ranking 800      2\n",
      "Association DNAm phenotype | Effect size                                        44\n",
      "Association DNAm phenotype | Fixed p-value | FDR < .01                           2\n",
      "Association DNAm phenotype | Fixed p-value | Not reported                        1\n",
      "Association DNAm phenotype | Fixed p-value | p < .05                             1\n",
      "Association DNAm phenotype | top-ranking significant probes | 1000               9\n",
      "Association DNAm phenotype | top-ranking significant probes | 500                1\n",
      "Association DNAm phenotype | top-ranking significant probes | 800                3\n",
      "Association DNAm phenotype | top-ranking significant probes | 900                2\n",
      "Association DNAm phenotype | top-ranking significant probes | 900-1000           2\n",
      "Association DNAm phenotype | top-ranking significant probes | Not reported      21\n",
      "Name: count, dtype: int64 \n",
      "\n",
      "Including_CpGs_2 Including_CpGs_2\n",
      "Association DNAm phenotype | AUC | ?                                           2\n",
      "Association DNAm phenotype | AUC | top ranking ?                               1\n",
      "Association DNAm phenotype | Actual change in methylation | 10%                1\n",
      "Association DNAm phenotype | Actual change in methylation | ?                  1\n",
      "Association DNAm phenotype | Fixed p-value | p < .001                          1\n",
      "Association DNAm phenotype | Fixed p-value | p < .01                           9\n",
      "Association DNAm phenotype | top-ranking significant probes | 1000            71\n",
      "Association DNAm phenotype | top-ranking significant probes | 500              1\n",
      "Association DNAm phenotype | top-ranking significant probes | 800              5\n",
      "Association DNAm phenotype | top-ranking significant probes | 900              2\n",
      "Association DNAm phenotype | top-ranking significant probes | 900 to 1000      1\n",
      "Association DNAm phenotype | top-ranking significant probes | Not reported    20\n",
      "Reproducibility | Array                                                        2\n",
      "Name: count, dtype: int64 \n",
      "\n",
      "Including_CpGs_3 Including_CpGs_3\n",
      "Association DNAm phenotype | AUC | = 1.00                           1\n",
      "Association DNAm phenotype | AUC | > .80                           24\n",
      "Association DNAm phenotype | AUC | > .90                            1\n",
      "Association DNAm phenotype | AUC | > .98                            1\n",
      "Association DNAm phenotype | AUC | ?                               21\n",
      "Association DNAm phenotype | AUC | top ranking 100-150             44\n",
      "Association DNAm phenotype | AUC | top ranking 160                  1\n",
      "Association DNAm phenotype | AUC | top ranking 200                  2\n",
      "Association DNAm phenotype | AUC | top ranking 267                  1\n",
      "Association DNAm phenotype | AUC | top ranking 300-500              1\n",
      "Association DNAm phenotype | AUC | top ranking 333                  1\n",
      "Association DNAm phenotype | AUC | top ranking 400                  2\n",
      "Association DNAm phenotype | AUC | top ranking 450                  2\n",
      "Association DNAm phenotype | AUC | top ranking 500                  7\n",
      "Association DNAm phenotype | AUC | top ranking ?                    2\n",
      "Association DNAm phenotype | Actual change in methylation | 10%     2\n",
      "Pruning | Pairwise correlation | < 0.90                             1\n",
      "Pruning | Pairwise correlation | ?                                  2\n",
      "Name: count, dtype: int64 \n",
      "\n",
      "Including_CpGs_4 Including_CpGs_4\n",
      "Association DNAm phenotype | AUC | = 1.00                          2\n",
      "Association DNAm phenotype | AUC | top ranking 500                 1\n",
      "Association DNAm phenotype | Actual change in methylation | 5%     2\n",
      "Pruning | Pairwise correlation | < 0.60                            3\n",
      "Pruning | Pairwise correlation | < 0.60-0.80                       1\n",
      "Pruning | Pairwise correlation | < 0.70                            5\n",
      "Pruning | Pairwise correlation | < 0.80                           18\n",
      "Pruning | Pairwise correlation | < 0.84                            1\n",
      "Pruning | Pairwise correlation | < 0.85                            4\n",
      "Pruning | Pairwise correlation | < 0.95                            3\n",
      "Pruning | Pairwise correlation | ?                                22\n",
      "Pruning | R-squared | 0.60-0.80                                   44\n",
      "Pruning | R-squared | 0.80                                         8\n",
      "Name: count, dtype: int64 \n",
      "\n",
      "Including_CpGs_5 Including_CpGs_5\n",
      "Association DNAm phenotype | Actual change in methylation | 5%     2\n",
      "Biological relevance | Functional annotation | Grouped to genes    1\n",
      "Name: count, dtype: int64 \n",
      "\n"
     ]
    }
   ],
   "source": [
    "auc = filter_strategies('AUC', data=pub_table)\n",
    "auc = filter_strategies('AUC')\n",
    "\n",
    "# effect_size = filter_strategies('Actual change in methylation')\n",
    "\n",
    "summarize_strategies(auc)"
   ]
  },
  {
   "cell_type": "code",
   "execution_count": 49,
   "id": "66307e7e",
   "metadata": {},
   "outputs": [
    {
     "name": "stdout",
     "output_type": "stream",
     "text": [
      "Determining_weights_1\n",
      "Discovery EWAS | Count (+1 hyper, -1 hypo, based on linear regression)      4\n",
      "Discovery EWAS | Linear mixed model                                        18\n",
      "Discovery EWAS | Linear regression                                         76\n",
      "Discovery EWAS | Survival analyses                                          1\n",
      "Machine learning | Gradient boosting machine                                4\n",
      "Machine learning | Naive bayes                                              1\n",
      "Machine learning | Neural net                                               1\n",
      "Machine learning | Partial least squares-discriminant analysis              3\n",
      "Machine learning | Random forest                                           13\n",
      "Machine learning | Support vector machine                                 130\n",
      "Penalized regression | ?                                                    5\n",
      "Penalized regression | Elastic net                                        293\n",
      "Penalized regression | Lasso                                               10\n",
      "Penalized regression | Lassosum                                             3\n",
      "Name: count, dtype: int64\n",
      "Discovery EWAS\n",
      "99 (13.1%)\n",
      "Machine learning\n",
      "152 (20.1%)\n",
      "Penalized regression\n",
      "311 (41.0%)\n"
     ]
    }
   ],
   "source": [
    "print(mps_table.Determining_weights_1.value_counts().sort_index())\n",
    "\n",
    "def filter_models(model, data=mps_table):\n",
    "    mask = data['Determining_weights_1'].str.contains(model, na=False)\n",
    "    print(model)\n",
    "    print(f'{data[mask].shape[0]} ({round(data[mask].shape[0] / data.shape[0] * 100, 1)}%)')\n",
    "    return data[mask]\n",
    "\n",
    "for tab_entry in ['Discovery EWAS', 'Machine learning','Penalized regression']:\n",
    "    filter_models(tab_entry)\n",
    "\n"
   ]
  },
  {
   "cell_type": "code",
   "execution_count": 50,
   "id": "fc6f4e7e",
   "metadata": {},
   "outputs": [],
   "source": [
    "# Check use of different techniques (dichotomous vs. continuous outcomes)\n",
    "# mps_table.loc[mps_table.Determining_weights_1 == \"Penalized regression | Elastic net\", \"n Cases\"].notna().sum()\n",
    "# mps_table.loc[(mps_table.Determining_weights_1 == \"Machine learning | Support vector machine\") & mps_table[\"n Cases\"].isna(), ]"
   ]
  },
  {
   "cell_type": "code",
   "execution_count": 51,
   "id": "227d67ed",
   "metadata": {},
   "outputs": [
    {
     "name": "stdout",
     "output_type": "stream",
     "text": [
      "Sample_overlap_target_base\n",
      "No     251\n",
      "Yes     19\n",
      "Name: count, dtype: int64 \n",
      "\n",
      "Sample_overlap_target_base\n",
      "No              24\n",
      "Yes              4\n",
      "['No', nan]      2\n",
      "['Yes', nan]     2\n",
      "[nan, 'No']      3\n",
      "Name: count, dtype: int64\n"
     ]
    }
   ],
   "source": [
    "print(mps_table.Sample_overlap_target_base.value_counts().sort_index(),'\\n')\n",
    "\n",
    "print(pub_table.Sample_overlap_target_base.value_counts().sort_index())\n",
    "# Train_test\n",
    "# 'Independent_validation', 'Comparison', 'Missing_value_note',\n",
    "#        'Reflect_phenotype', 'Covariates'"
   ]
  },
  {
   "cell_type": "markdown",
   "id": "3658454c",
   "metadata": {},
   "source": [
    "#### Validation "
   ]
  },
  {
   "cell_type": "code",
   "execution_count": 52,
   "id": "c3ef64e6",
   "metadata": {},
   "outputs": [
    {
     "name": "stdout",
     "output_type": "stream",
     "text": [
      "249 (32.8%) do not use any validation method\n",
      "162 (21.4%) MPSs perform external validation\n",
      "494 (65.2%) MPSs perform internal validation\n"
     ]
    }
   ],
   "source": [
    "no_validation = mps_table.loc[(mps_table.Independent_validation == 'No') & (mps_table.Train_test == 'No'),].shape[0]\n",
    "\n",
    "print(f'{no_validation} ({round(no_validation / mps_table.shape[0] * 100,1)}%) do not use any validation method')\n",
    "\n",
    "ext_validation = mps_table.loc[mps_table.Independent_validation.str.contains('Yes', na='ignore'),]\n",
    "print(f'{ext_validation.shape[0]} ({round(ext_validation.shape[0] / mps_table.shape[0] * 100,1)}%) MPSs perform external validation')\n",
    "\n",
    "int_validation = mps_table.loc[(mps_table.Train_test != 'No') & (mps_table.Train_test.notna()),]\n",
    "print(f'{int_validation.shape[0]} ({round(int_validation.shape[0] / mps_table.shape[0] * 100,1)}%) MPSs perform internal validation')"
   ]
  },
  {
   "cell_type": "code",
   "execution_count": 53,
   "id": "a23ef977",
   "metadata": {},
   "outputs": [
    {
     "name": "stdout",
     "output_type": "stream",
     "text": [
      "\n",
      "\n",
      "5-fold cross-validation 264 (35%)\n",
      "No 261 (35%)\n",
      "Split 25/75%, 10-fold cross-validation 75 (10%)\n",
      "10-fold cross-validation 42 (6%)\n",
      "Split 25/75%, leave-25%-out cross-validation, leave-one-out cross-validation 19 (3%)\n",
      "Cross-validation 15 (2%)\n",
      "Yes 15 (2%)\n",
      "Split 25/75%, leave-one-out cross-validation 10 (1%)\n",
      "Split 20/80%, 50 hold outs 9 (1%)\n",
      "Split 20/80% 8 (1%)\n",
      "Split 15/85% 6 (1%)\n",
      "Split 27/73% 6 (1%)\n",
      "80/20 train/test + Cross-validation within training 4 (1%)\n",
      "Split 25/75%, cross-validation 3 (0%)\n",
      "Split 25/75% 3 (0%)\n",
      "80/20 train/test 2 (0%)\n",
      "Split 20/80%, leave-one-out cross-validation 1 (0%)\n",
      "leave-one-out cross-validation, split 25/75% 1 (0%)\n",
      "4-fold cross-validation 1 (0%)\n",
      "Split 67/33%, leave-one-out cross-validation 1 (0%)\n",
      "Split 20/80%, 10-fold cross-validation 1 (0%)\n",
      "Split 40/60% 1 (0%)\n",
      "Split 25/75%, 5-fold cross-validation 1 (0%)\n",
      "Split 35/65%, 10-fold cross-validation 1 (0%)\n",
      "Split 25/75%, leave-one-out cross-validation, leave-25%-out cross-validation 1 (0%)\n",
      "Split 25/75%, 10-fold cross-validation, leave-one-out cross-validation 1 (0%)\n",
      "Leave 25%-out cross-validation, 31/69% split 1 (0%)\n",
      "Split 40/60%, leave-one-out cross-validation, 10-fold cross-validation 1 (0%)\n",
      "Split 40/60%, leave-one-out cross-validation 1 (0%)\n"
     ]
    }
   ],
   "source": [
    "get_count_percent('Train_test')\n",
    "# print(pub_table.Train_test.value_counts().sort_index())"
   ]
  },
  {
   "cell_type": "code",
   "execution_count": 54,
   "id": "c32cebd4",
   "metadata": {},
   "outputs": [
    {
     "name": "stdout",
     "output_type": "stream",
     "text": [
      "Comparison\n",
      "No     672\n",
      "Yes     86\n",
      "Name: count, dtype: int64 \n",
      "\n",
      "Comparison\n",
      "No               79\n",
      "Yes               9\n",
      "['Yes', 'No']     1\n",
      "Name: count, dtype: int64\n"
     ]
    }
   ],
   "source": [
    "print(mps_table.Comparison.value_counts().sort_index(),'\\n')\n",
    "\n",
    "print(pub_table.Comparison.value_counts().sort_index())"
   ]
  },
  {
   "cell_type": "code",
   "execution_count": 55,
   "id": "c0e7372c",
   "metadata": {},
   "outputs": [
    {
     "name": "stdout",
     "output_type": "stream",
     "text": [
      "Missing_value_note\n",
      "Common CpGs                                                                    4\n",
      "Common CpGs, complete case analyses                                            1\n",
      "Complete case analyses                                                         1\n",
      "Complete cases and common CpGs                                                 6\n",
      "Excluding missing probes                                                       1\n",
      "Imputation | ImputePCA                                                        18\n",
      "Imputed | missForest                                                           1\n",
      "Liberal site inclusion to mitigate missingness                                14\n",
      "Mean imputation                                                                5\n",
      "Mean imputation, overlapping sites                                             3\n",
      "No                                                                            94\n",
      "No missings                                                                    4\n",
      "Not reported                                                                 557\n",
      "Overlapping                                                                   14\n",
      "Reported                                                                      19\n",
      "Reported |  k-nearest neighbor (KNN) imputation approach Zhang et al 2018      1\n",
      "Reported | No imputation                                                       2\n",
      "Reported | Weighted mean                                                      12\n",
      "Weighted means                                                                 1\n",
      "Name: count, dtype: int64 \n",
      "\n",
      "Missing_value_note\n",
      "Common CpGs                                                                   1\n",
      "Complete cases and common CpGs                                                1\n",
      "Excluding missing probes                                                      1\n",
      "Imputation | ImputePCA                                                        1\n",
      "Imputed | missForest                                                          1\n",
      "Liberal site inclusion to mitigate missingness                                1\n",
      "No                                                                           23\n",
      "No missings                                                                   1\n",
      "Not reported                                                                 49\n",
      "Overlapping                                                                   2\n",
      "Reported                                                                      2\n",
      "Reported |  k-nearest neighbor (KNN) imputation approach Zhang et al 2018     1\n",
      "Reported | No imputation                                                      1\n",
      "Reported | Weighted mean                                                      1\n",
      "Weighted means                                                                1\n",
      "['Common CpGs, complete case analyses', 'Complete case analyses']             1\n",
      "['Mean imputation', 'Mean imputation, overlapping sites']                     1\n",
      "Name: count, dtype: int64\n"
     ]
    }
   ],
   "source": [
    "print(mps_table.Missing_value_note.value_counts().sort_index(),'\\n')\n",
    "\n",
    "print(pub_table.Missing_value_note.value_counts().sort_index())"
   ]
  },
  {
   "cell_type": "code",
   "execution_count": 56,
   "id": "32f584c4",
   "metadata": {},
   "outputs": [
    {
     "name": "stdout",
     "output_type": "stream",
     "text": [
      "Reflect_phenotype\n",
      "No actual number reported             81\n",
      "Not assesed                          107\n",
      "Not assessed                          34\n",
      "Not assessed                          19\n",
      "Not reported                          42\n",
      "                                    ... \n",
      "Reported | t-test | t=2.80,p=.003      1\n",
      "Reported | t-test | t=2.99,p=.001      1\n",
      "Reported | t-test | t=3.09,p=.001      1\n",
      "Reported | t-test | t=3.31,p<.001      1\n",
      "not assessed                          15\n",
      "Name: count, Length: 361, dtype: int64 \n",
      "\n",
      "Reflect_phenotype\n",
      "No actual number reported                                                                                                                                                                                                                                                                                                                                                                                                                                                                                                                                                                                                                                                                                                                                                                                                                                                                                                                                                                                                                                                                                                                                                                                                                                                                                                                                                                                                                                                                                                                                                                                                                                                                                                                                                                                                                                                                                                                                                                                                                                                                                                                                                                                                                                                                                                                                                                                                                                                                                                                                                                                                                                                                                                                                                                                                                                                                                                                                                                                                                                                                                                                                                                                                                                                                                                                                                                                                                                                                                                                                                                                                                                                                                                                                                                                                                                                                                                                                                                                                                                                                                                                                                                                                                                                                                                                                                                                                                                                                                                                                                                                                                                                                                                                                                                                                                                                                                                                                                                                                                                                                                                                                                                                                                                                                                                                                                                                                                                                                                                                                                                                                                                                                                                                                                                                                                                                                                                                                                                                                                                                                                                                                                                                                                                                                                                                                                                                                                                                                                                                                                                                                                                                                                                                                                                                                                                                                                                                                                                                                                                                                                                                                                                                                                                                                                                                                                                                                                                                                                                                                                                                                                                                                                                                                                                                                                                                                                                                                                                                                                                                                                                                                                                                                                                                                                                                                                                                                                                                                                                                                                                                                                                                                                                                                                                                                                                                                                                                                                                                                                                                                                                                                                                                                                                                                                                                                                                                                                                                                                                                                                                                                                                                                                                                                                                                                                               22\n",
      "Not assesed                                                                                                                                                                                                                                                                                                                                                                                                                                                                                                                                                                                                                                                                                                                                                                                                                                                                                                                                                                                                                                                                                                                                                                                                                                                                                                                                                                                                                                                                                                                                                                                                                                                                                                                                                                                                                                                                                                                                                                                                                                                                                                                                                                                                                                                                                                                                                                                                                                                                                                                                                                                                                                                                                                                                                                                                                                                                                                                                                                                                                                                                                                                                                                                                                                                                                                                                                                                                                                                                                                                                                                                                                                                                                                                                                                                                                                                                                                                                                                                                                                                                                                                                                                                                                                                                                                                                                                                                                                                                                                                                                                                                                                                                                                                                                                                                                                                                                                                                                                                                                                                                                                                                                                                                                                                                                                                                                                                                                                                                                                                                                                                                                                                                                                                                                                                                                                                                                                                                                                                                                                                                                                                                                                                                                                                                                                                                                                                                                                                                                                                                                                                                                                                                                                                                                                                                                                                                                                                                                                                                                                                                                                                                                                                                                                                                                                                                                                                                                                                                                                                                                                                                                                                                                                                                                                                                                                                                                                                                                                                                                                                                                                                                                                                                                                                                                                                                                                                                                                                                                                                                                                                                                                                                                                                                                                                                                                                                                                                                                                                                                                                                                                                                                                                                                                                                                                                                                                                                                                                                                                                                                                                                                                                                                                                                                                                                                                              3\n",
      "Not assessed                                                                                                                                                                                                                                                                                                                                                                                                                                                                                                                                                                                                                                                                                                                                                                                                                                                                                                                                                                                                                                                                                                                                                                                                                                                                                                                                                                                                                                                                                                                                                                                                                                                                                                                                                                                                                                                                                                                                                                                                                                                                                                                                                                                                                                                                                                                                                                                                                                                                                                                                                                                                                                                                                                                                                                                                                                                                                                                                                                                                                                                                                                                                                                                                                                                                                                                                                                                                                                                                                                                                                                                                                                                                                                                                                                                                                                                                                                                                                                                                                                                                                                                                                                                                                                                                                                                                                                                                                                                                                                                                                                                                                                                                                                                                                                                                                                                                                                                                                                                                                                                                                                                                                                                                                                                                                                                                                                                                                                                                                                                                                                                                                                                                                                                                                                                                                                                                                                                                                                                                                                                                                                                                                                                                                                                                                                                                                                                                                                                                                                                                                                                                                                                                                                                                                                                                                                                                                                                                                                                                                                                                                                                                                                                                                                                                                                                                                                                                                                                                                                                                                                                                                                                                                                                                                                                                                                                                                                                                                                                                                                                                                                                                                                                                                                                                                                                                                                                                                                                                                                                                                                                                                                                                                                                                                                                                                                                                                                                                                                                                                                                                                                                                                                                                                                                                                                                                                                                                                                                                                                                                                                                                                                                                                                                                                                                                                                             8\n",
      "Not assessed                                                                                                                                                                                                                                                                                                                                                                                                                                                                                                                                                                                                                                                                                                                                                                                                                                                                                                                                                                                                                                                                                                                                                                                                                                                                                                                                                                                                                                                                                                                                                                                                                                                                                                                                                                                                                                                                                                                                                                                                                                                                                                                                                                                                                                                                                                                                                                                                                                                                                                                                                                                                                                                                                                                                                                                                                                                                                                                                                                                                                                                                                                                                                                                                                                                                                                                                                                                                                                                                                                                                                                                                                                                                                                                                                                                                                                                                                                                                                                                                                                                                                                                                                                                                                                                                                                                                                                                                                                                                                                                                                                                                                                                                                                                                                                                                                                                                                                                                                                                                                                                                                                                                                                                                                                                                                                                                                                                                                                                                                                                                                                                                                                                                                                                                                                                                                                                                                                                                                                                                                                                                                                                                                                                                                                                                                                                                                                                                                                                                                                                                                                                                                                                                                                                                                                                                                                                                                                                                                                                                                                                                                                                                                                                                                                                                                                                                                                                                                                                                                                                                                                                                                                                                                                                                                                                                                                                                                                                                                                                                                                                                                                                                                                                                                                                                                                                                                                                                                                                                                                                                                                                                                                                                                                                                                                                                                                                                                                                                                                                                                                                                                                                                                                                                                                                                                                                                                                                                                                                                                                                                                                                                                                                                                                                                                                                                                                             1\n",
      "Not reported                                                                                                                                                                                                                                                                                                                                                                                                                                                                                                                                                                                                                                                                                                                                                                                                                                                                                                                                                                                                                                                                                                                                                                                                                                                                                                                                                                                                                                                                                                                                                                                                                                                                                                                                                                                                                                                                                                                                                                                                                                                                                                                                                                                                                                                                                                                                                                                                                                                                                                                                                                                                                                                                                                                                                                                                                                                                                                                                                                                                                                                                                                                                                                                                                                                                                                                                                                                                                                                                                                                                                                                                                                                                                                                                                                                                                                                                                                                                                                                                                                                                                                                                                                                                                                                                                                                                                                                                                                                                                                                                                                                                                                                                                                                                                                                                                                                                                                                                                                                                                                                                                                                                                                                                                                                                                                                                                                                                                                                                                                                                                                                                                                                                                                                                                                                                                                                                                                                                                                                                                                                                                                                                                                                                                                                                                                                                                                                                                                                                                                                                                                                                                                                                                                                                                                                                                                                                                                                                                                                                                                                                                                                                                                                                                                                                                                                                                                                                                                                                                                                                                                                                                                                                                                                                                                                                                                                                                                                                                                                                                                                                                                                                                                                                                                                                                                                                                                                                                                                                                                                                                                                                                                                                                                                                                                                                                                                                                                                                                                                                                                                                                                                                                                                                                                                                                                                                                                                                                                                                                                                                                                                                                                                                                                                                                                                                                                             9\n",
      "Reported | 100% accuracy, 100% specifcity                                                                                                                                                                                                                                                                                                                                                                                                                                                                                                                                                                                                                                                                                                                                                                                                                                                                                                                                                                                                                                                                                                                                                                                                                                                                                                                                                                                                                                                                                                                                                                                                                                                                                                                                                                                                                                                                                                                                                                                                                                                                                                                                                                                                                                                                                                                                                                                                                                                                                                                                                                                                                                                                                                                                                                                                                                                                                                                                                                                                                                                                                                                                                                                                                                                                                                                                                                                                                                                                                                                                                                                                                                                                                                                                                                                                                                                                                                                                                                                                                                                                                                                                                                                                                                                                                                                                                                                                                                                                                                                                                                                                                                                                                                                                                                                                                                                                                                                                                                                                                                                                                                                                                                                                                                                                                                                                                                                                                                                                                                                                                                                                                                                                                                                                                                                                                                                                                                                                                                                                                                                                                                                                                                                                                                                                                                                                                                                                                                                                                                                                                                                                                                                                                                                                                                                                                                                                                                                                                                                                                                                                                                                                                                                                                                                                                                                                                                                                                                                                                                                                                                                                                                                                                                                                                                                                                                                                                                                                                                                                                                                                                                                                                                                                                                                                                                                                                                                                                                                                                                                                                                                                                                                                                                                                                                                                                                                                                                                                                                                                                                                                                                                                                                                                                                                                                                                                                                                                                                                                                                                                                                                                                                                                                                                                                                                                                1\n",
      "Reported | 100% specifivity, 100% sensitivity                                                                                                                                                                                                                                                                                                                                                                                                                                                                                                                                                                                                                                                                                                                                                                                                                                                                                                                                                                                                                                                                                                                                                                                                                                                                                                                                                                                                                                                                                                                                                                                                                                                                                                                                                                                                                                                                                                                                                                                                                                                                                                                                                                                                                                                                                                                                                                                                                                                                                                                                                                                                                                                                                                                                                                                                                                                                                                                                                                                                                                                                                                                                                                                                                                                                                                                                                                                                                                                                                                                                                                                                                                                                                                                                                                                                                                                                                                                                                                                                                                                                                                                                                                                                                                                                                                                                                                                                                                                                                                                                                                                                                                                                                                                                                                                                                                                                                                                                                                                                                                                                                                                                                                                                                                                                                                                                                                                                                                                                                                                                                                                                                                                                                                                                                                                                                                                                                                                                                                                                                                                                                                                                                                                                                                                                                                                                                                                                                                                                                                                                                                                                                                                                                                                                                                                                                                                                                                                                                                                                                                                                                                                                                                                                                                                                                                                                                                                                                                                                                                                                                                                                                                                                                                                                                                                                                                                                                                                                                                                                                                                                                                                                                                                                                                                                                                                                                                                                                                                                                                                                                                                                                                                                                                                                                                                                                                                                                                                                                                                                                                                                                                                                                                                                                                                                                                                                                                                                                                                                                                                                                                                                                                                                                                                                                                                                            1\n",
      "Reported | AUC =  0.89 [CI = 0.77-1.00]; 87% sensitivity, 83% specificity                                                                                                                                                                                                                                                                                                                                                                                                                                                                                                                                                                                                                                                                                                                                                                                                                                                                                                                                                                                                                                                                                                                                                                                                                                                                                                                                                                                                                                                                                                                                                                                                                                                                                                                                                                                                                                                                                                                                                                                                                                                                                                                                                                                                                                                                                                                                                                                                                                                                                                                                                                                                                                                                                                                                                                                                                                                                                                                                                                                                                                                                                                                                                                                                                                                                                                                                                                                                                                                                                                                                                                                                                                                                                                                                                                                                                                                                                                                                                                                                                                                                                                                                                                                                                                                                                                                                                                                                                                                                                                                                                                                                                                                                                                                                                                                                                                                                                                                                                                                                                                                                                                                                                                                                                                                                                                                                                                                                                                                                                                                                                                                                                                                                                                                                                                                                                                                                                                                                                                                                                                                                                                                                                                                                                                                                                                                                                                                                                                                                                                                                                                                                                                                                                                                                                                                                                                                                                                                                                                                                                                                                                                                                                                                                                                                                                                                                                                                                                                                                                                                                                                                                                                                                                                                                                                                                                                                                                                                                                                                                                                                                                                                                                                                                                                                                                                                                                                                                                                                                                                                                                                                                                                                                                                                                                                                                                                                                                                                                                                                                                                                                                                                                                                                                                                                                                                                                                                                                                                                                                                                                                                                                                                                                                                                                                                                1\n",
      "Reported | AUC | 0.61 (95% CI= 0.55–0.68)                                                                                                                                                                                                                                                                                                                                                                                                                                                                                                                                                                                                                                                                                                                                                                                                                                                                                                                                                                                                                                                                                                                                                                                                                                                                                                                                                                                                                                                                                                                                                                                                                                                                                                                                                                                                                                                                                                                                                                                                                                                                                                                                                                                                                                                                                                                                                                                                                                                                                                                                                                                                                                                                                                                                                                                                                                                                                                                                                                                                                                                                                                                                                                                                                                                                                                                                                                                                                                                                                                                                                                                                                                                                                                                                                                                                                                                                                                                                                                                                                                                                                                                                                                                                                                                                                                                                                                                                                                                                                                                                                                                                                                                                                                                                                                                                                                                                                                                                                                                                                                                                                                                                                                                                                                                                                                                                                                                                                                                                                                                                                                                                                                                                                                                                                                                                                                                                                                                                                                                                                                                                                                                                                                                                                                                                                                                                                                                                                                                                                                                                                                                                                                                                                                                                                                                                                                                                                                                                                                                                                                                                                                                                                                                                                                                                                                                                                                                                                                                                                                                                                                                                                                                                                                                                                                                                                                                                                                                                                                                                                                                                                                                                                                                                                                                                                                                                                                                                                                                                                                                                                                                                                                                                                                                                                                                                                                                                                                                                                                                                                                                                                                                                                                                                                                                                                                                                                                                                                                                                                                                                                                                                                                                                                                                                                                                                                1\n",
      "Reported | AUC | auc 0.802 (internal)                                                                                                                                                                                                                                                                                                                                                                                                                                                                                                                                                                                                                                                                                                                                                                                                                                                                                                                                                                                                                                                                                                                                                                                                                                                                                                                                                                                                                                                                                                                                                                                                                                                                                                                                                                                                                                                                                                                                                                                                                                                                                                                                                                                                                                                                                                                                                                                                                                                                                                                                                                                                                                                                                                                                                                                                                                                                                                                                                                                                                                                                                                                                                                                                                                                                                                                                                                                                                                                                                                                                                                                                                                                                                                                                                                                                                                                                                                                                                                                                                                                                                                                                                                                                                                                                                                                                                                                                                                                                                                                                                                                                                                                                                                                                                                                                                                                                                                                                                                                                                                                                                                                                                                                                                                                                                                                                                                                                                                                                                                                                                                                                                                                                                                                                                                                                                                                                                                                                                                                                                                                                                                                                                                                                                                                                                                                                                                                                                                                                                                                                                                                                                                                                                                                                                                                                                                                                                                                                                                                                                                                                                                                                                                                                                                                                                                                                                                                                                                                                                                                                                                                                                                                                                                                                                                                                                                                                                                                                                                                                                                                                                                                                                                                                                                                                                                                                                                                                                                                                                                                                                                                                                                                                                                                                                                                                                                                                                                                                                                                                                                                                                                                                                                                                                                                                                                                                                                                                                                                                                                                                                                                                                                                                                                                                                                                                                    1\n",
      "Reported | Correlation | r = 0.55, p-value = 5.8 × 10−16                                                                                                                                                                                                                                                                                                                                                                                                                                                                                                                                                                                                                                                                                                                                                                                                                                                                                                                                                                                                                                                                                                                                                                                                                                                                                                                                                                                                                                                                                                                                                                                                                                                                                                                                                                                                                                                                                                                                                                                                                                                                                                                                                                                                                                                                                                                                                                                                                                                                                                                                                                                                                                                                                                                                                                                                                                                                                                                                                                                                                                                                                                                                                                                                                                                                                                                                                                                                                                                                                                                                                                                                                                                                                                                                                                                                                                                                                                                                                                                                                                                                                                                                                                                                                                                                                                                                                                                                                                                                                                                                                                                                                                                                                                                                                                                                                                                                                                                                                                                                                                                                                                                                                                                                                                                                                                                                                                                                                                                                                                                                                                                                                                                                                                                                                                                                                                                                                                                                                                                                                                                                                                                                                                                                                                                                                                                                                                                                                                                                                                                                                                                                                                                                                                                                                                                                                                                                                                                                                                                                                                                                                                                                                                                                                                                                                                                                                                                                                                                                                                                                                                                                                                                                                                                                                                                                                                                                                                                                                                                                                                                                                                                                                                                                                                                                                                                                                                                                                                                                                                                                                                                                                                                                                                                                                                                                                                                                                                                                                                                                                                                                                                                                                                                                                                                                                                                                                                                                                                                                                                                                                                                                                                                                                                                                                                                                 1\n",
      "Reported | Correlation, explained variance | 0.11                                                                                                                                                                                                                                                                                                                                                                                                                                                                                                                                                                                                                                                                                                                                                                                                                                                                                                                                                                                                                                                                                                                                                                                                                                                                                                                                                                                                                                                                                                                                                                                                                                                                                                                                                                                                                                                                                                                                                                                                                                                                                                                                                                                                                                                                                                                                                                                                                                                                                                                                                                                                                                                                                                                                                                                                                                                                                                                                                                                                                                                                                                                                                                                                                                                                                                                                                                                                                                                                                                                                                                                                                                                                                                                                                                                                                                                                                                                                                                                                                                                                                                                                                                                                                                                                                                                                                                                                                                                                                                                                                                                                                                                                                                                                                                                                                                                                                                                                                                                                                                                                                                                                                                                                                                                                                                                                                                                                                                                                                                                                                                                                                                                                                                                                                                                                                                                                                                                                                                                                                                                                                                                                                                                                                                                                                                                                                                                                                                                                                                                                                                                                                                                                                                                                                                                                                                                                                                                                                                                                                                                                                                                                                                                                                                                                                                                                                                                                                                                                                                                                                                                                                                                                                                                                                                                                                                                                                                                                                                                                                                                                                                                                                                                                                                                                                                                                                                                                                                                                                                                                                                                                                                                                                                                                                                                                                                                                                                                                                                                                                                                                                                                                                                                                                                                                                                                                                                                                                                                                                                                                                                                                                                                                                                                                                                                                        1\n",
      "Reported | Explained variance | r2 = 0.22                                                                                                                                                                                                                                                                                                                                                                                                                                                                                                                                                                                                                                                                                                                                                                                                                                                                                                                                                                                                                                                                                                                                                                                                                                                                                                                                                                                                                                                                                                                                                                                                                                                                                                                                                                                                                                                                                                                                                                                                                                                                                                                                                                                                                                                                                                                                                                                                                                                                                                                                                                                                                                                                                                                                                                                                                                                                                                                                                                                                                                                                                                                                                                                                                                                                                                                                                                                                                                                                                                                                                                                                                                                                                                                                                                                                                                                                                                                                                                                                                                                                                                                                                                                                                                                                                                                                                                                                                                                                                                                                                                                                                                                                                                                                                                                                                                                                                                                                                                                                                                                                                                                                                                                                                                                                                                                                                                                                                                                                                                                                                                                                                                                                                                                                                                                                                                                                                                                                                                                                                                                                                                                                                                                                                                                                                                                                                                                                                                                                                                                                                                                                                                                                                                                                                                                                                                                                                                                                                                                                                                                                                                                                                                                                                                                                                                                                                                                                                                                                                                                                                                                                                                                                                                                                                                                                                                                                                                                                                                                                                                                                                                                                                                                                                                                                                                                                                                                                                                                                                                                                                                                                                                                                                                                                                                                                                                                                                                                                                                                                                                                                                                                                                                                                                                                                                                                                                                                                                                                                                                                                                                                                                                                                                                                                                                                                                1\n",
      "Reported | Linear regression | β = −0.0039, SE = 0.019, P = 0.84 (internal!)                                                                                                                                                                                                                                                                                                                                                                                                                                                                                                                                                                                                                                                                                                                                                                                                                                                                                                                                                                                                                                                                                                                                                                                                                                                                                                                                                                                                                                                                                                                                                                                                                                                                                                                                                                                                                                                                                                                                                                                                                                                                                                                                                                                                                                                                                                                                                                                                                                                                                                                                                                                                                                                                                                                                                                                                                                                                                                                                                                                                                                                                                                                                                                                                                                                                                                                                                                                                                                                                                                                                                                                                                                                                                                                                                                                                                                                                                                                                                                                                                                                                                                                                                                                                                                                                                                                                                                                                                                                                                                                                                                                                                                                                                                                                                                                                                                                                                                                                                                                                                                                                                                                                                                                                                                                                                                                                                                                                                                                                                                                                                                                                                                                                                                                                                                                                                                                                                                                                                                                                                                                                                                                                                                                                                                                                                                                                                                                                                                                                                                                                                                                                                                                                                                                                                                                                                                                                                                                                                                                                                                                                                                                                                                                                                                                                                                                                                                                                                                                                                                                                                                                                                                                                                                                                                                                                                                                                                                                                                                                                                                                                                                                                                                                                                                                                                                                                                                                                                                                                                                                                                                                                                                                                                                                                                                                                                                                                                                                                                                                                                                                                                                                                                                                                                                                                                                                                                                                                                                                                                                                                                                                                                                                                                                                                                                             1\n",
      "Reported | Matthew’s correlation coefcient                                                                                                                                                                                                                                                                                                                                                                                                                                                                                                                                                                                                                                                                                                                                                                                                                                                                                                                                                                                                                                                                                                                                                                                                                                                                                                                                                                                                                                                                                                                                                                                                                                                                                                                                                                                                                                                                                                                                                                                                                                                                                                                                                                                                                                                                                                                                                                                                                                                                                                                                                                                                                                                                                                                                                                                                                                                                                                                                                                                                                                                                                                                                                                                                                                                                                                                                                                                                                                                                                                                                                                                                                                                                                                                                                                                                                                                                                                                                                                                                                                                                                                                                                                                                                                                                                                                                                                                                                                                                                                                                                                                                                                                                                                                                                                                                                                                                                                                                                                                                                                                                                                                                                                                                                                                                                                                                                                                                                                                                                                                                                                                                                                                                                                                                                                                                                                                                                                                                                                                                                                                                                                                                                                                                                                                                                                                                                                                                                                                                                                                                                                                                                                                                                                                                                                                                                                                                                                                                                                                                                                                                                                                                                                                                                                                                                                                                                                                                                                                                                                                                                                                                                                                                                                                                                                                                                                                                                                                                                                                                                                                                                                                                                                                                                                                                                                                                                                                                                                                                                                                                                                                                                                                                                                                                                                                                                                                                                                                                                                                                                                                                                                                                                                                                                                                                                                                                                                                                                                                                                                                                                                                                                                                                                                                                                                                                               1\n",
      "Reported | Specificity [99.96%, with Wilson’s 95% CI (99.72%, 100%)]; sensitivity Wilson’s 95% CI (51%, 100%). For training and test set combined, the same estimate had a 95% CI of (77%, 100%).                                                                                                                                                                                                                                                                                                                                                                                                                                                                                                                                                                                                                                                                                                                                                                                                                                                                                                                                                                                                                                                                                                                                                                                                                                                                                                                                                                                                                                                                                                                                                                                                                                                                                                                                                                                                                                                                                                                                                                                                                                                                                                                                                                                                                                                                                                                                                                                                                                                                                                                                                                                                                                                                                                                                                                                                                                                                                                                                                                                                                                                                                                                                                                                                                                                                                                                                                                                                                                                                                                                                                                                                                                                                                                                                                                                                                                                                                                                                                                                                                                                                                                                                                                                                                                                                                                                                                                                                                                                                                                                                                                                                                                                                                                                                                                                                                                                                                                                                                                                                                                                                                                                                                                                                                                                                                                                                                                                                                                                                                                                                                                                                                                                                                                                                                                                                                                                                                                                                                                                                                                                                                                                                                                                                                                                                                                                                                                                                                                                                                                                                                                                                                                                                                                                                                                                                                                                                                                                                                                                                                                                                                                                                                                                                                                                                                                                                                                                                                                                                                                                                                                                                                                                                                                                                                                                                                                                                                                                                                                                                                                                                                                                                                                                                                                                                                                                                                                                                                                                                                                                                                                                                                                                                                                                                                                                                                                                                                                                                                                                                                                                                                                                                                                                                                                                                                                                                                                                                                                                                                                                                                                                                                                                        1\n",
      "Reported | Specificty > 99%                                                                                                                                                                                                                                                                                                                                                                                                                                                                                                                                                                                                                                                                                                                                                                                                                                                                                                                                                                                                                                                                                                                                                                                                                                                                                                                                                                                                                                                                                                                                                                                                                                                                                                                                                                                                                                                                                                                                                                                                                                                                                                                                                                                                                                                                                                                                                                                                                                                                                                                                                                                                                                                                                                                                                                                                                                                                                                                                                                                                                                                                                                                                                                                                                                                                                                                                                                                                                                                                                                                                                                                                                                                                                                                                                                                                                                                                                                                                                                                                                                                                                                                                                                                                                                                                                                                                                                                                                                                                                                                                                                                                                                                                                                                                                                                                                                                                                                                                                                                                                                                                                                                                                                                                                                                                                                                                                                                                                                                                                                                                                                                                                                                                                                                                                                                                                                                                                                                                                                                                                                                                                                                                                                                                                                                                                                                                                                                                                                                                                                                                                                                                                                                                                                                                                                                                                                                                                                                                                                                                                                                                                                                                                                                                                                                                                                                                                                                                                                                                                                                                                                                                                                                                                                                                                                                                                                                                                                                                                                                                                                                                                                                                                                                                                                                                                                                                                                                                                                                                                                                                                                                                                                                                                                                                                                                                                                                                                                                                                                                                                                                                                                                                                                                                                                                                                                                                                                                                                                                                                                                                                                                                                                                                                                                                                                                                                              2\n",
      "Reported | Specifivity/sensitivity = 100%                                                                                                                                                                                                                                                                                                                                                                                                                                                                                                                                                                                                                                                                                                                                                                                                                                                                                                                                                                                                                                                                                                                                                                                                                                                                                                                                                                                                                                                                                                                                                                                                                                                                                                                                                                                                                                                                                                                                                                                                                                                                                                                                                                                                                                                                                                                                                                                                                                                                                                                                                                                                                                                                                                                                                                                                                                                                                                                                                                                                                                                                                                                                                                                                                                                                                                                                                                                                                                                                                                                                                                                                                                                                                                                                                                                                                                                                                                                                                                                                                                                                                                                                                                                                                                                                                                                                                                                                                                                                                                                                                                                                                                                                                                                                                                                                                                                                                                                                                                                                                                                                                                                                                                                                                                                                                                                                                                                                                                                                                                                                                                                                                                                                                                                                                                                                                                                                                                                                                                                                                                                                                                                                                                                                                                                                                                                                                                                                                                                                                                                                                                                                                                                                                                                                                                                                                                                                                                                                                                                                                                                                                                                                                                                                                                                                                                                                                                                                                                                                                                                                                                                                                                                                                                                                                                                                                                                                                                                                                                                                                                                                                                                                                                                                                                                                                                                                                                                                                                                                                                                                                                                                                                                                                                                                                                                                                                                                                                                                                                                                                                                                                                                                                                                                                                                                                                                                                                                                                                                                                                                                                                                                                                                                                                                                                                                                                3\n",
      "Reported | T-test | −0.873 [−1.229, −0.574] vs 0.635 [0.456, 0.892], p < .001                                                                                                                                                                                                                                                                                                                                                                                                                                                                                                                                                                                                                                                                                                                                                                                                                                                                                                                                                                                                                                                                                                                                                                                                                                                                                                                                                                                                                                                                                                                                                                                                                                                                                                                                                                                                                                                                                                                                                                                                                                                                                                                                                                                                                                                                                                                                                                                                                                                                                                                                                                                                                                                                                                                                                                                                                                                                                                                                                                                                                                                                                                                                                                                                                                                                                                                                                                                                                                                                                                                                                                                                                                                                                                                                                                                                                                                                                                                                                                                                                                                                                                                                                                                                                                                                                                                                                                                                                                                                                                                                                                                                                                                                                                                                                                                                                                                                                                                                                                                                                                                                                                                                                                                                                                                                                                                                                                                                                                                                                                                                                                                                                                                                                                                                                                                                                                                                                                                                                                                                                                                                                                                                                                                                                                                                                                                                                                                                                                                                                                                                                                                                                                                                                                                                                                                                                                                                                                                                                                                                                                                                                                                                                                                                                                                                                                                                                                                                                                                                                                                                                                                                                                                                                                                                                                                                                                                                                                                                                                                                                                                                                                                                                                                                                                                                                                                                                                                                                                                                                                                                                                                                                                                                                                                                                                                                                                                                                                                                                                                                                                                                                                                                                                                                                                                                                                                                                                                                                                                                                                                                                                                                                                                                                                                                                                            1\n",
      "Reported | odds ration | OR range =2.00-4.71, p < 0.01                                                                                                                                                                                                                                                                                                                                                                                                                                                                                                                                                                                                                                                                                                                                                                                                                                                                                                                                                                                                                                                                                                                                                                                                                                                                                                                                                                                                                                                                                                                                                                                                                                                                                                                                                                                                                                                                                                                                                                                                                                                                                                                                                                                                                                                                                                                                                                                                                                                                                                                                                                                                                                                                                                                                                                                                                                                                                                                                                                                                                                                                                                                                                                                                                                                                                                                                                                                                                                                                                                                                                                                                                                                                                                                                                                                                                                                                                                                                                                                                                                                                                                                                                                                                                                                                                                                                                                                                                                                                                                                                                                                                                                                                                                                                                                                                                                                                                                                                                                                                                                                                                                                                                                                                                                                                                                                                                                                                                                                                                                                                                                                                                                                                                                                                                                                                                                                                                                                                                                                                                                                                                                                                                                                                                                                                                                                                                                                                                                                                                                                                                                                                                                                                                                                                                                                                                                                                                                                                                                                                                                                                                                                                                                                                                                                                                                                                                                                                                                                                                                                                                                                                                                                                                                                                                                                                                                                                                                                                                                                                                                                                                                                                                                                                                                                                                                                                                                                                                                                                                                                                                                                                                                                                                                                                                                                                                                                                                                                                                                                                                                                                                                                                                                                                                                                                                                                                                                                                                                                                                                                                                                                                                                                                                                                                                                                                   1\n",
      "Reported | ranged between .4-.6                                                                                                                                                                                                                                                                                                                                                                                                                                                                                                                                                                                                                                                                                                                                                                                                                                                                                                                                                                                                                                                                                                                                                                                                                                                                                                                                                                                                                                                                                                                                                                                                                                                                                                                                                                                                                                                                                                                                                                                                                                                                                                                                                                                                                                                                                                                                                                                                                                                                                                                                                                                                                                                                                                                                                                                                                                                                                                                                                                                                                                                                                                                                                                                                                                                                                                                                                                                                                                                                                                                                                                                                                                                                                                                                                                                                                                                                                                                                                                                                                                                                                                                                                                                                                                                                                                                                                                                                                                                                                                                                                                                                                                                                                                                                                                                                                                                                                                                                                                                                                                                                                                                                                                                                                                                                                                                                                                                                                                                                                                                                                                                                                                                                                                                                                                                                                                                                                                                                                                                                                                                                                                                                                                                                                                                                                                                                                                                                                                                                                                                                                                                                                                                                                                                                                                                                                                                                                                                                                                                                                                                                                                                                                                                                                                                                                                                                                                                                                                                                                                                                                                                                                                                                                                                                                                                                                                                                                                                                                                                                                                                                                                                                                                                                                                                                                                                                                                                                                                                                                                                                                                                                                                                                                                                                                                                                                                                                                                                                                                                                                                                                                                                                                                                                                                                                                                                                                                                                                                                                                                                                                                                                                                                                                                                                                                                                                          1\n",
      "Reported | specificity 100%                                                                                                                                                                                                                                                                                                                                                                                                                                                                                                                                                                                                                                                                                                                                                                                                                                                                                                                                                                                                                                                                                                                                                                                                                                                                                                                                                                                                                                                                                                                                                                                                                                                                                                                                                                                                                                                                                                                                                                                                                                                                                                                                                                                                                                                                                                                                                                                                                                                                                                                                                                                                                                                                                                                                                                                                                                                                                                                                                                                                                                                                                                                                                                                                                                                                                                                                                                                                                                                                                                                                                                                                                                                                                                                                                                                                                                                                                                                                                                                                                                                                                                                                                                                                                                                                                                                                                                                                                                                                                                                                                                                                                                                                                                                                                                                                                                                                                                                                                                                                                                                                                                                                                                                                                                                                                                                                                                                                                                                                                                                                                                                                                                                                                                                                                                                                                                                                                                                                                                                                                                                                                                                                                                                                                                                                                                                                                                                                                                                                                                                                                                                                                                                                                                                                                                                                                                                                                                                                                                                                                                                                                                                                                                                                                                                                                                                                                                                                                                                                                                                                                                                                                                                                                                                                                                                                                                                                                                                                                                                                                                                                                                                                                                                                                                                                                                                                                                                                                                                                                                                                                                                                                                                                                                                                                                                                                                                                                                                                                                                                                                                                                                                                                                                                                                                                                                                                                                                                                                                                                                                                                                                                                                                                                                                                                                                                                              1\n",
      "Reported | specificity 99%, sensitivity 86%                                                                                                                                                                                                                                                                                                                                                                                                                                                                                                                                                                                                                                                                                                                                                                                                                                                                                                                                                                                                                                                                                                                                                                                                                                                                                                                                                                                                                                                                                                                                                                                                                                                                                                                                                                                                                                                                                                                                                                                                                                                                                                                                                                                                                                                                                                                                                                                                                                                                                                                                                                                                                                                                                                                                                                                                                                                                                                                                                                                                                                                                                                                                                                                                                                                                                                                                                                                                                                                                                                                                                                                                                                                                                                                                                                                                                                                                                                                                                                                                                                                                                                                                                                                                                                                                                                                                                                                                                                                                                                                                                                                                                                                                                                                                                                                                                                                                                                                                                                                                                                                                                                                                                                                                                                                                                                                                                                                                                                                                                                                                                                                                                                                                                                                                                                                                                                                                                                                                                                                                                                                                                                                                                                                                                                                                                                                                                                                                                                                                                                                                                                                                                                                                                                                                                                                                                                                                                                                                                                                                                                                                                                                                                                                                                                                                                                                                                                                                                                                                                                                                                                                                                                                                                                                                                                                                                                                                                                                                                                                                                                                                                                                                                                                                                                                                                                                                                                                                                                                                                                                                                                                                                                                                                                                                                                                                                                                                                                                                                                                                                                                                                                                                                                                                                                                                                                                                                                                                                                                                                                                                                                                                                                                                                                                                                                                                              1\n",
      "['No actual number reported', 'Reported | Specifivity/sensitivity = 100%']                                                                                                                                                                                                                                                                                                                                                                                                                                                                                                                                                                                                                                                                                                                                                                                                                                                                                                                                                                                                                                                                                                                                                                                                                                                                                                                                                                                                                                                                                                                                                                                                                                                                                                                                                                                                                                                                                                                                                                                                                                                                                                                                                                                                                                                                                                                                                                                                                                                                                                                                                                                                                                                                                                                                                                                                                                                                                                                                                                                                                                                                                                                                                                                                                                                                                                                                                                                                                                                                                                                                                                                                                                                                                                                                                                                                                                                                                                                                                                                                                                                                                                                                                                                                                                                                                                                                                                                                                                                                                                                                                                                                                                                                                                                                                                                                                                                                                                                                                                                                                                                                                                                                                                                                                                                                                                                                                                                                                                                                                                                                                                                                                                                                                                                                                                                                                                                                                                                                                                                                                                                                                                                                                                                                                                                                                                                                                                                                                                                                                                                                                                                                                                                                                                                                                                                                                                                                                                                                                                                                                                                                                                                                                                                                                                                                                                                                                                                                                                                                                                                                                                                                                                                                                                                                                                                                                                                                                                                                                                                                                                                                                                                                                                                                                                                                                                                                                                                                                                                                                                                                                                                                                                                                                                                                                                                                                                                                                                                                                                                                                                                                                                                                                                                                                                                                                                                                                                                                                                                                                                                                                                                                                                                                                                                                                                               1\n",
      "['Not assesed', 'Reported | statistical significance | p = 0.07']                                                                                                                                                                                                                                                                                                                                                                                                                                                                                                                                                                                                                                                                                                                                                                                                                                                                                                                                                                                                                                                                                                                                                                                                                                                                                                                                                                                                                                                                                                                                                                                                                                                                                                                                                                                                                                                                                                                                                                                                                                                                                                                                                                                                                                                                                                                                                                                                                                                                                                                                                                                                                                                                                                                                                                                                                                                                                                                                                                                                                                                                                                                                                                                                                                                                                                                                                                                                                                                                                                                                                                                                                                                                                                                                                                                                                                                                                                                                                                                                                                                                                                                                                                                                                                                                                                                                                                                                                                                                                                                                                                                                                                                                                                                                                                                                                                                                                                                                                                                                                                                                                                                                                                                                                                                                                                                                                                                                                                                                                                                                                                                                                                                                                                                                                                                                                                                                                                                                                                                                                                                                                                                                                                                                                                                                                                                                                                                                                                                                                                                                                                                                                                                                                                                                                                                                                                                                                                                                                                                                                                                                                                                                                                                                                                                                                                                                                                                                                                                                                                                                                                                                                                                                                                                                                                                                                                                                                                                                                                                                                                                                                                                                                                                                                                                                                                                                                                                                                                                                                                                                                                                                                                                                                                                                                                                                                                                                                                                                                                                                                                                                                                                                                                                                                                                                                                                                                                                                                                                                                                                                                                                                                                                                                                                                                                                        1\n",
      "['Not reported', 'Reported | AUC | auc = 0.629', 'Reported | AUC | auc = 0.535']                                                                                                                                                                                                                                                                                                                                                                                                                                                                                                                                                                                                                                                                                                                                                                                                                                                                                                                                                                                                                                                                                                                                                                                                                                                                                                                                                                                                                                                                                                                                                                                                                                                                                                                                                                                                                                                                                                                                                                                                                                                                                                                                                                                                                                                                                                                                                                                                                                                                                                                                                                                                                                                                                                                                                                                                                                                                                                                                                                                                                                                                                                                                                                                                                                                                                                                                                                                                                                                                                                                                                                                                                                                                                                                                                                                                                                                                                                                                                                                                                                                                                                                                                                                                                                                                                                                                                                                                                                                                                                                                                                                                                                                                                                                                                                                                                                                                                                                                                                                                                                                                                                                                                                                                                                                                                                                                                                                                                                                                                                                                                                                                                                                                                                                                                                                                                                                                                                                                                                                                                                                                                                                                                                                                                                                                                                                                                                                                                                                                                                                                                                                                                                                                                                                                                                                                                                                                                                                                                                                                                                                                                                                                                                                                                                                                                                                                                                                                                                                                                                                                                                                                                                                                                                                                                                                                                                                                                                                                                                                                                                                                                                                                                                                                                                                                                                                                                                                                                                                                                                                                                                                                                                                                                                                                                                                                                                                                                                                                                                                                                                                                                                                                                                                                                                                                                                                                                                                                                                                                                                                                                                                                                                                                                                                                                                         1\n",
      "['Not reported', 'Reported | Linear regression | b = 0.28, 95% CI 0.21-0.35', 'Reported | Linear regression | b = 0.02, 95% CI 0.02-0.03']                                                                                                                                                                                                                                                                                                                                                                                                                                                                                                                                                                                                                                                                                                                                                                                                                                                                                                                                                                                                                                                                                                                                                                                                                                                                                                                                                                                                                                                                                                                                                                                                                                                                                                                                                                                                                                                                                                                                                                                                                                                                                                                                                                                                                                                                                                                                                                                                                                                                                                                                                                                                                                                                                                                                                                                                                                                                                                                                                                                                                                                                                                                                                                                                                                                                                                                                                                                                                                                                                                                                                                                                                                                                                                                                                                                                                                                                                                                                                                                                                                                                                                                                                                                                                                                                                                                                                                                                                                                                                                                                                                                                                                                                                                                                                                                                                                                                                                                                                                                                                                                                                                                                                                                                                                                                                                                                                                                                                                                                                                                                                                                                                                                                                                                                                                                                                                                                                                                                                                                                                                                                                                                                                                                                                                                                                                                                                                                                                                                                                                                                                                                                                                                                                                                                                                                                                                                                                                                                                                                                                                                                                                                                                                                                                                                                                                                                                                                                                                                                                                                                                                                                                                                                                                                                                                                                                                                                                                                                                                                                                                                                                                                                                                                                                                                                                                                                                                                                                                                                                                                                                                                                                                                                                                                                                                                                                                                                                                                                                                                                                                                                                                                                                                                                                                                                                                                                                                                                                                                                                                                                                                                                                                                                                                               1\n",
      "['Reported | AUC | AUC = 0.54 (0.49–0.61)FAMILY, 0.87 ( 0.81–0.93) CHILD', 'Reported | AUC | AUC = 0.84 (0.77–0.91) FAMILY, 0.87 ( 0.81–0.93) CHILD', 'Reported | AUC | AUC = 0.89 (0.83–0.94) FAMILY, 0.87 ( 0.81–0.93) CHILD', 'Reported | AUC | AUC = 0.87 (0.80–0.94) CHILD', 'Reported | AUC | AUC = 0.88 (0.81–0.94) FAMILY', 'Reported | AUC | AUC= 0.84 (0.77–0.91) FAMILY, 0.87 ( 0.81–0.93) CHILD', 'Reported | AUC | AUC = 0.50 (0.44–0.56) FAMILY, 0.87 ( 0.81–0.93) CHILD']                                                                                                                                                                                                                                                                                                                                                                                                                                                                                                                                                                                                                                                                                                                                                                                                                                                                                                                                                                                                                                                                                                                                                                                                                                                                                                                                                                                                                                                                                                                                                                                                                                                                                                                                                                                                                                                                                                                                                                                                                                                                                                                                                                                                                                                                                                                                                                                                                                                                                                                                                                                                                                                                                                                                                                                                                                                                                                                                                                                                                                                                                                                                                                                                                                                                                                                                                                                                                                                                                                                                                                                                                                                                                                                                                                                                                                                                                                                                                                                                                                                                                                                                                                                                                                                                                                                                                                                                                                                                                                                                                                                                                                                                                                                                                                                                                                                                                                                                                                                                                                                                                                                                                                                                                                                                                                                                                                                                                                                                                                                                                                                                                                                                                                                                                                                                                                                                                                                                                                                                                                                                                                                                                                                                                                                                                                                                                                                                                                                                                                                                                                                                                                                                                                                                                                                                                                                                                                                                                                                                                                                                                                                                                                                                                                                                                                                                                                                                                                                                                                                                                                                                                                                                                                                                                                                                                                                                                                                                                                                                                                                                                                                                                                                                                                                                                                                                                                                                                                                                                                                                                                                                                                                                                                                                                                                                                                                                                                                                                                                                                                                                                                                                                                                                                                                                                                                                                                 1\n",
      "['Reported | AUC | AUC = 0.76', 'Reported | AUC | AUC = 0.77', 'Reported | AUC | AUC = 0.68', 'Reported | AUC | AUC = 0.67', 'Reported | AUC | AUC = 0.64', 'Reported | AUC | AUC = 0.61', 'Reported | AUC | AUC = 0.69']                                                                                                                                                                                                                                                                                                                                                                                                                                                                                                                                                                                                                                                                                                                                                                                                                                                                                                                                                                                                                                                                                                                                                                                                                                                                                                                                                                                                                                                                                                                                                                                                                                                                                                                                                                                                                                                                                                                                                                                                                                                                                                                                                                                                                                                                                                                                                                                                                                                                                                                                                                                                                                                                                                                                                                                                                                                                                                                                                                                                                                                                                                                                                                                                                                                                                                                                                                                                                                                                                                                                                                                                                                                                                                                                                                                                                                                                                                                                                                                                                                                                                                                                                                                                                                                                                                                                                                                                                                                                                                                                                                                                                                                                                                                                                                                                                                                                                                                                                                                                                                                                                                                                                                                                                                                                                                                                                                                                                                                                                                                                                                                                                                                                                                                                                                                                                                                                                                                                                                                                                                                                                                                                                                                                                                                                                                                                                                                                                                                                                                                                                                                                                                                                                                                                                                                                                                                                                                                                                                                                                                                                                                                                                                                                                                                                                                                                                                                                                                                                                                                                                                                                                                                                                                                                                                                                                                                                                                                                                                                                                                                                                                                                                                                                                                                                                                                                                                                                                                                                                                                                                                                                                                                                                                                                                                                                                                                                                                                                                                                                                                                                                                                                                                                                                                                                                                                                                                                                                                                                                                                                                                                                                                1\n",
      "['Reported | AUC | Internal AUC = 0.835', 'Reported | AUC | internal AUC = 0.72', 'Reported | AUC | internal AUC = 0.73', 'Reported | AUC | internal AUC = 0.838', 'Reported | AUC | internal AUC = 0.799', 'Reported | AUC | internal AUC = 0.826']                                                                                                                                                                                                                                                                                                                                                                                                                                                                                                                                                                                                                                                                                                                                                                                                                                                                                                                                                                                                                                                                                                                                                                                                                                                                                                                                                                                                                                                                                                                                                                                                                                                                                                                                                                                                                                                                                                                                                                                                                                                                                                                                                                                                                                                                                                                                                                                                                                                                                                                                                                                                                                                                                                                                                                                                                                                                                                                                                                                                                                                                                                                                                                                                                                                                                                                                                                                                                                                                                                                                                                                                                                                                                                                                                                                                                                                                                                                                                                                                                                                                                                                                                                                                                                                                                                                                                                                                                                                                                                                                                                                                                                                                                                                                                                                                                                                                                                                                                                                                                                                                                                                                                                                                                                                                                                                                                                                                                                                                                                                                                                                                                                                                                                                                                                                                                                                                                                                                                                                                                                                                                                                                                                                                                                                                                                                                                                                                                                                                                                                                                                                                                                                                                                                                                                                                                                                                                                                                                                                                                                                                                                                                                                                                                                                                                                                                                                                                                                                                                                                                                                                                                                                                                                                                                                                                                                                                                                                                                                                                                                                                                                                                                                                                                                                                                                                                                                                                                                                                                                                                                                                                                                                                                                                                                                                                                                                                                                                                                                                                                                                                                                                                                                                                                                                                                                                                                                                                                                                                                                                                                                                                     1\n",
      "['Reported | AUC | auc = 0.98 (internal)', 'Reported | Accuracy/Sensitivity/Specificity/Kappa/AUC/p_AUC | ELGAN: 0.6015,\\t0.744,2\\t0.584,3\\t0.136,8\\t0.7390,\\t0.6651; RICHS: .4093,\\t0.9143,\\t0.3217,\\t0.0914,\\t0.7\\t', 'Reported | AUC | auc = 0.93 (internal)', 'Reported | AUC | auc = 0.97 (internal)', 'Reported | Accuracy/Sensitivity/Specificity/Kappa/AUC/p_AUC |AUC; ELGAN: 0.3734\\t0.8605\\t0.3146\\t0.051\\t0.724\\t0.6239; RICHS: 0.3797\\t0.9143\\t0.2871\\t0.0756\\t0.6897\\t0.5855', 'Reported | Accuracy/Sensitivity/Specificity/Kappa/AUC/p_AUC| ELGAN: .4987\\t0.7442\\t0.4691\\t0.0756\\t0.6661\\t0.6486; RICHS: 0.7173\\t0.6571\\t0.7277\\t0.2552\\t0.7598\\t0.6099', 'Reported | AUC | auc = 0.99 (internal)', 'Reported | AUC | auc = 1.00 (internal)']                                                                                                                                                                                                                                                                                                                                                                                                                                                                                                                                                                                                                                                                                                                                                                                                                                                                                                                                                                                                                                                                                                                                                                                                                                                                                                                                                                                                                                                                                                                                                                                                                                                                                                                                                                                                                                                                                                                                                                                                                                                                                                                                                                                                                                                                                                                                                                                                                                                                                                                                                                                                                                                                                                                                                                                                                                                                                                                                                                                                                                                                                                                                                                                                                                                                                                                                                                                                                                                                                                                                                                                                                                                                                                                                                                                                                                                                                                                                                                                                                                                                                                                                                                                                                                                                                                                                                                                                                                                                                                                                                                                                                                                                                                                                                                                                                                                                                                                                                                                                                                                                                                                                                                                                                                                                                                                                                                                                                                                                                                                                                                                                                                                                                                                                                                                                                                                                                                                                                                                                                                                                                                                                                                                                                                                                                                                                                                                                                                                                                                                                                                                                                                                                                                                                                                                                                                                                                                                                                                                                                                                                                                                                                                                                                                                                                                                                                                                                                                                                                                                                                                                                                                                                                                                                                                                                                                                                                                                                                                                                                                                                                                                                                                                                                                                                                                                                                                                                                                                                                                                                                                                                                                                                                                                                                                                                                                                                                                                                                                                                                                                                                              1\n",
      "['Reported | AUC |AUC 95CI = 0.55 (0.50–0.60)\\xa0‡', 'Reported | AUC | AUC 95CI = 0.54 (0.48, 0.59)', 'Reported | AUC | AUC 95CI = 0.49 (0.44, 0.55)', 'Reported | AUC | AUC 95CI = 0.53 (0.48, 0.59)', 'Reported | AUC | AUC 95CI = 0.52 (0.47, 0.58)', 'Reported | AUC | AUC 95CI = 0.53 (0.48–0.59)', 'Reported | AUC | AUC 95CI = 0.54 (0.49, 0.59)\\xa0‡', 'Reported | AUC | AUC 95CI  = 0.53 (0.48, 0.59)']                                                                                                                                                                                                                                                                                                                                                                                                                                                                                                                                                                                                                                                                                                                                                                                                                                                                                                                                                                                                                                                                                                                                                                                                                                                                                                                                                                                                                                                                                                                                                                                                                                                                                                                                                                                                                                                                                                                                                                                                                                                                                                                                                                                                                                                                                                                                                                                                                                                                                                                                                                                                                                                                                                                                                                                                                                                                                                                                                                                                                                                                                                                                                                                                                                                                                                                                                                                                                                                                                                                                                                                                                                                                                                                                                                                                                                                                                                                                                                                                                                                                                                                                                                                                                                                                                                                                                                                                                                                                                                                                                                                                                                                                                                                                                                                                                                                                                                                                                                                                                                                                                                                                                                                                                                                                                                                                                                                                                                                                                                                                                                                                                                                                                                                                                                                                                                                                                                                                                                                                                                                                                                                                                                                                                                                                                                                                                                                                                                                                                                                                                                                                                                                                                                                                                                                                                                                                                                                                                                                                                                                                                                                                                                                                                                                                                                                                                                                                                                                                                                                                                                                                                                                                                                                                                                                                                                                                                                                                                                                                                                                                                                                                                                                                                                                                                                                                                                                                                                                                                                                                                                                                                                                                                                                                                                                                                                                                                                                                                                                                                                                                                                                                                                                                                                                                                                                                                                                                                                         1\n",
      "['Reported | Accuracy, sensitivity, specificity | training set (n = 1,057; accuracy = 82%, sensitivity = 81%, specificity = 82%); test set (n = 221, sensitivity = 83%, accuracy = 60%, specificity = 87%) ', 'Reported | Accuracy, sensitivity, specificity | training set (n = 1,057; accuracy = 96%, sensitivity = 80%, specificity = 98%); test set (n = 221, sensitivity = 58%, accuracy = 91%, specificity = 97%) ']                                                                                                                                                                                                                                                                                                                                                                                                                                                                                                                                                                                                                                                                                                                                                                                                                                                                                                                                                                                                                                                                                                                                                                                                                                                                                                                                                                                                                                                                                                                                                                                                                                                                                                                                                                                                                                                                                                                                                                                                                                                                                                                                                                                                                                                                                                                                                                                                                                                                                                                                                                                                                                                                                                                                                                                                                                                                                                                                                                                                                                                                                                                                                                                                                                                                                                                                                                                                                                                                                                                                                                                                                                                                                                                                                                                                                                                                                                                                                                                                                                                                                                                                                                                                                                                                                                                                                                                                                                                                                                                                                                                                                                                                                                                                                                                                                                                                                                                                                                                                                                                                                                                                                                                                                                                                                                                                                                                                                                                                                                                                                                                                                                                                                                                                                                                                                                                                                                                                                                                                                                                                                                                                                                                                                                                                                                                                                                                                                                                                                                                                                                                                                                                                                                                                                                                                                                                                                                                                                                                                                                                                                                                                                                                                                                                                                                                                                                                                                                                                                                                                                                                                                                                                                                                                                                                                                                                                                                                                                                                                                                                                                                                                                                                                                                                                                                                                                                                                                                                                                                                                                                                                                                                                                                                                                                                                                                                                                                                                                                                                                                                                                                                                                                                                                                                                                                                                                                                                                               1\n",
      "['Reported | Correlation | \\xa0age 15\\xa0r\\xa0= -0.111,\\xa0p\\xa0< 0.002 and age 17\\xa0r\\xa0= -0.181,\\xa0p\\xa0< 0.0001', 'Not reported']                                                                                                                                                                                                                                                                                                                                                                                                                                                                                                                                                                                                                                                                                                                                                                                                                                                                                                                                                                                                                                                                                                                                                                                                                                                                                                                                                                                                                                                                                                                                                                                                                                                                                                                                                                                                                                                                                                                                                                                                                                                                                                                                                                                                                                                                                                                                                                                                                                                                                                                                                                                                                                                                                                                                                                                                                                                                                                                                                                                                                                                                                                                                                                                                                                                                                                                                                                                                                                                                                                                                                                                                                                                                                                                                                                                                                                                                                                                                                                                                                                                                                                                                                                                                                                                                                                                                                                                                                                                                                                                                                                                                                                                                                                                                                                                                                                                                                                                                                                                                                                                                                                                                                                                                                                                                                                                                                                                                                                                                                                                                                                                                                                                                                                                                                                                                                                                                                                                                                                                                                                                                                                                                                                                                                                                                                                                                                                                                                                                                                                                                                                                                                                                                                                                                                                                                                                                                                                                                                                                                                                                                                                                                                                                                                                                                                                                                                                                                                                                                                                                                                                                                                                                                                                                                                                                                                                                                                                                                                                                                                                                                                                                                                                                                                                                                                                                                                                                                                                                                                                                                                                                                                                                                                                                                                                                                                                                                                                                                                                                                                                                                                                                                                                                                                                                                                                                                                                                                                                                                                                                                                                                                                                                                                                                  1\n",
      "['Reported | Correlation | r = -0.034,  p = 0.62', 'Reported | Correlation | r = -0.023,  p = 0.73', 'Reported | Correlation | r = 0.51,  p = 0.45', 'Reported | Correlation | r = 0.086,  p = 0.2', 'Reported | Correlation | r = 0.11,  p = 0.11', 'Reported | Correlation | r = 0.022,  p = 0.74', 'Reported | Correlation | r = 0.056,  p = 0.4', 'Reported | Correlation | r = 0.13,  p = 0.055', 'Reported | Correlation | r = 0.074,  p = 0.27', 'Reported | Correlation | r = 0.81,  p = 0.23', 'Reported | Correlation | r = 0.096,  p = 0.15', 'Reported | Correlation | r = 0.136231632751718', 'Reported | Correlation | r = -0.07', 'Reported | Correlation | r = 0.052', 'Reported | Correlation | r = -0.0580003148812053', 'Reported | Correlation | r = 0.067', 'Reported | Correlation | r = -0.031', 'Reported | Correlation | r = 0.0927577528134565', 'Reported | Correlation | r = 0.088', 'Reported | Correlation | r = 0.13', 'Reported | Correlation | r = -0.12569439310634', 'Reported | Correlation | r = -0.12', 'Reported | Correlation | r = -0.14', 'Reported | Correlation | r = -0.0661015011394489', 'Reported | Correlation | r = -0.044', 'Reported | Correlation | r = -0.133608962083169', 'Reported | Correlation | r = 0.084', 'Reported | Correlation | r = -0.027', 'Reported | Correlation | r = -0.0348419351460552', 'Reported | Correlation | r = 0.29', 'Reported | Correlation | r = 0.032', 'Reported | Correlation | r = 0.0691043825501531', 'Reported | Correlation | r = -0.023', 'Reported | Correlation | r = 0.059', 'Reported | Correlation | r = 0.16443645515735', 'Reported | Correlation | r = 0.11', 'Reported | Correlation | r = -0.071', 'Reported | Correlation | r = 0.0164479777766081', 'Reported | Correlation | r = -0.046', 'Reported | Correlation | r = 0.00175211467785763', 'Reported | Correlation | r = 0.035', 'Reported | Correlation | r = -0.011', 'Reported | Correlation | r = -0.00740878546895612', 'Reported | Correlation | r = -0.038', 'Reported | Correlation | r = 0.1', 'Reported | Correlation | r = 0.0428764943447176', 'Reported | Correlation | r = 0.0034', 'Reported | Correlation | r = -0.007745844355305', 'Reported | Correlation | r = -0.0091', 'Reported | Correlation | r = 0.0457896493007407', 'Reported | Correlation | r = 0.028', 'Reported | Correlation | r = -0.064', 'Reported | Correlation | r = 0.0777560580801613', 'Reported | Correlation | r = -0.018', 'Reported | Correlation | r = -0.032', 'Reported | Correlation | r = 0.0845215163568444', 'Reported | Correlation | r = 0.012', 'Reported | Correlation | r = 0.051', 'Reported | Correlation | r = -0.104825593495983', 'Reported | Correlation | r = 0.2', 'Reported | Correlation | r = -0.119474762260386', 'Reported | Correlation | r = 0.078', 'Reported | Correlation | r = 0.0763020907578234', 'Reported | Correlation | r = 0.0017', 'Reported | Correlation | r = 0.15', 'Reported | Correlation | r = -0.0541713847423454', 'Reported | Correlation | r = 0.047', 'Reported | Correlation | r = -0.024', 'Reported | Correlation | r = 0.0377671161179379', 'Reported | Correlation | r = 0.063', 'Reported | Correlation | r = 0.0516774184797272', 'Reported | Correlation | r = 0.12', 'Reported | Correlation | r = 0.16', 'Reported | Correlation | r = 0.0871563035706649', 'Reported | Correlation | r = -0.0018', 'Reported | Correlation | r = -0.012', 'Reported | Correlation | r = 0.0164787148047476', 'Reported | Correlation | r = -0.021', 'Reported | Correlation | r = 0.013', 'Reported | Correlation | r = 0.0683929268769582', 'Reported | Correlation | r = 0.048', 'Reported | Correlation | r = -0.13', 'Reported | Correlation | r = 0.0218425557315187', 'Reported | Correlation | r = -0.087', 'Reported | Correlation | r = 0.104133144333686', 'Reported | Correlation | r = 0.015', 'Reported | Correlation | r = 0.04', 'Reported | Correlation | r = -0.011254797248706', 'Reported | Correlation | r = 0.092', 'Reported | Correlation | r = 0.038', 'Reported | Correlation | r = -0.0374033215193355', 'Reported | Correlation | r = 0.14', 'Reported | Correlation | r = -0.0206685636855067', 'Reported | Correlation | r = -0.0603617726599814', 'Reported | Correlation | r = -0.066', 'Reported | Correlation | r = -0.0542487305685527', 'Reported | Correlation | r = 0.072', 'Reported | Correlation | r = -0.042', 'Reported | Correlation | r = 0.0352402257048486', 'Reported | Correlation | r = -0.034', 'Reported | Correlation | r = 0.083', 'Reported | Correlation | r = -0.109715997970518', 'Reported | Correlation | r = 0.096', 'Reported | Correlation | r = -0.014', 'Reported | Correlation | r = 0.0356210950492961', 'Reported | Correlation | r = 0.043', 'Reported | Correlation | r = 0.0809889519611849', 'Reported | Correlation | r = 0.0085', 'Reported | Correlation | r = 0.00437132598052698', 'Reported | Correlation | r = 0.049', 'Reported | Correlation | r = 0.074', 'Reported | Correlation | r = 0.0907367431375909', 'Reported | Correlation | r = 0.0071', 'Reported | Correlation | r = -0.0460132891671891', 'Reported | Correlation | r = -0.09', 'Reported | Correlation | r = 0.00033', 'Reported | Correlation | r = -0.114830939281956', 'Reported | Correlation | r = 0.057', 'Reported | Correlation | r = -0.188372698538431', 'Reported | Correlation | r = 0.091', 'Reported | Correlation | r = -0.013', 'Reported | Correlation | r = 0.0989440750300546', 'Reported | Correlation | r = 0.022', 'Reported | Correlation | r = 0.0440811771347751', 'Reported | Correlation | r = 0.044', 'Reported | Correlation | r = 0.06', 'Reported | Correlation | r = 0.04716178298334', 'Reported | Correlation | r = -0.052', 'Reported | Correlation | r = 0.0861089171025457', 'Reported | Correlation | r = 0.024', 'Reported | Correlation | r = -0.065', 'Reported | Correlation | r = 0.150589394662987', 'Reported | Correlation | r = 0.38', 'Reported | Correlation | r = 0.124526497773164', 'Reported | Correlation | r = -0.076', 'Reported | Correlation | r = -0.022', 'Reported | Correlation | r = 0.0525606118484013', 'Reported | Correlation | r = -0.019', 'Reported | Correlation | r = -0.163238711858038', 'Reported | Correlation | r = 0.071', 'Reported | Correlation | r = 0.00473215920127021', 'Reported | Correlation | r = 0.0097', 'Reported | Correlation | r = -0.049', 'Reported | Correlation | r = 0.02014913303212', 'Reported | Correlation | r = -0.017', 'Reported | Correlation | r = 0.108038836774425', 'Reported | Correlation | r = 0.138312267446712', 'Reported | Correlation | r = 0.023', 'Reported | Correlation | r = 0.099', 'Reported | Correlation | r = 0.152905839896442', 'Reported | Correlation | r = 0.109026259346706', 'Reported | Correlation | r = -0.029', 'Reported | Correlation | r = -0.047', 'Reported | Correlation | r = 0.225830620906004', 'Reported | Correlation | r = -0.058', 'Reported | Correlation | r = 0.0359071583910913', 'Reported | Correlation | r = -0.0037', 'Reported | Correlation | r = -0.075', 'Reported | Correlation | r = 0.0876212245733813', 'Reported | Correlation | r = 0.09', 'Reported | Correlation | r = 0.193307472337588', 'Reported | Correlation | r = 0.019', 'Reported | Correlation | r = 0.144819668894181', 'Reported | Correlation | r = 0.011', 'Reported | Correlation | r = 0.115096096754838', 'Reported | Correlation | r = 0.07', 'Reported | Correlation | r = 0.0768318169999125', 'Reported | Correlation | r = -0.036', 'Reported | Correlation | r = 0.16964815844749', 'Reported | Correlation | r = 0.184449104790105', 'Reported | Correlation | r = 0.066', 'Reported | Correlation | r = -0.00726142029524169', 'Reported | Correlation | r = 0.23', 'Reported | Correlation | r = 0.0056', 'Reported | Correlation | r = 0.169985659570416', 'Reported | Correlation | r = 0.0402560698598416', 'Reported | Correlation | r = 0.025', 'Reported | Correlation | r = 0.105578490556784', 'Reported | Correlation | r = -0.086', 'Reported | Correlation | r = 0.120522666060663', 'Reported | Correlation | r = 0.22', 'Reported | Correlation | r = -0.0099', 'Reported | Correlation | r = 0.236639237360565', 'Reported | Correlation | r = -0.025', 'Reported | Correlation | r = -0.11', 'Reported | Correlation | r = 0.0488356578073598', 'Reported | Correlation | r = -0.13427029694345', 'Reported | Correlation | r = 0.03', 'Reported | Correlation | r = -0.0455644116107895', 'Reported | Correlation | r = -0.0539078628752647', 'Reported | Correlation | r = 0.018', 'Reported | Correlation | r = 0.115649155646262', 'Reported | Correlation | r = 0.085', 'Reported | Correlation | r = -0.03', 'Reported | Correlation | r = 0.00729223062727755', 'Reported | Correlation | r = 0.210206423004289', 'Reported | Correlation | r = -0.0095', 'Reported | Correlation | r = -0.105905880903077', 'Reported | Correlation | r = 0.098', 'Reported | Correlation | r = -0.0055497232423221', 'Reported | Correlation | r = -0.0264143635330906', 'Reported | Correlation | r = 0.057212478805269', 'Reported | Correlation | r = 0.020748087349689', 'Reported | Correlation | r = -0.051', 'Reported | Correlation | r = -0.0264602613620999', 'Reported | Correlation | r = -0.039', 'Reported | Correlation | r = -0.0528814708663226', 'Reported | Correlation | r = 0.042', 'Reported | Correlation | r = 0.036', 'Reported | Correlation | r = 0.218780094623085', 'Reported | Correlation | r = 0.046', 'Reported | Correlation | r = -0.0165577310321418', 'Reported | Correlation | r = -0.082', 'Reported | Correlation | r = 0.029', 'Reported | Correlation | r = 0.0967674027548641']     1\n",
      "['Reported | Correlation | r = .18', 'Reported | Correlation | r = .08']                                                                                                                                                                                                                                                                                                                                                                                                                                                                                                                                                                                                                                                                                                                                                                                                                                                                                                                                                                                                                                                                                                                                                                                                                                                                                                                                                                                                                                                                                                                                                                                                                                                                                                                                                                                                                                                                                                                                                                                                                                                                                                                                                                                                                                                                                                                                                                                                                                                                                                                                                                                                                                                                                                                                                                                                                                                                                                                                                                                                                                                                                                                                                                                                                                                                                                                                                                                                                                                                                                                                                                                                                                                                                                                                                                                                                                                                                                                                                                                                                                                                                                                                                                                                                                                                                                                                                                                                                                                                                                                                                                                                                                                                                                                                                                                                                                                                                                                                                                                                                                                                                                                                                                                                                                                                                                                                                                                                                                                                                                                                                                                                                                                                                                                                                                                                                                                                                                                                                                                                                                                                                                                                                                                                                                                                                                                                                                                                                                                                                                                                                                                                                                                                                                                                                                                                                                                                                                                                                                                                                                                                                                                                                                                                                                                                                                                                                                                                                                                                                                                                                                                                                                                                                                                                                                                                                                                                                                                                                                                                                                                                                                                                                                                                                                                                                                                                                                                                                                                                                                                                                                                                                                                                                                                                                                                                                                                                                                                                                                                                                                                                                                                                                                                                                                                                                                                                                                                                                                                                                                                                                                                                                                                                                                                                                                                 1\n",
      "['Reported | Correlation | r = 0.042; p = 0.275', 'Reported | Correlation | r = 0.073; p = 0.050', 'Reported | Correlation | r = 0.101; p = 0.009', 'Reported | Correlation | r = -0.004; p = 0.920']                                                                                                                                                                                                                                                                                                                                                                                                                                                                                                                                                                                                                                                                                                                                                                                                                                                                                                                                                                                                                                                                                                                                                                                                                                                                                                                                                                                                                                                                                                                                                                                                                                                                                                                                                                                                                                                                                                                                                                                                                                                                                                                                                                                                                                                                                                                                                                                                                                                                                                                                                                                                                                                                                                                                                                                                                                                                                                                                                                                                                                                                                                                                                                                                                                                                                                                                                                                                                                                                                                                                                                                                                                                                                                                                                                                                                                                                                                                                                                                                                                                                                                                                                                                                                                                                                                                                                                                                                                                                                                                                                                                                                                                                                                                                                                                                                                                                                                                                                                                                                                                                                                                                                                                                                                                                                                                                                                                                                                                                                                                                                                                                                                                                                                                                                                                                                                                                                                                                                                                                                                                                                                                                                                                                                                                                                                                                                                                                                                                                                                                                                                                                                                                                                                                                                                                                                                                                                                                                                                                                                                                                                                                                                                                                                                                                                                                                                                                                                                                                                                                                                                                                                                                                                                                                                                                                                                                                                                                                                                                                                                                                                                                                                                                                                                                                                                                                                                                                                                                                                                                                                                                                                                                                                                                                                                                                                                                                                                                                                                                                                                                                                                                                                                                                                                                                                                                                                                                                                                                                                                                                                                                                                                                    1\n",
      "['Reported | Correlation | r = 0.11', 'Reported | Correlation | r = 0.17']                                                                                                                                                                                                                                                                                                                                                                                                                                                                                                                                                                                                                                                                                                                                                                                                                                                                                                                                                                                                                                                                                                                                                                                                                                                                                                                                                                                                                                                                                                                                                                                                                                                                                                                                                                                                                                                                                                                                                                                                                                                                                                                                                                                                                                                                                                                                                                                                                                                                                                                                                                                                                                                                                                                                                                                                                                                                                                                                                                                                                                                                                                                                                                                                                                                                                                                                                                                                                                                                                                                                                                                                                                                                                                                                                                                                                                                                                                                                                                                                                                                                                                                                                                                                                                                                                                                                                                                                                                                                                                                                                                                                                                                                                                                                                                                                                                                                                                                                                                                                                                                                                                                                                                                                                                                                                                                                                                                                                                                                                                                                                                                                                                                                                                                                                                                                                                                                                                                                                                                                                                                                                                                                                                                                                                                                                                                                                                                                                                                                                                                                                                                                                                                                                                                                                                                                                                                                                                                                                                                                                                                                                                                                                                                                                                                                                                                                                                                                                                                                                                                                                                                                                                                                                                                                                                                                                                                                                                                                                                                                                                                                                                                                                                                                                                                                                                                                                                                                                                                                                                                                                                                                                                                                                                                                                                                                                                                                                                                                                                                                                                                                                                                                                                                                                                                                                                                                                                                                                                                                                                                                                                                                                                                                                                                                                                               1\n",
      "['Reported | Explained variance | R = 0.0006', 'Reported | Explained variance | R2 = 0.23']                                                                                                                                                                                                                                                                                                                                                                                                                                                                                                                                                                                                                                                                                                                                                                                                                                                                                                                                                                                                                                                                                                                                                                                                                                                                                                                                                                                                                                                                                                                                                                                                                                                                                                                                                                                                                                                                                                                                                                                                                                                                                                                                                                                                                                                                                                                                                                                                                                                                                                                                                                                                                                                                                                                                                                                                                                                                                                                                                                                                                                                                                                                                                                                                                                                                                                                                                                                                                                                                                                                                                                                                                                                                                                                                                                                                                                                                                                                                                                                                                                                                                                                                                                                                                                                                                                                                                                                                                                                                                                                                                                                                                                                                                                                                                                                                                                                                                                                                                                                                                                                                                                                                                                                                                                                                                                                                                                                                                                                                                                                                                                                                                                                                                                                                                                                                                                                                                                                                                                                                                                                                                                                                                                                                                                                                                                                                                                                                                                                                                                                                                                                                                                                                                                                                                                                                                                                                                                                                                                                                                                                                                                                                                                                                                                                                                                                                                                                                                                                                                                                                                                                                                                                                                                                                                                                                                                                                                                                                                                                                                                                                                                                                                                                                                                                                                                                                                                                                                                                                                                                                                                                                                                                                                                                                                                                                                                                                                                                                                                                                                                                                                                                                                                                                                                                                                                                                                                                                                                                                                                                                                                                                                                                                                                                                                              1\n",
      "['Reported | Explained variance | R2=3%, p = 3.91E−11', 'Reported | Explained variance | R2=2%, p = 6.83E−05', 'Reported | Explained variance | R2=1%, p = 2.23E−04']                                                                                                                                                                                                                                                                                                                                                                                                                                                                                                                                                                                                                                                                                                                                                                                                                                                                                                                                                                                                                                                                                                                                                                                                                                                                                                                                                                                                                                                                                                                                                                                                                                                                                                                                                                                                                                                                                                                                                                                                                                                                                                                                                                                                                                                                                                                                                                                                                                                                                                                                                                                                                                                                                                                                                                                                                                                                                                                                                                                                                                                                                                                                                                                                                                                                                                                                                                                                                                                                                                                                                                                                                                                                                                                                                                                                                                                                                                                                                                                                                                                                                                                                                                                                                                                                                                                                                                                                                                                                                                                                                                                                                                                                                                                                                                                                                                                                                                                                                                                                                                                                                                                                                                                                                                                                                                                                                                                                                                                                                                                                                                                                                                                                                                                                                                                                                                                                                                                                                                                                                                                                                                                                                                                                                                                                                                                                                                                                                                                                                                                                                                                                                                                                                                                                                                                                                                                                                                                                                                                                                                                                                                                                                                                                                                                                                                                                                                                                                                                                                                                                                                                                                                                                                                                                                                                                                                                                                                                                                                                                                                                                                                                                                                                                                                                                                                                                                                                                                                                                                                                                                                                                                                                                                                                                                                                                                                                                                                                                                                                                                                                                                                                                                                                                                                                                                                                                                                                                                                                                                                                                                                                                                                                                                    1\n",
      "['Reported | Explained variance | adjusted R-squared = 0.992,\\xa0p-value ≤ 2.2 × 10–16 (internal) -> not significant in validation sample', 'Reported | Explained variance |adjusted R-squared = 0.8088,\\xa0p-value ≤ 2.2 × 10–16 (internal) -> not significant in validation sample', 'Reported | Explained variance |\\xa0adjusted R-squared = 0.874,\\xa0p-value ≤ 2.2 × 10–16  (internal) -> not significant in validation sample', 'Reported | Explained variance | adjusted R-squared = 0.5966,\\xa0p-value 7.731 × 10–11 (internal) -> not significant in validation sample']                                                                                                                                                                                                                                                                                                                                                                                                                                                                                                                                                                                                                                                                                                                                                                                                                                                                                                                                                                                                                                                                                                                                                                                                                                                                                                                                                                                                                                                                                                                                                                                                                                                                                                                                                                                                                                                                                                                                                                                                                                                                                                                                                                                                                                                                                                                                                                                                                                                                                                                                                                                                                                                                                                                                                                                                                                                                                                                                                                                                                                                                                                                                                                                                                                                                                                                                                                                                                                                                                                                                                                                                                                                                                                                                                                                                                                                                                                                                                                                                                                                                                                                                                                                                                                                                                                                                                                                                                                                                                                                                                                                                                                                                                                                                                                                                                                                                                                                                                                                                                                                                                                                                                                                                                                                                                                                                                                                                                                                                                                                                                                                                                                                                                                                                                                                                                                                                                                                                                                                                                                                                                                                                                                                                                                                                                                                                                                                                                                                                                                                                                                                                                                                                                                                                                                                                                                                                                                                                                                                                                                                                                                                                                                                                                                                                                                                                                                                                                                                                                                                                                                                                                                                                                                                                                                                                                                                                                                                                                                                                                                                                                                                                                                                                                                                                                                                                                                                                                                                                                                                                                                                                                                                                                                                                                                                                                                                                                                                                                                                                                                                                                                                                                                                                                                                                        1\n",
      "['Reported | Explained variance | pseudo R2 = 0.161', 'Reported | Explained variance | pseudo R2 = 0.173597289', 'Reported | Explained variance | pseudo R2 = 0.151', 'Reported | Explained variance | pseudo R2 = 0.16', 'Reported | Explained variance | pseudo R2 = 0.135', 'Reported | Explained variance | pseudo R2 = 0.132464549', 'Reported | Explained variance | pseudo R2 = 0.162', 'Reported | Explained variance | pseudo R2 = 0.167099416', 'Reported | Explained variance | pseudo R2 = 0.158', 'Reported | Explained variance | pseudo R2 = 0.161554352', 'Reported | Explained variance | pseudo R2 = 0.172', 'Reported | Explained variance | pseudo R2 = 0.149761571', 'Reported | Explained variance | pseudo R2 = 0.156', 'Reported | Explained variance | pseudo R2 = 0.170890935']                                                                                                                                                                                                                                                                                                                                                                                                                                                                                                                                                                                                                                                                                                                                                                                                                                                                                                                                                                                                                                                                                                                                                                                                                                                                                                                                                                                                                                                                                                                                                                                                                                                                                                                                                                                                                                                                                                                                                                                                                                                                                                                                                                                                                                                                                                                                                                                                                                                                                                                                                                                                                                                                                                                                                                                                                                                                                                                                                                                                                                                                                                                                                                                                                                                                                                                                                                                                                                                                                                                                                                                                                                                                                                                                                                                                                                                                                                                                                                                                                                                                                                                                                                                                                                                                                                                                                                                                                                                                                                                                                                                                                                                                                                                                                                                                                                                                                                                                                                                                                                                                                                                                                                                                                                                                                                                                                                                                                                                                                                                                                                                                                                                                                                                                                                                                                                                                                                                                                                                                                                                                                                                                                                                                                                                                                                                                                                                                                                                                                                                                                                                                                                                                                                                                                                                                                                                                                                                                                                                                                                                                                                                                                                                                                                                                                                                                                                                                                                                                                                                                                                                                                                                                                                                                                                                                                                                                                                                                                                                                                                                                                                                                                                                                                                                                                                                                                                                                                                                                                                                                                                                                                                                                                                                                                                                                                                                                                                                                                                                                                                                1\n",
      "['Reported | Linear regression, explained variance | r2 = 0.930%, (b se p =−0.013 0.031 0.679)', 'Reported | Linear regression, explained variance | r2 = 0.022%, (b se p =  0.015 0.029 0.613)', 'Reported | Linear regression, explained variance | r2 = 0.064%, (b se p =  0.031 0.032 0.344)', 'Reported | Linear regression, explained variance | r2 = 0.025%, (b se p = 0.016 0.032 0.613)', 'Reported | Linear regression, explained variance | r2 = 0.141%, (b se p = 0.038 0.032 0.237)', 'Reported | Linear regression, explained variance | r2 = 0.002%, (b se p = −0.005 0.033 0.882)', 'Reported | Linear regression, explained variance | r2 = 0.930% (b se p = −0.256 0.158 0.105)', 'Reported | Linear regression, explained variance | r2 = 0.386%, (b se p = −0.125 0.153 0.416)', 'Reported | Linear regression, explained variance | r2 = 1.683%, (b se p = −0.285 0.187 0.127)', 'Reported | Linear regression, explained variance | r2 = 0.149%, (b se p = −0.096 0.164 0.559)', 'Reported | Linear regression, explained variance | r2 = 2.223%, (b se p =  −0.304 0.183 0.096)', 'Reported | Linear regression, explained variance | r2 = 0.2742%, (b se p = −0.120 0.161 0.456)', 'Reported | Linear regression, explained variance | r2 = 0.001%, (b se p = 0.003 0.017 0.878)', 'Reported | Linear regression, explained variance | r2 = 0.042%, (b se p = 0.021 0.019 0.276)', 'Reported | Linear regression, explained variance | r2 = 0.003%, (b se p = −0.006 0.017 0.733)', 'Reported | Linear regression, explained variance | r2 = 0.003%, (b se p =  0.005 0.019 0.772)', 'Reported | Linear regression, explained variance | r2 = 0.006%, (b se p = −0.008 0.018 0.676)']                                                                                                                                                                                                                                                                                                                                                                                                                                                                                                                                                                                                                                                                                                                                                                                                                                                                                                                                                                                                                                                                                                                                                                                                                                                                                                                                                                                                                                                                                                                                                                                                                                                                                                                                                                                                                                                                                                                                                                                                                                                                                                                                                                                                                                                                                                                                                                                                                                                                                                                                                                                                                                                                                                                                                                                                                                                                                                                                                                                                                                                                                                                                                                                                                                                                                                                                                                                                                                                                                                                                                                                                                                                                                                                                                                                                                                                                                                                                                                                                                                                                                                                                                                                                                                                                                                                                                                                                                                                                                                                                                                                                                                                                                                                                                                                                                                                                                                                                                                                                                                                                                                                                                                                                                                                                                                                                                                                                                                                                                                                                                                                                                                                                                                                                                                                                                                                                                                                                                                                                                                                                                                                                                                                                                                                                                                                                                                                                                                                                                                                                                                                                                                                                                                                                                                                                                                                                                                                                                                                                                                                                                                                                                                                                                                                                                                                                                                                                                                                                                                                                                                                                                                                                                                                                                                                                                                                                                                                                                                                                                                                                                                                                            1\n",
      "['Reported | Sensitivity/Specifity/Cohen’s κ/Accuracy/AUC/Brierscore | sensitivity/specicity 91% and 76% internal, 87% and 75% external', 'Reported | Sensitivity/Specifity/Cohen’s κ/Accuracy/AUC/Brierscore | sensitivity/specicity 91% and 82% internal, 95% and 29% external', 'Reported | Sensitivity/Specifity/Cohen’s κ/Accuracy/AUC/Brierscore | sensitivity/specicity 87% and 73% internal, 79% and 16% external', 'Reported | Sensitivity/Specifity/Cohen’s κ/Accuracy/AUC/Brierscore | sensitivity/specicity 87% and 73% internal, 87% and 44% external', 'Reported | Sensitivity/Specifity/Cohen’s κ/Accuracy/AUC/Brierscore | sensitivity/specicity 88% and 72% internal, 87% and 61% for external', 'Reported | Sensitivity/Specifity/Cohen’s κ/Accuracy/AUC/Brierscore | sensitivity/specicity 70% and 68% internal, 65% and 76% external', 'Reported | Sensitivity/Specifity/Cohen’s κ/Accuracy/AUC/Brierscore | sensitivity/specicity 79% and 58% internal, 65% and 77% external']                                                                                                                                                                                                                                                                                                                                                                                                                                                                                                                                                                                                                                                                                                                                                                                                                                                                                                                                                                                                                                                                                                                                                                                                                                                                                                                                                                                                                                                                                                                                                                                                                                                                                                                                                                                                                                                                                                                                                                                                                                                                                                                                                                                                                                                                                                                                                                                                                                                                                                                                                                                                                                                                                                                                                                                                                                                                                                                                                                                                                                                                                                                                                                                                                                                                                                                                                                                                                                                                                                                                                                                                                                                                                                                                                                                                                                                                                                                                                                                                                                                                                                                                                                                                                                                                                                                                                                                                                                                                                                                                                                                                                                                                                                                                                                                                                                                                                                                                                                                                                                                                                                                                                                                                                                                                                                                                                                                                                                                                                                                                                                                                                                                                                                                                                                                                                                                                                                                                                                                                                                                                                                                                                                                                                                                                                                                                                                                                                                                                                                                                                                                                                                                                                                                                                                                                                                                                                                                                                                                                                                                                                                                                                                                                                                                                                                                                                                                                                                                                                                                                                                                                                                                                                                                                                                                                                                                                                                                                                                                                                                                                                                                                                                                                                                                                                                                                                                                                                                                                                                                                                                                                                                                                                                                                                                                                                                                      1\n",
      "['Reported | beta coefficient | beta = 0.77, se = 0.09', 'Reported | beta coefficient | beta = 0.65, se = 0.10', 'Reported | beta coefficient | beta = 0.70, se = 0.11', 'Reported | beta coefficient | beta = 0.82, se = 0.10', 'Reported | beta coefficient | beta = 0.69, se = 0.10', 'Reported | beta coefficient | beta = 0.64, se = 0.09']                                                                                                                                                                                                                                                                                                                                                                                                                                                                                                                                                                                                                                                                                                                                                                                                                                                                                                                                                                                                                                                                                                                                                                                                                                                                                                                                                                                                                                                                                                                                                                                                                                                                                                                                                                                                                                                                                                                                                                                                                                                                                                                                                                                                                                                                                                                                                                                                                                                                                                                                                                                                                                                                                                                                                                                                                                                                                                                                                                                                                                                                                                                                                                                                                                                                                                                                                                                                                                                                                                                                                                                                                                                                                                                                                                                                                                                                                                                                                                                                                                                                                                                                                                                                                                                                                                                                                                                                                                                                                                                                                                                                                                                                                                                                                                                                                                                                                                                                                                                                                                                                                                                                                                                                                                                                                                                                                                                                                                                                                                                                                                                                                                                                                                                                                                                                                                                                                                                                                                                                                                                                                                                                                                                                                                                                                                                                                                                                                                                                                                                                                                                                                                                                                                                                                                                                                                                                                                                                                                                                                                                                                                                                                                                                                                                                                                                                                                                                                                                                                                                                                                                                                                                                                                                                                                                                                                                                                                                                                                                                                                                                                                                                                                                                                                                                                                                                                                                                                                                                                                                                                                                                                                                                                                                                                                                                                                                                                                                                                                                                                                                                                                                                                                                                                                                                                                                                                                                                                                                                                                         1\n",
      "['Reported | p-value | p = 0.48', 'Reported | p-value | p = 0.13', 'Reported | p-value | p = 0.78', 'Reported | p-value | p =  0.22']                                                                                                                                                                                                                                                                                                                                                                                                                                                                                                                                                                                                                                                                                                                                                                                                                                                                                                                                                                                                                                                                                                                                                                                                                                                                                                                                                                                                                                                                                                                                                                                                                                                                                                                                                                                                                                                                                                                                                                                                                                                                                                                                                                                                                                                                                                                                                                                                                                                                                                                                                                                                                                                                                                                                                                                                                                                                                                                                                                                                                                                                                                                                                                                                                                                                                                                                                                                                                                                                                                                                                                                                                                                                                                                                                                                                                                                                                                                                                                                                                                                                                                                                                                                                                                                                                                                                                                                                                                                                                                                                                                                                                                                                                                                                                                                                                                                                                                                                                                                                                                                                                                                                                                                                                                                                                                                                                                                                                                                                                                                                                                                                                                                                                                                                                                                                                                                                                                                                                                                                                                                                                                                                                                                                                                                                                                                                                                                                                                                                                                                                                                                                                                                                                                                                                                                                                                                                                                                                                                                                                                                                                                                                                                                                                                                                                                                                                                                                                                                                                                                                                                                                                                                                                                                                                                                                                                                                                                                                                                                                                                                                                                                                                                                                                                                                                                                                                                                                                                                                                                                                                                                                                                                                                                                                                                                                                                                                                                                                                                                                                                                                                                                                                                                                                                                                                                                                                                                                                                                                                                                                                                                                                                                                                                                    1\n",
      "['Reported | t-test | t=3.31,p<.001', 'Reported | t-test | t=2.65,p=.004', 'Reported | t-test | t=2.07,p=.019', 'Reported | t-test | t=2.99,p=.001', 'Reported | t-test | t=2.80,p=.003', 'Reported | t-test | t=3.09,p=.001', 'Reported | t-test | t=2.22,p=.013', 'Reported | t-test | t=0.97,p=.17', 'Reported | t-test | t=1.07,p=.14', 'Reported | t-test | t=1.14,p=.13', 'Reported | t-test | t=1.64,p=.05', 'Reported | t-test | t=1.00,p=.16', 'Reported | t-test | t=1.08,p=.14', 'Reported | t-test | t=1.17,p=.12']                                                                                                                                                                                                                                                                                                                                                                                                                                                                                                                                                                                                                                                                                                                                                                                                                                                                                                                                                                                                                                                                                                                                                                                                                                                                                                                                                                                                                                                                                                                                                                                                                                                                                                                                                                                                                                                                                                                                                                                                                                                                                                                                                                                                                                                                                                                                                                                                                                                                                                                                                                                                                                                                                                                                                                                                                                                                                                                                                                                                                                                                                                                                                                                                                                                                                                                                                                                                                                                                                                                                                                                                                                                                                                                                                                                                                                                                                                                                                                                                                                                                                                                                                                                                                                                                                                                                                                                                                                                                                                                                                                                                                                                                                                                                                                                                                                                                                                                                                                                                                                                                                                                                                                                                                                                                                                                                                                                                                                                                                                                                                                                                                                                                                                                                                                                                                                                                                                                                                                                                                                                                                                                                                                                                                                                                                                                                                                                                                                                                                                                                                                                                                                                                                                                                                                                                                                                                                                                                                                                                                                                                                                                                                                                                                                                                                                                                                                                                                                                                                                                                                                                                                                                                                                                                                                                                                                                                                                                                                                                                                                                                                                                                                                                                                                                                                                                                                                                                                                                                                                                                                                                                                                                                                                                                                                                                                                                                                                                                                                                                                                                                                                                                                                                                                                                                                                                          1\n",
      "not assessed                                                                                                                                                                                                                                                                                                                                                                                                                                                                                                                                                                                                                                                                                                                                                                                                                                                                                                                                                                                                                                                                                                                                                                                                                                                                                                                                                                                                                                                                                                                                                                                                                                                                                                                                                                                                                                                                                                                                                                                                                                                                                                                                                                                                                                                                                                                                                                                                                                                                                                                                                                                                                                                                                                                                                                                                                                                                                                                                                                                                                                                                                                                                                                                                                                                                                                                                                                                                                                                                                                                                                                                                                                                                                                                                                                                                                                                                                                                                                                                                                                                                                                                                                                                                                                                                                                                                                                                                                                                                                                                                                                                                                                                                                                                                                                                                                                                                                                                                                                                                                                                                                                                                                                                                                                                                                                                                                                                                                                                                                                                                                                                                                                                                                                                                                                                                                                                                                                                                                                                                                                                                                                                                                                                                                                                                                                                                                                                                                                                                                                                                                                                                                                                                                                                                                                                                                                                                                                                                                                                                                                                                                                                                                                                                                                                                                                                                                                                                                                                                                                                                                                                                                                                                                                                                                                                                                                                                                                                                                                                                                                                                                                                                                                                                                                                                                                                                                                                                                                                                                                                                                                                                                                                                                                                                                                                                                                                                                                                                                                                                                                                                                                                                                                                                                                                                                                                                                                                                                                                                                                                                                                                                                                                                                                                                                                                                                                             1\n",
      "Name: count, dtype: int64\n"
     ]
    }
   ],
   "source": [
    "print(mps_table.Reflect_phenotype.value_counts().sort_index(),'\\n')\n",
    "\n",
    "print(pub_table.Reflect_phenotype.value_counts().sort_index())"
   ]
  },
  {
   "cell_type": "code",
   "execution_count": 57,
   "id": "3bbc6c71",
   "metadata": {},
   "outputs": [
    {
     "name": "stdout",
     "output_type": "stream",
     "text": [
      "Covariates\n",
      " Five technical\\nvariables were included in the model: sample plate batch, sentrix position\\non the chip, granulocyte cell estimate, red blood cell estimate, and CD8 T\\ncell estimate [25, 42]). Also, clinical characteristics such as maternal age at\\ndelivery, BMI before pregnancy, maternal place of birth (Scandinavia or other), educational level (University degree yes or no), mode of delivery (vaginal, vacuum extraction, emergency cesarean section, and elective cesarean section), parity, and gestational age, based on previous literature [15, 26, 43–45], were also included in the model, in total 12 covariates                                                                                                                                                                                                                                                            3\n",
      "Age, sex cell-type                                                                                                                                                                                                                                                                                                                                                                                                                                                                                                                                                                                                                                                                                                                                                                                                                                                                                 1\n",
      "All methylation scores were residualized for technical covariates (array, slide, batch, cell composition); When used in model: Is covariate itself                                                                                                                                                                                                                                                                                                                                                                                                                                                                                                                                                                                                                                                                                                                                                 1\n",
      "All methylation scores were residualized for technical covariates (array, slide, batch, cell composition); when used in model: age, gender, and an Age × Gender, BMI, pubertal status, DNAm smoke, family disadvantage                                                                                                                                                                                                                                                                                                                                                                                                                                                                                                                                                                                                                                                                             1\n",
      "Batch                                                                                                                                                                                                                                                                                                                                                                                                                                                                                                                                                                                                                                                                                                                                                                                                                                                                                              1\n",
      "Cell type                                                                                                                                                                                                                                                                                                                                                                                                                                                                                                                                                                                                                                                                                                                                                                                                                                                                                         72\n",
      "Cell type, 10 PCs                                                                                                                                                                                                                                                                                                                                                                                                                                                                                                                                                                                                                                                                                                                                                                                                                                                                                 44\n",
      "Cell type, batch                                                                                                                                                                                                                                                                                                                                                                                                                                                                                                                                                                                                                                                                                                                                                                                                                                                                                   1\n",
      "Cell type, maternal gestational diabetes [49] (categorized as having or not gestational diabetes) and ethnicity [50] (categorized as white European or non-white European children)                                                                                                                                                                                                                                                                                                                                                                                                                                                                                                                                                                                                                                                                                                                1\n",
      "Child sex and age at neuroimaging were adjusted for in the minimally adjusted model, and maternal age at enrollment, ethnicity, marital status, educational level, psychopathology score, alcohol use during pregnancy, and household income were additionally adjusted for in the fully adjusted model based on the 5% change-in-estimate criterion.24 For subcortical structures, intracranial volume (ICV) was additionally adjusted for in a third model to examine whether any volumetric differences were independent of the  gobal brain size. For mediation analyses using the MRS, we adjusted for child sex and age at neuroimaging, maternal age at enrollment, maternal educational level, cell types, plate number, and genetic principal componentsbatch, cell types, and 4 genetic principal components of ancestry was collected as additional covariates in analyses of MRS.      4\n",
      "HPC: SVs; Whole blood: subject id as random factor and blood cell counts, age, gender, case-control status and BMI as fixed factor; DNAm eventual score residualized for gender, age, case-control status, bmi and blood cell counts                                                                                                                                                                                                                                                                                                                                                                                                                                                                                                                                                                                                                                                               1\n",
      "No                                                                                                                                                                                                                                                                                                                                                                                                                                                                                                                                                                                                                                                                                                                                                                                                                                                                                                 8\n",
      "Not reported                                                                                                                                                                                                                                                                                                                                                                                                                                                                                                                                                                                                                                                                                                                                                                                                                                                                                     377\n",
      "Only on EWAS level                                                                                                                                                                                                                                                                                                                                                                                                                                                                                                                                                                                                                                                                                                                                                                                                                                                                                 8\n",
      "Sex, age                                                                                                                                                                                                                                                                                                                                                                                                                                                                                                                                                                                                                                                                                                                                                                                                                                                                                           4\n",
      "Sex, age, epithelial cell, natural killer cell proportions, array row, bisulfite plate                                                                                                                                                                                                                                                                                                                                                                                                                                                                                                                                                                                                                                                                                                                                                                                                            18\n",
      "Substance abuse, antisocial activities, cell type, age, seks                                                                                                                                                                                                                                                                                                                                                                                                                                                                                                                                                                                                                                                                                                                                                                                                                                       3\n",
      "age (except at birth), sex (where applicable), sample type (where applicable) and cell type proportions (B cell, CD4T, CD8T, Gran, Mono and NK).                                                                                                                                                                                                                                                                                                                                                                                                                                                                                                                                                                                                                                                                                                                                                   2\n",
      "age and seks                                                                                                                                                                                                                                                                                                                                                                                                                                                                                                                                                                                                                                                                                                                                                                                                                                                                                       1\n",
      "age at DNA methylation sample, child sex, maternal race/ethnicity, maternal income-to-needs ratio, proportion of epithelial cells, and proportion of immune cells                                                                                                                                                                                                                                                                                                                                                                                                                                                                                                                                                                                                                                                                                                                                  4\n",
      "age at sample, birthweight z-score, sex, and methylation processing batch                                                                                                                                                                                                                                                                                                                                                                                                                                                                                                                                                                                                                                                                                                                                                                                                                        104\n",
      "age, BMI, place of birth, parity, gestational age, mode of delivery, and education; sample plate batch, sentrix position on the chip, granulocyte cell estimate, red blood cell estimate, CD8 T cell estimate                                                                                                                                                                                                                                                                                                                                                                                                                                                                                                                                                                                                                                                                                      6\n",
      "age, age2 , gender, race, and smoking status                                                                                                                                                                                                                                                                                                                                                                                                                                                                                                                                                                                                                                                                                                                                                                                                                                                       1\n",
      "age, sex and cell type composition (Buccal, CD14, CD34) as well as the first three principal components (PC1, PC2, PC3)                                                                                                                                                                                                                                                                                                                                                                                                                                                                                                                                                                                                                                                                                                                                                                            2\n",
      "age, sex cell type                                                                                                                                                                                                                                                                                                                                                                                                                                                                                                                                                                                                                                                                                                                                                                                                                                                                                 1\n",
      "ancestry (in pooled samples), cell type proportions and top 5 PCs calculated from genotypes.                                                                                                                                                                                                                                                                                                                                                                                                                                                                                                                                                                                                                                                                                                                                                                                                       6\n",
      "array, slide, batch, cell composition                                                                                                                                                                                                                                                                                                                                                                                                                                                                                                                                                                                                                                                                                                                                                                                                                                                              1\n",
      "cell type                                                                                                                                                                                                                                                                                                                                                                                                                                                                                                                                                                                                                                                                                                                                                                                                                                                                                          2\n",
      "cell type heterogeneity using principal components (PCs) and genetic ancestry using PCs                                                                                                                                                                                                                                                                                                                                                                                                                                                                                                                                                                                                                                                                                                                                                                                                            2\n",
      "child sex, maternal age at delivery (in years), prenatal maternal smoking (binary categorization of ‘no smoking/quit in early pregnancy’ vs. ‘smoked throughout pregnancy’),gestational age at delivery (in weeks), child age at MRI assessment (in years), total brain volume, technical covariates (i.e. batch effect in Generation R), and estimated cell-type proportions using a cord_x0002_blood-specific reference-based                                                                                                                                                                                                                                                                                                                                                                                                                                                                    1\n",
      "city indicator, child sex, maternal income-to-poverty ratio at baseline, proportion of salivary immune cells, sample plate from DNA methylation analysis, child age, and the first two principal components of genetic ancestry                                                                                                                                                                                                                                                                                                                                                                                                                                                                                                                                                                                                                                                                    8\n",
      "cord blood cell type composition, the first two genetic MDS components, child’s sex, child’s birth year, gestational age at birth, maternal age at delivery (years), maternal smoking during pregnancy (yes/no), maternal education (primary or secondary/tertiary), having any of the cardiometabolic conditions during pregnancy (hypertensive disorders, gestational diabetes mellitus, type 1 diabetes, or pre-pregnancy BMI≥25 kg/m2 ]), and maternal lifetime diagnosis of any mental disorder.                                                                                                                                                                                                                                                                                                                                                                                              1\n",
      "gender, gestational age, maternal education, maternal age, parity, and the selection variable for the data set.                                                                                                                                                                                                                                                                                                                                                                                                                                                                                                                                                                                                                                                                                                                                                                                    2\n",
      "gender, recruitment sites, first 2 components of cell type composition, the first 4 principal components of DNAm, the first 4 multidimensional scaling genetic components, and hybridization waves (to control batch effects)                                                                                                                                                                                                                                                                                                                                                                                                                                                                                                                                                                                                                                                                     14\n",
      "gestational age at birth, infant sex and birthweight z-score (model H2), and then adjusted for gestational age at birth, infant sex and birthweight z-score as well as administration of MgSO4 and corticosteroids in pregnancy (model H3)                                                                                                                                                                                                                                                                                                                                                                                                                                                                                                                                                                                                                                                         1\n",
      "maternal age, maternal HIV status, maternal depression during pregnancy, maternal psychological distress during pregnancy, parental socioeconomic status (SES), gestational age, and cell-type proportions. Population stratification was adjusted for using the first five genetic principal components. the primary exposure were additionally adjusted for PAE and likewise, models evaluating PAE as the primary exposure were additionally adjusted for PTE.                                                                                                                                                                                                                                                                                                                                                                                                                                  2\n",
      "sex (where applicable), sample type (where applicable) and cell type proportions (B cell, CD4T, CD8T, Gran, Mono and NK).                                                                                                                                                                                                                                                                                                                                                                                                                                                                                                                                                                                                                                                                                                                                                                          1\n",
      "sex, BMI, methodological covariates of 10 DNAm informed PCs and the fully adjusted model additionally included methodological covariates of DNAm WBC estimates                                                                                                                                                                                                                                                                                                                                                                                                                                                                                                                                                                                                                                                                                                                                     4\n",
      "sex, age and Houseman                                                                                                                                                                                                                                                                                                                                                                                                                                                                                                                                                                                                                                                                                                                                                                                                                                                                              1\n",
      "sex, age, and Houseman-estimates of white blood cells                                                                                                                                                                                                                                                                                                                                                                                                                                                                                                                                                                                                                                                                                                                                                                                                                                              2\n",
      "sex, age, event, tumor stage, and histological type                                                                                                                                                                                                                                                                                                                                                                                                                                                                                                                                                                                                                                                                                                                                                                                                                                                1\n",
      "sex, age, whether the blood was taken in the allergyseason (March to August),as well as circulating IgE levels, and estimated celltype proportions using EpiDISH                                                                                                                                                                                                                                                                                                                                                                                                                                                                                                                                                                                                                                                                                                                                  26\n",
      "Name: count, dtype: int64 \n",
      "\n",
      "Covariates\n",
      "Age, sex cell-type                                                                                                                                                                                                                                                                                                                                                                                                                                                                                                                                                                                                                                                                                                                                                                                                                                                                                1\n",
      "Batch                                                                                                                                                                                                                                                                                                                                                                                                                                                                                                                                                                                                                                                                                                                                                                                                                                                                                             1\n",
      "Cell type                                                                                                                                                                                                                                                                                                                                                                                                                                                                                                                                                                                                                                                                                                                                                                                                                                                                                        29\n",
      "Cell type, 10 PCs                                                                                                                                                                                                                                                                                                                                                                                                                                                                                                                                                                                                                                                                                                                                                                                                                                                                                 1\n",
      "Cell type, batch                                                                                                                                                                                                                                                                                                                                                                                                                                                                                                                                                                                                                                                                                                                                                                                                                                                                                  1\n",
      "Cell type, maternal gestational diabetes [49] (categorized as having or not gestational diabetes) and ethnicity [50] (categorized as white European or non-white European children)                                                                                                                                                                                                                                                                                                                                                                                                                                                                                                                                                                                                                                                                                                               1\n",
      "Child sex and age at neuroimaging were adjusted for in the minimally adjusted model, and maternal age at enrollment, ethnicity, marital status, educational level, psychopathology score, alcohol use during pregnancy, and household income were additionally adjusted for in the fully adjusted model based on the 5% change-in-estimate criterion.24 For subcortical structures, intracranial volume (ICV) was additionally adjusted for in a third model to examine whether any volumetric differences were independent of the  gobal brain size. For mediation analyses using the MRS, we adjusted for child sex and age at neuroimaging, maternal age at enrollment, maternal educational level, cell types, plate number, and genetic principal componentsbatch, cell types, and 4 genetic principal components of ancestry was collected as additional covariates in analyses of MRS.     1\n",
      "HPC: SVs; Whole blood: subject id as random factor and blood cell counts, age, gender, case-control status and BMI as fixed factor; DNAm eventual score residualized for gender, age, case-control status, bmi and blood cell counts                                                                                                                                                                                                                                                                                                                                                                                                                                                                                                                                                                                                                                                              1\n",
      "No                                                                                                                                                                                                                                                                                                                                                                                                                                                                                                                                                                                                                                                                                                                                                                                                                                                                                                3\n",
      "Not reported                                                                                                                                                                                                                                                                                                                                                                                                                                                                                                                                                                                                                                                                                                                                                                                                                                                                                     17\n",
      "Only on EWAS level                                                                                                                                                                                                                                                                                                                                                                                                                                                                                                                                                                                                                                                                                                                                                                                                                                                                                1\n",
      "Sex, age                                                                                                                                                                                                                                                                                                                                                                                                                                                                                                                                                                                                                                                                                                                                                                                                                                                                                          1\n",
      "Sex, age, epithelial cell, natural killer cell proportions, array row, bisulfite plate                                                                                                                                                                                                                                                                                                                                                                                                                                                                                                                                                                                                                                                                                                                                                                                                            1\n",
      "Substance abuse, antisocial activities, cell type, age, seks                                                                                                                                                                                                                                                                                                                                                                                                                                                                                                                                                                                                                                                                                                                                                                                                                                      1\n",
      "['All methylation scores were residualized for technical covariates (array, slide, batch, cell composition); When used in model: Is covariate itself', 'All methylation scores were residualized for technical covariates (array, slide, batch, cell composition); when used in model: age, gender, and an Age × Gender, BMI, pubertal status, DNAm smoke, family disadvantage']                                                                                                                                                                                                                                                                                                                                                                                                                                                                                                                  1\n",
      "['Cell type', 'Not reported']                                                                                                                                                                                                                                                                                                                                                                                                                                                                                                                                                                                                                                                                                                                                                                                                                                                                     1\n",
      "['age (except at birth), sex (where applicable), sample type (where applicable) and cell type proportions (B cell, CD4T, CD8T, Gran, Mono and NK).', 'sex (where applicable), sample type (where applicable) and cell type proportions (B cell, CD4T, CD8T, Gran, Mono and NK).']                                                                                                                                                                                                                                                                                                                                                                                                                                                                                                                                                                                                                 1\n",
      "['age, BMI, place of birth, parity, gestational age, mode of delivery, and education; sample plate batch, sentrix position on the chip, granulocyte cell estimate, red blood cell estimate, CD8 T cell estimate', ' Five technical\\nvariables were included in the model: sample plate batch, sentrix position\\non the chip, granulocyte cell estimate, red blood cell estimate, and CD8 T\\ncell estimate [25, 42]). Also, clinical characteristics such as maternal age at\\ndelivery, BMI before pregnancy, maternal place of birth (Scandinavia or other), educational level (University degree yes or no), mode of delivery (vaginal, vacuum extraction, emergency cesarean section, and elective cesarean section), parity, and gestational age, based on previous literature [15, 26, 43–45], were also included in the model, in total 12 covariates']                                      1\n",
      "age and seks                                                                                                                                                                                                                                                                                                                                                                                                                                                                                                                                                                                                                                                                                                                                                                                                                                                                                      1\n",
      "age at DNA methylation sample, child sex, maternal race/ethnicity, maternal income-to-needs ratio, proportion of epithelial cells, and proportion of immune cells                                                                                                                                                                                                                                                                                                                                                                                                                                                                                                                                                                                                                                                                                                                                 1\n",
      "age at sample, birthweight z-score, sex, and methylation processing batch                                                                                                                                                                                                                                                                                                                                                                                                                                                                                                                                                                                                                                                                                                                                                                                                                         1\n",
      "age, age2 , gender, race, and smoking status                                                                                                                                                                                                                                                                                                                                                                                                                                                                                                                                                                                                                                                                                                                                                                                                                                                      1\n",
      "age, sex and cell type composition (Buccal, CD14, CD34) as well as the first three principal components (PC1, PC2, PC3)                                                                                                                                                                                                                                                                                                                                                                                                                                                                                                                                                                                                                                                                                                                                                                           1\n",
      "age, sex cell type                                                                                                                                                                                                                                                                                                                                                                                                                                                                                                                                                                                                                                                                                                                                                                                                                                                                                1\n",
      "ancestry (in pooled samples), cell type proportions and top 5 PCs calculated from genotypes.                                                                                                                                                                                                                                                                                                                                                                                                                                                                                                                                                                                                                                                                                                                                                                                                      1\n",
      "array, slide, batch, cell composition                                                                                                                                                                                                                                                                                                                                                                                                                                                                                                                                                                                                                                                                                                                                                                                                                                                             1\n",
      "cell type                                                                                                                                                                                                                                                                                                                                                                                                                                                                                                                                                                                                                                                                                                                                                                                                                                                                                         2\n",
      "cell type heterogeneity using principal components (PCs) and genetic ancestry using PCs                                                                                                                                                                                                                                                                                                                                                                                                                                                                                                                                                                                                                                                                                                                                                                                                           1\n",
      "child sex, maternal age at delivery (in years), prenatal maternal smoking (binary categorization of ‘no smoking/quit in early pregnancy’ vs. ‘smoked throughout pregnancy’),gestational age at delivery (in weeks), child age at MRI assessment (in years), total brain volume, technical covariates (i.e. batch effect in Generation R), and estimated cell-type proportions using a cord_x0002_blood-specific reference-based                                                                                                                                                                                                                                                                                                                                                                                                                                                                   1\n",
      "city indicator, child sex, maternal income-to-poverty ratio at baseline, proportion of salivary immune cells, sample plate from DNA methylation analysis, child age, and the first two principal components of genetic ancestry                                                                                                                                                                                                                                                                                                                                                                                                                                                                                                                                                                                                                                                                   1\n",
      "cord blood cell type composition, the first two genetic MDS components, child’s sex, child’s birth year, gestational age at birth, maternal age at delivery (years), maternal smoking during pregnancy (yes/no), maternal education (primary or secondary/tertiary), having any of the cardiometabolic conditions during pregnancy (hypertensive disorders, gestational diabetes mellitus, type 1 diabetes, or pre-pregnancy BMI≥25 kg/m2 ]), and maternal lifetime diagnosis of any mental disorder.                                                                                                                                                                                                                                                                                                                                                                                             1\n",
      "gender, gestational age, maternal education, maternal age, parity, and the selection variable for the data set.                                                                                                                                                                                                                                                                                                                                                                                                                                                                                                                                                                                                                                                                                                                                                                                   1\n",
      "gender, recruitment sites, first 2 components of cell type composition, the first 4 principal components of DNAm, the first 4 multidimensional scaling genetic components, and hybridization waves (to control batch effects)                                                                                                                                                                                                                                                                                                                                                                                                                                                                                                                                                                                                                                                                     1\n",
      "gestational age at birth, infant sex and birthweight z-score (model H2), and then adjusted for gestational age at birth, infant sex and birthweight z-score as well as administration of MgSO4 and corticosteroids in pregnancy (model H3)                                                                                                                                                                                                                                                                                                                                                                                                                                                                                                                                                                                                                                                        1\n",
      "maternal age, maternal HIV status, maternal depression during pregnancy, maternal psychological distress during pregnancy, parental socioeconomic status (SES), gestational age, and cell-type proportions. Population stratification was adjusted for using the first five genetic principal components. the primary exposure were additionally adjusted for PAE and likewise, models evaluating PAE as the primary exposure were additionally adjusted for PTE.                                                                                                                                                                                                                                                                                                                                                                                                                                 1\n",
      "sex, BMI, methodological covariates of 10 DNAm informed PCs and the fully adjusted model additionally included methodological covariates of DNAm WBC estimates                                                                                                                                                                                                                                                                                                                                                                                                                                                                                                                                                                                                                                                                                                                                    1\n",
      "sex, age and Houseman                                                                                                                                                                                                                                                                                                                                                                                                                                                                                                                                                                                                                                                                                                                                                                                                                                                                             1\n",
      "sex, age, and Houseman-estimates of white blood cells                                                                                                                                                                                                                                                                                                                                                                                                                                                                                                                                                                                                                                                                                                                                                                                                                                             1\n",
      "sex, age, event, tumor stage, and histological type                                                                                                                                                                                                                                                                                                                                                                                                                                                                                                                                                                                                                                                                                                                                                                                                                                               1\n",
      "sex, age, whether the blood was taken in the allergyseason (March to August),as well as circulating IgE levels, and estimated celltype proportions using EpiDISH                                                                                                                                                                                                                                                                                                                                                                                                                                                                                                                                                                                                                                                                                                                                  2\n",
      "Name: count, dtype: int64\n"
     ]
    }
   ],
   "source": [
    "print(mps_table.Covariates.value_counts().sort_index(),'\\n')\n",
    "\n",
    "print(pub_table.Covariates.value_counts().sort_index())"
   ]
  },
  {
   "cell_type": "code",
   "execution_count": 58,
   "id": "8d3f4780",
   "metadata": {},
   "outputs": [
    {
     "data": {
      "text/plain": [
       "Index(['Author', 'Year', 'Title', 'DOI', 'Phenotype', 'Category', 'n MPSs',\n",
       "       'n CpGs', 'Based on', 'Sample size', 'n Cases', 'n Controls',\n",
       "       'Sample type', 'Developmental period', 'Tissue', 'Array', 'Ancestry',\n",
       "       'Identifier', 'Publication type', 'Journal', 'Keywords', 'Abstract',\n",
       "       'Author_list', 'Date', 'URL', 'Including_CpGs_1', 'Including_CpGs_2',\n",
       "       'Including_CpGs_3', 'Including_CpGs_4', 'Including_CpGs_5',\n",
       "       'Identifier_base', 'Multiple_identifier_base',\n",
       "       'Sample_overlap_target_base', 'Determining_weights_1', 'Train_test',\n",
       "       'Independent_validation', 'Comparison', 'Missing_value_note',\n",
       "       'Reflect_phenotype', 'Covariates'],\n",
       "      dtype='object')"
      ]
     },
     "execution_count": 58,
     "metadata": {},
     "output_type": "execute_result"
    }
   ],
   "source": [
    "pub_table.columns"
   ]
  },
  {
   "cell_type": "markdown",
   "id": "b56265f9",
   "metadata": {},
   "source": [
    "### Number of  Publications / MPSs per year"
   ]
  },
  {
   "cell_type": "code",
   "execution_count": 59,
   "id": "edfedf8b",
   "metadata": {},
   "outputs": [],
   "source": [
    "plt.rcParams[\"font.family\"] = \"sans-serif\"\n",
    "plt.rcParams[\"font.sans-serif\"] = [\"Verdana\"]"
   ]
  },
  {
   "cell_type": "code",
   "execution_count": 60,
   "id": "e5583886",
   "metadata": {},
   "outputs": [
    {
     "name": "stderr",
     "output_type": "stream",
     "text": [
      "/var/folders/f9/fknlq25n23l74zmhg8zbckx80000gn/T/ipykernel_15314/1660861394.py:3: UserWarning: set_ticklabels() should only be used with a fixed number of ticks, i.e. after set_ticks() or using a FixedLocator.\n",
      "  f0.set_xticklabels([int(x) for x in f0.get_xticks()], rotation=60)\n"
     ]
    },
    {
     "data": {
      "image/png": "[encoded data removed]",
      "text/plain": [
       "<Figure size 1000x500 with 1 Axes>"
      ]
     },
     "metadata": {},
     "output_type": "display_data"
    }
   ],
   "source": [
    "f0 = mps_table.groupby('Year').Title.nunique().plot(figsize=(10, 5), marker ='o', ms = 9, color='royalblue')\n",
    "\n",
    "f0.set_xticklabels([int(x) for x in f0.get_xticks()], rotation=60)\n",
    "\n",
    "f0.set_yticks([1]+[int(x) for x in range(5, 26, 5)])\n",
    "\n",
    "# Set bin edges (1-year bins)\n",
    "years = mps_table['Year']\n",
    "min_year, max_year = years.min(), years.max()\n",
    "\n",
    "# Histogram counts\n",
    "counts, bin_edges = np.histogram(years, bins=np.arange(mps_table['Year'].min(), \n",
    "                                                       mps_table['Year'].max() + 2))  # +2 to include the last year\n",
    "\n",
    "# Scale counts to match 0-30 range to fit it on the same plot\n",
    "max_count = counts.max()\n",
    "scaled_counts = counts * (30 / max_count) if max_count > 0 else counts\n",
    "\n",
    "nmps_bars = f0.bar(bin_edges[:-1],  # center the bars\n",
    "                   scaled_counts,\n",
    "                   width=0.4, color='pink', alpha=0.5, edgecolor=None, zorder=1, align='center')\n",
    "\n",
    "for bar, count in zip(nmps_bars, counts):\n",
    "\n",
    "    # Annotate each bar with the original count\n",
    "    f0.text(bar.get_x() + bar.get_width()/2, \n",
    "            -3, # bar.get_height()+5, \n",
    "            str(count),\n",
    "            ha='center', va='bottom', color='crimson', fontsize=10, \n",
    "            bbox=dict(boxstyle='round,pad=0.3',    # Rounded corners with padding\n",
    "                      facecolor='pink', edgecolor='none', alpha=0.5))\n",
    "    \n",
    "f0.text(2025, -3, '*Number of MPSs', ha='center', va='bottom', fontsize=10, color='crimson', fontdict={'fontstyle':'italic'})\n",
    "\n",
    "# Remove axes spines\n",
    "for spine in f0.spines.values():\n",
    "    spine.set_visible(False)\n",
    "\n",
    "# Adjust y-axis \n",
    "f0.set_ylim(-10, 35)\n",
    "f0.tick_params(axis='y', length=0, labelcolor='royalblue', labelsize=10)\n",
    "f0.set_ylabel('Number of publications', fontsize=12, fontweight='bold', labelpad=10)\n",
    "f0.grid(axis='y', color='royalblue', alpha=0.3)\n",
    "\n",
    "# Adjust x-axis\n",
    "f0.tick_params(axis='x', length=10, width=1, direction='in', color='black')\n",
    "f0.hlines(-8.4, 2016.999, 2024, colors='black', linewidth=1)\n",
    "f0.set_xlabel('Year', fontsize=12, fontweight='bold', labelpad=10)\n",
    "\n",
    "f0.figure.savefig(f'../static_output/Figure0_MPS-pubs-per-year.png', dpi=300, bbox_inches='tight')"
   ]
  },
  {
   "cell_type": "markdown",
   "id": "81dfd595",
   "metadata": {},
   "source": [
    "### Publication network graph "
   ]
  },
  {
   "cell_type": "code",
   "execution_count": 61,
   "id": "7c1d77a9",
   "metadata": {},
   "outputs": [],
   "source": [
    "import ast\n",
    "import networkx as nx\n",
    "import pickle"
   ]
  },
  {
   "cell_type": "code",
   "execution_count": 62,
   "id": "ed7e1d62",
   "metadata": {},
   "outputs": [],
   "source": [
    "G = nx.Graph()\n",
    "\n",
    "for pub in pub_table.Title:             \n",
    "    title = f\"Paper/{pub.replace(':', ' ')}\"\n",
    "    authors = ast.literal_eval(pub_table.loc[pub_table.Title==pub, 'Author_list'].iloc[0])\n",
    "    for author in authors:\n",
    "        author = f\"Author/{author.replace('. ', '.')}\" # remove space between multiple initials   \n",
    "        G.add_edge(author, title)\n"
   ]
  },
  {
   "cell_type": "code",
   "execution_count": 63,
   "id": "bdf889d1",
   "metadata": {},
   "outputs": [],
   "source": [
    "# Estimate optimal node positions ----------------------------------------------------\n",
    "# pos = nx.spring_layout(G, seed=3108, k=1000)\n",
    "pos = nx.fruchterman_reingold_layout(G, seed=3108, k=0.05)\n",
    "\n",
    "# Assign 'pos' attribute to the nodes in the graph\n",
    "for node in G.nodes:\n",
    "    G.nodes[node]['pos'] = pos[node]\n",
    "\n",
    "# G.nodes\n"
   ]
  },
  {
   "cell_type": "code",
   "execution_count": 64,
   "id": "6f998bbf",
   "metadata": {},
   "outputs": [],
   "source": [
    "# Save the graph object to a file since it takes a few seconds to compute on the fly \n",
    "with open(f'{assets_directory}/Publications_network.pkl', 'wb') as file:\n",
    "    pickle.dump(G, file)"
   ]
  },
  {
   "cell_type": "code",
   "execution_count": 65,
   "id": "3e34d2c9",
   "metadata": {},
   "outputs": [],
   "source": [
    "with open(f'{assets_directory}/Publications_network.pkl', 'rb') as file:\n",
    "    G = pickle.load(file)"
   ]
  },
  {
   "cell_type": "markdown",
   "id": "4456be9e",
   "metadata": {},
   "source": [
    "### Merge base and target info "
   ]
  },
  {
   "cell_type": "code",
   "execution_count": 66,
   "id": "d34483c6",
   "metadata": {},
   "outputs": [
    {
     "name": "stdout",
     "output_type": "stream",
     "text": [
      "(283, 39) (170, 30)\n"
     ]
    }
   ],
   "source": [
    "d_base = pd.read_csv(f'{assets_directory}MPS_base_samples_cleaned.csv')\n",
    "\n",
    "d_targ = mps_table.loc[mps_table['Based on'] != 'Only phenotype',]\n",
    "\n",
    "print(d_targ.shape, d_base.shape)"
   ]
  },
  {
   "cell_type": "code",
   "execution_count": 67,
   "id": "59cbee54",
   "metadata": {},
   "outputs": [
    {
     "name": "stdout",
     "output_type": "stream",
     "text": [
      "7 MPSs, from 2 publications have multiple base samples.\n",
      "Based on\n",
      "EWAS summary statistics    7\n",
      "Name: count, dtype: int64\n",
      "Removing them for now\n",
      "Multiple_identifier_base\n",
      "Xu (2021) - Shared DNA methylation signatures in; Reese (2019) - Epigenome-wide meta-analysis of; Qi (2020) - Nasal DNA methylation profiling of               6\n",
      "Liu (2018) - A DNA methylation biomarker of; Dugue (2019) - Alcohol consumption is associated with; Carreras-Gallo (2023) - Impact of tobacco, alcohol, and    1\n",
      "Name: count, dtype: int64\n"
     ]
    },
    {
     "data": {
      "text/plain": [
       "(276, 39)"
      ]
     },
     "execution_count": 67,
     "metadata": {},
     "output_type": "execute_result"
    }
   ],
   "source": [
    "multi_base = d_targ.loc[d_targ.Identifier_base == \"Multiple\",]\n",
    "\n",
    "multi_base_pubs = multi_base.Title.unique()\n",
    "print(multi_base.shape[0], 'MPSs, from', len(multi_base_pubs), 'publications have multiple base samples.')\n",
    "\n",
    "print(multi_base['Based on'].value_counts())\n",
    "\n",
    "# TMP: remove them for now \n",
    "print('Removing them for now')\n",
    "print(d_targ['Multiple_identifier_base'].value_counts())\n",
    "\n",
    "d_targ = d_targ.loc[d_targ.Identifier_base != \"Multiple\",]\n",
    "\n",
    "d_targ.shape"
   ]
  },
  {
   "cell_type": "code",
   "execution_count": 68,
   "id": "c9a3b79c",
   "metadata": {},
   "outputs": [
    {
     "name": "stdout",
     "output_type": "stream",
     "text": [
      "162 matching ids\n",
      "\n",
      "4 unique to base\n",
      "Qi (2020) - Nasal DNA methylation profiling ofAsthma and rihinitis\n",
      "Liu (2018) - A DNA methylation biomarker ofAlcohol consumption\n",
      "Dugue (2019) - Alcohol consumption is associated withAlcohol consumption\n",
      "Carreras-Gallo (2023) - Impact of tobacco, alcohol, andAlcohol consumption\n",
      "0 unique to targ\n"
     ]
    }
   ],
   "source": [
    "d_base['MPS_id'] = d_base['Identifier'] + d_base['Phenotype']\n",
    "d_targ['MPS_id'] = d_targ['Identifier_base'] + d_targ['Phenotype']\n",
    "# d_targ = d_targ.rename(columns={'Identifier_base': 'Identifier'})\n",
    "\n",
    "common_ids = set(d_base['MPS_id']) & set(d_targ['MPS_id'])\n",
    "unique_to_base = set(d_base['MPS_id']) - set(d_targ['MPS_id'])\n",
    "unique_to_targ = set(d_targ['MPS_id']) - set(d_base['MPS_id'])\n",
    "\n",
    "print(len(common_ids), \"matching ids\\n\")\n",
    "print(len(unique_to_base), \"unique to base\")\n",
    "[print(p) for p in unique_to_base]\n",
    "print(len(unique_to_targ), \"unique to targ\")\n",
    "# print(unique_to_targ)\n",
    "\n",
    "# d_targ.loc[~d_targ.Multiple_identifier_base.isna(),]"
   ]
  },
  {
   "cell_type": "code",
   "execution_count": 69,
   "id": "2b012920",
   "metadata": {},
   "outputs": [
    {
     "name": "stdout",
     "output_type": "stream",
     "text": [
      "['Abstract', 'Ancestry - base', 'Ancestry - targ', 'Array - base', 'Array - targ', 'Author', 'Author_list', 'Base use', 'Based on - base', 'Based on - targ', 'Category - base', 'Category - targ', 'Comparison - base', 'Comparison - targ', 'Covariates - base', 'Covariates - targ', 'DOI', 'Date', 'Determining_weights_1 - base', 'Determining_weights_1 - targ', 'Developmental period - base', 'Developmental period - targ', 'Identifier - base', 'Identifier - targ', 'Identifier_base - base', 'Identifier_base - targ', 'Including_CpGs_1 - base', 'Including_CpGs_1 - targ', 'Including_CpGs_2 - base', 'Including_CpGs_2 - targ', 'Including_CpGs_3 - base', 'Including_CpGs_3 - targ', 'Including_CpGs_4 - base', 'Including_CpGs_4 - targ', 'Including_CpGs_5 - base', 'Including_CpGs_5 - targ', 'Independent_test', 'Independent_validation', 'Journal', 'Keywords', 'Link', 'MPS_id', 'Missing_value_note - base', 'Missing_value_note - targ', 'Multiple_identifier_base - base', 'Multiple_identifier_base - targ', 'Phenotype - base', 'Phenotype - targ', 'Publication type', 'Reflect_phenotype - base', 'Reflect_phenotype - targ', 'Sample size - base', 'Sample size - targ', 'Sample type - base', 'Sample type - targ', 'Sample_overlap_target_base - base', 'Sample_overlap_target_base - targ', 'Tissue - base', 'Tissue - targ', 'Title', 'Train_test', 'Train_validate', 'URL', 'Year', 'n Cases - base', 'n Cases - targ', 'n Controls - base', 'n Controls - targ', 'n CpGs - base', 'n CpGs - targ']\n"
     ]
    }
   ],
   "source": [
    "d_targ_base = d_targ.merge(d_base, on='MPS_id', how='left', suffixes=[' - targ',' - base'])\n",
    "\n",
    "print(sorted(d_targ_base.columns))\n",
    "d_targ_base.shape\n",
    "\n",
    "# Save cleaned data ------------------------------------------------------------------\n",
    "d_targ_base.to_csv(f'{assets_directory}MPS_base_target_cleaned.csv', index=False)"
   ]
  },
  {
   "cell_type": "code",
   "execution_count": 70,
   "id": "350e5a21",
   "metadata": {},
   "outputs": [
    {
     "data": {
      "text/plain": [
       "Index(['Phenotype', 'Category', 'Author', 'Year', 'Title', 'DOI', 'n CpGs',\n",
       "       'Based on', 'Sample size', 'n Cases', 'n Controls', 'Sample type',\n",
       "       'Developmental period', 'Tissue', 'Array', 'Ancestry', 'Identifier',\n",
       "       'Publication type', 'Journal', 'Keywords', 'Abstract', 'Author_list',\n",
       "       'Date', 'URL', 'Including_CpGs_1', 'Including_CpGs_2',\n",
       "       'Including_CpGs_3', 'Including_CpGs_4', 'Including_CpGs_5',\n",
       "       'Identifier_base', 'Multiple_identifier_base',\n",
       "       'Sample_overlap_target_base', 'Determining_weights_1', 'Train_test',\n",
       "       'Independent_validation', 'Comparison', 'Missing_value_note',\n",
       "       'Reflect_phenotype', 'Covariates'],\n",
       "      dtype='object')"
      ]
     },
     "execution_count": 70,
     "metadata": {},
     "output_type": "execute_result"
    }
   ],
   "source": [
    "mps_table.columns"
   ]
  },
  {
   "cell_type": "code",
   "execution_count": 71,
   "id": "11565a9e",
   "metadata": {},
   "outputs": [
    {
     "data": {
      "application/vnd.plotly.v1+json": {
       "config": {
        "plotlyServerURL": "https://plot.ly"
       },
       "data": [
        {
         "link": {
          "color": [
           "rgba(0,0,0,0)",
           "rgba(128,128,128,0.2)",
           "rgba(128,128,128,0.2)",
           "rgba(128,128,128,0.2)",
           "rgba(128,128,128,0.2)",
           "rgba(0,0,0,0)",
           "rgba(128,128,128,0.2)",
           "rgba(128,128,128,0.2)",
           "rgba(128,128,128,0.2)",
           "rgba(128,128,128,0.2)",
           "rgba(0,0,0,0)",
           "rgba(0,0,0,0)",
           "rgba(128,128,128,0.2)",
           "rgba(128,128,128,0.2)",
           "rgba(128,128,128,0.2)",
           "rgba(128,128,128,0.2)",
           "rgba(128,128,128,0.2)",
           "rgba(128,128,128,0.2)",
           "rgba(128,128,128,0.2)",
           "rgba(128,128,128,0.2)",
           "rgba(128,128,128,0.2)",
           "rgba(128,128,128,0.2)",
           "rgba(128,128,128,0.2)",
           "rgba(128,128,128,0.2)",
           "rgba(128,128,128,0.2)",
           "rgba(128,128,128,0.2)",
           "rgba(0,0,0,0)",
           "rgba(0,0,0,0)",
           "rgba(0,0,0,0)",
           "rgba(0,0,0,0)",
           "rgba(128,128,128,0.2)",
           "rgba(128,128,128,0.2)",
           "rgba(0,0,0,0)",
           "rgba(128,128,128,0.2)",
           "rgba(0,0,0,0)",
           "rgba(0,0,0,0)",
           "rgba(128,128,128,0.2)",
           "rgba(128,128,128,0.2)",
           "rgba(128,128,128,0.2)",
           "rgba(0,0,0,0)",
           "rgba(0,0,0,0)",
           "rgba(128,128,128,0.2)",
           "rgba(128,128,128,0.2)",
           "rgba(128,128,128,0.2)",
           "rgba(128,128,128,0.2)",
           "rgba(128,128,128,0.2)",
           "rgba(128,128,128,0.2)",
           "rgba(0,0,0,0)",
           "rgba(128,128,128,0.2)",
           "rgba(0,0,0,0)",
           "rgba(128,128,128,0.2)",
           "rgba(128,128,128,0.2)",
           "rgba(0,0,0,0)",
           "rgba(0,0,0,0)",
           "rgba(0,0,0,0)",
           "rgba(128,128,128,0.2)",
           "rgba(128,128,128,0.2)",
           "rgba(128,128,128,0.2)",
           "rgba(128,128,128,0.2)",
           "rgba(0,0,0,0)",
           "rgba(0,0,0,0)",
           "rgba(128,128,128,0.2)",
           "rgba(0,0,0,0)",
           "rgba(0,0,0,0)",
           "rgba(0,0,0,0)",
           "rgba(0,0,0,0)",
           "rgba(0,0,0,0)",
           "rgba(0,0,0,0)",
           "rgba(128,128,128,0.2)",
           "rgba(0,0,0,0)",
           "rgba(128,128,128,0.2)",
           "rgba(0,0,0,0)",
           "rgba(0,0,0,0)",
           "rgba(0,0,0,0)",
           "rgba(0,0,0,0)"
          ],
          "hovertemplate": [
           ""
          ],
          "source": [
           1,
           3,
           4,
           0,
           2,
           4,
           8,
           1,
           2,
           0,
           0,
           5,
           1,
           4,
           5,
           4,
           4,
           7,
           1,
           1,
           2,
           6,
           1,
           1,
           1,
           11,
           10,
           9,
           14,
           21,
           14,
           12,
           12,
           19,
           13,
           22,
           15,
           13,
           16,
           19,
           16,
           13,
           13,
           13,
           17,
           12,
           20,
           18,
           11,
           23,
           24,
           24,
           28,
           26,
           24,
           26,
           25,
           25,
           25,
           29,
           27,
           26,
           30,
           31,
           32,
           33,
           34,
           36,
           32,
           35,
           32,
           37,
           38,
           40,
           39
          ],
          "target": [
           10,
           11,
           11,
           9,
           11,
           10,
           21,
           14,
           12,
           14,
           10,
           10,
           13,
           19,
           12,
           14,
           16,
           12,
           22,
           15,
           17,
           13,
           18,
           12,
           20,
           24,
           23,
           23,
           23,
           23,
           28,
           24,
           23,
           26,
           23,
           23,
           25,
           24,
           26,
           23,
           23,
           26,
           29,
           27,
           25,
           25,
           30,
           23,
           26,
           31,
           32,
           33,
           31,
           31,
           31,
           36,
           34,
           35,
           37,
           31,
           31,
           34,
           31,
           38,
           38,
           38,
           38,
           38,
           40,
           38,
           39,
           38,
           41,
           41,
           41
          ],
          "value": [
           48,
           44,
           35,
           29,
           21,
           20,
           14,
           13,
           10,
           10,
           10,
           9,
           7,
           7,
           4,
           3,
           3,
           2,
           2,
           2,
           1,
           1,
           1,
           1,
           1,
           99,
           87,
           29,
           16,
           14,
           10,
           10,
           6,
           5,
           3,
           2,
           2,
           2,
           2,
           2,
           1,
           1,
           1,
           1,
           1,
           1,
           1,
           1,
           1,
           161,
           57,
           52,
           10,
           6,
           2,
           2,
           2,
           1,
           1,
           1,
           1,
           1,
           1,
           182,
           54,
           52,
           3,
           2,
           2,
           1,
           1,
           1,
           295,
           2,
           1
          ]
         },
         "node": {
          "color": [
           "crimson",
           "crimson",
           "crimson",
           "crimson",
           "crimson",
           "darkblue",
           "forestgreen",
           "forestgreen",
           "darkblue",
           "purple",
           "rgba(0,0,0,0)",
           "crimson",
           "crimson",
           "crimson",
           "purple",
           "forestgreen",
           "crimson",
           "crimson",
           "crimson",
           "forestgreen",
           "purple",
           "forestgreen",
           "darkblue",
           "rgba(0,0,0,0)",
           "crimson",
           "crimson",
           "purple",
           "forestgreen",
           "purple",
           "crimson",
           "purple",
           "rgba(0,0,0,0)",
           "purple",
           "purple",
           "crimson",
           "crimson",
           "crimson",
           "forestgreen",
           "rgba(0,0,0,0)",
           "darkblue",
           "crimson",
           "rgba(0,0,0,0)"
          ],
          "label": [
           "[1] Multiple p-values ",
           "[1] Fixed p-value ",
           "[1] Actual change in methylation ",
           "[1] Effect size",
           "[1] top-ranking significant probes ",
           "[1] Functional annotation ",
           "[1] Array",
           "[1] Tissue ",
           "[1] Associated to certain phenotype ",
           "[2] CoMeBack",
           "",
           "[2] top-ranking significant probes ",
           "[2] Fixed p-value ",
           "[2] Actual change in methylation ",
           "[2] Pairwise correlation ",
           "[2] Array",
           "[2] AUC ",
           "[2] Effect size ",
           "[2] logFC ",
           "[2] Array ",
           "[2] Multivariate regression ",
           "[2] Tissue ",
           "[2] Functional annotation ",
           "",
           "[3] AUC ",
           "[3] Actual change in methylation ",
           "[3] Pairwise correlation ",
           "[3] Array",
           "[3] Feature selection ML",
           "[3] Fixed p-value ",
           "[3] Stepwise selection",
           "",
           "[4] Pairwise correlation ",
           "[4] R-squared ",
           "[4] AUC ",
           "[4] Correlation ",
           "[4] Actual change in methylation ",
           "[4] Tissue ",
           "",
           "[5] Functional annotation ",
           "[5] Actual change in methylation ",
           ""
          ],
          "line": {
           "width": 0
          },
          "pad": 15,
          "thickness": 20,
          "x": [
           0,
           0,
           0,
           0,
           0,
           0,
           0,
           0,
           0,
           0.2,
           0.2,
           0.2,
           0.2,
           0.2,
           0.2,
           0.2,
           0.2,
           0.2,
           0.2,
           0.2,
           0.2,
           0.2,
           0.2,
           0.4,
           0.4,
           0.4,
           0.4,
           0.4,
           0.4,
           0.4,
           0.4,
           0.6,
           0.6,
           0.6,
           0.6,
           0.6,
           0.6,
           0.6,
           0.8,
           0.8,
           0.8,
           1
          ]
         },
         "type": "sankey"
        },
        {
         "legendgroup": "Association DNAm phenotype ",
         "marker": {
          "color": "crimson",
          "size": 15
         },
         "mode": "markers",
         "name": "Association DNAm phenotype ",
         "showlegend": true,
         "type": "scatter",
         "x": [
          null
         ],
         "y": [
          null
         ]
        },
        {
         "legendgroup": "Biological relevance ",
         "marker": {
          "color": "darkblue",
          "size": 15
         },
         "mode": "markers",
         "name": "Biological relevance ",
         "showlegend": true,
         "type": "scatter",
         "x": [
          null
         ],
         "y": [
          null
         ]
        },
        {
         "legendgroup": "Pruning ",
         "marker": {
          "color": "purple",
          "size": 15
         },
         "mode": "markers",
         "name": "Pruning ",
         "showlegend": true,
         "type": "scatter",
         "x": [
          null
         ],
         "y": [
          null
         ]
        },
        {
         "legendgroup": "Reproducibility ",
         "marker": {
          "color": "forestgreen",
          "size": 15
         },
         "mode": "markers",
         "name": "Reproducibility ",
         "showlegend": true,
         "type": "scatter",
         "x": [
          null
         ],
         "y": [
          null
         ]
        }
       ],
       "layout": {
        "font": {
         "size": 10
        },
        "legend": {
         "orientation": "h",
         "x": 0.5,
         "xanchor": "center",
         "y": -0.2,
         "yanchor": "bottom"
        },
        "margin": {
         "b": 0,
         "l": 10,
         "r": 0,
         "t": 50
        },
        "paper_bgcolor": "white",
        "plot_bgcolor": "white",
        "template": {
         "data": {
          "bar": [
           {
            "error_x": {
             "color": "#2a3f5f"
            },
            "error_y": {
             "color": "#2a3f5f"
            },
            "marker": {
             "line": {
              "color": "#E5ECF6",
              "width": 0.5
             },
             "pattern": {
              "fillmode": "overlay",
              "size": 10,
              "solidity": 0.2
             }
            },
            "type": "bar"
           }
          ],
          "barpolar": [
           {
            "marker": {
             "line": {
              "color": "#E5ECF6",
              "width": 0.5
             },
             "pattern": {
              "fillmode": "overlay",
              "size": 10,
              "solidity": 0.2
             }
            },
            "type": "barpolar"
           }
          ],
          "carpet": [
           {
            "aaxis": {
             "endlinecolor": "#2a3f5f",
             "gridcolor": "white",
             "linecolor": "white",
             "minorgridcolor": "white",
             "startlinecolor": "#2a3f5f"
            },
            "baxis": {
             "endlinecolor": "#2a3f5f",
             "gridcolor": "white",
             "linecolor": "white",
             "minorgridcolor": "white",
             "startlinecolor": "#2a3f5f"
            },
            "type": "carpet"
           }
          ],
          "choropleth": [
           {
            "colorbar": {
             "outlinewidth": 0,
             "ticks": ""
            },
            "type": "choropleth"
           }
          ],
          "contour": [
           {
            "colorbar": {
             "outlinewidth": 0,
             "ticks": ""
            },
            "colorscale": [
             [
              0,
              "#0d0887"
             ],
             [
              0.1111111111111111,
              "#46039f"
             ],
             [
              0.2222222222222222,
              "#7201a8"
             ],
             [
              0.3333333333333333,
              "#9c179e"
             ],
             [
              0.4444444444444444,
              "#bd3786"
             ],
             [
              0.5555555555555556,
              "#d8576b"
             ],
             [
              0.6666666666666666,
              "#ed7953"
             ],
             [
              0.7777777777777778,
              "#fb9f3a"
             ],
             [
              0.8888888888888888,
              "#fdca26"
             ],
             [
              1,
              "#f0f921"
             ]
            ],
            "type": "contour"
           }
          ],
          "contourcarpet": [
           {
            "colorbar": {
             "outlinewidth": 0,
             "ticks": ""
            },
            "type": "contourcarpet"
           }
          ],
          "heatmap": [
           {
            "colorbar": {
             "outlinewidth": 0,
             "ticks": ""
            },
            "colorscale": [
             [
              0,
              "#0d0887"
             ],
             [
              0.1111111111111111,
              "#46039f"
             ],
             [
              0.2222222222222222,
              "#7201a8"
             ],
             [
              0.3333333333333333,
              "#9c179e"
             ],
             [
              0.4444444444444444,
              "#bd3786"
             ],
             [
              0.5555555555555556,
              "#d8576b"
             ],
             [
              0.6666666666666666,
              "#ed7953"
             ],
             [
              0.7777777777777778,
              "#fb9f3a"
             ],
             [
              0.8888888888888888,
              "#fdca26"
             ],
             [
              1,
              "#f0f921"
             ]
            ],
            "type": "heatmap"
           }
          ],
          "heatmapgl": [
           {
            "colorbar": {
             "outlinewidth": 0,
             "ticks": ""
            },
            "colorscale": [
             [
              0,
              "#0d0887"
             ],
             [
              0.1111111111111111,
              "#46039f"
             ],
             [
              0.2222222222222222,
              "#7201a8"
             ],
             [
              0.3333333333333333,
              "#9c179e"
             ],
             [
              0.4444444444444444,
              "#bd3786"
             ],
             [
              0.5555555555555556,
              "#d8576b"
             ],
             [
              0.6666666666666666,
              "#ed7953"
             ],
             [
              0.7777777777777778,
              "#fb9f3a"
             ],
             [
              0.8888888888888888,
              "#fdca26"
             ],
             [
              1,
              "#f0f921"
             ]
            ],
            "type": "heatmapgl"
           }
          ],
          "histogram": [
           {
            "marker": {
             "pattern": {
              "fillmode": "overlay",
              "size": 10,
              "solidity": 0.2
             }
            },
            "type": "histogram"
           }
          ],
          "histogram2d": [
           {
            "colorbar": {
             "outlinewidth": 0,
             "ticks": ""
            },
            "colorscale": [
             [
              0,
              "#0d0887"
             ],
             [
              0.1111111111111111,
              "#46039f"
             ],
             [
              0.2222222222222222,
              "#7201a8"
             ],
             [
              0.3333333333333333,
              "#9c179e"
             ],
             [
              0.4444444444444444,
              "#bd3786"
             ],
             [
              0.5555555555555556,
              "#d8576b"
             ],
             [
              0.6666666666666666,
              "#ed7953"
             ],
             [
              0.7777777777777778,
              "#fb9f3a"
             ],
             [
              0.8888888888888888,
              "#fdca26"
             ],
             [
              1,
              "#f0f921"
             ]
            ],
            "type": "histogram2d"
           }
          ],
          "histogram2dcontour": [
           {
            "colorbar": {
             "outlinewidth": 0,
             "ticks": ""
            },
            "colorscale": [
             [
              0,
              "#0d0887"
             ],
             [
              0.1111111111111111,
              "#46039f"
             ],
             [
              0.2222222222222222,
              "#7201a8"
             ],
             [
              0.3333333333333333,
              "#9c179e"
             ],
             [
              0.4444444444444444,
              "#bd3786"
             ],
             [
              0.5555555555555556,
              "#d8576b"
             ],
             [
              0.6666666666666666,
              "#ed7953"
             ],
             [
              0.7777777777777778,
              "#fb9f3a"
             ],
             [
              0.8888888888888888,
              "#fdca26"
             ],
             [
              1,
              "#f0f921"
             ]
            ],
            "type": "histogram2dcontour"
           }
          ],
          "mesh3d": [
           {
            "colorbar": {
             "outlinewidth": 0,
             "ticks": ""
            },
            "type": "mesh3d"
           }
          ],
          "parcoords": [
           {
            "line": {
             "colorbar": {
              "outlinewidth": 0,
              "ticks": ""
             }
            },
            "type": "parcoords"
           }
          ],
          "pie": [
           {
            "automargin": true,
            "type": "pie"
           }
          ],
          "scatter": [
           {
            "fillpattern": {
             "fillmode": "overlay",
             "size": 10,
             "solidity": 0.2
            },
            "type": "scatter"
           }
          ],
          "scatter3d": [
           {
            "line": {
             "colorbar": {
              "outlinewidth": 0,
              "ticks": ""
             }
            },
            "marker": {
             "colorbar": {
              "outlinewidth": 0,
              "ticks": ""
             }
            },
            "type": "scatter3d"
           }
          ],
          "scattercarpet": [
           {
            "marker": {
             "colorbar": {
              "outlinewidth": 0,
              "ticks": ""
             }
            },
            "type": "scattercarpet"
           }
          ],
          "scattergeo": [
           {
            "marker": {
             "colorbar": {
              "outlinewidth": 0,
              "ticks": ""
             }
            },
            "type": "scattergeo"
           }
          ],
          "scattergl": [
           {
            "marker": {
             "colorbar": {
              "outlinewidth": 0,
              "ticks": ""
             }
            },
            "type": "scattergl"
           }
          ],
          "scattermapbox": [
           {
            "marker": {
             "colorbar": {
              "outlinewidth": 0,
              "ticks": ""
             }
            },
            "type": "scattermapbox"
           }
          ],
          "scatterpolar": [
           {
            "marker": {
             "colorbar": {
              "outlinewidth": 0,
              "ticks": ""
             }
            },
            "type": "scatterpolar"
           }
          ],
          "scatterpolargl": [
           {
            "marker": {
             "colorbar": {
              "outlinewidth": 0,
              "ticks": ""
             }
            },
            "type": "scatterpolargl"
           }
          ],
          "scatterternary": [
           {
            "marker": {
             "colorbar": {
              "outlinewidth": 0,
              "ticks": ""
             }
            },
            "type": "scatterternary"
           }
          ],
          "surface": [
           {
            "colorbar": {
             "outlinewidth": 0,
             "ticks": ""
            },
            "colorscale": [
             [
              0,
              "#0d0887"
             ],
             [
              0.1111111111111111,
              "#46039f"
             ],
             [
              0.2222222222222222,
              "#7201a8"
             ],
             [
              0.3333333333333333,
              "#9c179e"
             ],
             [
              0.4444444444444444,
              "#bd3786"
             ],
             [
              0.5555555555555556,
              "#d8576b"
             ],
             [
              0.6666666666666666,
              "#ed7953"
             ],
             [
              0.7777777777777778,
              "#fb9f3a"
             ],
             [
              0.8888888888888888,
              "#fdca26"
             ],
             [
              1,
              "#f0f921"
             ]
            ],
            "type": "surface"
           }
          ],
          "table": [
           {
            "cells": {
             "fill": {
              "color": "#EBF0F8"
             },
             "line": {
              "color": "white"
             }
            },
            "header": {
             "fill": {
              "color": "#C8D4E3"
             },
             "line": {
              "color": "white"
             }
            },
            "type": "table"
           }
          ]
         },
         "layout": {
          "annotationdefaults": {
           "arrowcolor": "#2a3f5f",
           "arrowhead": 0,
           "arrowwidth": 1
          },
          "autotypenumbers": "strict",
          "coloraxis": {
           "colorbar": {
            "outlinewidth": 0,
            "ticks": ""
           }
          },
          "colorscale": {
           "diverging": [
            [
             0,
             "#8e0152"
            ],
            [
             0.1,
             "#c51b7d"
            ],
            [
             0.2,
             "#de77ae"
            ],
            [
             0.3,
             "#f1b6da"
            ],
            [
             0.4,
             "#fde0ef"
            ],
            [
             0.5,
             "#f7f7f7"
            ],
            [
             0.6,
             "#e6f5d0"
            ],
            [
             0.7,
             "#b8e186"
            ],
            [
             0.8,
             "#7fbc41"
            ],
            [
             0.9,
             "#4d9221"
            ],
            [
             1,
             "#276419"
            ]
           ],
           "sequential": [
            [
             0,
             "#0d0887"
            ],
            [
             0.1111111111111111,
             "#46039f"
            ],
            [
             0.2222222222222222,
             "#7201a8"
            ],
            [
             0.3333333333333333,
             "#9c179e"
            ],
            [
             0.4444444444444444,
             "#bd3786"
            ],
            [
             0.5555555555555556,
             "#d8576b"
            ],
            [
             0.6666666666666666,
             "#ed7953"
            ],
            [
             0.7777777777777778,
             "#fb9f3a"
            ],
            [
             0.8888888888888888,
             "#fdca26"
            ],
            [
             1,
             "#f0f921"
            ]
           ],
           "sequentialminus": [
            [
             0,
             "#0d0887"
            ],
            [
             0.1111111111111111,
             "#46039f"
            ],
            [
             0.2222222222222222,
             "#7201a8"
            ],
            [
             0.3333333333333333,
             "#9c179e"
            ],
            [
             0.4444444444444444,
             "#bd3786"
            ],
            [
             0.5555555555555556,
             "#d8576b"
            ],
            [
             0.6666666666666666,
             "#ed7953"
            ],
            [
             0.7777777777777778,
             "#fb9f3a"
            ],
            [
             0.8888888888888888,
             "#fdca26"
            ],
            [
             1,
             "#f0f921"
            ]
           ]
          },
          "colorway": [
           "#636efa",
           "#EF553B",
           "#00cc96",
           "#ab63fa",
           "#FFA15A",
           "#19d3f3",
           "#FF6692",
           "#B6E880",
           "#FF97FF",
           "#FECB52"
          ],
          "font": {
           "color": "#2a3f5f"
          },
          "geo": {
           "bgcolor": "white",
           "lakecolor": "white",
           "landcolor": "#E5ECF6",
           "showlakes": true,
           "showland": true,
           "subunitcolor": "white"
          },
          "hoverlabel": {
           "align": "left"
          },
          "hovermode": "closest",
          "mapbox": {
           "style": "light"
          },
          "paper_bgcolor": "white",
          "plot_bgcolor": "#E5ECF6",
          "polar": {
           "angularaxis": {
            "gridcolor": "white",
            "linecolor": "white",
            "ticks": ""
           },
           "bgcolor": "#E5ECF6",
           "radialaxis": {
            "gridcolor": "white",
            "linecolor": "white",
            "ticks": ""
           }
          },
          "scene": {
           "xaxis": {
            "backgroundcolor": "#E5ECF6",
            "gridcolor": "white",
            "gridwidth": 2,
            "linecolor": "white",
            "showbackground": true,
            "ticks": "",
            "zerolinecolor": "white"
           },
           "yaxis": {
            "backgroundcolor": "#E5ECF6",
            "gridcolor": "white",
            "gridwidth": 2,
            "linecolor": "white",
            "showbackground": true,
            "ticks": "",
            "zerolinecolor": "white"
           },
           "zaxis": {
            "backgroundcolor": "#E5ECF6",
            "gridcolor": "white",
            "gridwidth": 2,
            "linecolor": "white",
            "showbackground": true,
            "ticks": "",
            "zerolinecolor": "white"
           }
          },
          "shapedefaults": {
           "line": {
            "color": "#2a3f5f"
           }
          },
          "ternary": {
           "aaxis": {
            "gridcolor": "white",
            "linecolor": "white",
            "ticks": ""
           },
           "baxis": {
            "gridcolor": "white",
            "linecolor": "white",
            "ticks": ""
           },
           "bgcolor": "#E5ECF6",
           "caxis": {
            "gridcolor": "white",
            "linecolor": "white",
            "ticks": ""
           }
          },
          "title": {
           "x": 0.05
          },
          "xaxis": {
           "automargin": true,
           "gridcolor": "white",
           "linecolor": "white",
           "ticks": "",
           "title": {
            "standoff": 15
           },
           "zerolinecolor": "white",
           "zerolinewidth": 2
          },
          "yaxis": {
           "automargin": true,
           "gridcolor": "white",
           "linecolor": "white",
           "ticks": "",
           "title": {
            "standoff": 15
           },
           "zerolinecolor": "white",
           "zerolinewidth": 2
          }
         }
        },
        "title": {
         "text": "Sankey diagram of CpG inclusion strategies"
        },
        "width": 1100,
        "xaxis": {
         "showgrid": false,
         "showticklabels": false,
         "zeroline": false
        },
        "yaxis": {
         "showgrid": false,
         "showticklabels": false,
         "zeroline": false
        }
       }
      }
     },
     "metadata": {},
     "output_type": "display_data"
    }
   ],
   "source": [
    "import plotly.graph_objects as go\n",
    "\n",
    "\n",
    "steps = ['Including_CpGs_1', 'Including_CpGs_2', 'Including_CpGs_3', 'Including_CpGs_4', 'Including_CpGs_5']\n",
    "\n",
    "# Define colors \n",
    "color_dict = {'Association DNAm phenotype ': 'crimson',\n",
    "              'Biological relevance ': 'darkblue',\n",
    "              'Pruning ': 'purple',\n",
    "              'Reproducibility ': 'forestgreen',}\n",
    "\n",
    "colors = dict()\n",
    "order = dict()\n",
    "\n",
    "for step in steps:\n",
    "    strategies = mps_table[step].dropna().str.split('|', expand=True)[[0, 1, 2]]\n",
    "    counts = pd.DataFrame(strategies[[0,1]].value_counts(dropna=False)).reset_index()\n",
    "    order[step] = counts[1].to_list()\n",
    "    for i, row in counts.iterrows():\n",
    "        if row[1] not in colors.keys():\n",
    "            colors[row[1]] = color_dict[row[0]] if row[0] in color_dict else 'gray'\n",
    "\n",
    "# Extract the second level strategy label\n",
    "df = pd.DataFrame({step: mps_table[step].str.split('|', expand=True)[1] for step in steps})\n",
    "\n",
    "# Remove empty rows and replace NAs with empty strings\n",
    "df = df[~df.isna().all(axis=1)]\n",
    "df = df.fillna('')\n",
    "df['dummy'] = '' # Add dummy column so that labels on the last step are displayed on the right\n",
    "\n",
    "steps = df.columns.tolist() # add \"dummy\" to the steps list\n",
    "\n",
    "# Build node labels and their x positions\n",
    "labels = []\n",
    "xpos = []\n",
    "step_label_map = {}  # step index -> {label: node_index}\n",
    "n_steps = len(steps)\n",
    "for i, step in enumerate(steps):\n",
    "    step_labels = df[step].unique().astype(str)\n",
    "    step_map = {}\n",
    "    for l in step_labels:\n",
    "        label = f\"[{i+1}]{l}\" # Not necessary but useful for debugging\n",
    "        labels.append(label)\n",
    "        xpos.append(i / (n_steps - 1) if n_steps > 1 else 0)\n",
    "        step_map[l] = len(labels) - 1\n",
    "    step_label_map[i] = step_map\n",
    "\n",
    "# Build links between steps\n",
    "sources = []\n",
    "targets = []\n",
    "values = []\n",
    "for i in range(len(steps)-1):\n",
    "    left = df[steps[i]].astype(str)\n",
    "    right = df[steps[i+1]].astype(str)\n",
    "    links = pd.DataFrame({'source': left, 'target': right})\n",
    "    \n",
    "    counts = links.value_counts().reset_index(name='count')\n",
    "    for _, row in counts.iterrows():\n",
    "        if row['source'] in step_label_map[i] and row['target'] in step_label_map[i+1]:\n",
    "            src_idx = step_label_map[i][row['source']]\n",
    "            tgt_idx = step_label_map[i+1][row['target']]\n",
    "            sources.append(src_idx)\n",
    "            targets.append(tgt_idx)\n",
    "            values.append(row['count'])\n",
    "\n",
    "# Set empty noted to transparent (note: cannot remove them from the plot because the positions are messed up otherwise)\n",
    "node_labels = []\n",
    "node_colors = []\n",
    "hidden_indices = set()\n",
    "for i, label in enumerate(labels):\n",
    "    if len(label) < 4: # empty label\n",
    "        node_colors.append('rgba(0,0,0,0)')  # transparent\n",
    "        node_labels.append('')\n",
    "        hidden_indices.add(i)\n",
    "    else:\n",
    "        node_colors.append(colors[label.split(']')[1]])\n",
    "        node_labels.append(label)\n",
    "\n",
    "# Assign link colors: transparent if source or target is hidden, else a visible color\n",
    "link_colors = []\n",
    "link_hovertemplate = []\n",
    "for s, t in zip(sources, targets):\n",
    "    if s in hidden_indices or t in hidden_indices:\n",
    "        link_colors.append('rgba(0,0,0,0)')  # transparent\n",
    "        link_hovertemplate.append(' ')  # No hover text\n",
    "    else:\n",
    "        link_colors.append('rgba(128,128,128,0.2)')  # get with 50% transparency\n",
    "        link_hovertemplate.append(f\"%{node_labels[s]} → {node_labels[t]}<extra></extra>\")\n",
    "\n",
    "\n",
    "# Plotly Sankey\n",
    "fig = go.Figure(data=[go.Sankey(\n",
    "    node=dict(pad=15, thickness=20, x=xpos,\n",
    "              label=node_labels,\n",
    "              color=node_colors,\n",
    "              line=dict(width=0),),\n",
    "    link=dict(source=sources,\n",
    "              target=targets,\n",
    "              value=values,\n",
    "              color=link_colors,\n",
    "              hovertemplate=[''],))])\n",
    "\n",
    "# Add legend (i.e. invisible scatter traces)\n",
    "for label, color in color_dict.items():\n",
    "    fig.add_trace(go.Scatter(x=[None], y=[None], mode='markers',\n",
    "                             marker=dict(size=15, color=color),\n",
    "                             legendgroup=label,\n",
    "                             showlegend=True,\n",
    "                             name=label,))\n",
    "\n",
    "fig.update_layout(title_text='Sankey diagram of CpG inclusion strategies',\n",
    "                  font_size=10,\n",
    "                  width=1100, \n",
    "                  plot_bgcolor='white', paper_bgcolor='white',\n",
    "                  xaxis=dict(showgrid=False, zeroline=False, showticklabels=False),\n",
    "                  yaxis=dict(showgrid=False, zeroline=False, showticklabels=False),\n",
    "                  margin=dict(l=10, r=0, t=50, b=0),\n",
    "                  legend=dict(orientation='h',\n",
    "                              y=-0.2, yanchor='bottom', # Move legend below the plot\n",
    "                              x=0.5, xanchor=\"center\",))\n",
    "\n",
    "# fig.write_image(\"../static_output/Figure4A.png\", scale=2)"
   ]
  },
  {
   "cell_type": "code",
   "execution_count": null,
   "id": "ea7262d5",
   "metadata": {},
   "outputs": [
    {
     "name": "stderr",
     "output_type": "stream",
     "text": [
      "/var/folders/f9/fknlq25n23l74zmhg8zbckx80000gn/T/ipykernel_15314/2097401584.py:71: UserWarning:\n",
      "\n",
      "set_ticklabels() should only be used with a fixed number of ticks, i.e. after set_ticks() or using a FixedLocator.\n",
      "\n"
     ]
    },
    {
     "data": {
      "image/png": "[encoded data removed]",
      "text/plain": [
       "<Figure size 1500x600 with 2 Axes>"
      ]
     },
     "metadata": {},
     "output_type": "display_data"
    }
   ],
   "source": [
    "mps_table.Determining_weights_1.value_counts()\n",
    "\n",
    "import matplotlib.pyplot as plt\n",
    "import matplotlib.colors as mcolors\n",
    "import colorsys \n",
    "\n",
    "def generate_palette(base_color, n, min_light=0.35, max_light=0.85):\n",
    "    \"\"\"Generate n visually distinct colors from a base color by varying lightness.\"\"\"\n",
    "    base = mcolors.to_rgb(base_color)\n",
    "    colors = []\n",
    "    h, l, s = colorsys.rgb_to_hls(*base)\n",
    "    for i in range(n):\n",
    "        # Interpolate lightness\n",
    "        light = min_light + (max_light - min_light) * i / max(1, n-1)\n",
    "        # Convert to HLS, change lightness, then back to RGB\n",
    "        rgb = colorsys.hls_to_rgb(h, light, s)\n",
    "        colors.append(rgb)\n",
    "    return colors\n",
    "\n",
    "# Explode Determining_weights_1 into two columns\n",
    "weights_split = mps_table['Determining_weights_1'].dropna().str.split('|', expand=True)\n",
    "weights_split.columns = ['Main', 'Sub']\n",
    "\n",
    "# Clean up whitespace\n",
    "weights_split['Main'] = weights_split['Main'].str.strip()\n",
    "weights_split['Sub'] = weights_split['Sub'].str.strip()\n",
    "\n",
    "# Count occurrences for stacking\n",
    "stacked_counts = weights_split.groupby(['Main', 'Sub']).size().unstack(fill_value=0)\n",
    "\n",
    "# Order the 'Sub' columns by total count (descending)\n",
    "sub_order = stacked_counts.sum(axis=0).sort_values(ascending=False).index\n",
    "stacked_counts = stacked_counts[sub_order]\n",
    "\n",
    "# Assign a different colormap to each Main group\n",
    "main_base_colors = ['#ff6600', '#3ca55c', '#205493']  # orange, green, blue\n",
    "\n",
    "main_groups = stacked_counts.index.tolist()\n",
    "colormaps = [plt.cm.Oranges_r,  plt.cm.Greens_r,  plt.cm.Blues_r,]\n",
    "\n",
    "color_dict = {}\n",
    "all_subs = stacked_counts.columns.tolist()\n",
    "for i, main in enumerate(main_groups):\n",
    "    subs_for_main = [sub for sub in all_subs if stacked_counts.loc[main, sub] > 0]\n",
    "    palette = generate_palette(main_base_colors[i], len(subs_for_main))\n",
    "    for j, sub in enumerate(subs_for_main):\n",
    "        color_dict[(main, sub)] = palette[j]\n",
    "\n",
    "    # cmap = colormaps[i]\n",
    "    # n_subs = len(all_subs)\n",
    "    # for j, sub in enumerate(all_subs):\n",
    "    #     # Each sub-method gets a color from the colormap of its main group\n",
    "    #     color_dict[(main, sub)] = cmap(j*j*2 -10)  # avoid too light colors\n",
    "\n",
    "# Plot horizontal stacked bar plot with custom colors\n",
    "fig, (ax, leg) = plt.subplots(2, 1, figsize=(15, 6), gridspec_kw={'height_ratios': [1, 1], 'hspace': 0.3})\n",
    "\n",
    "gap = 0.5\n",
    "bottom = np.zeros(len(main_groups))\n",
    "for idx, sub in enumerate(all_subs):\n",
    "    vals = stacked_counts[sub].values\n",
    "    color = [color_dict.get((main, sub), \"#cccccc\") for main in main_groups]\n",
    "    # Add the gap * idx to the left position\n",
    "    ax.barh(main_groups, vals, left=bottom, color=color, label=sub)\n",
    "    vals_with_gap = vals.astype(float)\n",
    "    vals_with_gap[vals != 0] += gap\n",
    "    bottom += vals_with_gap \n",
    "\n",
    "ax.set_xlabel('MPS count', fontweight='bold')\n",
    "ax.set_ylabel('Method', fontweight='bold')\n",
    "ax.set_yticklabels(['Discovery\\nEWAS','Other\\nmachine-learning\\nalgorithm','Penalized\\nregression'])\n",
    "ax.set_title('Overview of methods for determining weights')\n",
    "\n",
    "ax.set_xlim(0, 350)\n",
    "ax.tick_params(axis='y', which='both', left=False, right=False, labelleft=True)\n",
    "\n",
    "for spine in ['top','right','left']:\n",
    "    ax.spines[spine].set_visible(False)\n",
    "\n",
    "n_main = len(main_groups)\n",
    "x_gap = 2.5  # horizontal gap between columns\n",
    "\n",
    "for i, main in enumerate(main_groups):\n",
    "    # Get sub-methods with nonzero count for this main group\n",
    "    subs_for_main = [sub for sub in all_subs if stacked_counts.loc[main, sub] > 0]\n",
    "    for j, sub in enumerate(subs_for_main):\n",
    "        y = j+1  # top-down\n",
    "        x = i * x_gap + x_gap\n",
    "        color = color_dict[(main, sub)]\n",
    "        leg.scatter(x, y, color=color, s=60)\n",
    "        leg.text(x - 0.2, y, sub, va='center', fontsize=10)\n",
    "\n",
    "# Set limits for better spacing\n",
    "max_rows = max([sum(stacked_counts.loc[main] > 0) for main in main_groups])\n",
    "leg.set_xlim(-0.5, n_main * x_gap+ 0.1)\n",
    "leg.set_ylim(0, max_rows + 2)\n",
    "leg.invert_yaxis()\n",
    "leg.invert_xaxis()\n",
    "leg.axis('off')\n",
    "\n",
    "fig.savefig(f'../static_output/Figure4B.png', dpi=300, bbox_inches='tight')\n"
   ]
  }
 ],
 "metadata": {
  "kernelspec": {
   "display_name": "demetra_venv",
   "language": "python",
   "name": "python3"
  },
  "language_info": {
   "codemirror_mode": {
    "name": "ipython",
    "version": 3
   },
   "file_extension": ".py",
   "mimetype": "text/x-python",
   "name": "python",
   "nbconvert_exporter": "python",
   "pygments_lexer": "ipython3",
   "version": "3.9.1"
  }
 },
 "nbformat": 4,
 "nbformat_minor": 5
}
