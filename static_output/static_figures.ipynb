{
 "cells": [
  {
   "cell_type": "markdown",
   "id": "630cb915-32f0-4fe9-93d4-06b244fc62ae",
   "metadata": {},
   "source": [
    "# DeMetRA - review figures"
   ]
  },
  {
   "cell_type": "code",
   "execution_count": 1,
   "id": "1adeee0b-883f-49c1-b0ad-9b6df095e6df",
   "metadata": {},
   "outputs": [],
   "source": [
    "import pandas as pd\n",
    "\n",
    "import matplotlib.pyplot as plt"
   ]
  },
  {
   "cell_type": "markdown",
   "id": "ae830b76-d455-4668-987f-25dc3f2d9c40",
   "metadata": {},
   "source": [
    "## Is-processed dataset"
   ]
  },
  {
   "cell_type": "code",
   "execution_count": 2,
   "id": "e1e90d31-2812-4f80-bd61-44de1710431a",
   "metadata": {},
   "outputs": [],
   "source": [
    "assets_directory = '../assets/'\n",
    "\n",
    "lit = pd.read_csv(f'{assets_directory}MPS_literature_cleaned.csv')\n",
    "d = pd.read_csv(f'{assets_directory}MPS_base_target.csv')"
   ]
  },
  {
   "cell_type": "code",
   "execution_count": null,
   "id": "23fbf98f-ec94-44d1-9e4d-4d248964c18e",
   "metadata": {},
   "outputs": [],
   "source": [
    "\n",
    "demetra_pallete = {\n",
    "    'caribbean-current': '#00635dff',\n",
    "    'vista-blue': '#809bceff',\n",
    "    'xanthous': '#ffc145ff',\n",
    "    'fairy-tale': '#eac4d5ff',\n",
    "    'red-ncs': '#b20d30ff',\n",
    "    'jasmine': '#ffd685ff',\n",
    "    'yinmn-blue': '#395993ff',\n",
    "    'light-sea-green': '#00b8abff',\n",
    "    'quinacridone-magenta': '#873157ff',\n",
    "    'lavender-blush': '#feecf0ff'}\n"
   ]
  },
  {
   "cell_type": "markdown",
   "id": "d04ed1bb",
   "metadata": {},
   "source": [
    "### Pie charts"
   ]
  },
  {
   "cell_type": "code",
   "execution_count": null,
   "id": "5d1150f6",
   "metadata": {},
   "outputs": [],
   "source": [
    "def pie_count(ax, var, df=d):\n",
    "\n",
    "    count = df.value_counts(var, dropna=False)\n",
    "    labels = count.index\n",
    "    sizes = count\n",
    "    \n",
    "    ax.pie(sizes, labels=labels, autopct='%1.1f%%', colors=demetra_pallete.values())\n",
    "\n",
    "\n",
    "def base_target_overlap(var, df=d):\n",
    "    ovlp = df[f'{var}_base'] == df[f'{var}_targ']\n",
    "    return(f'{round((sum(ovlp) / len(ovlp))*100)}%')\n",
    "\n",
    "\n",
    "def compare_base_target(var_list, df=d):\n",
    "\n",
    "    fs = dict(big=30, small=15)\n",
    "\n",
    "    row_targ = list()\n",
    "    row_base = list()\n",
    "    row_ovlp = list()\n",
    "\n",
    "    for i in range(len(var_list)+1):  \n",
    "        row_targ.append(f'A{i}')\n",
    "        row_base.append(f'B{i}')\n",
    "        row_ovlp.append(f'C{i}')\n",
    "    \n",
    "    fig, axs = plt.subplot_mosaic([row_targ, row_base, row_ovlp], figsize=(25, 13), \n",
    "                                  height_ratios=[1,1,.5], width_ratios=[.2]+[1]*len(var_list))\n",
    "    \n",
    "\n",
    "    label_txt = dict(x=.5, y=.5, ha='center', va='center', fontsize=fs['big'], rotation=90)\n",
    "    \n",
    "    axs['A0'].text(s='Target', transform=axs['A0'].transAxes, **label_txt)\n",
    "    axs['B0'].text(s='Base', transform=axs['B0'].transAxes, **label_txt)\n",
    "    axs['C0'].text(s='Match', transform=axs['C0'].transAxes, **label_txt)\n",
    "\n",
    "    [axs[i].axis('off') for i in ['A0', 'B0', 'C0']]\n",
    "\n",
    "    for i, var in enumerate(var_list):\n",
    "        \n",
    "        pie_count(axs[f'A{i+1}'], f'{var}_targ')\n",
    "        pie_count(axs[f'B{i+1}'], f'{var}_base')\n",
    "\n",
    "        axs[f'C{i+1}'].text(x=.5, y=.5, s=base_target_overlap(var), fontsize=fs['big'], ha='center', va='center', \n",
    "                           transform=axs[f'C{i+1}'].transAxes)\n",
    "        axs[f'C{i+1}'].axis('off')\n",
    "\n",
    "        axs[f'A{i+1}'].set_title('\\n'.join(var.split('_')), fontsize=fs['big'], fontweight='bold') \n",
    "\n",
    "\n",
    "compare_base_target(var_list = ['Tissue', 'Array','Ancestry','Developmental_period'])"
   ]
  },
  {
   "cell_type": "markdown",
   "id": "be350b54",
   "metadata": {},
   "source": [
    "### Sankey plots"
   ]
  },
  {
   "cell_type": "code",
   "execution_count": null,
   "id": "9fcbaa8b",
   "metadata": {},
   "outputs": [],
   "source": [
    "def sankey(ax, var, left_labels, right_labels, d=d, left='targ', right='base',\n",
    "           title_left='Target', title_right='Base', spacer=10, fss={'sm': 14, 'l': 15, 'xl': 25}):\n",
    "    \n",
    "    counts = pd.DataFrame(d[[f'{var}_{left}',f'{var}_{right}']].value_counts(dropna=False)).reset_index()\n",
    "    \n",
    "    total = counts['count'].sum()\n",
    "    \n",
    "    def size_esimator(label_dict, side):\n",
    "    \n",
    "        size_list = list()\n",
    "        \n",
    "        for label in label_dict.keys():\n",
    "            label_count = int(counts.loc[counts[f'{var}_{side}']==label, 'count'].sum())\n",
    "            label_dict[label]['size'] = label_count\n",
    "            size_list.append(label_count)\n",
    "    \n",
    "        cumulative_sum = np.cumsum(size_list).tolist()\n",
    "        \n",
    "        top_pos = [0] + [c+(spacer*(i+1))for i,c in enumerate(cumulative_sum[:-1])]\n",
    "        bottom_pos = [c+(spacer*(i))for i,c in enumerate(cumulative_sum)]\n",
    "    \n",
    "        for i, label in enumerate(label_dict.keys()):\n",
    "            label_dict[label]['top'] = top_pos[i]\n",
    "            label_dict[label]['bottom'] = bottom_pos[i]\n",
    "        \n",
    "        return label_dict\n",
    "    \n",
    "    left_dict = size_esimator(left_labels, side=left)\n",
    "    right_dict = size_esimator(right_labels, side=right)\n",
    "    \n",
    "    def label_y(label_dict, label):\n",
    "        if label_dict[label]['size'] > spacer:\n",
    "            y = label_dict[label]['top']+1\n",
    "            va='top'\n",
    "        else:\n",
    "            y = label_dict[label]['top'] + label_dict[label]['size']*0.5\n",
    "            va='center'\n",
    "\n",
    "        string_spacer = '\\n' if label_dict[label]['size'] > 5 else ' '\n",
    "        percent_count = round(label_dict[label]['size'] / total * 100)\n",
    "        percent_count = percent_count if percent_count > 0 else '<1'\n",
    "        \n",
    "        s = f\"{label}{string_spacer}({percent_count}%)\"\n",
    "        \n",
    "        return dict(y=y, s=s, va=va)\n",
    "        \n",
    "    # Draw left counts\n",
    "    for label in left_dict.keys():\n",
    "        ax.fill_between(x=[0, 1], y1=left_dict[label]['top'], y2=left_dict[label]['bottom'], \n",
    "                        color=left_dict[label]['color'], edgecolor=None)\n",
    "        ax.text(x=-0.1, **label_y(left_dict, label), ha='right', fontsize=fss['sm'])\n",
    "    \n",
    "    # Draw right counts\n",
    "    for label in right_dict.keys():\n",
    "        ax.fill_between(x=[9, 10], y1=right_dict[label]['top'], y2=right_dict[label]['bottom'], \n",
    "                        color=right_dict[label]['color'], alpha=1, edgecolor=None)\n",
    "        ax.text(x=10.1, **label_y(right_dict, label), ha='left', fontsize=fss['sm'])\n",
    "\n",
    "    # Add titles on each side\n",
    "    titlespecs = dict(y=-10, va='center',ha='center', fontweight='bold', fontsize=fss['l'])\n",
    "    ax.text(x=0.5, s=title_left, **titlespecs)\n",
    "    ax.text(x=9.5, s=title_right, **titlespecs)\n",
    "    \n",
    "    # Draw strips \n",
    "    for left_label in left_dict.keys():\n",
    "        \n",
    "        for right_label in right_dict.keys():\n",
    "            \n",
    "            strip_color = left_dict[left_label]['color'] # Color strip according to the left side\n",
    "            \n",
    "            strip_size = counts.loc[(counts[f'{var}_{left}']==left_label) & (counts[f'{var}_{right}']==right_label), 'count']\n",
    "    \n",
    "            \n",
    "            if  len(strip_size) > 0:\n",
    "                strip_size = int(strip_size.iloc[0])\n",
    "    \n",
    "                # Create array of y values for each strip, half at left value, half at right, convolve\n",
    "                ys_d = np.array(50 * [left_dict[left_label]['top']] + 50 * [right_dict[right_label]['top']])\n",
    "                ys_d = np.convolve(ys_d, 0.05 * np.ones(20), mode='valid')\n",
    "                ys_d = np.convolve(ys_d, 0.05 * np.ones(20), mode='valid')\n",
    "                \n",
    "                ys_u = np.array(50 * [left_dict[left_label]['top'] + strip_size] + 50 * [right_dict[right_label]['top'] + strip_size])\n",
    "                ys_u = np.convolve(ys_u, 0.05 * np.ones(20), mode='valid')\n",
    "                ys_u = np.convolve(ys_u, 0.05 * np.ones(20), mode='valid')\n",
    "    \n",
    "                # Update bottom edges at each label so next strip starts at the right place\n",
    "                left_dict[left_label]['top'] += strip_size\n",
    "                right_dict[right_label]['top'] += strip_size\n",
    "                \n",
    "                ax.fill_between(np.linspace(1, 9, len(ys_d)), ys_d, ys_u, alpha=0.4, color=strip_color, edgecolor=None)\n",
    "    \n",
    "    largest_count = max(left_dict[list(left_dict.keys())[-1]]['bottom'], right_dict[list(right_dict.keys())[-1]]['bottom'])\n",
    "    ax.set_xlim(-0.1, 10.1)\n",
    "    ax.set_ylim(-10, largest_count+10)\n",
    "    ax.invert_yaxis()\n",
    "    ax.axis('off')\n",
    "\n",
    "    # Add superior title\n",
    "    ax.set_title(' '.join(var.split('_')), fontweight='bold', fontsize=fss['xl'], pad=25)\n",
    "    \n",
    "    # Also return overall overla \n",
    "    color_counts = counts.copy()\n",
    "    color_counts[f'{var}_{left}'] = [left_labels[i]['color'] for i in counts[f'{var}_{left}']]\n",
    "    color_counts[f'{var}_{right}'] = [right_labels[i]['color'] for i in counts[f'{var}_{right}']]\n",
    "    \n",
    "    match = int(color_counts.loc[(color_counts[f'{var}_{left}'] == color_counts[f'{var}_{right}']) & (color_counts[f'{var}_{left}'] != 'grey'), \n",
    "                'count'].sum())\n",
    "    match_percent = match / total * 100\n",
    "\n",
    "    return match_percent\n",
    "\n",
    "def display_match(ax, match, fs=22): \n",
    "    ax.text(x=.5, y=.95, s=f'Match: {round(match)}%',fontsize=fs, ha='center', va='center', transform=ax.transAxes)\n",
    "    ax.axis('off')"
   ]
  },
  {
   "cell_type": "code",
   "execution_count": null,
   "id": "21beeb84",
   "metadata": {},
   "outputs": [],
   "source": [
    "# ['Tissue', 'Array','Ancestry','Developmental_period']\n",
    "def get_counts(var):\n",
    "    counts = pd.DataFrame(d[[f'{var}_targ',f'{var}_base']].value_counts(dropna=False)).reset_index()\n",
    "    print(counts[f'{var}_targ'].unique())\n",
    "    print(counts[f'{var}_base'].unique())\n",
    "    return counts\n",
    "\n",
    "get_counts('Developmental_period')"
   ]
  },
  {
   "cell_type": "code",
   "execution_count": null,
   "id": "5b34c7f6",
   "metadata": {},
   "outputs": [],
   "source": [
    "fig, axs = plt.subplot_mosaic('AB;ab;CD;cd', figsize=(20, 30),\n",
    "                              height_ratios=[1,.2, 1,.2], gridspec_kw=dict(hspace=0, wspace=0.7))\n",
    "    \n",
    "\n",
    "a = sankey(axs['A'], var='Array', \n",
    "           left_labels = {'450K': {'color': 'darkgreen'}, \n",
    "                      'EPICv1': {'color': 'mediumpurple'},\n",
    "                      'Multiple (450K, EPICv1)': {'color': 'orange'},\n",
    "                      'Multiple (450K, GMEL (~3000 CpGs from EPICv1))': {'color': 'orange'},\n",
    "                      'Multiple (450K, EPICv2)': {'color': 'orange'}},\n",
    "           right_labels = {'450K': {'color': 'darkgreen'}, \n",
    "                       'EPICv1': {'color': 'mediumpurple'}, \n",
    "                       'Multiple (450K, EPICv1)': {'color': 'orange'}})\n",
    "\n",
    "display_match(axs['a'], a)\n",
    "\n",
    "b = sankey(axs['B'], var='Tissue',\n",
    "           left_labels = {'Peripheral blood': {'color':'crimson'},\n",
    "                          'Whole blood': {'color':'crimson'},\n",
    "                          'Dried bloodspot': {'color':'crimson'},\n",
    "                          'Blood-clots': {'color':'crimson'},\n",
    "                          'Cord blood': {'color':'darkred'},\n",
    "                          'Saliva': {'color':'lightblue'},\n",
    "                          'Buccal cells': {'color':'teal'},\n",
    "                          'Tumour cells': {'color':'orange'},\n",
    "                          'Not reported': {'color':'grey'}}, \n",
    "           right_labels = {'Peripheral blood': {'color':'crimson'},\n",
    "                           'Whole blood': {'color':'crimson'},\n",
    "                           'Cord blood': {'color':'darkred'},\n",
    "                           'Multiple (Cord blood, Dried bloodspot)': {'color':'crimson'},\n",
    "                           'Multiple (Cord blood, Whole blood)': {'color':'crimson'},\n",
    "                           'Multiple (Whole blood, HPCs)': {'color':'crimson'},\n",
    "                           'Leukocytes': {'color':'mediumpurple'},\n",
    "                           'Tumour cells': {'color':'orange'}})\n",
    "\n",
    "display_match(axs['b'], b)\n",
    "\n",
    "c = sankey(axs['C'], var='Ancestry',\n",
    "           left_labels = {'White': {'color':'pink'}, \n",
    "                          'European': {'color':'pink'}, \n",
    "                          'Mixed': {'color':'purple'}, \n",
    "                          'Hispanic': {'color': 'orange'},\n",
    "                          'African': {'color':'crimson'},\n",
    "                          'Not reported': {'color': 'grey'}}, \n",
    "           right_labels = {'White': {'color':'pink'},\n",
    "                           'European': {'color':'pink'},\n",
    "                           'Mixed': {'color':'purple'}, \n",
    "                           'Hispanic': {'color': 'orange'},\n",
    "                           'Not reported': {'color':'grey'}})\n",
    "\n",
    "display_match(axs['c'], c)\n",
    "\n",
    "\n",
    "dp = sankey(axs['D'], var='Developmental_period',\n",
    "           left_labels = {'Birth': {'color':'darkblue'}, \n",
    "               'Very early childhood': {'color':'#4132d4'}, \n",
    "               'Mid childhood': {'color':'#7566ff'}, \n",
    "               'Late childhood': {'color':'#beb7ff'}, \n",
    "               'Childhood and adolescence': {'color':'#f0cdff'}, \n",
    "               'Adolescence': {'color':'purple'}},\n",
    "           right_labels = {'Birth': {'color':'darkblue'}, \n",
    "                'Mid childhood': {'color':'#7566ff'}, \n",
    "                'Late childhood': {'color':'#beb7ff'}, \n",
    "                'Childhood': {'color':'blue'},\n",
    "                'Childhood and adolescence': {'color':'#f0cdff'}, \n",
    "                'Birth, Childhood and adolescence': {'color':'#7b07d0'},\n",
    "                'Adolescence': {'color':'purple'},\n",
    "                'Adults':{'color':'teal'},\n",
    "                'Not reported': {'color':'grey'}})\n",
    "\n",
    "display_match(axs['d'], dp)\n",
    "\n",
    "fig.savefig('Figure3.pdf', dpi=400, bbox_inches='tight')"
   ]
  },
  {
   "cell_type": "code",
   "execution_count": null,
   "id": "33ddadcb-d9c0-48e8-8391-8050e896eafb",
   "metadata": {},
   "outputs": [],
   "source": [
    "# d_targ.groupby(d_targ.What_is_available).Identifier_base.value_counts(dropna=False)"
   ]
  },
  {
   "cell_type": "markdown",
   "id": "62707954",
   "metadata": {},
   "source": [
    "### Author network"
   ]
  },
  {
   "cell_type": "code",
   "execution_count": 3,
   "id": "7990a53d",
   "metadata": {},
   "outputs": [],
   "source": [
    "# import networkx as nx\n",
    "import plotly.graph_objects as go\n",
    "import textwrap\n",
    "import pickle"
   ]
  },
  {
   "cell_type": "code",
   "execution_count": 4,
   "id": "01cbaaba",
   "metadata": {},
   "outputs": [],
   "source": [
    "# Read the graph object from file\n",
    "with open(f'{assets_directory}/Publications_network.pkl', 'rb') as file:\n",
    "    G = pickle.load(file)\n"
   ]
  },
  {
   "cell_type": "code",
   "execution_count": 40,
   "id": "c3b279cb",
   "metadata": {},
   "outputs": [
    {
     "name": "stdout",
     "output_type": "stream",
     "text": [
      "268 unique authors\n"
     ]
    },
    {
     "data": {
      "application/vnd.plotly.v1+json": {
       "config": {
        "plotlyServerURL": "https://plot.ly"
       },
       "data": [
        {
         "alignmentgroup": "True",
         "bingroup": "x",
         "histfunc": "sum",
         "hovertemplate": "Author=%{x}<br>sum of count=%{y}<extra></extra>",
         "legendgroup": "",
         "marker": {
          "color": "#636efa",
          "pattern": {
           "shape": ""
          }
         },
         "name": "",
         "offsetgroup": "",
         "orientation": "v",
         "showlegend": false,
         "type": "histogram",
         "x": [
          "Sadikovic, B.",
          "Kerkhof, J.",
          "Levy, M.A.",
          "McConkey, H.",
          "Relator, R.",
          "Haghshenas, S.",
          "Alders, M.",
          "Tedder, M.L.",
          "Rooney, K.",
          "Aref-Eshghi, E.",
          "Keren, B.",
          "Ciolfi, A.",
          "Reilly, J.",
          "Vitobello, A.",
          "Miele, E.",
          "Stevenson, R.E.",
          "Faivre, L.",
          "Schwartz, C.E.",
          "van der Laan, L.",
          "Pedace, L.",
          "Iascone, M.",
          "Merla, G.",
          "Genevieve, D.",
          "Henneman, P.",
          "Foroutan, A.",
          "Brusco, A.",
          "Philippe, C.",
          "Trajkova, S.",
          "Tartaglia, M.",
          "van Haelst, M.M.",
          "de Vries, B.B.A.",
          "Brunetti-Pierri, N.",
          "Agolini, E.",
          "Kilanowski, A.",
          "Mannens, M.M.A.M.",
          "Mignot, C.",
          "Schenkel, L.C.",
          "Pfundt, R.",
          "Dingemans, A.J.M.",
          "Siu, V.M.",
          "Skinner, C.",
          "Thauvin-Robinet, C.",
          "Campeau, P.M.",
          "Bhai, P.",
          "Binder, E.B.",
          "Boardman, J.P.",
          "Waldenberger, M.",
          "Vos, N.",
          "Vissers, L.E.L.M.",
          "Cecil, C.A.M.",
          "Chatron, N.",
          "Mussa, A.",
          "Niceta, M.",
          "Novelli, A.",
          "Oegema, R.",
          "Cox, S.R.",
          "Czamara, D.",
          "Raffington, L.",
          "Peters, A.",
          "Prontera, P.",
          "Pizzi, S.",
          "Schwartz, C.",
          "Cappuccio, G.",
          "Carli, D.",
          "Rogers, R.C.",
          "Rodenhiser, D.I.",
          "Relton, C.L.",
          "Lyons, M.J.",
          "Marioni, R.E.",
          "Ferrero, G.B.",
          "Heide, S.",
          "Misra-Isrie, M.",
          "Mirza-Schreiber, N.",
          "Metcalfe, K.",
          "Lauffer, P.",
          "Kleefstra, T.",
          "Louie, R.J.",
          "Lin, H.",
          "Isidor, B.",
          "Weksberg, R.",
          "Whalley, H.C.",
          "Awamleh, Z.",
          "Barker, E.D."
         ],
         "xaxis": "x",
         "y": [
          33,
          29,
          24,
          23,
          16,
          11,
          11,
          11,
          9,
          8,
          7,
          6,
          6,
          6,
          5,
          5,
          5,
          5,
          5,
          4,
          4,
          4,
          4,
          4,
          4,
          4,
          4,
          4,
          4,
          3,
          3,
          3,
          3,
          3,
          3,
          3,
          3,
          3,
          3,
          3,
          3,
          2,
          2,
          2,
          2,
          2,
          2,
          2,
          2,
          2,
          2,
          2,
          2,
          2,
          2,
          2,
          2,
          2,
          2,
          2,
          2,
          2,
          2,
          2,
          2,
          2,
          2,
          2,
          2,
          2,
          2,
          2,
          2,
          2,
          2,
          2,
          2,
          2,
          2,
          2,
          2,
          2,
          2
         ],
         "yaxis": "y"
        }
       ],
       "layout": {
        "barmode": "relative",
        "height": 500,
        "legend": {
         "tracegroupgap": 0
        },
        "margin": {
         "t": 60
        },
        "showlegend": false,
        "template": {
         "data": {
          "bar": [
           {
            "error_x": {
             "color": "#2a3f5f"
            },
            "error_y": {
             "color": "#2a3f5f"
            },
            "marker": {
             "line": {
              "color": "#E5ECF6",
              "width": 0.5
             },
             "pattern": {
              "fillmode": "overlay",
              "size": 10,
              "solidity": 0.2
             }
            },
            "type": "bar"
           }
          ],
          "barpolar": [
           {
            "marker": {
             "line": {
              "color": "#E5ECF6",
              "width": 0.5
             },
             "pattern": {
              "fillmode": "overlay",
              "size": 10,
              "solidity": 0.2
             }
            },
            "type": "barpolar"
           }
          ],
          "carpet": [
           {
            "aaxis": {
             "endlinecolor": "#2a3f5f",
             "gridcolor": "white",
             "linecolor": "white",
             "minorgridcolor": "white",
             "startlinecolor": "#2a3f5f"
            },
            "baxis": {
             "endlinecolor": "#2a3f5f",
             "gridcolor": "white",
             "linecolor": "white",
             "minorgridcolor": "white",
             "startlinecolor": "#2a3f5f"
            },
            "type": "carpet"
           }
          ],
          "choropleth": [
           {
            "colorbar": {
             "outlinewidth": 0,
             "ticks": ""
            },
            "type": "choropleth"
           }
          ],
          "contour": [
           {
            "colorbar": {
             "outlinewidth": 0,
             "ticks": ""
            },
            "colorscale": [
             [
              0,
              "#0d0887"
             ],
             [
              0.1111111111111111,
              "#46039f"
             ],
             [
              0.2222222222222222,
              "#7201a8"
             ],
             [
              0.3333333333333333,
              "#9c179e"
             ],
             [
              0.4444444444444444,
              "#bd3786"
             ],
             [
              0.5555555555555556,
              "#d8576b"
             ],
             [
              0.6666666666666666,
              "#ed7953"
             ],
             [
              0.7777777777777778,
              "#fb9f3a"
             ],
             [
              0.8888888888888888,
              "#fdca26"
             ],
             [
              1,
              "#f0f921"
             ]
            ],
            "type": "contour"
           }
          ],
          "contourcarpet": [
           {
            "colorbar": {
             "outlinewidth": 0,
             "ticks": ""
            },
            "type": "contourcarpet"
           }
          ],
          "heatmap": [
           {
            "colorbar": {
             "outlinewidth": 0,
             "ticks": ""
            },
            "colorscale": [
             [
              0,
              "#0d0887"
             ],
             [
              0.1111111111111111,
              "#46039f"
             ],
             [
              0.2222222222222222,
              "#7201a8"
             ],
             [
              0.3333333333333333,
              "#9c179e"
             ],
             [
              0.4444444444444444,
              "#bd3786"
             ],
             [
              0.5555555555555556,
              "#d8576b"
             ],
             [
              0.6666666666666666,
              "#ed7953"
             ],
             [
              0.7777777777777778,
              "#fb9f3a"
             ],
             [
              0.8888888888888888,
              "#fdca26"
             ],
             [
              1,
              "#f0f921"
             ]
            ],
            "type": "heatmap"
           }
          ],
          "heatmapgl": [
           {
            "colorbar": {
             "outlinewidth": 0,
             "ticks": ""
            },
            "colorscale": [
             [
              0,
              "#0d0887"
             ],
             [
              0.1111111111111111,
              "#46039f"
             ],
             [
              0.2222222222222222,
              "#7201a8"
             ],
             [
              0.3333333333333333,
              "#9c179e"
             ],
             [
              0.4444444444444444,
              "#bd3786"
             ],
             [
              0.5555555555555556,
              "#d8576b"
             ],
             [
              0.6666666666666666,
              "#ed7953"
             ],
             [
              0.7777777777777778,
              "#fb9f3a"
             ],
             [
              0.8888888888888888,
              "#fdca26"
             ],
             [
              1,
              "#f0f921"
             ]
            ],
            "type": "heatmapgl"
           }
          ],
          "histogram": [
           {
            "marker": {
             "pattern": {
              "fillmode": "overlay",
              "size": 10,
              "solidity": 0.2
             }
            },
            "type": "histogram"
           }
          ],
          "histogram2d": [
           {
            "colorbar": {
             "outlinewidth": 0,
             "ticks": ""
            },
            "colorscale": [
             [
              0,
              "#0d0887"
             ],
             [
              0.1111111111111111,
              "#46039f"
             ],
             [
              0.2222222222222222,
              "#7201a8"
             ],
             [
              0.3333333333333333,
              "#9c179e"
             ],
             [
              0.4444444444444444,
              "#bd3786"
             ],
             [
              0.5555555555555556,
              "#d8576b"
             ],
             [
              0.6666666666666666,
              "#ed7953"
             ],
             [
              0.7777777777777778,
              "#fb9f3a"
             ],
             [
              0.8888888888888888,
              "#fdca26"
             ],
             [
              1,
              "#f0f921"
             ]
            ],
            "type": "histogram2d"
           }
          ],
          "histogram2dcontour": [
           {
            "colorbar": {
             "outlinewidth": 0,
             "ticks": ""
            },
            "colorscale": [
             [
              0,
              "#0d0887"
             ],
             [
              0.1111111111111111,
              "#46039f"
             ],
             [
              0.2222222222222222,
              "#7201a8"
             ],
             [
              0.3333333333333333,
              "#9c179e"
             ],
             [
              0.4444444444444444,
              "#bd3786"
             ],
             [
              0.5555555555555556,
              "#d8576b"
             ],
             [
              0.6666666666666666,
              "#ed7953"
             ],
             [
              0.7777777777777778,
              "#fb9f3a"
             ],
             [
              0.8888888888888888,
              "#fdca26"
             ],
             [
              1,
              "#f0f921"
             ]
            ],
            "type": "histogram2dcontour"
           }
          ],
          "mesh3d": [
           {
            "colorbar": {
             "outlinewidth": 0,
             "ticks": ""
            },
            "type": "mesh3d"
           }
          ],
          "parcoords": [
           {
            "line": {
             "colorbar": {
              "outlinewidth": 0,
              "ticks": ""
             }
            },
            "type": "parcoords"
           }
          ],
          "pie": [
           {
            "automargin": true,
            "type": "pie"
           }
          ],
          "scatter": [
           {
            "fillpattern": {
             "fillmode": "overlay",
             "size": 10,
             "solidity": 0.2
            },
            "type": "scatter"
           }
          ],
          "scatter3d": [
           {
            "line": {
             "colorbar": {
              "outlinewidth": 0,
              "ticks": ""
             }
            },
            "marker": {
             "colorbar": {
              "outlinewidth": 0,
              "ticks": ""
             }
            },
            "type": "scatter3d"
           }
          ],
          "scattercarpet": [
           {
            "marker": {
             "colorbar": {
              "outlinewidth": 0,
              "ticks": ""
             }
            },
            "type": "scattercarpet"
           }
          ],
          "scattergeo": [
           {
            "marker": {
             "colorbar": {
              "outlinewidth": 0,
              "ticks": ""
             }
            },
            "type": "scattergeo"
           }
          ],
          "scattergl": [
           {
            "marker": {
             "colorbar": {
              "outlinewidth": 0,
              "ticks": ""
             }
            },
            "type": "scattergl"
           }
          ],
          "scattermapbox": [
           {
            "marker": {
             "colorbar": {
              "outlinewidth": 0,
              "ticks": ""
             }
            },
            "type": "scattermapbox"
           }
          ],
          "scatterpolar": [
           {
            "marker": {
             "colorbar": {
              "outlinewidth": 0,
              "ticks": ""
             }
            },
            "type": "scatterpolar"
           }
          ],
          "scatterpolargl": [
           {
            "marker": {
             "colorbar": {
              "outlinewidth": 0,
              "ticks": ""
             }
            },
            "type": "scatterpolargl"
           }
          ],
          "scatterternary": [
           {
            "marker": {
             "colorbar": {
              "outlinewidth": 0,
              "ticks": ""
             }
            },
            "type": "scatterternary"
           }
          ],
          "surface": [
           {
            "colorbar": {
             "outlinewidth": 0,
             "ticks": ""
            },
            "colorscale": [
             [
              0,
              "#0d0887"
             ],
             [
              0.1111111111111111,
              "#46039f"
             ],
             [
              0.2222222222222222,
              "#7201a8"
             ],
             [
              0.3333333333333333,
              "#9c179e"
             ],
             [
              0.4444444444444444,
              "#bd3786"
             ],
             [
              0.5555555555555556,
              "#d8576b"
             ],
             [
              0.6666666666666666,
              "#ed7953"
             ],
             [
              0.7777777777777778,
              "#fb9f3a"
             ],
             [
              0.8888888888888888,
              "#fdca26"
             ],
             [
              1,
              "#f0f921"
             ]
            ],
            "type": "surface"
           }
          ],
          "table": [
           {
            "cells": {
             "fill": {
              "color": "#EBF0F8"
             },
             "line": {
              "color": "white"
             }
            },
            "header": {
             "fill": {
              "color": "#C8D4E3"
             },
             "line": {
              "color": "white"
             }
            },
            "type": "table"
           }
          ]
         },
         "layout": {
          "annotationdefaults": {
           "arrowcolor": "#2a3f5f",
           "arrowhead": 0,
           "arrowwidth": 1
          },
          "autotypenumbers": "strict",
          "coloraxis": {
           "colorbar": {
            "outlinewidth": 0,
            "ticks": ""
           }
          },
          "colorscale": {
           "diverging": [
            [
             0,
             "#8e0152"
            ],
            [
             0.1,
             "#c51b7d"
            ],
            [
             0.2,
             "#de77ae"
            ],
            [
             0.3,
             "#f1b6da"
            ],
            [
             0.4,
             "#fde0ef"
            ],
            [
             0.5,
             "#f7f7f7"
            ],
            [
             0.6,
             "#e6f5d0"
            ],
            [
             0.7,
             "#b8e186"
            ],
            [
             0.8,
             "#7fbc41"
            ],
            [
             0.9,
             "#4d9221"
            ],
            [
             1,
             "#276419"
            ]
           ],
           "sequential": [
            [
             0,
             "#0d0887"
            ],
            [
             0.1111111111111111,
             "#46039f"
            ],
            [
             0.2222222222222222,
             "#7201a8"
            ],
            [
             0.3333333333333333,
             "#9c179e"
            ],
            [
             0.4444444444444444,
             "#bd3786"
            ],
            [
             0.5555555555555556,
             "#d8576b"
            ],
            [
             0.6666666666666666,
             "#ed7953"
            ],
            [
             0.7777777777777778,
             "#fb9f3a"
            ],
            [
             0.8888888888888888,
             "#fdca26"
            ],
            [
             1,
             "#f0f921"
            ]
           ],
           "sequentialminus": [
            [
             0,
             "#0d0887"
            ],
            [
             0.1111111111111111,
             "#46039f"
            ],
            [
             0.2222222222222222,
             "#7201a8"
            ],
            [
             0.3333333333333333,
             "#9c179e"
            ],
            [
             0.4444444444444444,
             "#bd3786"
            ],
            [
             0.5555555555555556,
             "#d8576b"
            ],
            [
             0.6666666666666666,
             "#ed7953"
            ],
            [
             0.7777777777777778,
             "#fb9f3a"
            ],
            [
             0.8888888888888888,
             "#fdca26"
            ],
            [
             1,
             "#f0f921"
            ]
           ]
          },
          "colorway": [
           "#636efa",
           "#EF553B",
           "#00cc96",
           "#ab63fa",
           "#FFA15A",
           "#19d3f3",
           "#FF6692",
           "#B6E880",
           "#FF97FF",
           "#FECB52"
          ],
          "font": {
           "color": "#2a3f5f"
          },
          "geo": {
           "bgcolor": "white",
           "lakecolor": "white",
           "landcolor": "#E5ECF6",
           "showlakes": true,
           "showland": true,
           "subunitcolor": "white"
          },
          "hoverlabel": {
           "align": "left"
          },
          "hovermode": "closest",
          "mapbox": {
           "style": "light"
          },
          "paper_bgcolor": "white",
          "plot_bgcolor": "#E5ECF6",
          "polar": {
           "angularaxis": {
            "gridcolor": "white",
            "linecolor": "white",
            "ticks": ""
           },
           "bgcolor": "#E5ECF6",
           "radialaxis": {
            "gridcolor": "white",
            "linecolor": "white",
            "ticks": ""
           }
          },
          "scene": {
           "xaxis": {
            "backgroundcolor": "#E5ECF6",
            "gridcolor": "white",
            "gridwidth": 2,
            "linecolor": "white",
            "showbackground": true,
            "ticks": "",
            "zerolinecolor": "white"
           },
           "yaxis": {
            "backgroundcolor": "#E5ECF6",
            "gridcolor": "white",
            "gridwidth": 2,
            "linecolor": "white",
            "showbackground": true,
            "ticks": "",
            "zerolinecolor": "white"
           },
           "zaxis": {
            "backgroundcolor": "#E5ECF6",
            "gridcolor": "white",
            "gridwidth": 2,
            "linecolor": "white",
            "showbackground": true,
            "ticks": "",
            "zerolinecolor": "white"
           }
          },
          "shapedefaults": {
           "line": {
            "color": "#2a3f5f"
           }
          },
          "ternary": {
           "aaxis": {
            "gridcolor": "white",
            "linecolor": "white",
            "ticks": ""
           },
           "baxis": {
            "gridcolor": "white",
            "linecolor": "white",
            "ticks": ""
           },
           "bgcolor": "#E5ECF6",
           "caxis": {
            "gridcolor": "white",
            "linecolor": "white",
            "ticks": ""
           }
          },
          "title": {
           "x": 0.05
          },
          "xaxis": {
           "automargin": true,
           "gridcolor": "white",
           "linecolor": "white",
           "ticks": "",
           "title": {
            "standoff": 15
           },
           "zerolinecolor": "white",
           "zerolinewidth": 2
          },
          "yaxis": {
           "automargin": true,
           "gridcolor": "white",
           "linecolor": "white",
           "ticks": "",
           "title": {
            "standoff": 15
           },
           "zerolinecolor": "white",
           "zerolinewidth": 2
          }
         }
        },
        "title": {
         "text": "Number of publications per author"
        },
        "width": 1300,
        "xaxis": {
         "anchor": "y",
         "domain": [
          0,
          1
         ],
         "tickangle": 65,
         "tickmode": "linear",
         "title": {
          "text": "Author"
         }
        },
        "yaxis": {
         "anchor": "x",
         "domain": [
          0,
          1
         ],
         "title": {
          "text": "Number of publications"
         }
        }
       }
      }
     },
     "metadata": {},
     "output_type": "display_data"
    }
   ],
   "source": [
    "import networkx as nx\n",
    "edges_df = nx.to_pandas_edgelist(G)\n",
    "\n",
    "# Display the DataFrame\n",
    "edges_df = edges_df.loc[edges_df.source.str.startswith('Author'), ]\n",
    "\n",
    "pub_count = edges_df.value_counts('source')\n",
    "print(len(pub_count), 'unique authors')\n",
    "\n",
    "# Reduce to only those with more than one publication\n",
    "pub_count_filtered = pub_count[pub_count > 1].reset_index(drop=False)\n",
    "\n",
    "pub_count_filtered['Author'] = pub_count_filtered.source.apply(lambda x: x.split('/')[-1])\n",
    "\n",
    "import plotly.express as px\n",
    "\n",
    "fig = px.histogram(pub_count_filtered, x=\"Author\", y='count')\n",
    "\n",
    "fig.update_layout(\n",
    "    title='Number of publications per author',\n",
    "    width=1300,\n",
    "    height=500,\n",
    "    xaxis_title='Author',\n",
    "    yaxis_title='Number of publications',\n",
    "    showlegend=False\n",
    ")\n",
    "fig.update_xaxes(tickangle=65, tickmode='linear')\n",
    "\n",
    "fig.show()"
   ]
  },
  {
   "cell_type": "markdown",
   "id": "f49f4d56",
   "metadata": {},
   "source": [
    "#### My nexwork\n"
   ]
  },
  {
   "cell_type": "code",
   "execution_count": null,
   "id": "364d5e94",
   "metadata": {},
   "outputs": [],
   "source": [
    "from scholarly import scholarly\n",
    "\n",
    "seed_author = 'Serena Defina'\n",
    "G = nx.Graph()\n",
    "search_query = scholarly.search_author(seed_author)\n",
    "author = scholarly.fill(next(search_query))\n",
    "\n",
    "for p in author['publications']:            \n",
    "    publication_filled = scholarly.fill(p)\n",
    "    bib = publication_filled['bib']        \n",
    "    title = bib['title'].replace(':', ' ')    \n",
    "    title = f\"Paper/{title}\"        \n",
    "    authors = bib['author'].split(' and ')    \n",
    "    for author in authors:        \n",
    "        author = author.replace('.', '')        \n",
    "        author = '\\n'.join([n for n in author.split(' ') if len(n) > 1])        \n",
    "        author = f\"Author/{author}\"\n",
    "        G.add_edge(author, title)"
   ]
  },
  {
   "cell_type": "code",
   "execution_count": null,
   "id": "4c3ad695",
   "metadata": {},
   "outputs": [],
   "source": [
    "#pos = nx.nx_pydot.graphviz_layout(G, prog='sfdp')\n",
    "pos = nx.spring_layout(G)\n",
    "\n",
    "max_len = max([len(n) for n in G.nodes() if n.startswith('Author/')])\n",
    "\n",
    "plt.figure(figsize=(30, 30))\n",
    "nx.draw_networkx_nodes(G, pos, \n",
    "    nodelist=[n for n in G.nodes() if n.startswith('Author/') & (n != 'Author/Serena\\nDefina')],\n",
    "    node_color='skyblue',\n",
    "    node_size=max_len*100)\n",
    "\n",
    "nx.draw_networkx_nodes(G, pos, \n",
    "    nodelist=[n for n in G.nodes() if n == 'Author/Serena\\nDefina'],\n",
    "    node_color='darkblue',\n",
    "    node_size=max_len*200)\n",
    "\n",
    "nx.draw_networkx_nodes(G, pos,\n",
    "    nodelist=[n for n in G.nodes() if n.startswith('Paper/')],\n",
    "    node_color='darkgreen',\n",
    "    node_size=1000)\n",
    "\n",
    "nx.draw_networkx_edges(G, pos)\n",
    "nx.draw_networkx_labels(G, pos,\n",
    "    labels={n: n.split('/')[-1].replace(' ', '') for n in G.nodes() if n.startswith('Author/')},\n",
    "    font_color='w',\n",
    "    font_weight='bold')\n",
    "\n",
    "plt.axis('off')"
   ]
  },
  {
   "cell_type": "markdown",
   "id": "f329f322-aa43-4187-b0ab-e38d7469cce4",
   "metadata": {},
   "source": [
    "# Other figures "
   ]
  },
  {
   "cell_type": "code",
   "execution_count": null,
   "id": "623d9b0d-0398-4e9d-92c8-21faa0c75809",
   "metadata": {
    "scrolled": true
   },
   "outputs": [],
   "source": [
    "def n_scores_by_pub(color_by=\"Category\"):\n",
    "    # Color set-up\n",
    "    if color_by in color_maps.keys():\n",
    "        color_map = color_maps[color_by]\n",
    "    else: \n",
    "        color_map = \"Virdis\"\n",
    "    \n",
    "    fig = px.histogram(data,\n",
    "                       x=\"Title\", color=color_by, color_discrete_map = color_map, \n",
    "                       nbins=186, # Number of papers\n",
    "                       # hover_name=data.Title.apply( lambda t: \"<br>\".join(textwrap.wrap(t, width=80))), \n",
    "                       # hover_data=[\"Sample size\",\"Journal\"],\n",
    "                       # category_orders = {\"Category\": list(data[\"Category\"].value_counts().index)},\n",
    "                       title=\"Number of MPSs by publication\", width=1400, height=500).update_xaxes(categoryorder=\"total ascending\")\n",
    "    # Make it pretty \n",
    "    axes_style = dict(mirror=True, showline=True, linecolor='black')\n",
    "    fig.update_yaxes(title_text='<b>Number of MPSs</b>', gridcolor='lightgrey', ticks='outside', **axes_style, \n",
    "                     tickmode = 'array',\n",
    "                     tickvals = [1, 5, 10, 20, 30, 40, 50, 70, 100])\n",
    "    fig.update_xaxes(title_text='<b>Publication</b>', **axes_style, \n",
    "                     showticklabels=False)\n",
    "    fig.update_layout(plot_bgcolor='whitesmoke', margin=dict(l=10, r=10, t=25, b=10))\n",
    "    \n",
    "    fig.show()\n",
    "\n",
    "\n",
    "n_scores_by_pub()\n",
    "n_scores_by_pub(\"Tissue\")\n",
    "n_scores_by_pub(\"Array\")"
   ]
  },
  {
   "cell_type": "code",
   "execution_count": null,
   "id": "7a6acf32-b383-4837-975b-edc59c59c003",
   "metadata": {},
   "outputs": [],
   "source": [
    "# Create fictional age data\n",
    "age_encoding = {\n",
    "    \"Birth\": [0, 0, 0],\n",
    "    \"Very early childhood\": [1, 0, 2],\n",
    "    \"Early childhood\": [3, 2, 4],\n",
    "    \"Mid childhood\": [5, 4, 7],\n",
    "    \"Late childhood\": [9, 8, 11],\n",
    "    \"Childhood\": [5, 1, 11],\n",
    "    \"Childhood and adolescence\": [13, 10, 16],\n",
    "    \"Adolescence\": [14, 12, 18],\n",
    "    \"Not reported\": [20, 20, 20]\n",
    "}\n",
    "\n",
    "data[[\"Age_median\",\"Age_min\",\"Age_max\"]] = [age_encoding[l] for l in data[\"Developmental period\"]]\n",
    "\n",
    "# Plot\n",
    "fig = px.scatter(data, x=\"Age_median\", y=\"Tissue\", size=data[\"Sample size\"].fillna(0), size_max = 70,\n",
    "                 error_x=data[\"Age_max\"] - data[\"Age_median\"], error_x_minus=data[\"Age_median\"] - data[\"Age_min\"],\n",
    "                 hover_name=data.Title.apply( lambda t: \"<br>\".join(textwrap.wrap(t, width=80))),\n",
    "                 color=\"Category\", color_discrete_map = category_color_map)\n",
    "\n",
    "# Make it pretty \n",
    "fig.update_traces(marker=dict(opacity = .5))\n",
    "axes_style = dict(mirror=True, ticks='outside', showline=True, linecolor='black', gridcolor='lightgrey')\n",
    "fig.update_yaxes(title_text='<b>Tissue</b>', **axes_style)\n",
    "fig.update_xaxes(title_text='<b>Age of the sample</b> (years) {median, range}', **axes_style, \n",
    "                 tickmode = 'array',\n",
    "                 tickvals = [0, 2, 4, 6, 8, 10, 12, 14, 16, 18, 20],\n",
    "                 ticktext = [\"Birth\", 2, 4, 6, 8, 10, 12, 14, 16, 18, \"Not reported\"])\n",
    "fig.update_layout(plot_bgcolor='whitesmoke', width=1400, height=600, margin=dict(l=10, r=10, t=25, b=10))\n",
    "\n",
    "fig"
   ]
  },
  {
   "cell_type": "code",
   "execution_count": null,
   "id": "43f7fd81-0357-4375-8904-57caa46215a9",
   "metadata": {},
   "outputs": [],
   "source": [
    "# Plot\n",
    "fig = px.histogram(data, x=\"Number of CpGs\", color=\"Category\", # log_y=True, # barnorm=\"percent\",\n",
    "                   # animation_frame=\"Number of CpGs bins\", # animation_group=\"Category\",\n",
    "                   color_discrete_map = category_color_map, nbins=200,\n",
    "                   category_orders = {\"Category\": list(data[\"Category\"].value_counts().index)},\n",
    "                   title=\"Number of CpGs by category\", width=1400, height=700)\n",
    "\n",
    "# Make it pretty \n",
    "axes_style = dict(mirror=True, ticks='outside', showline=True, linecolor='black', gridcolor='lightgrey')\n",
    "fig.update_yaxes(title_text='<b>Count</b>', **axes_style)\n",
    "fig.update_xaxes(title_text='<b>Number of CpGs</b>', **axes_style)\n",
    "                 # tickmode = 'array',\n",
    "                 # tickvals = [0, 1000, 2000, 3000, 4000, 5000, 6000, 7000, 8000, 9000, 10000],\n",
    "                 # ticktext = [\"1\", \"1k\", \"2k\", \"3k\", \"4k\", \"5k\", \"6k\", \"7k\", \"8k\", \"9k\", \">10k\"])\n",
    "\n",
    "# Add range slider\n",
    "fig.update_layout(\n",
    "    plot_bgcolor='whitesmoke',\n",
    "    xaxis=dict(\n",
    "        # autorange=False,\n",
    "        # range = [0, 1000], \n",
    "        rangeslider=dict(visible=True, \n",
    "                         autorange=False,\n",
    "                         range=[0,1000]),\n",
    "        type=\"linear\"\n",
    "    )\n",
    ")"
   ]
  },
  {
   "cell_type": "code",
   "execution_count": null,
   "id": "acf933dd-f1b8-466d-8bc9-ab4a3ba2b06e",
   "metadata": {},
   "outputs": [],
   "source": []
  },
  {
   "cell_type": "code",
   "execution_count": null,
   "id": "b4b32f41-df18-4f9c-bca8-53597d49d9a2",
   "metadata": {},
   "outputs": [],
   "source": [
    "# Clean up: TMP\n",
    "data[\"Number of CpGs\"] = pd.to_numeric(data[\"Number of CpGs\"], errors='coerce')\n",
    "data[\"Number of CpGs crop\"] = [10_000 if i > 10_000 else i for i in data[\"Number of CpGs\"]]\n",
    "data[\"Number of CpGs bins\"] = pd.cut(data[\"Number of CpGs\"],\n",
    "                                     bins=[0, 1_000, 5_000, 10_000, 160_000], include_lowest=True,\n",
    "                                     labels=['< 1k', '1 to 5k', '5 to 10k', \"> 10k\"])\n",
    "\n",
    "# Plot\n",
    "fig = px.histogram(data, x=\"Number of CpGs\", color=\"Category\", # log_y=True, # barnorm=\"percent\",\n",
    "                   animation_frame=\"Number of CpGs bins\", # animation_group=\"Category\",\n",
    "                   color_discrete_map = category_color_map, nbins=150,\n",
    "                   category_orders = {\"Category\": list(data[\"Category\"].value_counts().index)},\n",
    "                   title=\"Number of CpGs by category\", width=1400, height=700)\n",
    "\n",
    "# Make it pretty \n",
    "axes_style = dict(mirror=True, ticks='outside', showline=True, linecolor='black', gridcolor='lightgrey')\n",
    "fig.update_yaxes(title_text='<b>Count</b>', **axes_style)\n",
    "fig.update_xaxes(title_text='<b>Number of CpGs</b>', **axes_style)\n",
    "                 # tickmode = 'array',\n",
    "                 # tickvals = [0, 1000, 2000, 3000, 4000, 5000, 6000, 7000, 8000, 9000, 10000],\n",
    "                 # ticktext = [\"1\", \"1k\", \"2k\", \"3k\", \"4k\", \"5k\", \"6k\", \"7k\", \"8k\", \"9k\", \">10k\"])\n",
    "fig.update_layout(plot_bgcolor='whitesmoke')\n",
    "\n",
    "fig"
   ]
  },
  {
   "cell_type": "code",
   "execution_count": null,
   "id": "c2c3c322-0674-48e8-af33-17bc436a424f",
   "metadata": {},
   "outputs": [],
   "source": [
    "fig = px.scatter(data, x=\"Category\", y=\"Number of CpGs\", animation_frame=\"Year\", animation_group=\"Title\",\n",
    "                 color=\"Tissue\", color_discrete_map = tissue_color_map,\n",
    "                 size=data[\"Sample size\"].fillna(0), \n",
    "                 hover_name=\"Title\", facet_col=\"Array\",\n",
    "                 width=1400, height=650,\n",
    "                 title=\"Bit of everything\"\n",
    "                 )\n",
    "           # log_x=True, size_max=45, range_x=[100,100000], range_y=[25,90])\n",
    "fig"
   ]
  },
  {
   "cell_type": "code",
   "execution_count": null,
   "id": "c49f8981-a2ec-4a31-94b7-178fcfea0161",
   "metadata": {},
   "outputs": [],
   "source": [
    "fig = px.scatter(data, x=\"Number of CpGs\", y=\"Effect size phenotype\", size=data[\"Sample size\"].fillna(0), \n",
    "                 color=\"Tissue\", hover_name=\"Title\")\n",
    "           # log_x=True, size_max=45, range_x=[100,100000], range_y=[25,90])\n",
    "fig"
   ]
  },
  {
   "cell_type": "code",
   "execution_count": null,
   "id": "d4680b1b-2bf3-48a3-93f3-9596c146b1fb",
   "metadata": {},
   "outputs": [],
   "source": [
    "fig = px.bar_polar(pd.DataFrame(data[[\"Category\", \"Tissue\"]].value_counts()).reset_index(), \n",
    "                   r=\"count\", theta=\"Category\", color=\"Tissue\", width=900, height=900) #, template=\"plotly_dark\", #  line_close=True,\n",
    "            # color_discrete_sequence=px.colors.sequential.Plasma_r)\n",
    "fig"
   ]
  },
  {
   "cell_type": "markdown",
   "id": "1387336a-aae0-4a33-9471-c0ac751214b5",
   "metadata": {},
   "source": [
    "# Abstract analysis "
   ]
  },
  {
   "cell_type": "code",
   "execution_count": null,
   "id": "7aac09af-c87c-467e-899f-ee876aaece22",
   "metadata": {},
   "outputs": [],
   "source": [
    "import matplotlib.pyplot as plt\n",
    "from wordcloud import WordCloud, STOPWORDS, ImageColorGenerator"
   ]
  },
  {
   "cell_type": "code",
   "execution_count": null,
   "id": "4a2f85cd-7977-4302-8d8b-6f8916d7eacd",
   "metadata": {},
   "outputs": [],
   "source": [
    "# text = bib.Abstract\n",
    "\n",
    "text = \" \".join(abstract for abstract in bib.Abstract.fillna(\"\"))\n",
    "print (\"There are {} words in the combination of all review.\".format(len(text)))\n"
   ]
  },
  {
   "cell_type": "code",
   "execution_count": null,
   "id": "b204be44-9485-4aee-923d-befe2f37151f",
   "metadata": {},
   "outputs": [],
   "source": [
    "# Create stopword list:\n",
    "stopwords = set(STOPWORDS)\n",
    "stopwords.update([\"CpG\",\"CpGs\",\"DNA\",\"DNAm\",\"methylation\",\"episignature\",\"episignatures\",\"epigenetic\",\"gene\",\"genes\",\"genetic\",\"variant\",\"variants\",\n",
    "                  \"score\",\"scores\",\"result\",\"results\",\"analysis\",\"study\",\"studies\",\"cohort\",\"sample\",\"n\",\"p\",\"CI\",\"data\",\"significant\",\n",
    "                  \"background\",\"conclusion\",\"copyright\",\"model\",\"finding\",\"method\",\"methods\",\n",
    "                  \"associated\",\"association\",\"associations\",\"effect\",\"effects\",\"related\",\"identify\",\"identified\",\"provide\",\"assessed\",\"using\",\"used\",\"based\",\n",
    "                  \"specific\",\"distinct\",\"one\",\"two\",\"three\", \"may\",\"including\",\"within\",\n",
    "                  \"patient\",\"patients\",\"individual\",\"individuals\",\"subject\", \"case\",\"cases\"])\n",
    "\n",
    "# Generate a word cloud image\n",
    "wordcloud = WordCloud(stopwords=stopwords, background_color=\"white\").generate(text)\n",
    "\n",
    "# Display the generated image\n",
    "fig, ax = plt.subplots(figsize=(5, 5), facecolor='lightskyblue', layout='constrained')\n",
    "# the matplotlib way:\n",
    "ax.imshow(wordcloud, interpolation='bilinear')\n",
    "ax.axis(\"off\");"
   ]
  },
  {
   "cell_type": "code",
   "execution_count": null,
   "id": "b1df9201-42b3-450a-b178-4d9346b1b40e",
   "metadata": {
    "scrolled": true
   },
   "outputs": [],
   "source": [
    "def wordcould_by_category(category, extra_stopwords=[]):\n",
    "    subcat = bib.loc[bib.Identifier.isin([int(i) for i in pd.unique(data.loc[data.Category==category, \"Identifier\"])])]\n",
    "    \n",
    "    text = \" \".join(abstract for abstract in subcat.Abstract.fillna(\"\"))\n",
    "\n",
    "    # Create stopword list:\n",
    "    stopwords = set(STOPWORDS)\n",
    "    stopwords.update([\"CpG\",\"CpGs\",\"DNA\",\"DNAm\",\"methylation\",\"episignature\",\"episignatures\",\"epigenetic\",\"gene\",\"genes\",\"genetic\",\"variant\",\"variants\",\n",
    "                      \"score\",\"scores\",\"result\",\"results\",\"analysis\",\"study\",\"studies\",\"cohort\",\"sample\",\"n\",\"p\",\"CI\",\"data\",\"significant\",\n",
    "                      \"background\",\"conclusion\",\"copyright\",\"model\",\"finding\",\"method\",\"methods\",\n",
    "                      \"associated\",\"association\",\"associations\",\"effect\",\"effects\",\"related\",\"identify\",\"identified\",\"provide\",\"assessed\",\"using\",\"used\",\"based\",\n",
    "                      \"specific\",\"distinct\",\"one\",\"two\",\"three\", \"may\",\"including\",\"within\",\n",
    "                      \"patient\",\"patients\",\"individual\",\"individuals\",\"subject\", \"case\",\"cases\"]+extra_stopwords)\n",
    "    \n",
    "    # Generate a word cloud image\n",
    "    wordcloud = WordCloud(stopwords=stopwords, background_color=\"white\").generate(text)\n",
    "    \n",
    "    # Display the generated image\n",
    "    fig, ax = plt.subplots(figsize=(10, 5), facecolor=category_color_map[category], layout='constrained')\n",
    "    # the matplotlib way:\n",
    "    ax.imshow(wordcloud, interpolation='bilinear')\n",
    "    ax.set_title(category, fontsize=18, fontweight=\"bold\")\n",
    "    ax.text(1,1.1, \"Based on {} words from {} abstracts.\".format(len(text.split(\" \")), subcat.shape[0]), fontsize=12,\n",
    "            ha=\"right\", transform=ax.transAxes)\n",
    "    ax.axis(\"off\");\n",
    "\n",
    "for c in data.Category.unique(): wordcould_by_category(c)"
   ]
  },
  {
   "cell_type": "markdown",
   "id": "43976665-de50-4b4d-846a-42a441d5f28f",
   "metadata": {},
   "source": [
    "# LLM playground"
   ]
  },
  {
   "cell_type": "code",
   "execution_count": null,
   "id": "27de6bb6-a092-4759-b9d3-17130cc95f9f",
   "metadata": {
    "scrolled": true
   },
   "outputs": [],
   "source": [
    "from llama_cpp import Llama\n",
    "# model source: https://huggingface.co/TheBloke/orca_mini_v3_7B-GGUF \n",
    "# Bits: 4\tSize: 4.08 GB\tMax RAM required: 6.58 GB\n",
    "LLM = Llama(model_path=\"../orca_mini_v3_7b.Q4_K_M.gguf\", n_ctx=2048) # medium, balanced quality - recommended # max_new_tokens = 4096, max_tokens = 2000,"
   ]
  },
  {
   "cell_type": "code",
   "execution_count": null,
   "id": "5b5f3f36-ed34-4e8c-afd4-1ab56dff2ed2",
   "metadata": {},
   "outputs": [],
   "source": [
    "# create a text prompt\n",
    "prompt = f'Based on the following abstract, what was the sample size of the study and what statistical or machine-learning and what method was used: \\n\\n\"{bib.Abstract[10]}\"'\n",
    "\n",
    "# generate a response (takes several seconds)\n",
    "output = LLM(prompt, max_tokens=2000)"
   ]
  },
  {
   "cell_type": "code",
   "execution_count": null,
   "id": "5682674d-7b65-4424-adc8-47f07a68007d",
   "metadata": {},
   "outputs": [],
   "source": [
    "# display the response\n",
    "print(prompt, \"\\n\\n----\", output[\"choices\"][0][\"text\"])"
   ]
  }
 ],
 "metadata": {
  "kernelspec": {
   "display_name": "demetra_venv",
   "language": "python",
   "name": "python3"
  },
  "language_info": {
   "codemirror_mode": {
    "name": "ipython",
    "version": 3
   },
   "file_extension": ".py",
   "mimetype": "text/x-python",
   "name": "python",
   "nbconvert_exporter": "python",
   "pygments_lexer": "ipython3",
   "version": "3.9.1"
  }
 },
 "nbformat": 4,
 "nbformat_minor": 5
}
